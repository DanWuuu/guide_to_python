{
  "nbformat": 4,
  "nbformat_minor": 0,
  "metadata": {
    "colab": {
      "name": "Classes.ipynb",
      "version": "0.3.2",
      "provenance": [],
      "toc_visible": true
    },
    "language_info": {
      "codemirror_mode": {
        "name": "ipython",
        "version": 3
      },
      "file_extension": ".py",
      "mimetype": "text/x-python",
      "name": "python",
      "nbconvert_exporter": "python",
      "pygments_lexer": "ipython3",
      "version": "3.6.8"
    },
    "kernelspec": {
      "display_name": "Python 3",
      "language": "python",
      "name": "python3"
    }
  },
  "cells": [
    {
      "metadata": {
        "id": "G6aYuTleOZne",
        "colab_type": "text"
      },
      "cell_type": "markdown",
      "source": [
        "# Objektorienterad programmering\n",
        "\n",
        "Det grundläggande begreppet är objektet som kombinerar data och metoder till en entitet.\n",
        "     \n",
        "* Objekt beskriver ofta substantiv, som punkt, cirkel, ekvation, modell eller kvadrat\n",
        "* Objekt interagerar med varandra genom att skicka meddelanden.\n",
        "  * Meddelanden är verben.\n",
        "* Ett objekt består ofta\n",
        "   * metoder (verb), som definierar vad objektet kan göra\n",
        "   * egenskaper som beskriver attribut och länkar till andra objekt."
      ]
    },
    {
      "metadata": {
        "id": "fnw6gOYXOZnk",
        "colab_type": "text"
      },
      "cell_type": "markdown",
      "source": [
        "# Funktionsorienterad programmering"
      ]
    },
    {
      "metadata": {
        "id": "SG6jyxw_OZnm",
        "colab_type": "code",
        "colab": {}
      },
      "cell_type": "code",
      "source": [
        "def createPoint(x, y):\n",
        "    return [x, y]\n",
        "\n",
        "def movePoint(point, dx, dy):\n",
        "    point[0] += dx\n",
        "    point[1] += dy\n",
        "    \n",
        "def zeroPoint(point):\n",
        "    point[0] = 0.0\n",
        "    point[1] = 0.0\n",
        "    \n",
        "def setPoint(point, x, y):\n",
        "    point[0] = x\n",
        "    point[1] = y\n",
        "    \n",
        "def printPoint(point):\n",
        "    print(\"x =\",point[0], \"y = \", point[1])\n",
        "    "
      ],
      "execution_count": 0,
      "outputs": []
    },
    {
      "metadata": {
        "id": "8TQ7RQNSOZnu",
        "colab_type": "code",
        "colab": {
          "base_uri": "https://localhost:8080/",
          "height": 35
        },
        "outputId": "30d42cef-6fe1-4af7-dc1a-1ba67a5b59e6"
      },
      "cell_type": "code",
      "source": [
        "p = createPoint(0.5, 0.0)\n",
        "print(p)"
      ],
      "execution_count": 2,
      "outputs": [
        {
          "output_type": "stream",
          "text": [
            "[0.5, 0.0]\n"
          ],
          "name": "stdout"
        }
      ]
    },
    {
      "metadata": {
        "id": "yLXf2m3nOZn4",
        "colab_type": "code",
        "colab": {
          "base_uri": "https://localhost:8080/",
          "height": 35
        },
        "outputId": "89469a5a-3a24-4c7c-fb1c-624b2982f02b"
      },
      "cell_type": "code",
      "source": [
        "movePoint(p, 3.0, 2.0)\n",
        "print(p)"
      ],
      "execution_count": 3,
      "outputs": [
        {
          "output_type": "stream",
          "text": [
            "[3.5, 2.0]\n"
          ],
          "name": "stdout"
        }
      ]
    },
    {
      "metadata": {
        "id": "dvKiAYXzOZoB",
        "colab_type": "code",
        "colab": {
          "base_uri": "https://localhost:8080/",
          "height": 35
        },
        "outputId": "a31163b0-baee-4971-ecd4-1ffaaa13e800"
      },
      "cell_type": "code",
      "source": [
        "setPoint(p, -2.0, -1.0)\n",
        "print(p)"
      ],
      "execution_count": 4,
      "outputs": [
        {
          "output_type": "stream",
          "text": [
            "[-2.0, -1.0]\n"
          ],
          "name": "stdout"
        }
      ]
    },
    {
      "metadata": {
        "id": "4PokqmcbOZoH",
        "colab_type": "code",
        "colab": {
          "base_uri": "https://localhost:8080/",
          "height": 35
        },
        "outputId": "2b465275-7b4e-464d-80e6-8f2ab65ed4c0"
      },
      "cell_type": "code",
      "source": [
        "printPoint(p)"
      ],
      "execution_count": 5,
      "outputs": [
        {
          "output_type": "stream",
          "text": [
            "x = -2.0 y =  -1.0\n"
          ],
          "name": "stdout"
        }
      ]
    },
    {
      "metadata": {
        "id": "6LX5I2NxOZoO",
        "colab_type": "text"
      },
      "cell_type": "markdown",
      "source": [
        "# Klasser"
      ]
    },
    {
      "metadata": {
        "id": "9hQ2YldzOZoS",
        "colab_type": "text"
      },
      "cell_type": "markdown",
      "source": [
        "## Klassdefinition"
      ]
    },
    {
      "metadata": {
        "id": "KW67Gz-COZoW",
        "colab_type": "code",
        "colab": {}
      },
      "cell_type": "code",
      "source": [
        "class Point:\n",
        "    def __init__(self):\n",
        "        self.x = 0.0\n",
        "        self.y = 0.0"
      ],
      "execution_count": 0,
      "outputs": []
    },
    {
      "metadata": {
        "id": "t8lUslhgOZod",
        "colab_type": "text"
      },
      "cell_type": "markdown",
      "source": [
        "\n",
        "**self.x** och **self.y** är instansattribut och kommer att vara unika för varje instans (objekt) av en klass."
      ]
    },
    {
      "metadata": {
        "id": "vpjhmONCOZog",
        "colab_type": "text"
      },
      "cell_type": "markdown",
      "source": [
        "## Instantiering av en klass"
      ]
    },
    {
      "metadata": {
        "id": "K9dCN2v2OZok",
        "colab_type": "code",
        "colab": {}
      },
      "cell_type": "code",
      "source": [
        "p = Point()\n",
        "q = Point()"
      ],
      "execution_count": 0,
      "outputs": []
    },
    {
      "metadata": {
        "id": "eLXxY5qvOZoq",
        "colab_type": "text"
      },
      "cell_type": "markdown",
      "source": [
        "Detta innebär att **__init__()**-metoden för **Point**-klassen kommer att anropas för både **p** och **q**.\n"
      ]
    },
    {
      "metadata": {
        "id": "jUYbESIoOZor",
        "colab_type": "code",
        "colab": {
          "base_uri": "https://localhost:8080/",
          "height": 53
        },
        "outputId": "ed01869d-a611-4a49-c49f-f0c2f66dcbaa"
      },
      "cell_type": "code",
      "source": [
        "print(p.x)\n",
        "print(p.y)"
      ],
      "execution_count": 15,
      "outputs": [
        {
          "output_type": "stream",
          "text": [
            "0.0\n",
            "0.0\n"
          ],
          "name": "stdout"
        }
      ]
    },
    {
      "metadata": {
        "id": "XvkiBl68OZox",
        "colab_type": "text"
      },
      "cell_type": "markdown",
      "source": [
        "Instansattributen kan också tilldelas:\n"
      ]
    },
    {
      "metadata": {
        "id": "21QodLpjOZoz",
        "colab_type": "code",
        "colab": {
          "base_uri": "https://localhost:8080/",
          "height": 88
        },
        "outputId": "76eae1d6-0404-4f58-9539-5e6ace930f30"
      },
      "cell_type": "code",
      "source": [
        "p.x = 1.0\n",
        "p.y = 2.0\n",
        "\n",
        "print(p.x)\n",
        "print(p.y)\n",
        "print(q.x)\n",
        "print(q.y)"
      ],
      "execution_count": 16,
      "outputs": [
        {
          "output_type": "stream",
          "text": [
            "1.0\n",
            "2.0\n",
            "0.0\n",
            "0.0\n"
          ],
          "name": "stdout"
        }
      ]
    },
    {
      "metadata": {
        "id": "tJp6v6z6OZo6",
        "colab_type": "text"
      },
      "cell_type": "markdown",
      "source": [
        "Är detta en korrekt form av inkapsling? Python förbjuder inte explicit tillgång till instansattribut.  Det här behöver inte vara ett problem, men kommer senare till det. Först ska vi implementera klassen på rätt objektorienterat sätt:"
      ]
    },
    {
      "metadata": {
        "id": "SnE0Q2LVOZo7",
        "colab_type": "text"
      },
      "cell_type": "markdown",
      "source": [
        "# Inkapsling och tillgång till attribut"
      ]
    },
    {
      "metadata": {
        "id": "_I5HIZxSOZo9",
        "colab_type": "text"
      },
      "cell_type": "markdown",
      "source": [
        "Ett instansattribut kan göras privat i Python genom att lägga till prefixet **__** (två understrykningstecken). För att kunna tilldela värden på dessa lägger vi till två extra argument i **__init__()**-metoden.\n",
        "\n"
      ]
    },
    {
      "metadata": {
        "id": "PuUnS6HPOZo-",
        "colab_type": "code",
        "colab": {}
      },
      "cell_type": "code",
      "source": [
        "class Point:\n",
        "    def __init__(self, x, y):\n",
        "        self.__x = x\n",
        "        self.__y = y"
      ],
      "execution_count": 0,
      "outputs": []
    },
    {
      "metadata": {
        "id": "Avxg6yRYOZpC",
        "colab_type": "text"
      },
      "cell_type": "markdown",
      "source": [
        "Vi kan nu skapa **Point**-instanser och tilldela instansattributen på samma gång:\n"
      ]
    },
    {
      "metadata": {
        "id": "ZhNdHvm8OZpE",
        "colab_type": "code",
        "colab": {}
      },
      "cell_type": "code",
      "source": [
        "p = Point(1.0, 2.0)"
      ],
      "execution_count": 0,
      "outputs": []
    },
    {
      "metadata": {
        "id": "AS6MQeKTOZpJ",
        "colab_type": "text"
      },
      "cell_type": "markdown",
      "source": [
        "Vi kan inte längre tilldela instansattributen direkt längre. Något blir fel:\n"
      ]
    },
    {
      "metadata": {
        "scrolled": true,
        "id": "IVABAMl0OZpL",
        "colab_type": "code",
        "colab": {
          "base_uri": "https://localhost:8080/",
          "height": 187
        },
        "outputId": "40b4a3b1-8ffb-4175-aeca-1564e50e4362"
      },
      "cell_type": "code",
      "source": [
        "print(p.x)\n",
        "print(p.y)"
      ],
      "execution_count": 19,
      "outputs": [
        {
          "output_type": "error",
          "ename": "AttributeError",
          "evalue": "ignored",
          "traceback": [
            "\u001b[0;31m---------------------------------------------------------------------------\u001b[0m",
            "\u001b[0;31mAttributeError\u001b[0m                            Traceback (most recent call last)",
            "\u001b[0;32m<ipython-input-19-04d32b2fd664>\u001b[0m in \u001b[0;36m<module>\u001b[0;34m()\u001b[0m\n\u001b[0;32m----> 1\u001b[0;31m \u001b[0mprint\u001b[0m\u001b[0;34m(\u001b[0m\u001b[0mp\u001b[0m\u001b[0;34m.\u001b[0m\u001b[0mx\u001b[0m\u001b[0;34m)\u001b[0m\u001b[0;34m\u001b[0m\u001b[0;34m\u001b[0m\u001b[0m\n\u001b[0m\u001b[1;32m      2\u001b[0m \u001b[0mprint\u001b[0m\u001b[0;34m(\u001b[0m\u001b[0mp\u001b[0m\u001b[0;34m.\u001b[0m\u001b[0my\u001b[0m\u001b[0;34m)\u001b[0m\u001b[0;34m\u001b[0m\u001b[0;34m\u001b[0m\u001b[0m\n",
            "\u001b[0;31mAttributeError\u001b[0m: 'Point' object has no attribute 'x'"
          ]
        }
      ]
    },
    {
      "metadata": {
        "id": "34YeoRF1OZpU",
        "colab_type": "text"
      },
      "cell_type": "markdown",
      "source": [
        "Anledningen till detta är att x och y egenskaperna nu är privata. Det går inte heller att nå de interna attributen **__x** heller:\n"
      ]
    },
    {
      "metadata": {
        "id": "WlCgDzfhOZpW",
        "colab_type": "code",
        "colab": {
          "base_uri": "https://localhost:8080/",
          "height": 169
        },
        "outputId": "503c1cf9-5b87-4ade-e337-3fe98bd8e207"
      },
      "cell_type": "code",
      "source": [
        "print(p.__x)"
      ],
      "execution_count": 20,
      "outputs": [
        {
          "output_type": "error",
          "ename": "AttributeError",
          "evalue": "ignored",
          "traceback": [
            "\u001b[0;31m---------------------------------------------------------------------------\u001b[0m",
            "\u001b[0;31mAttributeError\u001b[0m                            Traceback (most recent call last)",
            "\u001b[0;32m<ipython-input-20-a798b988bea1>\u001b[0m in \u001b[0;36m<module>\u001b[0;34m()\u001b[0m\n\u001b[0;32m----> 1\u001b[0;31m \u001b[0mprint\u001b[0m\u001b[0;34m(\u001b[0m\u001b[0mp\u001b[0m\u001b[0;34m.\u001b[0m\u001b[0m__x\u001b[0m\u001b[0;34m)\u001b[0m\u001b[0;34m\u001b[0m\u001b[0;34m\u001b[0m\u001b[0m\n\u001b[0m",
            "\u001b[0;31mAttributeError\u001b[0m: 'Point' object has no attribute '__x'"
          ]
        }
      ]
    },
    {
      "metadata": {
        "id": "dXUHJ4AmOZpi",
        "colab_type": "text"
      },
      "cell_type": "markdown",
      "source": [
        "Vi har nu skyddat våra interna instansvariabler från en användare av objektet (inkapsling). För att nå dessa måste vi nu lägga till metoder för att tilldela och returnera värden. Detta gör man ofta med get/set metoder i objektorienterad programmering. Vi lägger till set-metoderna för att kunna tilldela instansvariablerna.\n"
      ]
    },
    {
      "metadata": {
        "id": "aXXy8GFlOZpj",
        "colab_type": "code",
        "colab": {}
      },
      "cell_type": "code",
      "source": [
        "class Point:\n",
        "    def __init__(self, x=0.0, y=0.0):\n",
        "        self.__x = x\n",
        "        self.__y = y\n",
        "    \n",
        "    def set_x(self, x):\n",
        "        self.__x = x\n",
        "    \n",
        "    def set_y(self, y):\n",
        "        self.__y = y\n",
        "    \n",
        "    def set(self, x, y):\n",
        "        self.__x = x\n",
        "        self.__y = y"
      ],
      "execution_count": 0,
      "outputs": []
    },
    {
      "metadata": {
        "id": "PeWmfgYeOZpp",
        "colab_type": "text"
      },
      "cell_type": "markdown",
      "source": [
        "Klassen kan nu skapas och användas som i nedanstående kod:"
      ]
    },
    {
      "metadata": {
        "id": "H-wCNyLIOZpq",
        "colab_type": "code",
        "colab": {}
      },
      "cell_type": "code",
      "source": [
        "p = Point(12.0, 13.0)\n",
        "\n",
        "p.set(2.0, 3.0)\n",
        "p.set_x(42.0)\n",
        "p.set_y(83.0)"
      ],
      "execution_count": 0,
      "outputs": []
    },
    {
      "metadata": {
        "id": "OeHn4AQyOZpu",
        "colab_type": "text"
      },
      "cell_type": "markdown",
      "source": [
        "För att returnera värden lägger vi till funktionerna **x()** och **y()**.\n"
      ]
    },
    {
      "metadata": {
        "id": "i_5O5D_tOZpv",
        "colab_type": "code",
        "colab": {}
      },
      "cell_type": "code",
      "source": [
        "class Point:\n",
        "    def __init__(self, x=0.0, y=0.0):\n",
        "        self.__x = x\n",
        "        self.__y = y\n",
        "\n",
        "    def set_x(self, x):\n",
        "        self.__x = x\n",
        "\n",
        "    def set_y(self, y):\n",
        "        self.__y = y\n",
        "    \n",
        "    def set(self, x, y):\n",
        "        self.__x = x\n",
        "        self.__y = y\n",
        "    \n",
        "    def x(self):\n",
        "        return self.__x\n",
        "    \n",
        "    def y(self):\n",
        "        return self.__y"
      ],
      "execution_count": 0,
      "outputs": []
    },
    {
      "metadata": {
        "id": "aOCIxBntOZp1",
        "colab_type": "text"
      },
      "cell_type": "markdown",
      "source": [
        "Nu har vi full tillgång till de interna instansvariablerna i klassen:\n"
      ]
    },
    {
      "metadata": {
        "id": "H-Df-mdaOZp3",
        "colab_type": "code",
        "colab": {
          "base_uri": "https://localhost:8080/",
          "height": 53
        },
        "outputId": "20f04985-cf23-47e7-fb71-5910ee14d48e"
      },
      "cell_type": "code",
      "source": [
        "p = Point(12.0, 13.0)\n",
        "\n",
        "p.set(2.0, 3.0)\n",
        "p.set_x(42.0)\n",
        "p.set_y(83.0)\n",
        "\n",
        "print(p.x())\n",
        "print(p.y())"
      ],
      "execution_count": 26,
      "outputs": [
        {
          "output_type": "stream",
          "text": [
            "42.0\n",
            "83.0\n"
          ],
          "name": "stdout"
        }
      ]
    },
    {
      "metadata": {
        "id": "47n5ssycOZp7",
        "colab_type": "text"
      },
      "cell_type": "markdown",
      "source": [
        "## Python egenskaper"
      ]
    },
    {
      "metadata": {
        "id": "9Skj0I6pOZp9",
        "colab_type": "text"
      },
      "cell_type": "markdown",
      "source": [
        "För att göra det lättare att använda instansvariabler i  stödjer Python begreppet egenskaper (property). Detta koncept innebär att man fortfarande använder get/set-metoder, men man lägger till en speciell **property**-deklaration som innebär att access till instansvariabler kan göras precis som om de var variabler direkt på objektet. En tilldelning kommer t ex automatiskt att anropa set-metoden. I **property**-deklarationen anges namnet på egenskapen samt vilka metoder som skall användas för att tilldela och returnera värdet på egenskaper.\n",
        "\n",
        "Vi kan lägga till egenskaperna **x** och **y** till vår existerande **Point** -klass. Den modifierade klassen blir nu:"
      ]
    },
    {
      "metadata": {
        "id": "SJFrIoHTOZp-",
        "colab_type": "code",
        "colab": {}
      },
      "cell_type": "code",
      "source": [
        "class Point:\n",
        "    def __init__(self, x=0.0, y=0.0):\n",
        "        self.__x = x\n",
        "        self.__y = y\n",
        "    \n",
        "    def set_x(self, x):\n",
        "        print(\"set_x()\")\n",
        "        self.__x = x\n",
        "    \n",
        "    def set_y(self, y):\n",
        "        print(\"set_y()\")\n",
        "        self.__y = y\n",
        "    \n",
        "    def set(self, x, y):\n",
        "        self.__x = x\n",
        "        self.__y = y\n",
        "    \n",
        "    def get_x(self):\n",
        "        print(\"get_x()\")\n",
        "        return self.__x\n",
        "    \n",
        "    def get_y(self):\n",
        "        print(\"get_y()\")\n",
        "        return self.__y\n",
        "    \n",
        "    x = property(get_x, set_x)\n",
        "    y = property(get_y, set_y)"
      ],
      "execution_count": 0,
      "outputs": []
    },
    {
      "metadata": {
        "id": "YVlCELSIOZqF",
        "colab_type": "text"
      },
      "cell_type": "markdown",
      "source": [
        "Nu är det mycket enklare att komma åt instansvariablerna:\n"
      ]
    },
    {
      "metadata": {
        "id": "7ElCqo4xOZqH",
        "colab_type": "code",
        "colab": {
          "base_uri": "https://localhost:8080/",
          "height": 124
        },
        "outputId": "8a2a12fb-6234-42df-a1f6-fe8bb54392b0"
      },
      "cell_type": "code",
      "source": [
        "p = Point()\n",
        "\n",
        "p.x = 42.0\n",
        "p.y = 84.0\n",
        "\n",
        "print(p.x)\n",
        "print(p.y)"
      ],
      "execution_count": 28,
      "outputs": [
        {
          "output_type": "stream",
          "text": [
            "set_x()\n",
            "set_y()\n",
            "get_x()\n",
            "42.0\n",
            "get_y()\n",
            "84.0\n"
          ],
          "name": "stdout"
        }
      ]
    },
    {
      "metadata": {
        "id": "gPrLZeXVOZqK",
        "colab_type": "text"
      },
      "cell_type": "markdown",
      "source": [
        "Egenskaper ger oss skyddet av get/set-metoder, men med enkelheten av att tilldela instansvariabler direkt. Det ger oss också möjligheten att skjuta på beslutet att lägga till get/set-metoder och att använda direkt acess till instansvariabler fram till dess att man behöver det utökade skyddet.\n",
        "protection."
      ]
    },
    {
      "metadata": {
        "id": "crlop9viOZqN",
        "colab_type": "text"
      },
      "cell_type": "markdown",
      "source": [
        "# Instansmetoder\n",
        "\n",
        "* Huvudsakliga sättet att interagera med objekt.\n",
        "* På grund av att all data hanteras internt i objektet kan metoderna ofta göras korta.\n",
        "\n",
        "En typisk instansmetod i **Point**-klassen kan vara en metod för att flytta punkten ett visst avstånd i x och y riktning.\n"
      ]
    },
    {
      "metadata": {
        "id": "oe9iRqCsOZqO",
        "colab_type": "code",
        "colab": {}
      },
      "cell_type": "code",
      "source": [
        "class Point:\n",
        "    def __init__(self, x=0.0, y=0.0):\n",
        "        self.__x = x\n",
        "        self.__y = y\n",
        "    \n",
        "    def set_x(self, x):\n",
        "        self.__x = x\n",
        "    \n",
        "    def set_y(self, y):\n",
        "        self.__y = y\n",
        "    \n",
        "    def set(self, x, y):\n",
        "        self.__x = x\n",
        "        self.__y = y\n",
        "    \n",
        "    def get_x(self):\n",
        "        return self.__x\n",
        "    \n",
        "    def get_y(self):\n",
        "        return self.__y\n",
        "    \n",
        "    def move(self, dx, dy): # <---- Ny move-metod.\n",
        "        self.__x += dx\n",
        "        self.__y += dy\n",
        "    \n",
        "    x = property(get_x, set_x)\n",
        "    y = property(get_y, set_y)"
      ],
      "execution_count": 0,
      "outputs": []
    },
    {
      "metadata": {
        "id": "OhEUs6pgOZqQ",
        "colab_type": "text"
      },
      "cell_type": "markdown",
      "source": [
        "Vi kan nu använda **.move()** för att flytta våra punkter:\n",
        "\n"
      ]
    },
    {
      "metadata": {
        "id": "p8Kh5SNEOZqR",
        "colab_type": "code",
        "colab": {
          "base_uri": "https://localhost:8080/",
          "height": 35
        },
        "outputId": "490fe623-712f-4196-95cc-f4e6c4af9615"
      },
      "cell_type": "code",
      "source": [
        "p0 = Point()\n",
        "p1 = Point()\n",
        "p0.move(10.0, 20.0)\n",
        "p0.move(-5.0, -5.0)\n",
        "\n",
        "print(p0.x, p0.y)"
      ],
      "execution_count": 30,
      "outputs": [
        {
          "output_type": "stream",
          "text": [
            "5.0 15.0\n"
          ],
          "name": "stdout"
        }
      ]
    },
    {
      "metadata": {
        "id": "LlI1SxTXOZqZ",
        "colab_type": "text"
      },
      "cell_type": "markdown",
      "source": [
        "En annan metod som kan implementeras är en metod för att kopiera attributen från en annan instans av samma objekt **.copy_from()**:\n",
        "\n"
      ]
    },
    {
      "metadata": {
        "id": "XHGC8fx5OZqb",
        "colab_type": "code",
        "colab": {}
      },
      "cell_type": "code",
      "source": [
        "class Point:\n",
        "    def __init__(self, x=0.0, y=0.0):\n",
        "        self.__x = x\n",
        "        self.__y = y\n",
        "    \n",
        "    def set_x(self, x):\n",
        "        self.__x = x\n",
        "    \n",
        "    def set_y(self, y):\n",
        "        self.__y = y\n",
        "    \n",
        "    def set(self, x, y):\n",
        "        self.__x = x\n",
        "        self.__y = y\n",
        "    \n",
        "    def get_x(self):\n",
        "        return self.__x\n",
        "    \n",
        "    def get_y(self):\n",
        "        return self.__y\n",
        "    \n",
        "    def move(self, dx, dy): \n",
        "        self.__x += dx\n",
        "        self.__y += dy\n",
        "        \n",
        "    def copy_from(self, p): # <---- Ny metod\n",
        "        self.__x = p.x\n",
        "        self.__y = p.y\n",
        "    \n",
        "    x = property(get_x, set_x)\n",
        "    y = property(get_y, set_y)"
      ],
      "execution_count": 0,
      "outputs": []
    },
    {
      "metadata": {
        "id": "6cC8-QuyOZqd",
        "colab_type": "text"
      },
      "cell_type": "markdown",
      "source": [
        "Hur denna metod används visas nedan:\n"
      ]
    },
    {
      "metadata": {
        "id": "WVPr0di4OZqd",
        "colab_type": "code",
        "colab": {
          "base_uri": "https://localhost:8080/",
          "height": 71
        },
        "outputId": "05d9d686-acc4-4c3c-d309-9f1809fa25eb"
      },
      "cell_type": "code",
      "source": [
        "p0 = Point()\n",
        "p1 = Point()\n",
        "\n",
        "p0.move(10.0, 20.0)\n",
        "p1.move(-5.0, -5.0)\n",
        "\n",
        "print(p0.x, p0.x)\n",
        "print(p1.x, p1.x)\n",
        "\n",
        "p1.copy_from(p0)\n",
        "\n",
        "print(p1.x, p1.x)"
      ],
      "execution_count": 33,
      "outputs": [
        {
          "output_type": "stream",
          "text": [
            "10.0 10.0\n",
            "-5.0 -5.0\n",
            "10.0 10.0\n"
          ],
          "name": "stdout"
        }
      ]
    },
    {
      "metadata": {
        "id": "iQ9iK45zOZqh",
        "colab_type": "text"
      },
      "cell_type": "markdown",
      "source": [
        "# Speciella instansmetoder\n",
        "\n",
        "* Det finns en mängd speciella instansmetoder för att implementera extra funktionalitet på objekt\n",
        "* **__init__** är en av dem\n",
        "* **__str__** används för att konvertera ett objekt till en form som kan skrivas ut med **print()**\n",
        "\n",
        "Att använda **print()** på en instans utan **__str__**-method ger följande utskrift."
      ]
    },
    {
      "metadata": {
        "id": "Ktl2m3p6OZqh",
        "colab_type": "code",
        "colab": {
          "base_uri": "https://localhost:8080/",
          "height": 35
        },
        "outputId": "ca5c472f-cb48-40f7-903b-c1d61f1221b5"
      },
      "cell_type": "code",
      "source": [
        "p = Point()\n",
        "print(p)"
      ],
      "execution_count": 34,
      "outputs": [
        {
          "output_type": "stream",
          "text": [
            "<__main__.Point object at 0x7fb60f8efcf8>\n"
          ],
          "name": "stdout"
        }
      ]
    },
    {
      "metadata": {
        "id": "ypjnYnauOZqk",
        "colab_type": "text"
      },
      "cell_type": "markdown",
      "source": [
        "Det vore trevligare om punkten kunde skriva ut sig på ett mer presentabelt sätt:\n"
      ]
    },
    {
      "metadata": {
        "id": "QJLZAAs1OZql",
        "colab_type": "code",
        "colab": {}
      },
      "cell_type": "code",
      "source": [
        "class Point:\n",
        "    def __init__(self, x=0.0, y=0.0):\n",
        "        self.__x = x\n",
        "        self.__y = y\n",
        "    \n",
        "    def set_x(self, x):\n",
        "        self.__x = x\n",
        "    \n",
        "    def set_y(self, y):\n",
        "        self.__y = y\n",
        "    \n",
        "    def set(self, x, y):\n",
        "        self.__x = x\n",
        "        self.__y = y\n",
        "    \n",
        "    def get_x(self):\n",
        "        return self.__x\n",
        "    \n",
        "    def get_y(self):\n",
        "        return self.__y\n",
        "    \n",
        "    def move(self, dx, dy): \n",
        "        self.__x += dx\n",
        "        self.__y += dy\n",
        "        \n",
        "    def copy_from(self, p):\n",
        "        self.__x = p.x\n",
        "        self.__y = p.y\n",
        "        \n",
        "    def __str__(self): # <---- New __str__ method\n",
        "        return \"Point(\"+str(self.__x)+\", \"+str(self.__y)+\")\"\n",
        "    \n",
        "    x = property(get_x, set_x)\n",
        "    y = property(get_y, set_y)"
      ],
      "execution_count": 0,
      "outputs": []
    },
    {
      "metadata": {
        "id": "UzO2bcUZOZqm",
        "colab_type": "text"
      },
      "cell_type": "markdown",
      "source": [
        "Använder vi samma kod för att skriva ut får vi istället:\n"
      ]
    },
    {
      "metadata": {
        "id": "HLQsLHXWOZqn",
        "colab_type": "code",
        "colab": {
          "base_uri": "https://localhost:8080/",
          "height": 35
        },
        "outputId": "61fdb842-aa97-4e43-e309-186c27f75b90"
      },
      "cell_type": "code",
      "source": [
        "p = Point()\n",
        "\n",
        "p.x = 42.0\n",
        "p.y = 84.0\n",
        "\n",
        "print(p)"
      ],
      "execution_count": 36,
      "outputs": [
        {
          "output_type": "stream",
          "text": [
            "Point(42.0, 84.0)\n"
          ],
          "name": "stdout"
        }
      ]
    },
    {
      "metadata": {
        "id": "8HWgtku_OZqw",
        "colab_type": "text"
      },
      "cell_type": "markdown",
      "source": [
        "## Klasser som datatyper\n",
        "\n",
        "* Egendefinierade klasser kan användas som vilken annan Python-datatyp som helst.\n",
        "* Instanser eller objekt kan lagras i listor eller uppslagslistor precis som vilken annan datatyp som helst.\n",
        "\n",
        "En list av **Point**-objekt kan skapas med följande kod:\n"
      ]
    },
    {
      "metadata": {
        "id": "xB261oIqOZqx",
        "colab_type": "code",
        "colab": {}
      },
      "cell_type": "code",
      "source": [
        "import random\n",
        "\n",
        "points = []\n",
        "\n",
        "for i in range(10):\n",
        "    points.append(Point(random.random(), random.random()))"
      ],
      "execution_count": 0,
      "outputs": []
    },
    {
      "metadata": {
        "id": "7UCDc2A7OZq0",
        "colab_type": "text"
      },
      "cell_type": "markdown",
      "source": [
        "eller\n",
        "\n"
      ]
    },
    {
      "metadata": {
        "id": "JR6gOFhMOZq3",
        "colab_type": "code",
        "colab": {}
      },
      "cell_type": "code",
      "source": [
        "points = [Point(random.random(), random.random()) for i in range(10)]"
      ],
      "execution_count": 0,
      "outputs": []
    },
    {
      "metadata": {
        "id": "-K63Mk87OZq5",
        "colab_type": "text"
      },
      "cell_type": "markdown",
      "source": [
        "Eftersom **Point**-klassen implementerar en **__str__**-metod kan man enkel skriva ut listan:\n"
      ]
    },
    {
      "metadata": {
        "id": "PmTSIDwtOZq6",
        "colab_type": "code",
        "colab": {
          "base_uri": "https://localhost:8080/",
          "height": 196
        },
        "outputId": "72d665f8-0366-4e38-d105-41c501d728d7"
      },
      "cell_type": "code",
      "source": [
        "for p in points:\n",
        "    print(p)"
      ],
      "execution_count": 39,
      "outputs": [
        {
          "output_type": "stream",
          "text": [
            "Point(0.7225453734331898, 0.9180511873219612)\n",
            "Point(0.39070400850904985, 0.9032252817539117)\n",
            "Point(0.836601036524842, 0.10852806217271282)\n",
            "Point(0.6612253638757242, 0.45123651348907645)\n",
            "Point(0.5326299137926801, 0.5091008376836006)\n",
            "Point(0.8107077037974635, 0.9053766118908402)\n",
            "Point(0.08278370194215956, 0.5158469586269234)\n",
            "Point(0.9377899339341865, 0.44035490152609125)\n",
            "Point(0.12823772041446935, 0.39086237005909497)\n",
            "Point(0.9129178612076297, 0.723888300857342)\n"
          ],
          "name": "stdout"
        }
      ]
    },
    {
      "metadata": {
        "id": "hUldpXVfOZrA",
        "colab_type": "text"
      },
      "cell_type": "markdown",
      "source": [
        "Variabelreferenser fungerar på samma sätt som för inbyggda Python-datatyper:\n"
      ]
    },
    {
      "metadata": {
        "id": "BnngOgHeOZrB",
        "colab_type": "code",
        "colab": {
          "base_uri": "https://localhost:8080/",
          "height": 88
        },
        "outputId": "760246ad-01dc-475b-dd18-ce5a74b97379"
      },
      "cell_type": "code",
      "source": [
        "p0 = Point(0.0, 0.0)\n",
        "p1 = Point(1.0, 2.0)\n",
        "\n",
        "p2 = p0\n",
        "p3 = p1\n",
        "\n",
        "print(id(p0))\n",
        "print(id(p1))\n",
        "print(id(p2))\n",
        "print(id(p3))"
      ],
      "execution_count": 40,
      "outputs": [
        {
          "output_type": "stream",
          "text": [
            "140419921484656\n",
            "140419921484264\n",
            "140419921484656\n",
            "140419921484264\n"
          ],
          "name": "stdout"
        }
      ]
    },
    {
      "metadata": {
        "id": "WVoBXKDWOZrF",
        "colab_type": "text"
      },
      "cell_type": "markdown",
      "source": [
        "# Arv\n",
        "\n",
        "* Nya klasser kan definieras och ärva funktionalitet från existerande klasser.\n",
        "* Reducerar komplexitet i nya klasser genom att bara lägga till ny funktionalitet.\n",
        "* Existerande kod kan återanvändas.\n",
        "\n",
        "Arv anges inom parentes efter klassnamnet i klassdefinitionen. I följande exempel skapar vi en ny klass **Circle** som ärver funktionaliteten från **Point**-klassen och lägger till attributet radie.\n"
      ]
    },
    {
      "metadata": {
        "id": "osly9MwVOZrH",
        "colab_type": "code",
        "colab": {}
      },
      "cell_type": "code",
      "source": [
        "class Circle(Point):\n",
        "    def __init__(self, x=0.0, y=0.0, r=1.0):\n",
        "        super().__init__(x, y) # <--- Call inherited constructor of Point-class\n",
        "        self._r = r\n",
        "    \n",
        "    def set_r(self, r):\n",
        "        self._r = r\n",
        "    \n",
        "    def get_r(self):\n",
        "        return self._r\n",
        "    \n",
        "    def copy_from(self, c):\n",
        "        super().copy_from(c)\n",
        "        self.r = c.r\n",
        "    \n",
        "    def __str__(self):\n",
        "        return \"Circle(\"+str(self.x)+\", \"+str(self.y)+\", \"+str(self._r)+\")\"\n",
        "\n",
        "    r = property(get_r, set_r)"
      ],
      "execution_count": 0,
      "outputs": []
    },
    {
      "metadata": {
        "id": "z7WaBlZ8OZrI",
        "colab_type": "text"
      },
      "cell_type": "markdown",
      "source": [
        "Vi kan nu använda klassen i följande exempel:\n"
      ]
    },
    {
      "metadata": {
        "id": "kF5A0FAaOZrJ",
        "colab_type": "code",
        "colab": {
          "base_uri": "https://localhost:8080/",
          "height": 53
        },
        "outputId": "b1dcdfcc-5e79-4e80-f04c-3f94f15a3cde"
      },
      "cell_type": "code",
      "source": [
        "p = Point(1.0, 2.0)\n",
        "c = Circle(2.0, 4.0, 8.0)\n",
        "\n",
        "c.r = 10.0\n",
        "\n",
        "p.move(1.0, 1.0)\n",
        "c.move(1.0, 1.0)\n",
        "\n",
        "print(p)\n",
        "print(c)"
      ],
      "execution_count": 43,
      "outputs": [
        {
          "output_type": "stream",
          "text": [
            "Point(2.0, 3.0)\n",
            "Circle(3.0, 5.0, 10.0)\n"
          ],
          "name": "stdout"
        }
      ]
    },
    {
      "metadata": {
        "id": "KcKBCjvZOZrM",
        "colab_type": "text"
      },
      "cell_type": "markdown",
      "source": [
        "# Samansatta objekt\n",
        "\n",
        "* I många fall kommer klasser att referera til en eller flera objekt.\n",
        "* Denna typ av objekt kallas sammansatta objekt\n",
        "\n",
        "* In many cases objects will consist of other objects or references to objects\n",
        "* These kind of objects are referred as composite objects.\n",
        "\n",
        "Ett typiskt exempel är en **Line**-klass som hanterar en linje mellan två **Point**-instanser.\n"
      ]
    },
    {
      "metadata": {
        "id": "EKtgAcuiOZrN",
        "colab_type": "code",
        "colab": {}
      },
      "cell_type": "code",
      "source": [
        "class Line:\n",
        "    def __init__(self):\n",
        "        self.__p0 = Point()\n",
        "        self.__p1 = Point()\n",
        "    \n",
        "    def get_p0(self):\n",
        "        return self.__p0\n",
        "\n",
        "    def get_p1(self):\n",
        "        return self.__p1\n",
        "    \n",
        "    def __str__(self):\n",
        "        return \"Line from: \" + str(self.__p0) + \" to \" + str(self.__p1)\n",
        "\n",
        "    p0 = property(get_p0)\n",
        "    p1 = property(get_p1)"
      ],
      "execution_count": 0,
      "outputs": []
    },
    {
      "metadata": {
        "id": "y7Nk6HKzOZrO",
        "colab_type": "text"
      },
      "cell_type": "markdown",
      "source": [
        "Notera att **Line**-klassen inte ärver från **Point**. Den refererar bara till instanser av typen **Point**.\n"
      ]
    },
    {
      "metadata": {
        "id": "_Ku6WSAJOZrP",
        "colab_type": "code",
        "colab": {
          "base_uri": "https://localhost:8080/",
          "height": 35
        },
        "outputId": "a0f93c3f-7d0e-440b-99a9-5326e9e0e221"
      },
      "cell_type": "code",
      "source": [
        "line = Line()\n",
        "line.p0.x = 0.0\n",
        "line.p0.y = 2.0\n",
        "line.p1.x = 3.0\n",
        "line.p1.y = 4.0\n",
        "print(line)"
      ],
      "execution_count": 45,
      "outputs": [
        {
          "output_type": "stream",
          "text": [
            "Line from: Point(0.0, 2.0) to Point(3.0, 4.0)\n"
          ],
          "name": "stdout"
        }
      ]
    },
    {
      "metadata": {
        "id": "G_NqOzZkOZrR",
        "colab_type": "text"
      },
      "cell_type": "markdown",
      "source": [
        "I detta exempel kan **Point**-instanserna inte modifieras då de endast kan nås genom metoderna **get_p0()** och **get_p1()**-metoderna. Attributen **x** och **y** på **Point**-klassen kan fortfarande modifieras. \n",
        "\n",
        "Det hade också varit möjligt att modifiera klassen att möjliggöra tilldelning av instansegenskaperna **p0** och **p1**.\n"
      ]
    },
    {
      "metadata": {
        "id": "5xV7kS-XOZrS",
        "colab_type": "code",
        "colab": {}
      },
      "cell_type": "code",
      "source": [
        "class Line:\n",
        "    def __init__(self):\n",
        "        self.__p0 = Point()\n",
        "        self.__p1 = Point()\n",
        "    \n",
        "    def get_p0(self):\n",
        "        return self.__p0\n",
        "\n",
        "    def get_p1(self):\n",
        "        return self.__p1\n",
        "    \n",
        "    def set_p0(self, p):\n",
        "        self.__p0 = p\n",
        "        \n",
        "    def set_p1(self, p):\n",
        "        self.__p1 = p\n",
        "    \n",
        "    def __str__(self):\n",
        "        return \"Line from: \" + str(self.__p0) + \" to \" + str(self.__p1)\n",
        "\n",
        "    p0 = property(get_p0, set_p0)\n",
        "    p1 = property(get_p1, set_p1)"
      ],
      "execution_count": 0,
      "outputs": []
    },
    {
      "metadata": {
        "id": "67tZY8ZEOZrT",
        "colab_type": "text"
      },
      "cell_type": "markdown",
      "source": [
        "Klassen kan nu användas på följande sätt:\n"
      ]
    },
    {
      "metadata": {
        "id": "HAP2SQAmOZrT",
        "colab_type": "code",
        "colab": {
          "base_uri": "https://localhost:8080/",
          "height": 53
        },
        "outputId": "d2ad134e-f9de-4833-fab7-a8bd925e848f"
      },
      "cell_type": "code",
      "source": [
        "line = Line()\n",
        "line.p0.x = 0.0\n",
        "line.p0.y = 2.0\n",
        "line.p1.x = 3.0\n",
        "line.p1.y = 4.0\n",
        "\n",
        "print(line)\n",
        "\n",
        "p3 = Point(5.0, 5.0)\n",
        "p4 = Point(10.0, 10.0)\n",
        "line.p0 = p3\n",
        "line.p1 = p4\n",
        "\n",
        "print(line)"
      ],
      "execution_count": 47,
      "outputs": [
        {
          "output_type": "stream",
          "text": [
            "Line from: Point(0.0, 2.0) to Point(3.0, 4.0)\n",
            "Line from: Point(5.0, 5.0) to Point(10.0, 10.0)\n"
          ],
          "name": "stdout"
        }
      ]
    },
    {
      "metadata": {
        "id": "8QJ_n63gOZrY",
        "colab_type": "text"
      },
      "cell_type": "markdown",
      "source": [
        "En metod för att beräkna längden kan lätt läggas till:\n"
      ]
    },
    {
      "metadata": {
        "id": "qp1rMBX3OZrY",
        "colab_type": "code",
        "colab": {}
      },
      "cell_type": "code",
      "source": [
        "import math\n",
        "\n",
        "class Line:\n",
        "    def __init__(self):\n",
        "        self.__p0 = Point()\n",
        "        self.__p1 = Point()\n",
        "    \n",
        "    def get_p0(self):\n",
        "        return self.__p0\n",
        "\n",
        "    def get_p1(self):\n",
        "        return self.__p1\n",
        "    \n",
        "    def set_p0(self, p):\n",
        "        self.__p0 = p\n",
        "        \n",
        "    def set_p1(self, p):\n",
        "        self.__p1 = p\n",
        "        \n",
        "    def length(self):\n",
        "        return math.sqrt(math.pow(self.p1.x - self.p0.x, 2) +\n",
        "            math.pow(self.p1.y - self.p0.y, 2))        \n",
        "    \n",
        "    def __str__(self):\n",
        "        return \"Line from: \" + str(self.__p0) + \" to \" + str(self.__p1)\n",
        "\n",
        "    p0 = property(get_p0, set_p0)\n",
        "    p1 = property(get_p1, set_p1)"
      ],
      "execution_count": 0,
      "outputs": []
    },
    {
      "metadata": {
        "id": "dQ2fhow5OZrm",
        "colab_type": "text"
      },
      "cell_type": "markdown",
      "source": [
        "Exempel på användning:"
      ]
    },
    {
      "metadata": {
        "id": "Di1LNoqEOZrm",
        "colab_type": "code",
        "colab": {
          "base_uri": "https://localhost:8080/",
          "height": 35
        },
        "outputId": "eed2c630-9765-4bf2-9093-79211f6f164b"
      },
      "cell_type": "code",
      "source": [
        "line = Line()\n",
        "line.p0.x = 0.0\n",
        "line.p0.y = 2.0\n",
        "line.p1.x = 3.0\n",
        "line.p1.y = 4.0\n",
        "\n",
        "print(line.length())"
      ],
      "execution_count": 49,
      "outputs": [
        {
          "output_type": "stream",
          "text": [
            "3.605551275463989\n"
          ],
          "name": "stdout"
        }
      ]
    },
    {
      "metadata": {
        "id": "I2CDYQ8ZOZrw",
        "colab_type": "text"
      },
      "cell_type": "markdown",
      "source": [
        "# Polymorfism\n",
        "\n",
        "* Innebär att rätt metod anropas beroende på vilken klassinstans som avses.\n",
        "* Om en metod inte är tillgänglig för den aktuella instansens klass kommer metoden i ovanliggande klass anropas.\n",
        "* Polymorfism möjliggör hantering en mix av instanser av olika typer och se till att rätt metod anropas beroende på vilken faktisk datatype instanser har.\n",
        "\n",
        "\n",
        "Example:"
      ]
    },
    {
      "metadata": {
        "id": "13aahnZVOZrw",
        "colab_type": "code",
        "colab": {
          "base_uri": "https://localhost:8080/",
          "height": 88
        },
        "outputId": "5878bdf3-a627-4333-a190-73e6d8dba3ca"
      },
      "cell_type": "code",
      "source": [
        "shapes = []\n",
        "\n",
        "shapes.append(Point(0.0, 1.0))\n",
        "shapes.append(Circle(2.0, 1.0, 3.0))\n",
        "shapes.append(Line())\n",
        "shapes.append(42.0)\n",
        "\n",
        "for shape in shapes:\n",
        "    print(shape)"
      ],
      "execution_count": 50,
      "outputs": [
        {
          "output_type": "stream",
          "text": [
            "Point(0.0, 1.0)\n",
            "Circle(2.0, 1.0, 3.0)\n",
            "Line from: Point(0.0, 0.0) to Point(0.0, 0.0)\n",
            "42.0\n"
          ],
          "name": "stdout"
        }
      ]
    },
    {
      "metadata": {
        "id": "1ExaC_FZOZr2",
        "colab_type": "text"
      },
      "cell_type": "markdown",
      "source": [
        "Vad betyder egentligen print(42.0)?\n"
      ]
    },
    {
      "metadata": {
        "id": "ILMfPtN4OZr3",
        "colab_type": "code",
        "colab": {
          "base_uri": "https://localhost:8080/",
          "height": 35
        },
        "outputId": "565a8bcf-238d-44b2-908c-adb7fad58748"
      },
      "cell_type": "code",
      "source": [
        "print(42.0.__str__())"
      ],
      "execution_count": 51,
      "outputs": [
        {
          "output_type": "stream",
          "text": [
            "42.0\n"
          ],
          "name": "stdout"
        }
      ]
    },
    {
      "metadata": {
        "id": "u0zfn3MY1N0y",
        "colab_type": "code",
        "colab": {}
      },
      "cell_type": "code",
      "source": [
        ""
      ],
      "execution_count": 0,
      "outputs": []
    }
  ]
}