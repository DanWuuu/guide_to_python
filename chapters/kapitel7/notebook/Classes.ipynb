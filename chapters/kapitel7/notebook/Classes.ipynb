{
 "cells": [
  {
   "cell_type": "markdown",
   "metadata": {},
   "source": [
    "# Objectoriented programming\n",
    "\n",
    "* The basic concept is the object which combine data and methods working on data.\n",
    "* Object often describe nouns, such as Point, Circle, Equation, Model or Square\n",
    "* Objects interact with each other by passing messages. \n",
    "* Messages are the verbs.\n",
    "* An object often consists\n",
    "  * methods (verbs), which define what the object can do\n",
    "  * properties describing attributes and links to other objects."
   ]
  },
  {
   "cell_type": "markdown",
   "metadata": {},
   "source": [
    "# Objectoriented modeling\n",
    "\n",
    "## Defining the model\n",
    " \n",
    "* Define a conceptual model of your application\n",
    "* Identitfy all the nouns in the application\n",
    "  * Position\n",
    "  * Point\n",
    "  * Circle\n",
    "  * Rectangle\n",
    "  * Square\n",
    "  * Line\n",
    "  * Button\n",
    "  * Checkbox\n",
    "  * Text\n",
    " * Define any relationships the objects have\n",
    "   * A Square, Circle and Rectangle all share the attribute position\n",
    " \n",
    " \n",
    "## Concepts in objectoriented programming\n",
    " \n",
    " \n",
    " * **Class** - Abstract description of an object. Can be compared to a template or blueprint for an concrete object. An object is an instance of one or more classes.\n",
    " * **Encapsulation** - One of the fundametal concepts in objectoriented programming is to hide the dinternal implementation of the object. Users of the object only communicates with well defined functions and properties.\n",
    " * **Inheritance** - The functionality of a class can be inherited. New classes can extend and build on existing functionality of existing classes. This enables reuse of existing codes.\n",
    " * **Polymorphism** - The ability of objects to call the correct function depending of the type of class. If a function is called on a derived object the correct method will be called. If the method is implemented in the derived class this function will be called, otherwise the method in the base class will be called."
   ]
  },
  {
   "cell_type": "markdown",
   "metadata": {},
   "source": [
    "# Funktionsorienterad programmering"
   ]
  },
  {
   "cell_type": "code",
   "execution_count": 14,
   "metadata": {},
   "outputs": [],
   "source": [
    "def createPoint(x, y):\n",
    "    return [x, y]\n",
    "\n",
    "def movePoint(point, dx, dy):\n",
    "    point[0] += dx\n",
    "    point[1] += dy\n",
    "    \n",
    "def zeroPoint(point):\n",
    "    point[0] = 0.0\n",
    "    point[1] = 0.0\n",
    "    \n",
    "def setPoint(point, x, y):\n",
    "    point[0] = x\n",
    "    point[1] = y\n",
    "    \n",
    "def printPoint(point):\n",
    "    print(\"x =\",point[0], \"y = \", point[1])\n",
    "    "
   ]
  },
  {
   "cell_type": "code",
   "execution_count": 15,
   "metadata": {},
   "outputs": [
    {
     "name": "stdout",
     "output_type": "stream",
     "text": [
      "[0.5, 0.0]\n"
     ]
    }
   ],
   "source": [
    "p = createPoint(0.5, 0.0)\n",
    "print(p)"
   ]
  },
  {
   "cell_type": "code",
   "execution_count": 16,
   "metadata": {},
   "outputs": [
    {
     "name": "stdout",
     "output_type": "stream",
     "text": [
      "[3.5, 2.0]\n"
     ]
    }
   ],
   "source": [
    "movePoint(p, 3.0, 2.0)\n",
    "print(p)"
   ]
  },
  {
   "cell_type": "code",
   "execution_count": 17,
   "metadata": {},
   "outputs": [
    {
     "name": "stdout",
     "output_type": "stream",
     "text": [
      "[-2.0, -1.0]\n"
     ]
    }
   ],
   "source": [
    "setPoint(p, -2.0, -1.0)\n",
    "print(p)"
   ]
  },
  {
   "cell_type": "code",
   "execution_count": 18,
   "metadata": {},
   "outputs": [
    {
     "name": "stdout",
     "output_type": "stream",
     "text": [
      "x = -2.0 y =  -1.0\n"
     ]
    }
   ],
   "source": [
    "printPoint(p)"
   ]
  },
  {
   "cell_type": "markdown",
   "metadata": {},
   "source": [
    "# Classes"
   ]
  },
  {
   "cell_type": "markdown",
   "metadata": {},
   "source": [
    "* Classes in Python are defined with the keyword **class** followed by the class name and a colon(:).\n",
    "* Class functions are defined in the code block following the class definition.\n",
    "* A Class can have have two kind of functions associated with it:\n",
    "  * Instance-mehtods - Functions working with the class instance.\n",
    "  * Class-mehtods - Functions available to all instances of a specific class.\n",
    "* An instance method in Python always have the first parameter **self**.\n",
    "* The **self** parameter is never used the actual code using the method. It is automatically passed by Python.\n",
    "* Initialisation of an instance is handled by the **__init__(self, ...)** method. Will be called when a new instance is created."
   ]
  },
  {
   "cell_type": "markdown",
   "metadata": {},
   "source": [
    "## Class definition"
   ]
  },
  {
   "cell_type": "code",
   "execution_count": 19,
   "metadata": {},
   "outputs": [],
   "source": [
    "class Point:\n",
    "    def __init__(self):\n",
    "        self.x = 0.0\n",
    "        self.y = 0.0"
   ]
  },
  {
   "cell_type": "markdown",
   "metadata": {},
   "source": [
    "**self.x** and **self.y** are instance attributes and will be unique to each instance of a class."
   ]
  },
  {
   "cell_type": "markdown",
   "metadata": {},
   "source": [
    "## Instantiating a class"
   ]
  },
  {
   "cell_type": "code",
   "execution_count": 20,
   "metadata": {},
   "outputs": [],
   "source": [
    "p = Point()\n",
    "q = Point()"
   ]
  },
  {
   "cell_type": "markdown",
   "metadata": {},
   "source": [
    "This will call the **__init__()** method of the **Point** class."
   ]
  },
  {
   "cell_type": "code",
   "execution_count": 21,
   "metadata": {},
   "outputs": [
    {
     "name": "stdout",
     "output_type": "stream",
     "text": [
      "0.0\n",
      "0.0\n"
     ]
    }
   ],
   "source": [
    "print(p.x)\n",
    "print(p.y)"
   ]
  },
  {
   "cell_type": "markdown",
   "metadata": {},
   "source": [
    "It is also possible to assign the instance attributes:"
   ]
  },
  {
   "cell_type": "code",
   "execution_count": 22,
   "metadata": {},
   "outputs": [
    {
     "name": "stdout",
     "output_type": "stream",
     "text": [
      "1.0\n",
      "2.0\n",
      "0.0\n",
      "0.0\n"
     ]
    }
   ],
   "source": [
    "p.x = 1.0\n",
    "p.y = 2.0\n",
    "\n",
    "print(p.x)\n",
    "print(p.y)\n",
    "print(q.x)\n",
    "print(q.y)"
   ]
  },
  {
   "cell_type": "markdown",
   "metadata": {},
   "source": [
    "Is this a correct form of encapsulation? Python does not explicitely prohibit access to instance attributes. However this does not have to be a problem, but will come to that later. First, we will implement the object in the correct objectoriented way:"
   ]
  },
  {
   "cell_type": "markdown",
   "metadata": {},
   "source": [
    "# Encapsulation and attribute access"
   ]
  },
  {
   "cell_type": "markdown",
   "metadata": {},
   "source": [
    "A an object attribute can be made private in Python by prefixing it with **__** (two underscores). To assign initial values of the point we also add x and y parameters to the **__init__** function:"
   ]
  },
  {
   "cell_type": "code",
   "execution_count": 23,
   "metadata": {},
   "outputs": [],
   "source": [
    "class Point:\n",
    "    def __init__(self, x, y):\n",
    "        self.__x = x\n",
    "        self.__y = y"
   ]
  },
  {
   "cell_type": "markdown",
   "metadata": {},
   "source": [
    "It is now possible to create a **Point** instance with initial values like this:"
   ]
  },
  {
   "cell_type": "code",
   "execution_count": 24,
   "metadata": {},
   "outputs": [],
   "source": [
    "p = Point(1.0, 2.0)"
   ]
  },
  {
   "cell_type": "markdown",
   "metadata": {},
   "source": [
    "However whe accessing the x and y attributes something goes wrong:"
   ]
  },
  {
   "cell_type": "code",
   "execution_count": 25,
   "metadata": {
    "scrolled": true
   },
   "outputs": [
    {
     "ename": "AttributeError",
     "evalue": "'Point' object has no attribute 'x'",
     "output_type": "error",
     "traceback": [
      "\u001b[1;31m---------------------------------------------------------------------------\u001b[0m",
      "\u001b[1;31mAttributeError\u001b[0m                            Traceback (most recent call last)",
      "\u001b[1;32m<ipython-input-25-04d32b2fd664>\u001b[0m in \u001b[0;36m<module>\u001b[1;34m\u001b[0m\n\u001b[1;32m----> 1\u001b[1;33m \u001b[0mprint\u001b[0m\u001b[1;33m(\u001b[0m\u001b[0mp\u001b[0m\u001b[1;33m.\u001b[0m\u001b[0mx\u001b[0m\u001b[1;33m)\u001b[0m\u001b[1;33m\u001b[0m\u001b[1;33m\u001b[0m\u001b[0m\n\u001b[0m\u001b[0;32m      2\u001b[0m \u001b[0mprint\u001b[0m\u001b[1;33m(\u001b[0m\u001b[0mp\u001b[0m\u001b[1;33m.\u001b[0m\u001b[0my\u001b[0m\u001b[1;33m)\u001b[0m\u001b[1;33m\u001b[0m\u001b[1;33m\u001b[0m\u001b[0m\n",
      "\u001b[1;31mAttributeError\u001b[0m: 'Point' object has no attribute 'x'"
     ]
    }
   ],
   "source": [
    "print(p.x)\n",
    "print(p.y)"
   ]
  },
  {
   "cell_type": "markdown",
   "metadata": {},
   "source": [
    "This means that there is no x and y attributes. It also not possible to access the internal attributes either:"
   ]
  },
  {
   "cell_type": "code",
   "execution_count": 26,
   "metadata": {},
   "outputs": [
    {
     "ename": "AttributeError",
     "evalue": "'Point' object has no attribute '__x'",
     "output_type": "error",
     "traceback": [
      "\u001b[1;31m---------------------------------------------------------------------------\u001b[0m",
      "\u001b[1;31mAttributeError\u001b[0m                            Traceback (most recent call last)",
      "\u001b[1;32m<ipython-input-26-a798b988bea1>\u001b[0m in \u001b[0;36m<module>\u001b[1;34m\u001b[0m\n\u001b[1;32m----> 1\u001b[1;33m \u001b[0mprint\u001b[0m\u001b[1;33m(\u001b[0m\u001b[0mp\u001b[0m\u001b[1;33m.\u001b[0m\u001b[0m__x\u001b[0m\u001b[1;33m)\u001b[0m\u001b[1;33m\u001b[0m\u001b[1;33m\u001b[0m\u001b[0m\n\u001b[0m",
      "\u001b[1;31mAttributeError\u001b[0m: 'Point' object has no attribute '__x'"
     ]
    }
   ],
   "source": [
    "print(p.__x)"
   ]
  },
  {
   "cell_type": "markdown",
   "metadata": {},
   "source": [
    "So our internal attributes are now protected from access (encapsulation). To access them we need to add methods for assigning and getting the values. This is usually done in objectorientation using get/set methods. First we add the set methods:"
   ]
  },
  {
   "cell_type": "code",
   "execution_count": 27,
   "metadata": {},
   "outputs": [],
   "source": [
    "class Point:\n",
    "    def __init__(self, x=0.0, y=0.0):\n",
    "        self.__x = x\n",
    "        self.__y = y\n",
    "    \n",
    "    def set_x(self, x):\n",
    "        self.__x = x\n",
    "    \n",
    "    def set_y(self, y):\n",
    "        self.__y = y\n",
    "    \n",
    "    def set(self, x, y):\n",
    "        self.__x = x\n",
    "        self.__y = y"
   ]
  },
  {
   "cell_type": "markdown",
   "metadata": {},
   "source": [
    "The class can now be instantiated and used as in the following code:"
   ]
  },
  {
   "cell_type": "code",
   "execution_count": 28,
   "metadata": {},
   "outputs": [],
   "source": [
    "p = Point(12.0, 13.0)\n",
    "\n",
    "p.set(2.0, 3.0)\n",
    "p.set_x(42.0)\n",
    "p.set_y(83.0)"
   ]
  },
  {
   "cell_type": "markdown",
   "metadata": {},
   "source": [
    "To access the internal attributes we add get-methods to our code:"
   ]
  },
  {
   "cell_type": "code",
   "execution_count": 29,
   "metadata": {},
   "outputs": [],
   "source": [
    "class Point:\n",
    "    def __init__(self, x=0.0, y=0.0):\n",
    "        self.__x = x\n",
    "        self.__y = y\n",
    "\n",
    "    def set_x(self, x):\n",
    "        self.__x = x\n",
    "\n",
    "    def set_y(self, y):\n",
    "        self.__y = y\n",
    "    \n",
    "    def set(self, x, y):\n",
    "        self.__x = x\n",
    "        self.__y = y\n",
    "    \n",
    "    def x(self):\n",
    "        return self.__x\n",
    "    \n",
    "    def y(self):\n",
    "        return self.__y"
   ]
  },
  {
   "cell_type": "markdown",
   "metadata": {},
   "source": [
    "It is now possible to fully access the internal attributes in the class:"
   ]
  },
  {
   "cell_type": "code",
   "execution_count": 30,
   "metadata": {},
   "outputs": [
    {
     "name": "stdout",
     "output_type": "stream",
     "text": [
      "42.0\n",
      "83.0\n"
     ]
    }
   ],
   "source": [
    "p = Point(12.0, 13.0)\n",
    "\n",
    "p.set(2.0, 3.0)\n",
    "p.set_x(42.0)\n",
    "p.set_y(83.0)\n",
    "\n",
    "print(p.x())\n",
    "print(p.y())"
   ]
  },
  {
   "cell_type": "markdown",
   "metadata": {},
   "source": [
    "## Python properties"
   ]
  },
  {
   "cell_type": "markdown",
   "metadata": {},
   "source": [
    "To make it easier to use access class attributes Python support the notion of properties. Properties enable access to internal attributes to be med using get/set-methods, but using the concepts as assigning attributes directly to the object. To implement this, special **property**-declarations must be added to the class definition. In the **property**-declaration the name of the property is defined and the methods used to get and set are specified.\n",
    "\n",
    "We can add the properties **x** and **y** to our existing **Point** class. The modified class now becomes:"
   ]
  },
  {
   "cell_type": "code",
   "execution_count": 31,
   "metadata": {},
   "outputs": [],
   "source": [
    "class Point:\n",
    "    def __init__(self, x=0.0, y=0.0):\n",
    "        self.__x = x\n",
    "        self.__y = y\n",
    "    \n",
    "    def set_x(self, x):\n",
    "        print(\"set_x()\")\n",
    "        self.__x = x\n",
    "    \n",
    "    def set_y(self, y):\n",
    "        print(\"set_y()\")\n",
    "        self.__y = y\n",
    "    \n",
    "    def set(self, x, y):\n",
    "        self.__x = x\n",
    "        self.__y = y\n",
    "    \n",
    "    def get_x(self):\n",
    "        print(\"get_x()\")\n",
    "        return self.__x\n",
    "    \n",
    "    def get_y(self):\n",
    "        print(\"get_y()\")\n",
    "        return self.__y\n",
    "    \n",
    "    x = property(get_x, set_x)\n",
    "    y = property(get_y, set_y)"
   ]
  },
  {
   "cell_type": "markdown",
   "metadata": {},
   "source": [
    "It is now possible to access the instance attributes in a much easier way:"
   ]
  },
  {
   "cell_type": "code",
   "execution_count": 32,
   "metadata": {},
   "outputs": [
    {
     "name": "stdout",
     "output_type": "stream",
     "text": [
      "set_x()\n",
      "set_y()\n",
      "get_x()\n",
      "42.0\n",
      "get_y()\n",
      "84.0\n"
     ]
    }
   ],
   "source": [
    "p = Point()\n",
    "\n",
    "p.x = 42.0\n",
    "p.y = 84.0\n",
    "\n",
    "print(p.x)\n",
    "print(p.y)"
   ]
  },
  {
   "cell_type": "markdown",
   "metadata": {},
   "source": [
    "Properties will give you the protection of get/set-methods, but the easy of use of accessing attributes directly. Properties also enable us to postpone the decision to encapsulate attributes to a later time, using normal attributes in the class until a point where the attribute needs more protection."
   ]
  },
  {
   "cell_type": "markdown",
   "metadata": {},
   "source": [
    "# Instance methods\n",
    "\n",
    "* Main method of interacting with objects\n",
    "* As all data i contained in the objects, instance methods can be short.\n",
    "\n",
    "A typical instance method in our **Point** class could be a method for moving the point a distance in x and y. The method is shown below:"
   ]
  },
  {
   "cell_type": "code",
   "execution_count": 33,
   "metadata": {},
   "outputs": [],
   "source": [
    "class Point:\n",
    "    def __init__(self, x=0.0, y=0.0):\n",
    "        self.__x = x\n",
    "        self.__y = y\n",
    "    \n",
    "    def set_x(self, x):\n",
    "        self.__x = x\n",
    "    \n",
    "    def set_y(self, y):\n",
    "        self.__y = y\n",
    "    \n",
    "    def set(self, x, y):\n",
    "        self.__x = x\n",
    "        self.__y = y\n",
    "    \n",
    "    def get_x(self):\n",
    "        return self.__x\n",
    "    \n",
    "    def get_y(self):\n",
    "        return self.__y\n",
    "    \n",
    "    def move(self, dx, dy): # <---- New move method\n",
    "        self.__x += dx\n",
    "        self.__y += dy\n",
    "    \n",
    "    x = property(get_x, set_x)\n",
    "    y = property(get_y, set_y)"
   ]
  },
  {
   "cell_type": "markdown",
   "metadata": {},
   "source": [
    "We can now use the **.move()** method to move our points:"
   ]
  },
  {
   "cell_type": "code",
   "execution_count": 34,
   "metadata": {},
   "outputs": [
    {
     "name": "stdout",
     "output_type": "stream",
     "text": [
      "5.0 15.0\n"
     ]
    }
   ],
   "source": [
    "p0 = Point()\n",
    "p1 = Point()\n",
    "p0.move(10.0, 20.0)\n",
    "p0.move(-5.0, -5.0)\n",
    "\n",
    "print(p0.x, p0.y)"
   ]
  },
  {
   "cell_type": "markdown",
   "metadata": {},
   "source": [
    "Another method that can be implemented is a method to copy attributes from another instance, **.copy_from()**:"
   ]
  },
  {
   "cell_type": "code",
   "execution_count": 35,
   "metadata": {},
   "outputs": [],
   "source": [
    "class Point:\n",
    "    def __init__(self, x=0.0, y=0.0):\n",
    "        self.__x = x\n",
    "        self.__y = y\n",
    "    \n",
    "    def set_x(self, x):\n",
    "        self.__x = x\n",
    "    \n",
    "    def set_y(self, y):\n",
    "        self.__y = y\n",
    "    \n",
    "    def set(self, x, y):\n",
    "        self.__x = x\n",
    "        self.__y = y\n",
    "    \n",
    "    def get_x(self):\n",
    "        return self.__x\n",
    "    \n",
    "    def get_y(self):\n",
    "        return self.__y\n",
    "    \n",
    "    def move(self, dx, dy): \n",
    "        self.__x += dx\n",
    "        self.__y += dy\n",
    "        \n",
    "    def copy_from(self, p): # <---- New method\n",
    "        self.__x = p.x\n",
    "        self.__y = p.y\n",
    "    \n",
    "    x = property(get_x, set_x)\n",
    "    y = property(get_y, set_y)"
   ]
  },
  {
   "cell_type": "markdown",
   "metadata": {},
   "source": [
    "How this method is used is shown below:"
   ]
  },
  {
   "cell_type": "code",
   "execution_count": 36,
   "metadata": {},
   "outputs": [
    {
     "name": "stdout",
     "output_type": "stream",
     "text": [
      "10.0 10.0\n",
      "-5.0 -5.0\n",
      "10.0 10.0\n"
     ]
    }
   ],
   "source": [
    "p0 = Point()\n",
    "p1 = Point()\n",
    "\n",
    "p0.move(10.0, 20.0)\n",
    "p1.move(-5.0, -5.0)\n",
    "\n",
    "print(p0.x, p0.x)\n",
    "print(p1.x, p1.x)\n",
    "\n",
    "p1.copy_from(p0)\n",
    "\n",
    "print(p1.x, p1.x)"
   ]
  },
  {
   "cell_type": "markdown",
   "metadata": {},
   "source": [
    "# Special instance methods\n",
    "\n",
    "* There are several special instance methods for implementing additional functionality in objects.\n",
    "* **__init__** is one of them.\n",
    "* **__str__** is used when an object is printed with the **print()** function.\n",
    "\n",
    "Using **print()** on an instance without an **__str__** method will produce the following output:"
   ]
  },
  {
   "cell_type": "code",
   "execution_count": 37,
   "metadata": {},
   "outputs": [
    {
     "name": "stdout",
     "output_type": "stream",
     "text": [
      "<__main__.Point object at 0x0000024BA97A4F28>\n"
     ]
    }
   ],
   "source": [
    "p = Point()\n",
    "print(p)"
   ]
  },
  {
   "cell_type": "markdown",
   "metadata": {},
   "source": [
    "It would be nicer if the point could print itself in bit more presentable way."
   ]
  },
  {
   "cell_type": "code",
   "execution_count": 38,
   "metadata": {},
   "outputs": [],
   "source": [
    "class Point:\n",
    "    def __init__(self, x=0.0, y=0.0):\n",
    "        self.__x = x\n",
    "        self.__y = y\n",
    "    \n",
    "    def set_x(self, x):\n",
    "        self.__x = x\n",
    "    \n",
    "    def set_y(self, y):\n",
    "        self.__y = y\n",
    "    \n",
    "    def set(self, x, y):\n",
    "        self.__x = x\n",
    "        self.__y = y\n",
    "    \n",
    "    def get_x(self):\n",
    "        return self.__x\n",
    "    \n",
    "    def get_y(self):\n",
    "        return self.__y\n",
    "    \n",
    "    def move(self, dx, dy): \n",
    "        self.__x += dx\n",
    "        self.__y += dy\n",
    "        \n",
    "    def copy_from(self, p):\n",
    "        self.__x = p.x\n",
    "        self.__y = p.y\n",
    "        \n",
    "    def __str__(self): # <---- New __str__ method\n",
    "        return \"Point(\"+str(self.__x)+\", \"+str(self.__y)+\")\"\n",
    "    \n",
    "    x = property(get_x, set_x)\n",
    "    y = property(get_y, set_y)"
   ]
  },
  {
   "cell_type": "markdown",
   "metadata": {},
   "source": [
    "Using the same code we now get the following output:"
   ]
  },
  {
   "cell_type": "code",
   "execution_count": 39,
   "metadata": {},
   "outputs": [
    {
     "name": "stdout",
     "output_type": "stream",
     "text": [
      "Point(42.0, 84.0)\n"
     ]
    }
   ],
   "source": [
    "p = Point()\n",
    "\n",
    "p.x = 42.0\n",
    "p.y = 84.0\n",
    "\n",
    "print(p)"
   ]
  },
  {
   "cell_type": "markdown",
   "metadata": {},
   "source": [
    "## Classes as datatypes\n",
    "\n",
    "* Classes can be used as any datatype in Python\n",
    "* instances can be stored in lists and indices like any other Python datatype\n",
    "\n",
    "A list of Point-objects can be created as in the following code:"
   ]
  },
  {
   "cell_type": "code",
   "execution_count": 40,
   "metadata": {},
   "outputs": [],
   "source": [
    "import random\n",
    "\n",
    "points = []\n",
    "\n",
    "for i in range(10):\n",
    "    points.append(Point(random.random(), random.random()))"
   ]
  },
  {
   "cell_type": "markdown",
   "metadata": {},
   "source": [
    "Alternatively"
   ]
  },
  {
   "cell_type": "code",
   "execution_count": 41,
   "metadata": {},
   "outputs": [],
   "source": [
    "points = [Point(random.random(), random.random()) for i in range(10)]"
   ]
  },
  {
   "cell_type": "markdown",
   "metadata": {},
   "source": [
    "As the **Point**-class has a **__str__** method, the list can be easily printed:"
   ]
  },
  {
   "cell_type": "code",
   "execution_count": 42,
   "metadata": {},
   "outputs": [
    {
     "name": "stdout",
     "output_type": "stream",
     "text": [
      "Point(0.9246002835245768, 0.16000875112444846)\n",
      "Point(0.19526438123976098, 0.4458145464708487)\n",
      "Point(0.12051057382905406, 0.8514923588118208)\n",
      "Point(0.25420362670474383, 0.7131546673283864)\n",
      "Point(0.6038313395355955, 0.7878376852393629)\n",
      "Point(0.852307735200898, 0.5391750608285241)\n",
      "Point(0.19883895783391314, 0.2554385340417762)\n",
      "Point(0.5636025712662125, 0.7711354411754426)\n",
      "Point(0.8921560866916611, 0.946989932349628)\n",
      "Point(0.1810620238579852, 0.013020289694900211)\n"
     ]
    }
   ],
   "source": [
    "for p in points:\n",
    "    print(p)"
   ]
  },
  {
   "cell_type": "markdown",
   "metadata": {},
   "source": [
    "Variable references work just in the same way as for existing Python datatypes:"
   ]
  },
  {
   "cell_type": "code",
   "execution_count": 43,
   "metadata": {},
   "outputs": [
    {
     "name": "stdout",
     "output_type": "stream",
     "text": [
      "2523989191032\n",
      "2523989190976\n",
      "2523989191032\n",
      "2523989190976\n"
     ]
    }
   ],
   "source": [
    "p0 = Point(0.0, 0.0)\n",
    "p1 = Point(1.0, 2.0)\n",
    "\n",
    "p2 = p0\n",
    "p3 = p1\n",
    "\n",
    "print(id(p0))\n",
    "print(id(p1))\n",
    "print(id(p2))\n",
    "print(id(p3))"
   ]
  },
  {
   "cell_type": "markdown",
   "metadata": {},
   "source": [
    "# Inheritance\n",
    "\n",
    "* New classes can be created inheriting existing functionality\n",
    "* Reduces complexity in new classes by only adding functionality\n",
    "* Existing code can be resused. \n",
    "\n",
    "Inheritance is specified in a parentesis after the class name in the definition. In the following example we create a new class **Circle** that inherits functionality from the **Point** class and adds a radius attribute:"
   ]
  },
  {
   "cell_type": "code",
   "execution_count": 44,
   "metadata": {},
   "outputs": [],
   "source": [
    "class Circle(Point):\n",
    "    def __init__(self, x=0.0, y=0.0, r=1.0):\n",
    "        super().__init__(x, y) # <--- Call inherited constructor of Point-class\n",
    "        self._r = r\n",
    "    \n",
    "    def set_r(self, r):\n",
    "        self._r = r\n",
    "    \n",
    "    def get_r(self):\n",
    "        return self._r\n",
    "    \n",
    "    def copy_from(self, c):\n",
    "        super().copy_from(c)\n",
    "        self.r = c.r\n",
    "    \n",
    "    def __str__(self):\n",
    "        return \"Circle(\"+str(self.x)+\", \"+str(self.y)+\", \"+str(self._r)+\")\"\n",
    "\n",
    "    r = property(get_r, set_r)"
   ]
  },
  {
   "cell_type": "markdown",
   "metadata": {},
   "source": [
    "We can now use the class as in the following example:"
   ]
  },
  {
   "cell_type": "code",
   "execution_count": 45,
   "metadata": {},
   "outputs": [
    {
     "name": "stdout",
     "output_type": "stream",
     "text": [
      "Point(2.0, 3.0)\n",
      "Circle(3.0, 5.0, 10.0)\n"
     ]
    }
   ],
   "source": [
    "p = Point(1.0, 2.0)\n",
    "c = Circle(2.0, 4.0, 8.0)\n",
    "\n",
    "c.r = 10.0\n",
    "\n",
    "p.move(1.0, 1.0)\n",
    "c.move(1.0, 1.0)\n",
    "\n",
    "print(p)\n",
    "print(c)"
   ]
  },
  {
   "cell_type": "markdown",
   "metadata": {},
   "source": [
    "# Composite objects\n",
    "\n",
    "* In many cases objects will consist of other objects or references to objects\n",
    "* These kind of objects are referred as composite objects.\n",
    "\n",
    "Typical example is a Line-class implementing a line between two **Point** instances:"
   ]
  },
  {
   "cell_type": "code",
   "execution_count": 46,
   "metadata": {},
   "outputs": [],
   "source": [
    "class Line:\n",
    "    def __init__(self):\n",
    "        self.__p0 = Point()\n",
    "        self.__p1 = Point()\n",
    "    \n",
    "    def get_p0(self):\n",
    "        return self.__p0\n",
    "\n",
    "    def get_p1(self):\n",
    "        return self.__p1\n",
    "    \n",
    "    def __str__(self):\n",
    "        return \"Line from: \" + str(self.__p0) + \" to \" + str(self.__p1)\n",
    "\n",
    "    p0 = property(get_p0)\n",
    "    p1 = property(get_p1)"
   ]
  },
  {
   "cell_type": "markdown",
   "metadata": {},
   "source": [
    "NOTE: The Line does not inherit from **Point**. It only references **Point** instances. The line object is used as follows:"
   ]
  },
  {
   "cell_type": "code",
   "execution_count": 47,
   "metadata": {},
   "outputs": [
    {
     "name": "stdout",
     "output_type": "stream",
     "text": [
      "Line from: Point(0.0, 2.0) to Point(3.0, 4.0)\n"
     ]
    }
   ],
   "source": [
    "line = Line()\n",
    "line.p0.x = 0.0\n",
    "line.p0.y = 2.0\n",
    "line.p1.x = 3.0\n",
    "line.p1.y = 4.0\n",
    "print(line)"
   ]
  },
  {
   "cell_type": "markdown",
   "metadata": {},
   "source": [
    "In this example the **Point** instances can't be modified as access are only allowed through the **get_p0()** and **get_p1()** methods. \n",
    "\n",
    "It would also be possible to modify the class to enable assigning **Point** instances to the **p0** and **p1** properties:"
   ]
  },
  {
   "cell_type": "code",
   "execution_count": 48,
   "metadata": {},
   "outputs": [],
   "source": [
    "class Line:\n",
    "    def __init__(self):\n",
    "        self.__p0 = Point()\n",
    "        self.__p1 = Point()\n",
    "    \n",
    "    def get_p0(self):\n",
    "        return self.__p0\n",
    "\n",
    "    def get_p1(self):\n",
    "        return self.__p1\n",
    "    \n",
    "    def set_p0(self, p):\n",
    "        self.__p0 = p\n",
    "        \n",
    "    def set_p1(self, p):\n",
    "        self.__p1 = p\n",
    "    \n",
    "    def __str__(self):\n",
    "        return \"Line from: \" + str(self.__p0) + \" to \" + str(self.__p1)\n",
    "\n",
    "    p0 = property(get_p0, set_p0)\n",
    "    p1 = property(get_p1, set_p1)"
   ]
  },
  {
   "cell_type": "markdown",
   "metadata": {},
   "source": [
    "The class can now be used in the following way:"
   ]
  },
  {
   "cell_type": "code",
   "execution_count": 49,
   "metadata": {},
   "outputs": [
    {
     "name": "stdout",
     "output_type": "stream",
     "text": [
      "Line from: Point(0.0, 2.0) to Point(3.0, 4.0)\n",
      "Line from: Point(5.0, 5.0) to Point(10.0, 10.0)\n"
     ]
    }
   ],
   "source": [
    "line = Line()\n",
    "line.p0.x = 0.0\n",
    "line.p0.y = 2.0\n",
    "line.p1.x = 3.0\n",
    "line.p1.y = 4.0\n",
    "\n",
    "print(line)\n",
    "\n",
    "p3 = Point(5.0, 5.0)\n",
    "p4 = Point(10.0, 10.0)\n",
    "line.p0 = p3\n",
    "line.p1 = p4\n",
    "\n",
    "print(line)"
   ]
  },
  {
   "cell_type": "markdown",
   "metadata": {},
   "source": [
    "A method for calculating the length of the line can easily be added:"
   ]
  },
  {
   "cell_type": "code",
   "execution_count": 50,
   "metadata": {},
   "outputs": [],
   "source": [
    "import math\n",
    "\n",
    "class Line:\n",
    "    def __init__(self):\n",
    "        self.__p0 = Point()\n",
    "        self.__p1 = Point()\n",
    "    \n",
    "    def get_p0(self):\n",
    "        return self.__p0\n",
    "\n",
    "    def get_p1(self):\n",
    "        return self.__p1\n",
    "    \n",
    "    def set_p0(self, p):\n",
    "        self.__p0 = p\n",
    "        \n",
    "    def set_p1(self, p):\n",
    "        self.__p1 = p\n",
    "        \n",
    "    def length(self):\n",
    "        return math.sqrt(math.pow(self.p1.x - self.p0.x, 2) +\n",
    "            math.pow(self.p1.y - self.p0.y, 2))        \n",
    "    \n",
    "    def __str__(self):\n",
    "        return \"Line from: \" + str(self.__p0) + \" to \" + str(self.__p1)\n",
    "\n",
    "    p0 = property(get_p0, set_p0)\n",
    "    p1 = property(get_p1, set_p1)"
   ]
  },
  {
   "cell_type": "markdown",
   "metadata": {},
   "source": [
    "Example:"
   ]
  },
  {
   "cell_type": "code",
   "execution_count": 51,
   "metadata": {},
   "outputs": [
    {
     "name": "stdout",
     "output_type": "stream",
     "text": [
      "3.605551275463989\n"
     ]
    }
   ],
   "source": [
    "line = Line()\n",
    "line.p0.x = 0.0\n",
    "line.p0.y = 2.0\n",
    "line.p1.x = 3.0\n",
    "line.p1.y = 4.0\n",
    "\n",
    "print(line.length())"
   ]
  },
  {
   "cell_type": "markdown",
   "metadata": {},
   "source": [
    "# Polymorphism\n",
    "\n",
    "* Enables Python to call the correct method depending on the actual instance type\n",
    "* If a method is not availble in the instance, a method in the inherited class will be called.\n",
    "* Polymorphism enable us to handle mixture of objects instances using the same methods, but implemented differently in different class types\n",
    "\n",
    "Example:"
   ]
  },
  {
   "cell_type": "code",
   "execution_count": 52,
   "metadata": {},
   "outputs": [
    {
     "name": "stdout",
     "output_type": "stream",
     "text": [
      "Point(0.0, 1.0)\n",
      "Circle(2.0, 1.0, 3.0)\n",
      "Line from: Point(0.0, 0.0) to Point(0.0, 0.0)\n",
      "42.0\n"
     ]
    }
   ],
   "source": [
    "shapes = []\n",
    "\n",
    "shapes.append(Point(0.0, 1.0))\n",
    "shapes.append(Circle(2.0, 1.0, 3.0))\n",
    "shapes.append(Line())\n",
    "shapes.append(42.0)\n",
    "\n",
    "for shape in shapes:\n",
    "    print(shape)"
   ]
  },
  {
   "cell_type": "markdown",
   "metadata": {},
   "source": [
    "What does actuall print(42.0) mean?"
   ]
  },
  {
   "cell_type": "code",
   "execution_count": 53,
   "metadata": {},
   "outputs": [
    {
     "name": "stdout",
     "output_type": "stream",
     "text": [
      "42.0\n"
     ]
    }
   ],
   "source": [
    "print(42.0.__str__())"
   ]
  }
 ],
 "metadata": {
  "anaconda-cloud": {},
  "kernelspec": {
   "display_name": "Python 3",
   "language": "python",
   "name": "python3"
  },
  "language_info": {
   "codemirror_mode": {
    "name": "ipython",
    "version": 3
   },
   "file_extension": ".py",
   "mimetype": "text/x-python",
   "name": "python",
   "nbconvert_exporter": "python",
   "pygments_lexer": "ipython3",
   "version": "3.6.8"
  }
 },
 "nbformat": 4,
 "nbformat_minor": 1
}
