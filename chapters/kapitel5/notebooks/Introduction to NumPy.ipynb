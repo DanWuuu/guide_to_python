{
  "nbformat": 4,
  "nbformat_minor": 0,
  "metadata": {
    "colab": {
      "name": "Introduction to NumPy.ipynb",
      "version": "0.3.2",
      "provenance": [],
      "toc_visible": true
    },
    "language_info": {
      "codemirror_mode": {
        "name": "ipython",
        "version": 3
      },
      "file_extension": ".py",
      "mimetype": "text/x-python",
      "name": "python",
      "nbconvert_exporter": "python",
      "pygments_lexer": "ipython3",
      "version": "3.6.5"
    },
    "kernelspec": {
      "display_name": "Python 3",
      "language": "python",
      "name": "python3"
    }
  },
  "cells": [
    {
      "metadata": {
        "id": "PHQIhI4AJ_En",
        "colab_type": "text"
      },
      "cell_type": "markdown",
      "source": [
        "# Om NumPy\n",
        "\n",
        "* Python-tillägg för att hantera stora arrayer av samma datatyper.\n",
        "  * Vektorer\n",
        "  * Matriser\n",
        "  * ...\n",
        "* Normala datastrukturer i Python är flexibla, men för långsamma för numeriska operationer."
      ]
    },
    {
      "metadata": {
        "id": "6X5eYkzaJ_Ew",
        "colab_type": "text"
      },
      "cell_type": "markdown",
      "source": [
        "# Använda NumPy\n",
        "\n",
        "NumPy importeras enligt följande konvention."
      ]
    },
    {
      "metadata": {
        "id": "ibj88ipqJ_Ez",
        "colab_type": "code",
        "colab": {}
      },
      "cell_type": "code",
      "source": [
        "import numpy as np"
      ],
      "execution_count": 0,
      "outputs": []
    },
    {
      "metadata": {
        "id": "vu5lluaiJ_E_",
        "colab_type": "text"
      },
      "cell_type": "markdown",
      "source": [
        "Anledningen till att vi inte bara importerar **numpy** utan importerar den som **np** är för att slippa skriva **numpy.** framför varje sats eller uttryck vi skriver. Det är inte heller rekommenderat att använda **from** för att importera NumPy eftersom det kan krocka med andra funktioner i Python.\n"
      ]
    },
    {
      "metadata": {
        "id": "CGA6ivkiJ_FB",
        "colab_type": "text"
      },
      "cell_type": "markdown",
      "source": [
        "# Array-objekt\n",
        "\n",
        "Array-objektet är den huvudsakliga datatype in NumPy. För att vara effektiva vid numeriska operationer allokeras alla array-objekt som kontinuerliga block av värden i minnet.\n"
      ]
    },
    {
      "metadata": {
        "id": "6wiX2ti8J_FF",
        "colab_type": "text"
      },
      "cell_type": "markdown",
      "source": [
        "## Skapa array-objekt\n",
        "\n",
        "Nya array-objekt kan skapas med **np.array()**-funktionen. Första argumentet innehåller en lista eller en nästlad lista med värden. Sista argumentet anger datatypen för arrayen.\n"
      ]
    },
    {
      "metadata": {
        "id": "-OCYjJq8J_FH",
        "colab_type": "code",
        "colab": {
          "base_uri": "https://localhost:8080/",
          "height": 35
        },
        "outputId": "3fcfe39e-4610-4ff6-883b-f9ee63d5487f"
      },
      "cell_type": "code",
      "source": [
        "a = np.array([1, 2, 3], float)\n",
        "print(a)"
      ],
      "execution_count": 2,
      "outputs": [
        {
          "output_type": "stream",
          "text": [
            "[1. 2. 3.]\n"
          ],
          "name": "stdout"
        }
      ]
    },
    {
      "metadata": {
        "id": "zuyOQTPTJ_FS",
        "colab_type": "text"
      },
      "cell_type": "markdown",
      "source": [
        "Om ingen datatyp anges kommer NumPy att definiera datatypen beroende på vad anges som indata till funktionen."
      ]
    },
    {
      "metadata": {
        "id": "8PpHYLOTJ_FU",
        "colab_type": "code",
        "colab": {
          "base_uri": "https://localhost:8080/",
          "height": 35
        },
        "outputId": "4a9c1797-3189-4ece-d54a-927cd1a35f08"
      },
      "cell_type": "code",
      "source": [
        "a = np.array([1, 2, 3])\n",
        "print(a)"
      ],
      "execution_count": 3,
      "outputs": [
        {
          "output_type": "stream",
          "text": [
            "[1 2 3]\n"
          ],
          "name": "stdout"
        }
      ]
    },
    {
      "metadata": {
        "id": "IjC2QvEMJ_Fe",
        "colab_type": "code",
        "colab": {
          "base_uri": "https://localhost:8080/",
          "height": 35
        },
        "outputId": "e199e5c8-d416-4ce5-84cd-0ff7b23ad40e"
      },
      "cell_type": "code",
      "source": [
        "a = np.array([1.0, 2.0, 3.0])\n",
        "print(a)"
      ],
      "execution_count": 4,
      "outputs": [
        {
          "output_type": "stream",
          "text": [
            "[1. 2. 3.]\n"
          ],
          "name": "stdout"
        }
      ]
    },
    {
      "metadata": {
        "id": "5l4jMjXiJ_Fn",
        "colab_type": "text"
      },
      "cell_type": "markdown",
      "source": [
        "Jämfört med listor kan array-objekt bara innehålla värden av samma typ."
      ]
    },
    {
      "metadata": {
        "id": "UADr91iyJ_Fr",
        "colab_type": "text"
      },
      "cell_type": "markdown",
      "source": [
        "### Flerdimensionella arrayer"
      ]
    },
    {
      "metadata": {
        "id": "xqI3DpwQJ_Ft",
        "colab_type": "text"
      },
      "cell_type": "markdown",
      "source": [
        "Flerdimensionella arryer kan skapas genom att ange nästlade listor i **np.array()** funktionen.\n"
      ]
    },
    {
      "metadata": {
        "id": "SYm_hUI4J_Fx",
        "colab_type": "code",
        "colab": {
          "base_uri": "https://localhost:8080/",
          "height": 88
        },
        "outputId": "41a1be8a-b20b-4a28-d515-282bb9e9e6f1"
      },
      "cell_type": "code",
      "source": [
        "a = np.array([[1,2],[3,4]])\n",
        "print(a)\n",
        "\n",
        "b = np.array([[1,2,3,4],[5,6,7,8]], float)\n",
        "print(b)"
      ],
      "execution_count": 5,
      "outputs": [
        {
          "output_type": "stream",
          "text": [
            "[[1 2]\n",
            " [3 4]]\n",
            "[[1. 2. 3. 4.]\n",
            " [5. 6. 7. 8.]]\n"
          ],
          "name": "stdout"
        }
      ]
    },
    {
      "metadata": {
        "id": "ym3arjCYJ_F8",
        "colab_type": "text"
      },
      "cell_type": "markdown",
      "source": [
        "## Att använda arrayer"
      ]
    },
    {
      "metadata": {
        "id": "PJz-CpUTJ_GA",
        "colab_type": "text"
      },
      "cell_type": "markdown",
      "source": [
        "Arrays lagras alltid som 1-dimensionella block av värden i minnet. Dimensioner är egentligen bara ett sätt att komma till olika positioner i en 1-dimensionell matris.\n",
        "\n",
        "NumPy lagrar arrayer i minnet rad-vis, vilket också hur C och C++ lagrar tvådimensionella arrayer. Fortran lagrar arrayer kolumnvis. Följande figur visar hur detta sker i minnet:\n",
        "\n",
        "![variable references 1](https://github.com/jonaslindemann/guide_to_python/blob/master/chapters/kapitel5/notebooks/images/array1.png?raw=1)"
      ]
    },
    {
      "metadata": {
        "id": "ICWiq46FJ_GC",
        "colab_type": "text"
      },
      "cell_type": "markdown",
      "source": [
        "### Array information\n",
        "\n",
        "Det finns flera sätt att få information om array-objekt. En av de viktigare egenskaperna är array-objektets form, vilket kan fås genom egenskaper **.shape**.\n",
        "\n"
      ]
    },
    {
      "metadata": {
        "id": "oXSwCceTJ_GJ",
        "colab_type": "code",
        "colab": {
          "base_uri": "https://localhost:8080/",
          "height": 71
        },
        "outputId": "c861e147-6ba5-4131-8dfe-fa5b302d1e3f"
      },
      "cell_type": "code",
      "source": [
        "a = np.array([1,2,3,4])\n",
        "b = np.array([[1,2],[3,4]])\n",
        "c = np.array([[[1,2,3,4],\n",
        "               [5,6,7,8]],\n",
        "              [[1,2,3,4],\n",
        "               [5,6,7,8]]],float)\n",
        "\n",
        "print(a.shape)\n",
        "print(b.shape)\n",
        "print(c.shape)"
      ],
      "execution_count": 6,
      "outputs": [
        {
          "output_type": "stream",
          "text": [
            "(4,)\n",
            "(2, 2)\n",
            "(2, 2, 4)\n"
          ],
          "name": "stdout"
        }
      ]
    },
    {
      "metadata": {
        "id": "fbQaqtoOJ_GR",
        "colab_type": "text"
      },
      "cell_type": "markdown",
      "source": [
        "För tvådimensionella array-objekt kan variabler för antalet rader och kolumner tilldelas genom följande kod:"
      ]
    },
    {
      "metadata": {
        "id": "dPfM8Kq1J_GS",
        "colab_type": "code",
        "colab": {
          "base_uri": "https://localhost:8080/",
          "height": 35
        },
        "outputId": "d983376b-e597-4174-d46e-3ac70b161d4f"
      },
      "cell_type": "code",
      "source": [
        "r, c = b.shape\n",
        "print(r, c)"
      ],
      "execution_count": 7,
      "outputs": [
        {
          "output_type": "stream",
          "text": [
            "2 2\n"
          ],
          "name": "stdout"
        }
      ]
    },
    {
      "metadata": {
        "id": "jzTwhvC_J_GY",
        "colab_type": "text"
      },
      "cell_type": "markdown",
      "source": [
        "Antalet dimensioner för ett array-objekt nås genom egenskapen **.ndim**"
      ]
    },
    {
      "metadata": {
        "id": "IFHVmyVRJ_GZ",
        "colab_type": "code",
        "colab": {
          "base_uri": "https://localhost:8080/",
          "height": 35
        },
        "outputId": "8faae27c-f446-4fe4-aa58-8baf9a4f38d0"
      },
      "cell_type": "code",
      "source": [
        "print(b.ndim)"
      ],
      "execution_count": 8,
      "outputs": [
        {
          "output_type": "stream",
          "text": [
            "2\n"
          ],
          "name": "stdout"
        }
      ]
    },
    {
      "metadata": {
        "id": "xPzVVcbsJ_Gi",
        "colab_type": "text"
      },
      "cell_type": "markdown",
      "source": [
        "Det finns fler andra egenskaper som kan vara intressanta att få ut. Några av dessa visas i följande exempel:\n"
      ]
    },
    {
      "metadata": {
        "id": "jb7YvtmHJ_Gk",
        "colab_type": "code",
        "colab": {
          "base_uri": "https://localhost:8080/",
          "height": 106
        },
        "outputId": "a7ab26dc-ccc9-49f5-a952-01d18c581bb3"
      },
      "cell_type": "code",
      "source": [
        "b = np.array([[1,2],[3,4]])\n",
        "print(\"array shape =\", b.shape) # Size\n",
        "print(\"array ndim =\", b.ndim)   # Number of dimensions\n",
        "print(\"array dtype =\", b.dtype) # Data type\n",
        "print(\"array size =\", b.size)   # Number of elements in the array\n",
        "print(\"array itemsize =\", b.itemsize) # Size of an element in bytes"
      ],
      "execution_count": 9,
      "outputs": [
        {
          "output_type": "stream",
          "text": [
            "array shape = (2, 2)\n",
            "array ndim = 2\n",
            "array dtype = int64\n",
            "array size = 4\n",
            "array itemsize = 8\n"
          ],
          "name": "stdout"
        }
      ]
    },
    {
      "metadata": {
        "id": "AA1BPfnvJ_Gq",
        "colab_type": "text"
      },
      "cell_type": "markdown",
      "source": [
        "### Ändra formen på en array"
      ]
    },
    {
      "metadata": {
        "id": "z73gI02pJ_Gr",
        "colab_type": "text"
      },
      "cell_type": "markdown",
      "source": [
        "**.reshape()** metoden kan användas för att ändra formen på en array. Så länge antalet värden i en array inte ändras kommer NumPy inte att omallkoera minnet för arrayen. För att visa att detta inte sker definierar vi först en funktion som returnerar array-objektes minnesaddress:\n"
      ]
    },
    {
      "metadata": {
        "id": "4zot9DrrJ_Gv",
        "colab_type": "code",
        "colab": {}
      },
      "cell_type": "code",
      "source": [
        "def memory_of(a):\n",
        "    return a.__array_interface__[\"data\"][0]"
      ],
      "execution_count": 0,
      "outputs": []
    },
    {
      "metadata": {
        "id": "nsrql-dmJ_G2",
        "colab_type": "text"
      },
      "cell_type": "markdown",
      "source": [
        "I följande exempel ändrar vi formen på ett array-objekt och undersöker om minnesallokeringen ändras genom detta.\n"
      ]
    },
    {
      "metadata": {
        "id": "cTL5iYeeJ_G5",
        "colab_type": "code",
        "colab": {
          "base_uri": "https://localhost:8080/",
          "height": 160
        },
        "outputId": "312a77fb-2ffb-4698-c6bf-e6b396d912ee"
      },
      "cell_type": "code",
      "source": [
        "a = np.array([[1,2],[3,4]])\n",
        "\n",
        "print(a)\n",
        "print(memory_of(a))\n",
        "\n",
        "a_flat = np.reshape(a, [4,1])\n",
        "\n",
        "print(a_flat)\n",
        "print(memory_of(a_flat))"
      ],
      "execution_count": 11,
      "outputs": [
        {
          "output_type": "stream",
          "text": [
            "[[1 2]\n",
            " [3 4]]\n",
            "28126464\n",
            "[[1]\n",
            " [2]\n",
            " [3]\n",
            " [4]]\n",
            "28126464\n"
          ],
          "name": "stdout"
        }
      ]
    },
    {
      "metadata": {
        "id": "wr4cyXI0J_HL",
        "colab_type": "text"
      },
      "cell_type": "markdown",
      "source": [
        "Vi ser här att minnet för array-objekten inte ändras och både **a** och **a_flat** pekar på samma minnesområde.\n"
      ]
    },
    {
      "metadata": {
        "id": "3lMfsBHEJ_HN",
        "colab_type": "text"
      },
      "cell_type": "markdown",
      "source": [
        "Ändrar man värden i **a** kommer också att ändra värden i **a_flat**\n"
      ]
    },
    {
      "metadata": {
        "id": "rXdFWeWbJ_HR",
        "colab_type": "code",
        "colab": {
          "base_uri": "https://localhost:8080/",
          "height": 124
        },
        "outputId": "4ccda2a0-25c5-40bb-8e88-ff39ee1e8b76"
      },
      "cell_type": "code",
      "source": [
        "a[0,0] = 42\n",
        "\n",
        "print(a)\n",
        "print(a_flat)"
      ],
      "execution_count": 12,
      "outputs": [
        {
          "output_type": "stream",
          "text": [
            "[[42  2]\n",
            " [ 3  4]]\n",
            "[[42]\n",
            " [ 2]\n",
            " [ 3]\n",
            " [ 4]]\n"
          ],
          "name": "stdout"
        }
      ]
    },
    {
      "metadata": {
        "id": "hWgl6jBIJ_Ha",
        "colab_type": "text"
      },
      "cell_type": "markdown",
      "source": [
        "Om man inte är ute efter detta när man gör tilldelningar av arrayer måste man använda metoden **.copy()** för att skapa en kopia av array-objektet.\n"
      ]
    },
    {
      "metadata": {
        "id": "J-vueTobJ_Hd",
        "colab_type": "code",
        "colab": {
          "base_uri": "https://localhost:8080/",
          "height": 124
        },
        "outputId": "7e8cb0bd-b738-4660-ee4e-4bf3028383f2"
      },
      "cell_type": "code",
      "source": [
        "c = a.copy()\n",
        "c[0,0] = 84\n",
        "\n",
        "print(a)\n",
        "print(memory_of(a))\n",
        "\n",
        "print(c)\n",
        "print(memory_of(c))"
      ],
      "execution_count": 13,
      "outputs": [
        {
          "output_type": "stream",
          "text": [
            "[[42  2]\n",
            " [ 3  4]]\n",
            "28126464\n",
            "[[84  2]\n",
            " [ 3  4]]\n",
            "28126496\n"
          ],
          "name": "stdout"
        }
      ]
    },
    {
      "metadata": {
        "id": "zyUsCmayJ_Hn",
        "colab_type": "text"
      },
      "cell_type": "markdown",
      "source": [
        "Nu refererar inte **c** till samma minnes address som **a**.\n"
      ]
    },
    {
      "metadata": {
        "id": "BU-PygH-J_Ho",
        "colab_type": "text"
      },
      "cell_type": "markdown",
      "source": [
        "Fler exempel:\n"
      ]
    },
    {
      "metadata": {
        "id": "PkgKMC6pJ_Hp",
        "colab_type": "code",
        "colab": {
          "base_uri": "https://localhost:8080/",
          "height": 214
        },
        "outputId": "0af8347e-040a-4b1c-9b59-eaa21076d1ad"
      },
      "cell_type": "code",
      "source": [
        "b = np.array([[1,2,3,4],[5,6,7,8]], float)\n",
        "print(b)\n",
        "\n",
        "b_shaped = np.reshape(b, [8,])\n",
        "print(b_shaped)\n",
        "\n",
        "b_shaped = np.reshape(b, [4,2])\n",
        "print(b_shaped)\n",
        "\n",
        "# **Please note** this is not the same as:\n",
        "b_trans = np.transpose(b)\n",
        "print(b_trans)"
      ],
      "execution_count": 14,
      "outputs": [
        {
          "output_type": "stream",
          "text": [
            "[[1. 2. 3. 4.]\n",
            " [5. 6. 7. 8.]]\n",
            "[1. 2. 3. 4. 5. 6. 7. 8.]\n",
            "[[1. 2.]\n",
            " [3. 4.]\n",
            " [5. 6.]\n",
            " [7. 8.]]\n",
            "[[1. 5.]\n",
            " [2. 6.]\n",
            " [3. 7.]\n",
            " [4. 8.]]\n"
          ],
          "name": "stdout"
        }
      ]
    },
    {
      "metadata": {
        "id": "NNaOl9pXJ_Hw",
        "colab_type": "text"
      },
      "cell_type": "markdown",
      "source": [
        "### Ändra storleken på en array"
      ]
    },
    {
      "metadata": {
        "id": "uLspLRPOJ_Hx",
        "colab_type": "text"
      },
      "cell_type": "markdown",
      "source": [
        "**.resize()**-metoden används för att ändra storleken på ett redan existerande array-objekt. Existerande värde kommer att bibehållas i den mån det är möjligt. Nya värden kommer att fyllas med värden från det tidigare array-objektet.\n"
      ]
    },
    {
      "metadata": {
        "id": "MCUb1CTUJ_Hy",
        "colab_type": "code",
        "colab": {
          "base_uri": "https://localhost:8080/",
          "height": 356
        },
        "outputId": "164b9f61-0012-45b2-b36f-d704dc8e85ad"
      },
      "cell_type": "code",
      "source": [
        "base = np.array([[1,2],[3,4]])\n",
        "print(base)\n",
        "\n",
        "big = np.resize(base, [9,9])\n",
        "print(big)\n",
        "\n",
        "big = np.resize(base, [4,4])\n",
        "print(big)\n",
        "\n",
        "big = np.resize(base, [4,2])\n",
        "print(big)"
      ],
      "execution_count": 15,
      "outputs": [
        {
          "output_type": "stream",
          "text": [
            "[[1 2]\n",
            " [3 4]]\n",
            "[[1 2 3 4 1 2 3 4 1]\n",
            " [2 3 4 1 2 3 4 1 2]\n",
            " [3 4 1 2 3 4 1 2 3]\n",
            " [4 1 2 3 4 1 2 3 4]\n",
            " [1 2 3 4 1 2 3 4 1]\n",
            " [2 3 4 1 2 3 4 1 2]\n",
            " [3 4 1 2 3 4 1 2 3]\n",
            " [4 1 2 3 4 1 2 3 4]\n",
            " [1 2 3 4 1 2 3 4 1]]\n",
            "[[1 2 3 4]\n",
            " [1 2 3 4]\n",
            " [1 2 3 4]\n",
            " [1 2 3 4]]\n",
            "[[1 2]\n",
            " [3 4]\n",
            " [1 2]\n",
            " [3 4]]\n"
          ],
          "name": "stdout"
        }
      ]
    },
    {
      "metadata": {
        "id": "tmVaXVWPJ_H3",
        "colab_type": "text"
      },
      "cell_type": "markdown",
      "source": [
        "## Funktioner för att skapa array-objekt"
      ]
    },
    {
      "metadata": {
        "id": "-Ea8gjc6J_H5",
        "colab_type": "text"
      },
      "cell_type": "markdown",
      "source": [
        "I många fall är det omöjligt att skapa arrayer med hjälp av funktionen **np.array()**. För att skapa större arrayer innehåller NumPy ett antal funktioner för att skapa olika typer av arrayer.\n"
      ]
    },
    {
      "metadata": {
        "id": "YTs8leb5J_H7",
        "colab_type": "text"
      },
      "cell_type": "markdown",
      "source": [
        "### Array-objekt med nollor\n",
        "\n",
        "En vanlig typ av array-objekt är en array fylld med nollor. Dessa kan skapas med funktionen **np.zeros()**. Funktionen tar formen på array-objektet som skall skapas som argument samt ett argument för datatypen.\n"
      ]
    },
    {
      "metadata": {
        "id": "mRRlEqL8J_H8",
        "colab_type": "code",
        "colab": {
          "base_uri": "https://localhost:8080/",
          "height": 88
        },
        "outputId": "3eb88ef8-f6ae-446e-dc9e-6401607a364c"
      },
      "cell_type": "code",
      "source": [
        "a = np.zeros([4,4])\n",
        "print(a)"
      ],
      "execution_count": 16,
      "outputs": [
        {
          "output_type": "stream",
          "text": [
            "[[0. 0. 0. 0.]\n",
            " [0. 0. 0. 0.]\n",
            " [0. 0. 0. 0.]\n",
            " [0. 0. 0. 0.]]\n"
          ],
          "name": "stdout"
        }
      ]
    },
    {
      "metadata": {
        "id": "lce4xQZvJ_IG",
        "colab_type": "code",
        "colab": {
          "base_uri": "https://localhost:8080/",
          "height": 88
        },
        "outputId": "117566ae-6df8-49ee-a7bb-d83cd31951e8"
      },
      "cell_type": "code",
      "source": [
        "b = np.zeros([4,4], int)\n",
        "print(b)"
      ],
      "execution_count": 17,
      "outputs": [
        {
          "output_type": "stream",
          "text": [
            "[[0 0 0 0]\n",
            " [0 0 0 0]\n",
            " [0 0 0 0]\n",
            " [0 0 0 0]]\n"
          ],
          "name": "stdout"
        }
      ]
    },
    {
      "metadata": {
        "id": "qRJefnwfJ_IN",
        "colab_type": "text"
      },
      "cell_type": "markdown",
      "source": [
        "### Array-objekt med ettor"
      ]
    },
    {
      "metadata": {
        "id": "2G_IgtjOJ_IN",
        "colab_type": "text"
      },
      "cell_type": "markdown",
      "source": [
        "Arrayer med ettor skapas på samma sätt med funktionen **np.ones()**.\n"
      ]
    },
    {
      "metadata": {
        "id": "3wfOCjbbJ_IP",
        "colab_type": "code",
        "colab": {
          "base_uri": "https://localhost:8080/",
          "height": 106
        },
        "outputId": "a0b633fd-9a27-458d-8b9f-21262652a7e7"
      },
      "cell_type": "code",
      "source": [
        "c = np.ones([5,10], float)\n",
        "print(c)"
      ],
      "execution_count": 18,
      "outputs": [
        {
          "output_type": "stream",
          "text": [
            "[[1. 1. 1. 1. 1. 1. 1. 1. 1. 1.]\n",
            " [1. 1. 1. 1. 1. 1. 1. 1. 1. 1.]\n",
            " [1. 1. 1. 1. 1. 1. 1. 1. 1. 1.]\n",
            " [1. 1. 1. 1. 1. 1. 1. 1. 1. 1.]\n",
            " [1. 1. 1. 1. 1. 1. 1. 1. 1. 1.]]\n"
          ],
          "name": "stdout"
        }
      ]
    },
    {
      "metadata": {
        "id": "QXOh77gfJ_IU",
        "colab_type": "text"
      },
      "cell_type": "markdown",
      "source": [
        "Det är möjligt att med hjälp av **np.ones()** skapa arrayer med ett viss värde:"
      ]
    },
    {
      "metadata": {
        "id": "wpkW8PjwJ_IU",
        "colab_type": "code",
        "colab": {
          "base_uri": "https://localhost:8080/",
          "height": 106
        },
        "outputId": "918fc54c-5019-4ed5-f5d4-ff8c0bc3e88b"
      },
      "cell_type": "code",
      "source": [
        "c = np.ones([5,10], float) * 42.0\n",
        "print(c)"
      ],
      "execution_count": 19,
      "outputs": [
        {
          "output_type": "stream",
          "text": [
            "[[42. 42. 42. 42. 42. 42. 42. 42. 42. 42.]\n",
            " [42. 42. 42. 42. 42. 42. 42. 42. 42. 42.]\n",
            " [42. 42. 42. 42. 42. 42. 42. 42. 42. 42.]\n",
            " [42. 42. 42. 42. 42. 42. 42. 42. 42. 42.]\n",
            " [42. 42. 42. 42. 42. 42. 42. 42. 42. 42.]]\n"
          ],
          "name": "stdout"
        }
      ]
    },
    {
      "metadata": {
        "id": "Vo2LKEtsJ_IY",
        "colab_type": "text"
      },
      "cell_type": "markdown",
      "source": [
        "### Array områden"
      ]
    },
    {
      "metadata": {
        "id": "Eo_8fmJgJ_Ia",
        "colab_type": "text"
      },
      "cell_type": "markdown",
      "source": [
        "I många tillämpningar behöver man skapa array-object med områden av siffervärden. Detta kan göras med funktionen **np.arange()** som påminner om standard python-funktionen **range()**. En array med 10 element och värden från 0 till 9 skapas med:\n"
      ]
    },
    {
      "metadata": {
        "id": "ESEtuFrqJ_Ib",
        "colab_type": "code",
        "colab": {
          "base_uri": "https://localhost:8080/",
          "height": 35
        },
        "outputId": "ad7d394c-e938-4631-bc0f-9da6e78863f8"
      },
      "cell_type": "code",
      "source": [
        "a = np.arange(10)\n",
        "print(a)"
      ],
      "execution_count": 20,
      "outputs": [
        {
          "output_type": "stream",
          "text": [
            "[0 1 2 3 4 5 6 7 8 9]\n"
          ],
          "name": "stdout"
        }
      ]
    },
    {
      "metadata": {
        "id": "pu_ZgJ71J_Ie",
        "colab_type": "text"
      },
      "cell_type": "markdown",
      "source": [
        "Genom att kombinera **np.arange()** med **np.reshape()** är det möjligt att skapa olika array-objekt fyllda med värdeområden:\n"
      ]
    },
    {
      "metadata": {
        "id": "UYStj7p-J_If",
        "colab_type": "code",
        "colab": {
          "base_uri": "https://localhost:8080/",
          "height": 196
        },
        "outputId": "ea97e7ab-87ba-4bc0-c514-f48188368773"
      },
      "cell_type": "code",
      "source": [
        "b = np.reshape(np.arange(100), [10,10])\n",
        "print(b)"
      ],
      "execution_count": 21,
      "outputs": [
        {
          "output_type": "stream",
          "text": [
            "[[ 0  1  2  3  4  5  6  7  8  9]\n",
            " [10 11 12 13 14 15 16 17 18 19]\n",
            " [20 21 22 23 24 25 26 27 28 29]\n",
            " [30 31 32 33 34 35 36 37 38 39]\n",
            " [40 41 42 43 44 45 46 47 48 49]\n",
            " [50 51 52 53 54 55 56 57 58 59]\n",
            " [60 61 62 63 64 65 66 67 68 69]\n",
            " [70 71 72 73 74 75 76 77 78 79]\n",
            " [80 81 82 83 84 85 86 87 88 89]\n",
            " [90 91 92 93 94 95 96 97 98 99]]\n"
          ],
          "name": "stdout"
        }
      ]
    },
    {
      "metadata": {
        "id": "zEj1UlvDJ_Im",
        "colab_type": "text"
      },
      "cell_type": "markdown",
      "source": [
        "Det är möjlig att ge start, slut och steglängd precis som **range()**-funktionen\n"
      ]
    },
    {
      "metadata": {
        "id": "uy-Ae4qJJ_Im",
        "colab_type": "code",
        "colab": {
          "base_uri": "https://localhost:8080/",
          "height": 71
        },
        "outputId": "9cd36cf8-64fb-4678-d4ea-649ea1e146b1"
      },
      "cell_type": "code",
      "source": [
        "a = np.arange(-10,10)\n",
        "print(a)\n",
        "\n",
        "a = np.arange(-10,10,2)\n",
        "print(a)"
      ],
      "execution_count": 22,
      "outputs": [
        {
          "output_type": "stream",
          "text": [
            "[-10  -9  -8  -7  -6  -5  -4  -3  -2  -1   0   1   2   3   4   5   6   7\n",
            "   8   9]\n",
            "[-10  -8  -6  -4  -2   0   2   4   6   8]\n"
          ],
          "name": "stdout"
        }
      ]
    },
    {
      "metadata": {
        "id": "ao-Sy50FJ_Iv",
        "colab_type": "text"
      },
      "cell_type": "markdown",
      "source": [
        "Precis som för **np.array()** är det också möjligt att ange datatyp för områdes-arrayen.\n"
      ]
    },
    {
      "metadata": {
        "id": "wm9o2koCJ_Iv",
        "colab_type": "code",
        "colab": {
          "base_uri": "https://localhost:8080/",
          "height": 35
        },
        "outputId": "13d276e5-da16-4876-e261-6f1f338a86d9"
      },
      "cell_type": "code",
      "source": [
        "a = np.arange(-10,10,2, dtype=float)\n",
        "print(a)"
      ],
      "execution_count": 23,
      "outputs": [
        {
          "output_type": "stream",
          "text": [
            "[-10.  -8.  -6.  -4.  -2.   0.   2.   4.   6.   8.]\n"
          ],
          "name": "stdout"
        }
      ]
    },
    {
      "metadata": {
        "id": "IBcFF1p6J_I4",
        "colab_type": "text"
      },
      "cell_type": "markdown",
      "source": [
        "### Indentitetsarrayer"
      ]
    },
    {
      "metadata": {
        "id": "SG7GCi1wJ_I9",
        "colab_type": "text"
      },
      "cell_type": "markdown",
      "source": [
        "En annan vanlig array-typ är identitetsmatrisen. Denna kan lätt skapas med funktionen **np.identity()**-funktionen. Funktionen tar storleken som indata samt en valfritt argument för datatypen.\n"
      ]
    },
    {
      "metadata": {
        "id": "StkWZMyhJ_I-",
        "colab_type": "code",
        "colab": {
          "base_uri": "https://localhost:8080/",
          "height": 196
        },
        "outputId": "fd941e9f-5d00-4962-dfdf-6742bed2ce48"
      },
      "cell_type": "code",
      "source": [
        "i = np.identity(10)\n",
        "print(i)"
      ],
      "execution_count": 24,
      "outputs": [
        {
          "output_type": "stream",
          "text": [
            "[[1. 0. 0. 0. 0. 0. 0. 0. 0. 0.]\n",
            " [0. 1. 0. 0. 0. 0. 0. 0. 0. 0.]\n",
            " [0. 0. 1. 0. 0. 0. 0. 0. 0. 0.]\n",
            " [0. 0. 0. 1. 0. 0. 0. 0. 0. 0.]\n",
            " [0. 0. 0. 0. 1. 0. 0. 0. 0. 0.]\n",
            " [0. 0. 0. 0. 0. 1. 0. 0. 0. 0.]\n",
            " [0. 0. 0. 0. 0. 0. 1. 0. 0. 0.]\n",
            " [0. 0. 0. 0. 0. 0. 0. 1. 0. 0.]\n",
            " [0. 0. 0. 0. 0. 0. 0. 0. 1. 0.]\n",
            " [0. 0. 0. 0. 0. 0. 0. 0. 0. 1.]]\n"
          ],
          "name": "stdout"
        }
      ]
    },
    {
      "metadata": {
        "id": "pjQdYIDEJ_JD",
        "colab_type": "text"
      },
      "cell_type": "markdown",
      "source": [
        "### Array-objekt med linjär variation"
      ]
    },
    {
      "metadata": {
        "id": "Co7H18fqJ_JF",
        "colab_type": "text"
      },
      "cell_type": "markdown",
      "source": [
        "**np.arange()** fungerar bäst om området är heltal. Om man behöver ett mer precist område är det bättre att använda funktionen **np.linspace()**. Funktionen tar start, slutvärde och antalet värden i array-objektet som indata. Värdena mellan start och slutvärde interpoleras av funktionen.\n"
      ]
    },
    {
      "metadata": {
        "id": "rWXVzlERJ_JG",
        "colab_type": "code",
        "colab": {
          "base_uri": "https://localhost:8080/",
          "height": 124
        },
        "outputId": "e229cc03-2757-4439-9ccf-e79c7b1fb203"
      },
      "cell_type": "code",
      "source": [
        "x = np.linspace(0,1.0,10)\n",
        "print(x)\n",
        "\n",
        "x = np.linspace(0,1.0,20)\n",
        "print(x)"
      ],
      "execution_count": 25,
      "outputs": [
        {
          "output_type": "stream",
          "text": [
            "[0.         0.11111111 0.22222222 0.33333333 0.44444444 0.55555556\n",
            " 0.66666667 0.77777778 0.88888889 1.        ]\n",
            "[0.         0.05263158 0.10526316 0.15789474 0.21052632 0.26315789\n",
            " 0.31578947 0.36842105 0.42105263 0.47368421 0.52631579 0.57894737\n",
            " 0.63157895 0.68421053 0.73684211 0.78947368 0.84210526 0.89473684\n",
            " 0.94736842 1.        ]\n"
          ],
          "name": "stdout"
        }
      ]
    },
    {
      "metadata": {
        "id": "xNwJ2m91J_JK",
        "colab_type": "text"
      },
      "cell_type": "markdown",
      "source": [
        "# Array uttryck"
      ]
    },
    {
      "metadata": {
        "id": "a8ASQBsZJ_JM",
        "colab_type": "text"
      },
      "cell_type": "markdown",
      "source": [
        "Alla Python operatorer kan användas med arrayer. Alla operationer utförs elementvis på värdena i array-objektet.\n"
      ]
    },
    {
      "metadata": {
        "id": "YA5haTJZJ_JO",
        "colab_type": "code",
        "colab": {
          "base_uri": "https://localhost:8080/",
          "height": 106
        },
        "outputId": "28d6b107-5889-4bfa-868f-fb873f637878"
      },
      "cell_type": "code",
      "source": [
        "a = np.arange(25).reshape([5,5])\n",
        "print(a)"
      ],
      "execution_count": 26,
      "outputs": [
        {
          "output_type": "stream",
          "text": [
            "[[ 0  1  2  3  4]\n",
            " [ 5  6  7  8  9]\n",
            " [10 11 12 13 14]\n",
            " [15 16 17 18 19]\n",
            " [20 21 22 23 24]]\n"
          ],
          "name": "stdout"
        }
      ]
    },
    {
      "metadata": {
        "id": "bAbHiNE9J_Ji",
        "colab_type": "text"
      },
      "cell_type": "markdown",
      "source": [
        "Elementvis addition:\n"
      ]
    },
    {
      "metadata": {
        "id": "zIwSF3DeJ_Ji",
        "colab_type": "code",
        "colab": {
          "base_uri": "https://localhost:8080/",
          "height": 106
        },
        "outputId": "967e43b7-8306-41be-f34a-99608cef26f0"
      },
      "cell_type": "code",
      "source": [
        "print(a+3)"
      ],
      "execution_count": 27,
      "outputs": [
        {
          "output_type": "stream",
          "text": [
            "[[ 3  4  5  6  7]\n",
            " [ 8  9 10 11 12]\n",
            " [13 14 15 16 17]\n",
            " [18 19 20 21 22]\n",
            " [23 24 25 26 27]]\n"
          ],
          "name": "stdout"
        }
      ]
    },
    {
      "metadata": {
        "id": "-UGWtGirJ_Jo",
        "colab_type": "text"
      },
      "cell_type": "markdown",
      "source": [
        "Elementvis multiplikation:\n"
      ]
    },
    {
      "metadata": {
        "id": "LVzBua0bJ_Jp",
        "colab_type": "code",
        "colab": {
          "base_uri": "https://localhost:8080/",
          "height": 106
        },
        "outputId": "e82a11dc-082f-40a7-a4d3-f920bdb43a06"
      },
      "cell_type": "code",
      "source": [
        "print(a*3)"
      ],
      "execution_count": 28,
      "outputs": [
        {
          "output_type": "stream",
          "text": [
            "[[ 0  3  6  9 12]\n",
            " [15 18 21 24 27]\n",
            " [30 33 36 39 42]\n",
            " [45 48 51 54 57]\n",
            " [60 63 66 69 72]]\n"
          ],
          "name": "stdout"
        }
      ]
    },
    {
      "metadata": {
        "id": "GJ9oyiLzJ_Jt",
        "colab_type": "text"
      },
      "cell_type": "markdown",
      "source": [
        "Det går också att använda det vanliga matematiska funktionerna på array-objekt:\n"
      ]
    },
    {
      "metadata": {
        "id": "6wcJWlHyJ_Ju",
        "colab_type": "code",
        "colab": {
          "base_uri": "https://localhost:8080/",
          "height": 106
        },
        "outputId": "f35a1499-d50a-48ed-9d7c-2ce1aadc2f16"
      },
      "cell_type": "code",
      "source": [
        "print(np.sin(a))"
      ],
      "execution_count": 29,
      "outputs": [
        {
          "output_type": "stream",
          "text": [
            "[[ 0.          0.84147098  0.90929743  0.14112001 -0.7568025 ]\n",
            " [-0.95892427 -0.2794155   0.6569866   0.98935825  0.41211849]\n",
            " [-0.54402111 -0.99999021 -0.53657292  0.42016704  0.99060736]\n",
            " [ 0.65028784 -0.28790332 -0.96139749 -0.75098725  0.14987721]\n",
            " [ 0.91294525  0.83665564 -0.00885131 -0.8462204  -0.90557836]]\n"
          ],
          "name": "stdout"
        }
      ]
    },
    {
      "metadata": {
        "id": "cgzaPjfKJ_J1",
        "colab_type": "text"
      },
      "cell_type": "markdown",
      "source": [
        "Negation:"
      ]
    },
    {
      "metadata": {
        "id": "QJ_tlH4IJ_J2",
        "colab_type": "code",
        "colab": {
          "base_uri": "https://localhost:8080/",
          "height": 106
        },
        "outputId": "f3425c5f-2547-437a-f405-fae16447f6a7"
      },
      "cell_type": "code",
      "source": [
        "print(-a)"
      ],
      "execution_count": 30,
      "outputs": [
        {
          "output_type": "stream",
          "text": [
            "[[  0  -1  -2  -3  -4]\n",
            " [ -5  -6  -7  -8  -9]\n",
            " [-10 -11 -12 -13 -14]\n",
            " [-15 -16 -17 -18 -19]\n",
            " [-20 -21 -22 -23 -24]]\n"
          ],
          "name": "stdout"
        }
      ]
    },
    {
      "metadata": {
        "id": "ZL_H60n1J_J6",
        "colab_type": "text"
      },
      "cell_type": "markdown",
      "source": [
        "Det går också att använda operatorerna mellan olika array-objekt:\n"
      ]
    },
    {
      "metadata": {
        "id": "M998URqBJ_J6",
        "colab_type": "code",
        "colab": {
          "base_uri": "https://localhost:8080/",
          "height": 106
        },
        "outputId": "0c2a45a2-5ee9-43e4-ce6c-baf98df67d7a"
      },
      "cell_type": "code",
      "source": [
        "print(a+a)"
      ],
      "execution_count": 31,
      "outputs": [
        {
          "output_type": "stream",
          "text": [
            "[[ 0  2  4  6  8]\n",
            " [10 12 14 16 18]\n",
            " [20 22 24 26 28]\n",
            " [30 32 34 36 38]\n",
            " [40 42 44 46 48]]\n"
          ],
          "name": "stdout"
        }
      ]
    },
    {
      "metadata": {
        "id": "xPSJG80_J_J-",
        "colab_type": "text"
      },
      "cell_type": "markdown",
      "source": [
        "Array-storlekarna behäver inte vara samma. Operationerna på den mindre arrayen kommer att upprepas på den större arrayen:\n"
      ]
    },
    {
      "metadata": {
        "id": "uWIQ0TWJJ_KA",
        "colab_type": "code",
        "colab": {
          "base_uri": "https://localhost:8080/",
          "height": 214
        },
        "outputId": "2f6e5904-0786-4b2c-a79c-4b23fd748b32"
      },
      "cell_type": "code",
      "source": [
        "a = np.array([1,2,3]) \n",
        "b = np.ones([5,3])\n",
        "print(a)\n",
        "print(b)\n",
        "print(a+b)"
      ],
      "execution_count": 32,
      "outputs": [
        {
          "output_type": "stream",
          "text": [
            "[1 2 3]\n",
            "[[1. 1. 1.]\n",
            " [1. 1. 1.]\n",
            " [1. 1. 1.]\n",
            " [1. 1. 1.]\n",
            " [1. 1. 1.]]\n",
            "[[2. 3. 4.]\n",
            " [2. 3. 4.]\n",
            " [2. 3. 4.]\n",
            " [2. 3. 4.]\n",
            " [2. 3. 4.]]\n"
          ],
          "name": "stdout"
        }
      ]
    },
    {
      "metadata": {
        "id": "dlFShRaoJ_KH",
        "colab_type": "text"
      },
      "cell_type": "markdown",
      "source": [
        "## Matrismultiplikation"
      ]
    },
    {
      "metadata": {
        "id": "lFgFEQCFJ_KJ",
        "colab_type": "text"
      },
      "cell_type": "markdown",
      "source": [
        "**\\*** operatorn för arrayer är ekvivalent till elementvis multiplikation. För att utföra en matrismultiplikation används istället funktionen **.dot()** eller **@**-operatorn.\n"
      ]
    },
    {
      "metadata": {
        "id": "wIIGT9XxJ_KK",
        "colab_type": "code",
        "colab": {
          "base_uri": "https://localhost:8080/",
          "height": 231
        },
        "outputId": "aa09bbb4-7372-4938-e9ab-45aee0557ee2"
      },
      "cell_type": "code",
      "source": [
        "a = np.reshape(np.arange(16), [4,4])\n",
        "print(a)\n",
        "print(a.dot(a))\n",
        "print(a @ a)"
      ],
      "execution_count": 33,
      "outputs": [
        {
          "output_type": "stream",
          "text": [
            "[[ 0  1  2  3]\n",
            " [ 4  5  6  7]\n",
            " [ 8  9 10 11]\n",
            " [12 13 14 15]]\n",
            "[[ 56  62  68  74]\n",
            " [152 174 196 218]\n",
            " [248 286 324 362]\n",
            " [344 398 452 506]]\n",
            "[[ 56  62  68  74]\n",
            " [152 174 196 218]\n",
            " [248 286 324 362]\n",
            " [344 398 452 506]]\n"
          ],
          "name": "stdout"
        }
      ]
    },
    {
      "metadata": {
        "id": "jZGr7Y8JJ_KV",
        "colab_type": "text"
      },
      "cell_type": "markdown",
      "source": [
        "# Delområden"
      ]
    },
    {
      "metadata": {
        "id": "3AXFS6VVJ_KX",
        "colab_type": "text"
      },
      "cell_type": "markdown",
      "source": [
        "Att nå specifika element i en array använder man säg av Pythons normala index operator **\\[ ]**\n"
      ]
    },
    {
      "metadata": {
        "id": "TBNaDerPJ_Kb",
        "colab_type": "code",
        "colab": {
          "base_uri": "https://localhost:8080/",
          "height": 178
        },
        "outputId": "e0db2b61-bf6d-4549-c632-ef6b7d7cef78"
      },
      "cell_type": "code",
      "source": [
        "a = np.arange(25)\n",
        "print(a)\n",
        "print(a[2])\n",
        "\n",
        "b = np.arange(25).reshape([5,5])\n",
        "\n",
        "print(b)\n",
        "print(b[1,2])"
      ],
      "execution_count": 34,
      "outputs": [
        {
          "output_type": "stream",
          "text": [
            "[ 0  1  2  3  4  5  6  7  8  9 10 11 12 13 14 15 16 17 18 19 20 21 22 23\n",
            " 24]\n",
            "2\n",
            "[[ 0  1  2  3  4]\n",
            " [ 5  6  7  8  9]\n",
            " [10 11 12 13 14]\n",
            " [15 16 17 18 19]\n",
            " [20 21 22 23 24]]\n",
            "7\n"
          ],
          "name": "stdout"
        }
      ]
    },
    {
      "metadata": {
        "id": "fen2l_YPJ_Kg",
        "colab_type": "text"
      },
      "cell_type": "markdown",
      "source": [
        "Tilldelning av värde i en array sker på samma sätt:\n",
        "\n"
      ]
    },
    {
      "metadata": {
        "id": "1CC7oLdbJ_Kh",
        "colab_type": "code",
        "colab": {
          "base_uri": "https://localhost:8080/",
          "height": 142
        },
        "outputId": "202d2d94-28a0-4934-b9c4-35fe55550a75"
      },
      "cell_type": "code",
      "source": [
        "a[2] = 42\n",
        "b[1,2] = 42\n",
        "\n",
        "print(a)\n",
        "print(b)"
      ],
      "execution_count": 35,
      "outputs": [
        {
          "output_type": "stream",
          "text": [
            "[ 0  1 42  3  4  5  6  7  8  9 10 11 12 13 14 15 16 17 18 19 20 21 22 23\n",
            " 24]\n",
            "[[ 0  1  2  3  4]\n",
            " [ 5  6 42  8  9]\n",
            " [10 11 12 13 14]\n",
            " [15 16 17 18 19]\n",
            " [20 21 22 23 24]]\n"
          ],
          "name": "stdout"
        }
      ]
    },
    {
      "metadata": {
        "id": "7M-6lBD_J_Kk",
        "colab_type": "text"
      },
      "cell_type": "markdown",
      "source": [
        "Det är också möjligt att referera till delområden. Notationen beskrivs i följande punkter:\n",
        "\n",
        "* a[start:slut] - värden mellan*start* och *slut-1*\n",
        "* a[start:] - värden mellan *start* to the *slut*\n",
        "* a[:slut] - värden upp till *slut-1*\n",
        "* a[:] - Alla värden"
      ]
    },
    {
      "metadata": {
        "id": "tfEa2uLmJ_Kk",
        "colab_type": "code",
        "colab": {
          "base_uri": "https://localhost:8080/",
          "height": 35
        },
        "outputId": "ebbfa9ac-9355-4302-894c-ec746120f647"
      },
      "cell_type": "code",
      "source": [
        "a = np.arange(25)\n",
        "print(a[1:5])"
      ],
      "execution_count": 36,
      "outputs": [
        {
          "output_type": "stream",
          "text": [
            "[1 2 3 4]\n"
          ],
          "name": "stdout"
        }
      ]
    },
    {
      "metadata": {
        "id": "y5azZhTqJ_Kr",
        "colab_type": "text"
      },
      "cell_type": "markdown",
      "source": [
        "NumPy försöker i de flesta fall återanvända allokerat minne när man skapar delområden.\n"
      ]
    },
    {
      "metadata": {
        "id": "3AKtKsqZJ_Ks",
        "colab_type": "code",
        "colab": {
          "base_uri": "https://localhost:8080/",
          "height": 196
        },
        "outputId": "c9b39ace-35bb-4e74-f6c4-758b70666353"
      },
      "cell_type": "code",
      "source": [
        "a = np.arange(25)\n",
        "\n",
        "print(a)\n",
        "print(memory_of(a))\n",
        "print(a.data)\n",
        "\n",
        "b = a[1:5]\n",
        "\n",
        "print(b)\n",
        "print(memory_of(b))\n",
        "print(b.data)\n",
        "\n",
        "b[0] = 42\n",
        "\n",
        "print(a)\n",
        "print(b)"
      ],
      "execution_count": 37,
      "outputs": [
        {
          "output_type": "stream",
          "text": [
            "[ 0  1  2  3  4  5  6  7  8  9 10 11 12 13 14 15 16 17 18 19 20 21 22 23\n",
            " 24]\n",
            "25717600\n",
            "<memory at 0x7f6758f32c48>\n",
            "[1 2 3 4]\n",
            "25717608\n",
            "<memory at 0x7f6758f32c48>\n",
            "[ 0 42  2  3  4  5  6  7  8  9 10 11 12 13 14 15 16 17 18 19 20 21 22 23\n",
            " 24]\n",
            "[42  2  3  4]\n"
          ],
          "name": "stdout"
        }
      ]
    },
    {
      "metadata": {
        "id": "mmdURMl-J_Kx",
        "colab_type": "text"
      },
      "cell_type": "markdown",
      "source": [
        "Fler exempel på delområden:\n"
      ]
    },
    {
      "metadata": {
        "id": "dULN08DUJ_Ky",
        "colab_type": "code",
        "colab": {
          "base_uri": "https://localhost:8080/",
          "height": 124
        },
        "outputId": "0cf963ca-c842-4c5c-cf5c-d98ef270ecaf"
      },
      "cell_type": "code",
      "source": [
        "a = np.arange(16)\n",
        "\n",
        "print(a)\n",
        "print(a[:-1]) # Alla element utom det sista\n",
        "print(a[:-2]) # Alla element utom de två sista\n",
        "print(a[-1]) # Sista elementet i a\n",
        "print(a[4:10:2]) # Alla element 4 till 9 med steg 2\n",
        "print(a[::-1]) # Alla element i A i omvänd ordning"
      ],
      "execution_count": 38,
      "outputs": [
        {
          "output_type": "stream",
          "text": [
            "[ 0  1  2  3  4  5  6  7  8  9 10 11 12 13 14 15]\n",
            "[ 0  1  2  3  4  5  6  7  8  9 10 11 12 13 14]\n",
            "[ 0  1  2  3  4  5  6  7  8  9 10 11 12 13]\n",
            "15\n",
            "[4 6 8]\n",
            "[15 14 13 12 11 10  9  8  7  6  5  4  3  2  1  0]\n"
          ],
          "name": "stdout"
        }
      ]
    },
    {
      "metadata": {
        "id": "2107DDgsJ_K2",
        "colab_type": "text"
      },
      "cell_type": "markdown",
      "source": [
        "Delområden kan användas i flerdimensionella arrayer också:\n"
      ]
    },
    {
      "metadata": {
        "id": "DalYUZcKJ_K2",
        "colab_type": "code",
        "colab": {
          "base_uri": "https://localhost:8080/",
          "height": 374
        },
        "outputId": "9ff4be00-286a-4395-e4f3-349519105e6f"
      },
      "cell_type": "code",
      "source": [
        "b = np.reshape(a, (4,4))\n",
        "\n",
        "print(b)\n",
        "print(b[:,0]) # Alla rader i kolumn 0\n",
        "print(b[:,0:2]) # Alla rader för kolumn 0..1\n",
        "print(b[0,:]) # Alla kolumner i rad 0\n",
        "print(b[0:2,:]) # Alla kolumner för rad 0..1\n",
        "print(b[-1,:]) # Sista raden i b\n",
        "print(b[:,-1]) # Sista kolumnen i b\n",
        "print(b[::2,:]) # Varannan rad i b\n",
        "print(b[:,::2]) # Varannan kolumn i b"
      ],
      "execution_count": 39,
      "outputs": [
        {
          "output_type": "stream",
          "text": [
            "[[ 0  1  2  3]\n",
            " [ 4  5  6  7]\n",
            " [ 8  9 10 11]\n",
            " [12 13 14 15]]\n",
            "[ 0  4  8 12]\n",
            "[[ 0  1]\n",
            " [ 4  5]\n",
            " [ 8  9]\n",
            " [12 13]]\n",
            "[0 1 2 3]\n",
            "[[0 1 2 3]\n",
            " [4 5 6 7]]\n",
            "[12 13 14 15]\n",
            "[ 3  7 11 15]\n",
            "[[ 0  1  2  3]\n",
            " [ 8  9 10 11]]\n",
            "[[ 0  2]\n",
            " [ 4  6]\n",
            " [ 8 10]\n",
            " [12 14]]\n"
          ],
          "name": "stdout"
        }
      ]
    },
    {
      "metadata": {
        "id": "cOyvAJ7hJ_LF",
        "colab_type": "text"
      },
      "cell_type": "markdown",
      "source": [
        "Det är också möjlig att blanda array-objekt och listor när man skapar array-objekt:\n"
      ]
    },
    {
      "metadata": {
        "id": "ZrLTI_VgJ_LG",
        "colab_type": "code",
        "colab": {}
      },
      "cell_type": "code",
      "source": [
        "b[1] = [42,42,42,42]"
      ],
      "execution_count": 0,
      "outputs": []
    },
    {
      "metadata": {
        "id": "8raPKq43J_LI",
        "colab_type": "code",
        "colab": {}
      },
      "cell_type": "code",
      "source": [
        "b[:,2] = [42,42,42,42]"
      ],
      "execution_count": 0,
      "outputs": []
    },
    {
      "metadata": {
        "id": "yye1u9LcJ_LO",
        "colab_type": "code",
        "colab": {
          "base_uri": "https://localhost:8080/",
          "height": 88
        },
        "outputId": "269582db-8176-47dc-a5f2-27074724938b"
      },
      "cell_type": "code",
      "source": [
        "print(b)"
      ],
      "execution_count": 42,
      "outputs": [
        {
          "output_type": "stream",
          "text": [
            "[[ 0  1 42  3]\n",
            " [42 42 42 42]\n",
            " [ 8  9 42 11]\n",
            " [12 13 42 15]]\n"
          ],
          "name": "stdout"
        }
      ]
    },
    {
      "metadata": {
        "id": "jJqk7zPiJ_LT",
        "colab_type": "text"
      },
      "cell_type": "markdown",
      "source": [
        "# Array methods"
      ]
    },
    {
      "metadata": {
        "id": "eGCH_6ZqJ_LT",
        "colab_type": "text"
      },
      "cell_type": "markdown",
      "source": [
        "There are many methods on the array object that can be useful when working with arrays:"
      ]
    },
    {
      "metadata": {
        "id": "5sFxcefRJ_LV",
        "colab_type": "text"
      },
      "cell_type": "markdown",
      "source": [
        "## Summing arrays"
      ]
    },
    {
      "metadata": {
        "id": "QkRs7ymFJ_LW",
        "colab_type": "text"
      },
      "cell_type": "markdown",
      "source": [
        "The **.sum()** method can be used to sum arrays in different ways:"
      ]
    },
    {
      "metadata": {
        "id": "sq3WkwpeJ_LW",
        "colab_type": "code",
        "colab": {},
        "outputId": "234821a9-0c73-48c4-b279-54824a69d3f8"
      },
      "cell_type": "code",
      "source": [
        "a = np.arange(36).reshape(6,6)\n",
        "\n",
        "print(a)\n",
        "print(a.sum())"
      ],
      "execution_count": 0,
      "outputs": [
        {
          "output_type": "stream",
          "text": [
            "[[ 0  1  2  3  4  5]\n",
            " [ 6  7  8  9 10 11]\n",
            " [12 13 14 15 16 17]\n",
            " [18 19 20 21 22 23]\n",
            " [24 25 26 27 28 29]\n",
            " [30 31 32 33 34 35]]\n",
            "630\n"
          ],
          "name": "stdout"
        }
      ]
    },
    {
      "metadata": {
        "id": "XUtRdxN_J_LZ",
        "colab_type": "code",
        "colab": {},
        "outputId": "77a9cc5d-c4c0-4995-f5d9-224399e24e93"
      },
      "cell_type": "code",
      "source": [
        "print(a.sum(0)) # Summera kolumner\n",
        "print(a.sum(1)) # Summera rader"
      ],
      "execution_count": 0,
      "outputs": [
        {
          "output_type": "stream",
          "text": [
            "[ 90  96 102 108 114 120]\n",
            "[ 15  51  87 123 159 195]\n"
          ],
          "name": "stdout"
        }
      ]
    },
    {
      "metadata": {
        "id": "o8blfWGUJ_Lk",
        "colab_type": "text"
      },
      "cell_type": "markdown",
      "source": [
        "## Calculating the array product"
      ]
    },
    {
      "metadata": {
        "id": "TxsybmgPJ_Lm",
        "colab_type": "text"
      },
      "cell_type": "markdown",
      "source": [
        "Using the **.prod()** method the array products can be computed in the same way as for the **.sum()** method."
      ]
    },
    {
      "metadata": {
        "id": "4yWTknMPJ_Lp",
        "colab_type": "code",
        "colab": {},
        "outputId": "cf938668-daed-4a5b-9337-fdcf92aec07a"
      },
      "cell_type": "code",
      "source": [
        "a = np.arange(1,37,dtype=float).reshape(6,6)\n",
        "print(a)"
      ],
      "execution_count": 0,
      "outputs": [
        {
          "output_type": "stream",
          "text": [
            "[[ 1.  2.  3.  4.  5.  6.]\n",
            " [ 7.  8.  9. 10. 11. 12.]\n",
            " [13. 14. 15. 16. 17. 18.]\n",
            " [19. 20. 21. 22. 23. 24.]\n",
            " [25. 26. 27. 28. 29. 30.]\n",
            " [31. 32. 33. 34. 35. 36.]]\n"
          ],
          "name": "stdout"
        }
      ]
    },
    {
      "metadata": {
        "id": "eJUrEyfUJ_Lv",
        "colab_type": "code",
        "colab": {},
        "outputId": "2e79c78d-fe69-41b3-8bba-34cee70462ed"
      },
      "cell_type": "code",
      "source": [
        "print(a.prod(0)) # Produkten av kolumner\n",
        "print(a.prod(1)) # Produkten av rader"
      ],
      "execution_count": 0,
      "outputs": [
        {
          "output_type": "stream",
          "text": [
            "[ 1339975.  3727360.  7577955. 13404160. 21827575. 33592320.]\n",
            "[7.20000000e+02 6.65280000e+05 1.33660800e+07 9.69091200e+07\n",
            " 4.27518000e+08 1.40241024e+09]\n"
          ],
          "name": "stdout"
        }
      ]
    },
    {
      "metadata": {
        "id": "vdnmcCGkJ_L2",
        "colab_type": "text"
      },
      "cell_type": "markdown",
      "source": [
        "# Matrix-objects"
      ]
    },
    {
      "metadata": {
        "id": "L0L8rFhiJ_L2",
        "colab_type": "text"
      },
      "cell_type": "markdown",
      "source": [
        "NumPy also includes a special data type for handling mathematical matrices, **matrix**. **matrix** is derived from the **array** object and can be used as an array. The **matrix** data type also implements linear algebra operations."
      ]
    },
    {
      "metadata": {
        "id": "jPEv9fqvJ_L5",
        "colab_type": "code",
        "colab": {},
        "outputId": "a7cfaacc-44a9-4f69-ec61-33247fb5f925"
      },
      "cell_type": "code",
      "source": [
        "A = np.matrix( [[1,2,3],[11,12,13],[21,22,23]])\n",
        "x = np.matrix( [[1],[2],[3]] )\n",
        "y = np.matrix( [[1,2,3]] )\n",
        "\n",
        "print(A)\n",
        "print(x)\n",
        "print(y)\n",
        "print(A.T) # Matrix transpose\n",
        "print(A*x) # Matrix mulitply A * x\n",
        "print(A.I) # Matrix inverse"
      ],
      "execution_count": 0,
      "outputs": [
        {
          "output_type": "stream",
          "text": [
            "[[ 1  2  3]\n",
            " [11 12 13]\n",
            " [21 22 23]]\n",
            "[[1]\n",
            " [2]\n",
            " [3]]\n",
            "[[1 2 3]]\n",
            "[[ 1 11 21]\n",
            " [ 2 12 22]\n",
            " [ 3 13 23]]\n",
            "[[ 14]\n",
            " [ 74]\n",
            " [134]]\n",
            "[[ 2.92803691e+14 -5.85607382e+14  2.92803691e+14]\n",
            " [-5.85607382e+14  1.17121476e+15 -5.85607382e+14]\n",
            " [ 2.92803691e+14 -5.85607382e+14  2.92803691e+14]]\n"
          ],
          "name": "stdout"
        }
      ]
    },
    {
      "metadata": {
        "id": "MbahwHy_J_L7",
        "colab_type": "text"
      },
      "cell_type": "markdown",
      "source": [
        "# Reading and writing array-objects"
      ]
    },
    {
      "metadata": {
        "id": "kjScRThAJ_L8",
        "colab_type": "text"
      },
      "cell_type": "markdown",
      "source": [
        "NumPy supports several ways of reading and writing array objects:\n",
        "\n",
        "* NumPy:s own binary format NPY/NPZ\n",
        "* Textfiles with values in rows\n",
        "* Reading from binary files"
      ]
    },
    {
      "metadata": {
        "id": "ewL1gd8cJ_L9",
        "colab_type": "text"
      },
      "cell_type": "markdown",
      "source": [
        "## Reading / writing NPY/NPZ files"
      ]
    },
    {
      "metadata": {
        "id": "0zRn2seaJ_L-",
        "colab_type": "text"
      },
      "cell_type": "markdown",
      "source": [
        "### Reading NPY files"
      ]
    },
    {
      "metadata": {
        "id": "q-INhBioJ_L_",
        "colab_type": "code",
        "colab": {}
      },
      "cell_type": "code",
      "source": [
        "import numpy as np\n",
        "\n",
        "x = np.linspace(0.0, 1.0, 100)\n",
        "y = np.random.uniform(0.0, 1.0, 100)\n",
        "\n",
        "np.save(\"x.npy\", x)\n",
        "np.save(\"y.npy\", y)"
      ],
      "execution_count": 0,
      "outputs": []
    },
    {
      "metadata": {
        "id": "W3_u3ZqjJ_MB",
        "colab_type": "text"
      },
      "cell_type": "markdown",
      "source": [
        "### Writing NPY files"
      ]
    },
    {
      "metadata": {
        "id": "PSxxVJe0J_MC",
        "colab_type": "code",
        "colab": {},
        "outputId": "351ae68a-8033-4153-f490-95fc6a1c122a"
      },
      "cell_type": "code",
      "source": [
        "import matplotlib.pyplot as plt\n",
        "\n",
        "x = np.load(\"x.npy\")\n",
        "y = np.load(\"y.npy\")\n",
        "\n",
        "plt.plot(x, y, 'o')"
      ],
      "execution_count": 0,
      "outputs": [
        {
          "output_type": "execute_result",
          "data": {
            "text/plain": [
              "[<matplotlib.lines.Line2D at 0x231c3a3fc18>]"
            ]
          },
          "metadata": {
            "tags": []
          },
          "execution_count": 63
        },
        {
          "output_type": "display_data",
          "data": {
            "image/png": "[encoded data removed]",
            "text/plain": [
              "<Figure size 432x288 with 1 Axes>"
            ]
          },
          "metadata": {
            "tags": []
          }
        }
      ]
    },
    {
      "metadata": {
        "id": "oXHsktzQJ_MH",
        "colab_type": "text"
      },
      "cell_type": "markdown",
      "source": [
        "### Using file objects when reading and writing"
      ]
    },
    {
      "metadata": {
        "id": "ZtBIE_2DJ_MH",
        "colab_type": "code",
        "colab": {}
      },
      "cell_type": "code",
      "source": [
        "x = np.linspace(0.0, 1.0, 100)\n",
        "y = np.random.uniform(0.0, 1.0, 100)\n",
        "\n",
        "with open(\"xy.dat\", \"wb\") as f:\n",
        "    np.save(f, x)\n",
        "    np.save(f, y)"
      ],
      "execution_count": 0,
      "outputs": []
    },
    {
      "metadata": {
        "id": "efbmJfkEJ_MJ",
        "colab_type": "code",
        "colab": {},
        "outputId": "d3947a5f-ab4e-45af-8b36-4388be1c8e9d"
      },
      "cell_type": "code",
      "source": [
        "import matplotlib.pyplot as plt\n",
        "\n",
        "with open(\"xy.dat\", \"rb\") as f:\n",
        "    x = np.load(f)\n",
        "    y = np.load(f)\n",
        "\n",
        "plt.plot(x, y, 'o')"
      ],
      "execution_count": 0,
      "outputs": [
        {
          "output_type": "execute_result",
          "data": {
            "text/plain": [
              "[<matplotlib.lines.Line2D at 0x231c3da5438>]"
            ]
          },
          "metadata": {
            "tags": []
          },
          "execution_count": 65
        },
        {
          "output_type": "display_data",
          "data": {
            "image/png": "[encoded data removed]",
            "text/plain": [
              "<Figure size 432x288 with 1 Axes>"
            ]
          },
          "metadata": {
            "tags": []
          }
        }
      ]
    },
    {
      "metadata": {
        "id": "RzyxFjNEJ_MO",
        "colab_type": "text"
      },
      "cell_type": "markdown",
      "source": [
        "# Solving equation systems"
      ]
    },
    {
      "metadata": {
        "id": "Qn9RUl6WJ_MP",
        "colab_type": "text"
      },
      "cell_type": "markdown",
      "source": [
        "A common operation in linear algebra is the ability to solve an equation system in the form\n",
        "\n",
        "Ax = b\n",
        "\n",
        "NumPy contains a function **np.linalg()** to do just that:"
      ]
    },
    {
      "metadata": {
        "id": "tPRmFPXOJ_MP",
        "colab_type": "code",
        "colab": {},
        "outputId": "0eabb53d-bb62-4278-9af7-8548f7326c33"
      },
      "cell_type": "code",
      "source": [
        "A = np.matrix(\n",
        "    [[1, 2, 3], \n",
        "     [11, 12, 13], \n",
        "     [21, 22, 23]]\n",
        ")\n",
        "\n",
        "x = np.matrix(\n",
        "    [[1], \n",
        "     [2], \n",
        "     [3]])\n",
        "\n",
        "print(A)\n",
        "print(x)\n",
        "\n",
        "b = np.linalg.solve(A, x)\n",
        "\n",
        "print(b)"
      ],
      "execution_count": 0,
      "outputs": [
        {
          "output_type": "stream",
          "text": [
            "[[ 1  2  3]\n",
            " [11 12 13]\n",
            " [21 22 23]]\n",
            "[[1]\n",
            " [2]\n",
            " [3]]\n",
            "[[ 0.01733746]\n",
            " [-0.73467492]\n",
            " [ 0.81733746]]\n"
          ],
          "name": "stdout"
        }
      ]
    },
    {
      "metadata": {
        "id": "LNifFREBJ_MS",
        "colab_type": "text"
      },
      "cell_type": "markdown",
      "source": [
        "### Alternative form"
      ]
    },
    {
      "metadata": {
        "id": "gXi_KE8jJ_MS",
        "colab_type": "code",
        "colab": {},
        "outputId": "068e2a85-1419-485a-eab7-3330165af626"
      },
      "cell_type": "code",
      "source": [
        "A = np.matrix(\n",
        "    [[1, 2, 3], \n",
        "     [11, 12, 13],\n",
        "     [21, 22, 23]]\n",
        ")\n",
        "x = np.matrix(\n",
        "    [[1, 3],\n",
        "     [2, 5],\n",
        "     [3, 7]]\n",
        ")\n",
        "\n",
        "print(A)\n",
        "print(x)\n",
        "\n",
        "b = np.linalg.solve(A, x)\n",
        "\n",
        "print(b)"
      ],
      "execution_count": 0,
      "outputs": [
        {
          "output_type": "stream",
          "text": [
            "[[ 1  2  3]\n",
            " [11 12 13]\n",
            " [21 22 23]]\n",
            "[[1 3]\n",
            " [2 5]\n",
            " [3 7]]\n",
            "[[ 0.01733746 -0.04272446]\n",
            " [-0.73467492 -2.31455108]\n",
            " [ 0.81733746  2.55727554]]\n"
          ],
          "name": "stdout"
        }
      ]
    },
    {
      "metadata": {
        "id": "3qPK1-pnJ_MT",
        "colab_type": "code",
        "colab": {}
      },
      "cell_type": "code",
      "source": [
        ""
      ],
      "execution_count": 0,
      "outputs": []
    }
  ]
}