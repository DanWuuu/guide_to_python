{
 "cells": [
  {
   "cell_type": "markdown",
   "metadata": {},
   "source": [
    "# About Numpy\n",
    "\n",
    "* Python extensions for manipulating large sets of objects organised in a grid-like fashion\n",
    "  * Vectors\n",
    "  * Matrices\n",
    "  * etc...\n",
    "* Normal Python datastructures too slow"
   ]
  },
  {
   "cell_type": "markdown",
   "metadata": {},
   "source": [
    "# Using Numpy\n",
    "\n",
    "The common way of using NumPy is to import the module with the following statement:"
   ]
  },
  {
   "cell_type": "code",
   "execution_count": 1,
   "metadata": {},
   "outputs": [],
   "source": [
    "import numpy as np"
   ]
  },
  {
   "cell_type": "markdown",
   "metadata": {},
   "source": [
    "The reason for not just importing **numpy** and importing it as np is to limit the prefixing of function when using Numpy. It it also not recommended to use from to import numpy as this will conflict with other functions in Python"
   ]
  },
  {
   "cell_type": "markdown",
   "metadata": {},
   "source": [
    "# Array objects\n",
    "\n",
    "The array object is the main data type in NumPy. To be efficient array objects are allocated as continous blocks of numbers in memory."
   ]
  },
  {
   "cell_type": "markdown",
   "metadata": {},
   "source": [
    "## Creating arrays\n",
    "\n",
    "Arrays can be constructed using the **np.array()** function. The first argument contains the values as lists and the last argument specifies the datatype."
   ]
  },
  {
   "cell_type": "code",
   "execution_count": 3,
   "metadata": {},
   "outputs": [
    {
     "name": "stdout",
     "output_type": "stream",
     "text": [
      "[1. 2. 3.]\n"
     ]
    }
   ],
   "source": [
    "a = np.array([1, 2, 3], float)\n",
    "print(a)"
   ]
  },
  {
   "cell_type": "markdown",
   "metadata": {},
   "source": [
    "If no datatype is given NumPy figures out the data type automatically:"
   ]
  },
  {
   "cell_type": "code",
   "execution_count": 5,
   "metadata": {},
   "outputs": [
    {
     "name": "stdout",
     "output_type": "stream",
     "text": [
      "[1 2 3]\n"
     ]
    }
   ],
   "source": [
    "a = np.array([1, 2, 3])\n",
    "print(a)"
   ]
  },
  {
   "cell_type": "code",
   "execution_count": 7,
   "metadata": {},
   "outputs": [
    {
     "name": "stdout",
     "output_type": "stream",
     "text": [
      "[1. 2. 3.]\n"
     ]
    }
   ],
   "source": [
    "a = np.array([1.0, 2.0, 3.0])\n",
    "print(a)"
   ]
  },
  {
   "cell_type": "markdown",
   "metadata": {},
   "source": [
    "Compared to lists, an array can only contain values the same data type. Mixing is not possible"
   ]
  },
  {
   "cell_type": "markdown",
   "metadata": {},
   "source": [
    "### Multidimensional arrays"
   ]
  },
  {
   "cell_type": "markdown",
   "metadata": {},
   "source": [
    "Multidimensional arrays can be created by specifying nested lists in the **np.array()** function."
   ]
  },
  {
   "cell_type": "code",
   "execution_count": 8,
   "metadata": {},
   "outputs": [
    {
     "name": "stdout",
     "output_type": "stream",
     "text": [
      "[[1 2]\n",
      " [3 4]]\n",
      "[[1. 2. 3. 4.]\n",
      " [5. 6. 7. 8.]]\n"
     ]
    }
   ],
   "source": [
    "a = np.array([[1,2],[3,4]])\n",
    "print(a)\n",
    "\n",
    "b = np.array([[1,2,3,4],[5,6,7,8]], float)\n",
    "print(b)"
   ]
  },
  {
   "cell_type": "markdown",
   "metadata": {},
   "source": [
    "## Working with arrays"
   ]
  },
  {
   "cell_type": "markdown",
   "metadata": {},
   "source": [
    "Arrays are always stored as 1-dimensional arrays in memory. Dimensions are only a way of traversing a 1-dimensional array. \n",
    "\n",
    "By default NumPy stores arrays in memory row-wise, which is also how C and C++ stores 2-dimensional arrays. Fortran stores arrays columnwise. The figure below illustrates this:\n",
    "\n",
    "![variable references 1](images/array1.png)"
   ]
  },
  {
   "cell_type": "markdown",
   "metadata": {},
   "source": [
    "### Array information\n",
    "\n",
    "There are several ways of querying information on the array datatypes. The most important is the shape of the array, which is queried using the **.shape** property"
   ]
  },
  {
   "cell_type": "code",
   "execution_count": 9,
   "metadata": {},
   "outputs": [
    {
     "name": "stdout",
     "output_type": "stream",
     "text": [
      "(4,)\n",
      "(2, 2)\n",
      "(2, 2, 4)\n"
     ]
    }
   ],
   "source": [
    "a = np.array([1,2,3,4])\n",
    "b = np.array([[1,2],[3,4]])\n",
    "c = np.array([[[1,2,3,4],\n",
    "               [5,6,7,8]],\n",
    "              [[1,2,3,4],\n",
    "               [5,6,7,8]]],float)\n",
    "\n",
    "print(a.shape)\n",
    "print(b.shape)\n",
    "print(c.shape)"
   ]
  },
  {
   "cell_type": "markdown",
   "metadata": {},
   "source": [
    "For a two-dimensional array the rows and columns can be assigned variables using:"
   ]
  },
  {
   "cell_type": "code",
   "execution_count": 11,
   "metadata": {},
   "outputs": [
    {
     "name": "stdout",
     "output_type": "stream",
     "text": [
      "2 2\n"
     ]
    }
   ],
   "source": [
    "r, c = b.shape\n",
    "print(r, c)"
   ]
  },
  {
   "cell_type": "markdown",
   "metadata": {},
   "source": [
    "The number of dimensions can be queried using the **.ndim** property:"
   ]
  },
  {
   "cell_type": "code",
   "execution_count": 12,
   "metadata": {},
   "outputs": [
    {
     "name": "stdout",
     "output_type": "stream",
     "text": [
      "2\n"
     ]
    }
   ],
   "source": [
    "print(b.ndim)"
   ]
  },
  {
   "cell_type": "markdown",
   "metadata": {},
   "source": [
    "There are several other properties that can be interested to query, which are shown in the following example:"
   ]
  },
  {
   "cell_type": "code",
   "execution_count": 14,
   "metadata": {},
   "outputs": [
    {
     "name": "stdout",
     "output_type": "stream",
     "text": [
      "array shape = (2, 2)\n",
      "array ndim = 2\n",
      "array dtype = int32\n",
      "array size = 4\n",
      "array itemsize = 4\n"
     ]
    }
   ],
   "source": [
    "b = np.array([[1,2],[3,4]])\n",
    "print(\"array shape =\", b.shape) # Size\n",
    "print(\"array ndim =\", b.ndim)   # Number of dimensions\n",
    "print(\"array dtype =\", b.dtype) # Data type\n",
    "print(\"array size =\", b.size)   # Number of elements in the array\n",
    "print(\"array itemsize =\", b.itemsize) # Size of an element in bytes"
   ]
  },
  {
   "cell_type": "markdown",
   "metadata": {},
   "source": [
    "### Changing shape of array"
   ]
  },
  {
   "cell_type": "markdown",
   "metadata": {},
   "source": [
    "The reshape method can be used to change the shape of an array. As long as the number of elements does not change the memory allocated will be the same. We will use a special function to show this:"
   ]
  },
  {
   "cell_type": "code",
   "execution_count": 15,
   "metadata": {},
   "outputs": [],
   "source": [
    "def memory_of(a):\n",
    "    return a.__array_interface__[\"data\"][0]"
   ]
  },
  {
   "cell_type": "markdown",
   "metadata": {},
   "source": [
    "In the following example we change the shape of an array and examine the memory allocation:"
   ]
  },
  {
   "cell_type": "code",
   "execution_count": 16,
   "metadata": {},
   "outputs": [
    {
     "name": "stdout",
     "output_type": "stream",
     "text": [
      "[[1 2]\n",
      " [3 4]]\n",
      "2412695631104\n",
      "[[1]\n",
      " [2]\n",
      " [3]\n",
      " [4]]\n",
      "2412695631104\n"
     ]
    }
   ],
   "source": [
    "a = np.array([[1,2],[3,4]])\n",
    "\n",
    "print(a)\n",
    "print(memory_of(a))\n",
    "\n",
    "a_flat = np.reshape(a, [4,1])\n",
    "\n",
    "print(a_flat)\n",
    "print(memory_of(a_flat))"
   ]
  },
  {
   "cell_type": "markdown",
   "metadata": {},
   "source": [
    "The memory is the same"
   ]
  },
  {
   "cell_type": "markdown",
   "metadata": {},
   "source": [
    "Changing values in a will also change values in a_flat:"
   ]
  },
  {
   "cell_type": "code",
   "execution_count": 17,
   "metadata": {},
   "outputs": [
    {
     "name": "stdout",
     "output_type": "stream",
     "text": [
      "[[42  2]\n",
      " [ 3  4]]\n",
      "[[42]\n",
      " [ 2]\n",
      " [ 3]\n",
      " [ 4]]\n"
     ]
    }
   ],
   "source": [
    "a[0,0] = 42\n",
    "\n",
    "print(a)\n",
    "print(a_flat)"
   ]
  },
  {
   "cell_type": "markdown",
   "metadata": {},
   "source": [
    "If this behavior is not what you want, the **.copy()** method must be used to create a new copy of the array:"
   ]
  },
  {
   "cell_type": "code",
   "execution_count": 18,
   "metadata": {},
   "outputs": [
    {
     "name": "stdout",
     "output_type": "stream",
     "text": [
      "[[42  2]\n",
      " [ 3  4]]\n",
      "2412695631104\n",
      "[[84  2]\n",
      " [ 3  4]]\n",
      "2412695630720\n"
     ]
    }
   ],
   "source": [
    "c = a.copy()\n",
    "c[0,0] = 84\n",
    "\n",
    "print(a)\n",
    "print(memory_of(a))\n",
    "\n",
    "print(c)\n",
    "print(memory_of(c))"
   ]
  },
  {
   "cell_type": "markdown",
   "metadata": {},
   "source": [
    "Now **c** does not refer to the same memory location as **a**."
   ]
  },
  {
   "cell_type": "markdown",
   "metadata": {},
   "source": [
    "More examples:"
   ]
  },
  {
   "cell_type": "code",
   "execution_count": 19,
   "metadata": {},
   "outputs": [
    {
     "name": "stdout",
     "output_type": "stream",
     "text": [
      "[[1. 2. 3. 4.]\n",
      " [5. 6. 7. 8.]]\n",
      "[1. 2. 3. 4. 5. 6. 7. 8.]\n",
      "[[1. 2.]\n",
      " [3. 4.]\n",
      " [5. 6.]\n",
      " [7. 8.]]\n",
      "[[1. 5.]\n",
      " [2. 6.]\n",
      " [3. 7.]\n",
      " [4. 8.]]\n"
     ]
    }
   ],
   "source": [
    "b = np.array([[1,2,3,4],[5,6,7,8]], float)\n",
    "print(b)\n",
    "\n",
    "b_shaped = np.reshape(b, [8,])\n",
    "print(b_shaped)\n",
    "\n",
    "b_shaped = np.reshape(b, [4,2])\n",
    "print(b_shaped)\n",
    "\n",
    "# **Please note** this is not the same as:\n",
    "b_trans = np.transpose(b)\n",
    "print(b_trans)"
   ]
  },
  {
   "cell_type": "markdown",
   "metadata": {},
   "source": [
    "### Resizing an array"
   ]
  },
  {
   "cell_type": "markdown",
   "metadata": {},
   "source": [
    "**.resize()** is used to change the size of an existing array. Existing values will be kept if possible. New elements will be filled with values from the existing array."
   ]
  },
  {
   "cell_type": "code",
   "execution_count": 21,
   "metadata": {},
   "outputs": [
    {
     "name": "stdout",
     "output_type": "stream",
     "text": [
      "[[1 2]\n",
      " [3 4]]\n",
      "[[1 2 3 4 1 2 3 4 1]\n",
      " [2 3 4 1 2 3 4 1 2]\n",
      " [3 4 1 2 3 4 1 2 3]\n",
      " [4 1 2 3 4 1 2 3 4]\n",
      " [1 2 3 4 1 2 3 4 1]\n",
      " [2 3 4 1 2 3 4 1 2]\n",
      " [3 4 1 2 3 4 1 2 3]\n",
      " [4 1 2 3 4 1 2 3 4]\n",
      " [1 2 3 4 1 2 3 4 1]]\n",
      "[[1 2 3 4]\n",
      " [1 2 3 4]\n",
      " [1 2 3 4]\n",
      " [1 2 3 4]]\n",
      "[[1 2]\n",
      " [3 4]\n",
      " [1 2]\n",
      " [3 4]]\n"
     ]
    }
   ],
   "source": [
    "base = np.array([[1,2],[3,4]])\n",
    "print(base)\n",
    "\n",
    "big = np.resize(base, [9,9])\n",
    "print(big)\n",
    "\n",
    "big = np.resize(base, [4,4])\n",
    "print(big)\n",
    "\n",
    "big = np.resize(base, [4,2])\n",
    "print(big)"
   ]
  },
  {
   "cell_type": "markdown",
   "metadata": {},
   "source": [
    "## Functions for creating arrays"
   ]
  },
  {
   "cell_type": "markdown",
   "metadata": {},
   "source": [
    "In many cases it is impossible to create arrays in the code using the **np.array()** function. To create larger prefilled arrays NumPy implements a number of array-creation functions."
   ]
  },
  {
   "cell_type": "markdown",
   "metadata": {},
   "source": [
    "### Arrays with zeros\n",
    "\n",
    "A common array type is an array filled with zeros. These can be created with the function **np.zeros()**. The function takes the shape as input and an optional data type."
   ]
  },
  {
   "cell_type": "code",
   "execution_count": 22,
   "metadata": {},
   "outputs": [
    {
     "name": "stdout",
     "output_type": "stream",
     "text": [
      "[[0. 0. 0. 0.]\n",
      " [0. 0. 0. 0.]\n",
      " [0. 0. 0. 0.]\n",
      " [0. 0. 0. 0.]]\n"
     ]
    }
   ],
   "source": [
    "a = np.zeros([4,4])\n",
    "print(a)"
   ]
  },
  {
   "cell_type": "code",
   "execution_count": 23,
   "metadata": {},
   "outputs": [
    {
     "name": "stdout",
     "output_type": "stream",
     "text": [
      "[[0 0 0 0]\n",
      " [0 0 0 0]\n",
      " [0 0 0 0]\n",
      " [0 0 0 0]]\n"
     ]
    }
   ],
   "source": [
    "b = np.zeros([4,4], int)\n",
    "print(b)"
   ]
  },
  {
   "cell_type": "markdown",
   "metadata": {},
   "source": [
    "### Arrays with ones"
   ]
  },
  {
   "cell_type": "markdown",
   "metadata": {},
   "source": [
    "Arrays with ones are created using the **np.ones()** function."
   ]
  },
  {
   "cell_type": "code",
   "execution_count": 24,
   "metadata": {},
   "outputs": [
    {
     "name": "stdout",
     "output_type": "stream",
     "text": [
      "[[1. 1. 1. 1. 1. 1. 1. 1. 1. 1.]\n",
      " [1. 1. 1. 1. 1. 1. 1. 1. 1. 1.]\n",
      " [1. 1. 1. 1. 1. 1. 1. 1. 1. 1.]\n",
      " [1. 1. 1. 1. 1. 1. 1. 1. 1. 1.]\n",
      " [1. 1. 1. 1. 1. 1. 1. 1. 1. 1.]]\n"
     ]
    }
   ],
   "source": [
    "c = np.ones([5,10], float)\n",
    "print(c)"
   ]
  },
  {
   "cell_type": "markdown",
   "metadata": {},
   "source": [
    "I is possible to use **np.ones()** to create an array assigned with a specific value:"
   ]
  },
  {
   "cell_type": "code",
   "execution_count": 25,
   "metadata": {},
   "outputs": [
    {
     "name": "stdout",
     "output_type": "stream",
     "text": [
      "[[42. 42. 42. 42. 42. 42. 42. 42. 42. 42.]\n",
      " [42. 42. 42. 42. 42. 42. 42. 42. 42. 42.]\n",
      " [42. 42. 42. 42. 42. 42. 42. 42. 42. 42.]\n",
      " [42. 42. 42. 42. 42. 42. 42. 42. 42. 42.]\n",
      " [42. 42. 42. 42. 42. 42. 42. 42. 42. 42.]]\n"
     ]
    }
   ],
   "source": [
    "c = np.ones([5,10], float) * 42.0\n",
    "print(c)"
   ]
  },
  {
   "cell_type": "markdown",
   "metadata": {},
   "source": [
    "### Array ranges"
   ]
  },
  {
   "cell_type": "markdown",
   "metadata": {},
   "source": [
    "In many application you need to create arrays which contain ranges of numbers. This can be done with the **np.arange()** function. This function is very similar to the standard Python **range()** function. An array with 10 elements with values from 0 to 9 is created with:"
   ]
  },
  {
   "cell_type": "code",
   "execution_count": 26,
   "metadata": {},
   "outputs": [
    {
     "name": "stdout",
     "output_type": "stream",
     "text": [
      "[0 1 2 3 4 5 6 7 8 9]\n"
     ]
    }
   ],
   "source": [
    "a = np.arange(10)\n",
    "print(a)"
   ]
  },
  {
   "cell_type": "markdown",
   "metadata": {},
   "source": [
    "Combined with **np.reshape()** it is possible to create a range of arrays filled with value ranges:"
   ]
  },
  {
   "cell_type": "code",
   "execution_count": 27,
   "metadata": {},
   "outputs": [
    {
     "name": "stdout",
     "output_type": "stream",
     "text": [
      "[[ 0  1  2  3  4  5  6  7  8  9]\n",
      " [10 11 12 13 14 15 16 17 18 19]\n",
      " [20 21 22 23 24 25 26 27 28 29]\n",
      " [30 31 32 33 34 35 36 37 38 39]\n",
      " [40 41 42 43 44 45 46 47 48 49]\n",
      " [50 51 52 53 54 55 56 57 58 59]\n",
      " [60 61 62 63 64 65 66 67 68 69]\n",
      " [70 71 72 73 74 75 76 77 78 79]\n",
      " [80 81 82 83 84 85 86 87 88 89]\n",
      " [90 91 92 93 94 95 96 97 98 99]]\n"
     ]
    }
   ],
   "source": [
    "b = np.reshape(np.arange(100), [10,10])\n",
    "print(b)"
   ]
  },
  {
   "cell_type": "markdown",
   "metadata": {},
   "source": [
    "It is possible to give start, end and step just like the **range()** function:"
   ]
  },
  {
   "cell_type": "code",
   "execution_count": 28,
   "metadata": {},
   "outputs": [
    {
     "name": "stdout",
     "output_type": "stream",
     "text": [
      "[-10  -9  -8  -7  -6  -5  -4  -3  -2  -1   0   1   2   3   4   5   6   7\n",
      "   8   9]\n",
      "[-10  -8  -6  -4  -2   0   2   4   6   8]\n"
     ]
    }
   ],
   "source": [
    "a = np.arange(-10,10)\n",
    "print(a)\n",
    "\n",
    "a = np.arange(-10,10,2)\n",
    "print(a)"
   ]
  },
  {
   "cell_type": "markdown",
   "metadata": {},
   "source": [
    "Just like **np.array()** it is possible to create ranges with a specific data type:"
   ]
  },
  {
   "cell_type": "code",
   "execution_count": 29,
   "metadata": {},
   "outputs": [
    {
     "name": "stdout",
     "output_type": "stream",
     "text": [
      "[-10.  -8.  -6.  -4.  -2.   0.   2.   4.   6.   8.]\n"
     ]
    }
   ],
   "source": [
    "a = np.arange(-10,10,2, dtype=float)\n",
    "print(a)"
   ]
  },
  {
   "cell_type": "markdown",
   "metadata": {},
   "source": [
    "### Identity arrays"
   ]
  },
  {
   "cell_type": "markdown",
   "metadata": {},
   "source": [
    "A common array type is the identity array. These can be created using the **np.identity()** function. The function takes the size of the matrix and data type as optional input:"
   ]
  },
  {
   "cell_type": "code",
   "execution_count": 30,
   "metadata": {},
   "outputs": [
    {
     "name": "stdout",
     "output_type": "stream",
     "text": [
      "[[1. 0. 0. 0. 0. 0. 0. 0. 0. 0.]\n",
      " [0. 1. 0. 0. 0. 0. 0. 0. 0. 0.]\n",
      " [0. 0. 1. 0. 0. 0. 0. 0. 0. 0.]\n",
      " [0. 0. 0. 1. 0. 0. 0. 0. 0. 0.]\n",
      " [0. 0. 0. 0. 1. 0. 0. 0. 0. 0.]\n",
      " [0. 0. 0. 0. 0. 1. 0. 0. 0. 0.]\n",
      " [0. 0. 0. 0. 0. 0. 1. 0. 0. 0.]\n",
      " [0. 0. 0. 0. 0. 0. 0. 1. 0. 0.]\n",
      " [0. 0. 0. 0. 0. 0. 0. 0. 1. 0.]\n",
      " [0. 0. 0. 0. 0. 0. 0. 0. 0. 1.]]\n"
     ]
    }
   ],
   "source": [
    "i = np.identity(10)\n",
    "print(i)"
   ]
  },
  {
   "cell_type": "markdown",
   "metadata": {},
   "source": [
    "### Arrays with linear variation"
   ]
  },
  {
   "cell_type": "markdown",
   "metadata": {},
   "source": [
    "The **np.arange()** works well if the range is integer. If you need a more precise range **np.linspace()** is better. In this function you set a start and end value and the number of values requested. Start and end values are guaranteed to part of the array."
   ]
  },
  {
   "cell_type": "code",
   "execution_count": 32,
   "metadata": {},
   "outputs": [
    {
     "name": "stdout",
     "output_type": "stream",
     "text": [
      "[0.         0.11111111 0.22222222 0.33333333 0.44444444 0.55555556\n",
      " 0.66666667 0.77777778 0.88888889 1.        ]\n",
      "[0.         0.05263158 0.10526316 0.15789474 0.21052632 0.26315789\n",
      " 0.31578947 0.36842105 0.42105263 0.47368421 0.52631579 0.57894737\n",
      " 0.63157895 0.68421053 0.73684211 0.78947368 0.84210526 0.89473684\n",
      " 0.94736842 1.        ]\n"
     ]
    }
   ],
   "source": [
    "x = np.linspace(0,1.0,10)\n",
    "print(x)\n",
    "\n",
    "x = np.linspace(0,1.0,20)\n",
    "print(x)"
   ]
  },
  {
   "cell_type": "markdown",
   "metadata": {},
   "source": [
    "# Array expressions"
   ]
  },
  {
   "cell_type": "markdown",
   "metadata": {},
   "source": [
    "Python operators cab be used with arrays. All operations on arrays is done element wise:"
   ]
  },
  {
   "cell_type": "code",
   "execution_count": 33,
   "metadata": {},
   "outputs": [
    {
     "name": "stdout",
     "output_type": "stream",
     "text": [
      "[[ 0  1  2  3  4]\n",
      " [ 5  6  7  8  9]\n",
      " [10 11 12 13 14]\n",
      " [15 16 17 18 19]\n",
      " [20 21 22 23 24]]\n"
     ]
    }
   ],
   "source": [
    "a = np.arange(25).reshape([5,5])\n",
    "print(a)"
   ]
  },
  {
   "cell_type": "markdown",
   "metadata": {},
   "source": [
    "Elementwise addition:"
   ]
  },
  {
   "cell_type": "code",
   "execution_count": 34,
   "metadata": {},
   "outputs": [
    {
     "name": "stdout",
     "output_type": "stream",
     "text": [
      "[[ 3  4  5  6  7]\n",
      " [ 8  9 10 11 12]\n",
      " [13 14 15 16 17]\n",
      " [18 19 20 21 22]\n",
      " [23 24 25 26 27]]\n"
     ]
    }
   ],
   "source": [
    "print(a+3)"
   ]
  },
  {
   "cell_type": "markdown",
   "metadata": {},
   "source": [
    "Elementwise multiplication:"
   ]
  },
  {
   "cell_type": "code",
   "execution_count": 35,
   "metadata": {},
   "outputs": [
    {
     "name": "stdout",
     "output_type": "stream",
     "text": [
      "[[ 0  3  6  9 12]\n",
      " [15 18 21 24 27]\n",
      " [30 33 36 39 42]\n",
      " [45 48 51 54 57]\n",
      " [60 63 66 69 72]]\n"
     ]
    }
   ],
   "source": [
    "print(a*3)"
   ]
  },
  {
   "cell_type": "markdown",
   "metadata": {},
   "source": [
    "It is also possible to use standard Python math functions on arrays:"
   ]
  },
  {
   "cell_type": "code",
   "execution_count": 36,
   "metadata": {},
   "outputs": [
    {
     "name": "stdout",
     "output_type": "stream",
     "text": [
      "[[ 0.          0.84147098  0.90929743  0.14112001 -0.7568025 ]\n",
      " [-0.95892427 -0.2794155   0.6569866   0.98935825  0.41211849]\n",
      " [-0.54402111 -0.99999021 -0.53657292  0.42016704  0.99060736]\n",
      " [ 0.65028784 -0.28790332 -0.96139749 -0.75098725  0.14987721]\n",
      " [ 0.91294525  0.83665564 -0.00885131 -0.8462204  -0.90557836]]\n"
     ]
    }
   ],
   "source": [
    "print(np.sin(a))"
   ]
  },
  {
   "cell_type": "markdown",
   "metadata": {},
   "source": [
    "Negation:"
   ]
  },
  {
   "cell_type": "code",
   "execution_count": 37,
   "metadata": {},
   "outputs": [
    {
     "name": "stdout",
     "output_type": "stream",
     "text": [
      "[[  0  -1  -2  -3  -4]\n",
      " [ -5  -6  -7  -8  -9]\n",
      " [-10 -11 -12 -13 -14]\n",
      " [-15 -16 -17 -18 -19]\n",
      " [-20 -21 -22 -23 -24]]\n"
     ]
    }
   ],
   "source": [
    "print(-a)"
   ]
  },
  {
   "cell_type": "markdown",
   "metadata": {},
   "source": [
    "Operators can also be used between arrays. "
   ]
  },
  {
   "cell_type": "code",
   "execution_count": 38,
   "metadata": {},
   "outputs": [
    {
     "name": "stdout",
     "output_type": "stream",
     "text": [
      "[[ 0  2  4  6  8]\n",
      " [10 12 14 16 18]\n",
      " [20 22 24 26 28]\n",
      " [30 32 34 36 38]\n",
      " [40 42 44 46 48]]\n"
     ]
    }
   ],
   "source": [
    "print(a+a)"
   ]
  },
  {
   "cell_type": "markdown",
   "metadata": {},
   "source": [
    "Array-sizes does not have to be the same. Operations on the smaller array will be repeated on the larger array:"
   ]
  },
  {
   "cell_type": "code",
   "execution_count": 39,
   "metadata": {},
   "outputs": [
    {
     "name": "stdout",
     "output_type": "stream",
     "text": [
      "[1 2 3]\n",
      "[[1. 1. 1.]\n",
      " [1. 1. 1.]\n",
      " [1. 1. 1.]\n",
      " [1. 1. 1.]\n",
      " [1. 1. 1.]]\n",
      "[[2. 3. 4.]\n",
      " [2. 3. 4.]\n",
      " [2. 3. 4.]\n",
      " [2. 3. 4.]\n",
      " [2. 3. 4.]]\n"
     ]
    }
   ],
   "source": [
    "a = np.array([1,2,3]) \n",
    "b = np.ones([5,3])\n",
    "print(a)\n",
    "print(b)\n",
    "print(a+b)"
   ]
  },
  {
   "cell_type": "markdown",
   "metadata": {},
   "source": [
    "## Matrix multiplication"
   ]
  },
  {
   "cell_type": "markdown",
   "metadata": {},
   "source": [
    "The * operator for arrays is equivalent to elementwise multiplication. To do a matrix multiplication the **.dot()** function or **@** operator must be used:"
   ]
  },
  {
   "cell_type": "code",
   "execution_count": 40,
   "metadata": {},
   "outputs": [
    {
     "name": "stdout",
     "output_type": "stream",
     "text": [
      "[[ 0  1  2  3]\n",
      " [ 4  5  6  7]\n",
      " [ 8  9 10 11]\n",
      " [12 13 14 15]]\n",
      "[[ 56  62  68  74]\n",
      " [152 174 196 218]\n",
      " [248 286 324 362]\n",
      " [344 398 452 506]]\n",
      "[[ 56  62  68  74]\n",
      " [152 174 196 218]\n",
      " [248 286 324 362]\n",
      " [344 398 452 506]]\n"
     ]
    }
   ],
   "source": [
    "a = np.reshape(np.arange(16), [4,4])\n",
    "print(a)\n",
    "print(a.dot(a))\n",
    "print(a @ a)"
   ]
  },
  {
   "cell_type": "markdown",
   "metadata": {},
   "source": [
    "# Indexing"
   ]
  },
  {
   "cell_type": "markdown",
   "metadata": {},
   "source": [
    "Accessing individual values in an array is done using the standard brackets []. "
   ]
  },
  {
   "cell_type": "code",
   "execution_count": 45,
   "metadata": {},
   "outputs": [
    {
     "name": "stdout",
     "output_type": "stream",
     "text": [
      "[ 0  1  2  3  4  5  6  7  8  9 10 11 12 13 14 15 16 17 18 19 20 21 22 23\n",
      " 24]\n",
      "2\n",
      "[[ 0  1  2  3  4]\n",
      " [ 5  6  7  8  9]\n",
      " [10 11 12 13 14]\n",
      " [15 16 17 18 19]\n",
      " [20 21 22 23 24]]\n",
      "7\n"
     ]
    }
   ],
   "source": [
    "a = np.arange(25)\n",
    "print(a)\n",
    "print(a[2])\n",
    "\n",
    "b = np.arange(25).reshape([5,5])\n",
    "\n",
    "print(b)\n",
    "print(b[1,2])"
   ]
  },
  {
   "cell_type": "markdown",
   "metadata": {},
   "source": [
    "Assigning values is done in the same way:"
   ]
  },
  {
   "cell_type": "code",
   "execution_count": 42,
   "metadata": {},
   "outputs": [
    {
     "name": "stdout",
     "output_type": "stream",
     "text": [
      "[[ 0  1  2  3]\n",
      " [ 4  5  6  7]\n",
      " [42 42 42 42]\n",
      " [12 13 14 15]]\n",
      "[[ 0  1  2  3  4]\n",
      " [ 5  6 42  8  9]\n",
      " [10 11 12 13 14]\n",
      " [15 16 17 18 19]\n",
      " [20 21 22 23 24]]\n"
     ]
    }
   ],
   "source": [
    "a[2] = 42\n",
    "b[1,2] = 42\n",
    "\n",
    "print(a)\n",
    "print(b)"
   ]
  },
  {
   "cell_type": "markdown",
   "metadata": {},
   "source": [
    "It is also possible to reference array ranges. The notation is as follows:\n",
    "\n",
    "* a[start:end] - values between *start* and *end-1*\n",
    "* a[start:] - values between *start* to the end\n",
    "* a[:end] - values up to *end-1*\n",
    "* a[:] - All elements"
   ]
  },
  {
   "cell_type": "code",
   "execution_count": 46,
   "metadata": {},
   "outputs": [
    {
     "name": "stdout",
     "output_type": "stream",
     "text": [
      "[1 2 3 4]\n"
     ]
    }
   ],
   "source": [
    "a = np.arange(25)\n",
    "print(a[1:5])"
   ]
  },
  {
   "cell_type": "markdown",
   "metadata": {},
   "source": [
    "NumPy tries to reuse memory allocation as much as possible when working with ranges."
   ]
  },
  {
   "cell_type": "code",
   "execution_count": 47,
   "metadata": {},
   "outputs": [
    {
     "name": "stdout",
     "output_type": "stream",
     "text": [
      "[ 0  1  2  3  4  5  6  7  8  9 10 11 12 13 14 15 16 17 18 19 20 21 22 23\n",
      " 24]\n",
      "2412719606032\n",
      "<memory at 0x00000231C1C40708>\n",
      "[1 2 3 4]\n",
      "2412719606036\n",
      "<memory at 0x00000231C1C40708>\n",
      "[ 0 42  2  3  4  5  6  7  8  9 10 11 12 13 14 15 16 17 18 19 20 21 22 23\n",
      " 24]\n",
      "[42  2  3  4]\n"
     ]
    }
   ],
   "source": [
    "a = np.arange(25)\n",
    "\n",
    "print(a)\n",
    "print(memory_of(a))\n",
    "print(a.data)\n",
    "\n",
    "b = a[1:5]\n",
    "\n",
    "print(b)\n",
    "print(memory_of(b))\n",
    "print(b.data)\n",
    "\n",
    "b[0] = 42\n",
    "\n",
    "print(a)\n",
    "print(b)"
   ]
  },
  {
   "cell_type": "markdown",
   "metadata": {},
   "source": [
    "More examples of indexing"
   ]
  },
  {
   "cell_type": "code",
   "execution_count": 51,
   "metadata": {},
   "outputs": [
    {
     "name": "stdout",
     "output_type": "stream",
     "text": [
      "[ 0  1  2  3  4  5  6  7  8  9 10 11 12 13 14 15]\n",
      "[ 0  1  2  3  4  5  6  7  8  9 10 11 12 13 14]\n",
      "[ 0  1  2  3  4  5  6  7  8  9 10 11 12 13]\n",
      "15\n",
      "[4 6 8]\n",
      "[15 14 13 12 11 10  9  8  7  6  5  4  3  2  1  0]\n"
     ]
    }
   ],
   "source": [
    "a = np.arange(16)\n",
    "\n",
    "print(a)\n",
    "print(a[:-1]) # Alla element utom det sista\n",
    "print(a[:-2]) # Alla element utom de två sista\n",
    "print(a[-1]) # Sista elementet i a\n",
    "print(a[4:10:2]) # Alla element 4 till 9 med steg 2\n",
    "print(a[::-1]) # Alla element i A i omvänd ordning"
   ]
  },
  {
   "cell_type": "markdown",
   "metadata": {},
   "source": [
    "Array ranges can be usin in multidimensional arrays as well:"
   ]
  },
  {
   "cell_type": "code",
   "execution_count": 52,
   "metadata": {},
   "outputs": [
    {
     "name": "stdout",
     "output_type": "stream",
     "text": [
      "[[ 0  1  2  3]\n",
      " [ 4  5  6  7]\n",
      " [ 8  9 10 11]\n",
      " [12 13 14 15]]\n",
      "[ 0  4  8 12]\n",
      "[[ 0  1]\n",
      " [ 4  5]\n",
      " [ 8  9]\n",
      " [12 13]]\n",
      "[0 1 2 3]\n",
      "[[0 1 2 3]\n",
      " [4 5 6 7]]\n",
      "[12 13 14 15]\n",
      "[ 3  7 11 15]\n",
      "[[ 0  1  2  3]\n",
      " [ 8  9 10 11]]\n",
      "[[ 0  2]\n",
      " [ 4  6]\n",
      " [ 8 10]\n",
      " [12 14]]\n"
     ]
    }
   ],
   "source": [
    "b = np.reshape(a, (4,4))\n",
    "\n",
    "print(b)\n",
    "print(b[:,0]) # Alla rader i kolumn 0\n",
    "print(b[:,0:2]) # Alla rader för kolumn 0..1\n",
    "print(b[0,:]) # Alla kolumner i rad 0\n",
    "print(b[0:2,:]) # Alla kolumner för rad 0..1\n",
    "print(b[-1,:]) # Sista raden i b\n",
    "print(b[:,-1]) # Sista kolumnen i b\n",
    "print(b[::2,:]) # Varannan rad i b\n",
    "print(b[:,::2]) # Varannan kolumn i b"
   ]
  },
  {
   "cell_type": "markdown",
   "metadata": {},
   "source": [
    "It also possible to mix arrays and lists when creating arrays:"
   ]
  },
  {
   "cell_type": "code",
   "execution_count": 53,
   "metadata": {},
   "outputs": [],
   "source": [
    "b[1] = [42,42,42,42]"
   ]
  },
  {
   "cell_type": "code",
   "execution_count": 54,
   "metadata": {},
   "outputs": [],
   "source": [
    "b[:,2] = [42,42,42,42]"
   ]
  },
  {
   "cell_type": "code",
   "execution_count": 55,
   "metadata": {},
   "outputs": [
    {
     "name": "stdout",
     "output_type": "stream",
     "text": [
      "[[ 0  1 42  3]\n",
      " [42 42 42 42]\n",
      " [ 8  9 42 11]\n",
      " [12 13 42 15]]\n"
     ]
    }
   ],
   "source": [
    "print(b)"
   ]
  },
  {
   "cell_type": "markdown",
   "metadata": {},
   "source": [
    "# Array methods"
   ]
  },
  {
   "cell_type": "markdown",
   "metadata": {},
   "source": [
    "There are many methods on the array object that can be useful when working with arrays:"
   ]
  },
  {
   "cell_type": "markdown",
   "metadata": {},
   "source": [
    "## Summing arrays"
   ]
  },
  {
   "cell_type": "markdown",
   "metadata": {},
   "source": [
    "The **.sum()** method can be used to sum arrays in different ways:"
   ]
  },
  {
   "cell_type": "code",
   "execution_count": 56,
   "metadata": {},
   "outputs": [
    {
     "name": "stdout",
     "output_type": "stream",
     "text": [
      "[[ 0  1  2  3  4  5]\n",
      " [ 6  7  8  9 10 11]\n",
      " [12 13 14 15 16 17]\n",
      " [18 19 20 21 22 23]\n",
      " [24 25 26 27 28 29]\n",
      " [30 31 32 33 34 35]]\n",
      "630\n"
     ]
    }
   ],
   "source": [
    "a = np.arange(36).reshape(6,6)\n",
    "\n",
    "print(a)\n",
    "print(a.sum())"
   ]
  },
  {
   "cell_type": "code",
   "execution_count": 57,
   "metadata": {},
   "outputs": [
    {
     "name": "stdout",
     "output_type": "stream",
     "text": [
      "[ 90  96 102 108 114 120]\n",
      "[ 15  51  87 123 159 195]\n"
     ]
    }
   ],
   "source": [
    "print(a.sum(0)) # Summera kolumner\n",
    "print(a.sum(1)) # Summera rader"
   ]
  },
  {
   "cell_type": "markdown",
   "metadata": {},
   "source": [
    "## Calculating the array product"
   ]
  },
  {
   "cell_type": "markdown",
   "metadata": {},
   "source": [
    "Using the **.prod()** method the array products can be computed in the same way as for the **.sum()** method."
   ]
  },
  {
   "cell_type": "code",
   "execution_count": 58,
   "metadata": {},
   "outputs": [
    {
     "name": "stdout",
     "output_type": "stream",
     "text": [
      "[[ 1.  2.  3.  4.  5.  6.]\n",
      " [ 7.  8.  9. 10. 11. 12.]\n",
      " [13. 14. 15. 16. 17. 18.]\n",
      " [19. 20. 21. 22. 23. 24.]\n",
      " [25. 26. 27. 28. 29. 30.]\n",
      " [31. 32. 33. 34. 35. 36.]]\n"
     ]
    }
   ],
   "source": [
    "a = np.arange(1,37,dtype=float).reshape(6,6)\n",
    "print(a)"
   ]
  },
  {
   "cell_type": "code",
   "execution_count": 59,
   "metadata": {},
   "outputs": [
    {
     "name": "stdout",
     "output_type": "stream",
     "text": [
      "[ 1339975.  3727360.  7577955. 13404160. 21827575. 33592320.]\n",
      "[7.20000000e+02 6.65280000e+05 1.33660800e+07 9.69091200e+07\n",
      " 4.27518000e+08 1.40241024e+09]\n"
     ]
    }
   ],
   "source": [
    "print(a.prod(0)) # Produkten av kolumner\n",
    "print(a.prod(1)) # Produkten av rader"
   ]
  },
  {
   "cell_type": "markdown",
   "metadata": {},
   "source": [
    "# Matrix-objects"
   ]
  },
  {
   "cell_type": "markdown",
   "metadata": {},
   "source": [
    "NumPy also includes a special data type for handling mathematical matrices, **matrix**. **matrix** is derived from the **array** object and can be used as an array. The **matrix** data type also implements linear algebra operations."
   ]
  },
  {
   "cell_type": "code",
   "execution_count": 60,
   "metadata": {},
   "outputs": [
    {
     "name": "stdout",
     "output_type": "stream",
     "text": [
      "[[ 1  2  3]\n",
      " [11 12 13]\n",
      " [21 22 23]]\n",
      "[[1]\n",
      " [2]\n",
      " [3]]\n",
      "[[1 2 3]]\n",
      "[[ 1 11 21]\n",
      " [ 2 12 22]\n",
      " [ 3 13 23]]\n",
      "[[ 14]\n",
      " [ 74]\n",
      " [134]]\n",
      "[[ 2.92803691e+14 -5.85607382e+14  2.92803691e+14]\n",
      " [-5.85607382e+14  1.17121476e+15 -5.85607382e+14]\n",
      " [ 2.92803691e+14 -5.85607382e+14  2.92803691e+14]]\n"
     ]
    }
   ],
   "source": [
    "A = np.matrix( [[1,2,3],[11,12,13],[21,22,23]])\n",
    "x = np.matrix( [[1],[2],[3]] )\n",
    "y = np.matrix( [[1,2,3]] )\n",
    "\n",
    "print(A)\n",
    "print(x)\n",
    "print(y)\n",
    "print(A.T) # Matrix transpose\n",
    "print(A*x) # Matrix mulitply A * x\n",
    "print(A.I) # Matrix inverse"
   ]
  },
  {
   "cell_type": "markdown",
   "metadata": {},
   "source": [
    "# Reading and writing array-objects"
   ]
  },
  {
   "cell_type": "markdown",
   "metadata": {},
   "source": [
    "NumPy supports several ways of reading and writing array objects:\n",
    "\n",
    "* NumPy:s own binary format NPY/NPZ\n",
    "* Textfiles with values in rows\n",
    "* Reading from binary files"
   ]
  },
  {
   "cell_type": "markdown",
   "metadata": {},
   "source": [
    "## Reading / writing NPY/NPZ files"
   ]
  },
  {
   "cell_type": "markdown",
   "metadata": {},
   "source": [
    "### Reading NPY files"
   ]
  },
  {
   "cell_type": "code",
   "execution_count": 61,
   "metadata": {},
   "outputs": [],
   "source": [
    "import numpy as np\n",
    "\n",
    "x = np.linspace(0.0, 1.0, 100)\n",
    "y = np.random.uniform(0.0, 1.0, 100)\n",
    "\n",
    "np.save(\"x.npy\", x)\n",
    "np.save(\"y.npy\", y)"
   ]
  },
  {
   "cell_type": "markdown",
   "metadata": {},
   "source": [
    "### Writing NPY files"
   ]
  },
  {
   "cell_type": "code",
   "execution_count": 63,
   "metadata": {},
   "outputs": [
    {
     "data": {
      "text/plain": [
       "[<matplotlib.lines.Line2D at 0x231c3a3fc18>]"
      ]
     },
     "execution_count": 63,
     "metadata": {},
     "output_type": "execute_result"
    },
    {
     "data": {
      "image/png": "[encoded data removed]",
      "text/plain": [
       "<Figure size 432x288 with 1 Axes>"
      ]
     },
     "metadata": {},
     "output_type": "display_data"
    }
   ],
   "source": [
    "import matplotlib.pyplot as plt\n",
    "\n",
    "x = np.load(\"x.npy\")\n",
    "y = np.load(\"y.npy\")\n",
    "\n",
    "plt.plot(x, y, 'o')"
   ]
  },
  {
   "cell_type": "markdown",
   "metadata": {},
   "source": [
    "### Using file objects when reading and writing"
   ]
  },
  {
   "cell_type": "code",
   "execution_count": 64,
   "metadata": {},
   "outputs": [],
   "source": [
    "x = np.linspace(0.0, 1.0, 100)\n",
    "y = np.random.uniform(0.0, 1.0, 100)\n",
    "\n",
    "with open(\"xy.dat\", \"wb\") as f:\n",
    "    np.save(f, x)\n",
    "    np.save(f, y)"
   ]
  },
  {
   "cell_type": "code",
   "execution_count": 65,
   "metadata": {},
   "outputs": [
    {
     "data": {
      "text/plain": [
       "[<matplotlib.lines.Line2D at 0x231c3da5438>]"
      ]
     },
     "execution_count": 65,
     "metadata": {},
     "output_type": "execute_result"
    },
    {
     "data": {
      "image/png": "[encoded data removed]",
      "text/plain": [
       "<Figure size 432x288 with 1 Axes>"
      ]
     },
     "metadata": {},
     "output_type": "display_data"
    }
   ],
   "source": [
    "import matplotlib.pyplot as plt\n",
    "\n",
    "with open(\"xy.dat\", \"rb\") as f:\n",
    "    x = np.load(f)\n",
    "    y = np.load(f)\n",
    "\n",
    "plt.plot(x, y, 'o')"
   ]
  },
  {
   "cell_type": "markdown",
   "metadata": {},
   "source": [
    "# Solving equation systems"
   ]
  },
  {
   "cell_type": "markdown",
   "metadata": {},
   "source": [
    "A common operation in linear algebra is the ability to solve an equation system in the form\n",
    "\n",
    "Ax = b\n",
    "\n",
    "NumPy contains a function **np.linalg()** to do just that:"
   ]
  },
  {
   "cell_type": "code",
   "execution_count": 66,
   "metadata": {},
   "outputs": [
    {
     "name": "stdout",
     "output_type": "stream",
     "text": [
      "[[ 1  2  3]\n",
      " [11 12 13]\n",
      " [21 22 23]]\n",
      "[[1]\n",
      " [2]\n",
      " [3]]\n",
      "[[ 0.01733746]\n",
      " [-0.73467492]\n",
      " [ 0.81733746]]\n"
     ]
    }
   ],
   "source": [
    "A = np.matrix(\n",
    "    [[1, 2, 3], \n",
    "     [11, 12, 13], \n",
    "     [21, 22, 23]]\n",
    ")\n",
    "\n",
    "x = np.matrix(\n",
    "    [[1], \n",
    "     [2], \n",
    "     [3]])\n",
    "\n",
    "print(A)\n",
    "print(x)\n",
    "\n",
    "b = np.linalg.solve(A, x)\n",
    "\n",
    "print(b)"
   ]
  },
  {
   "cell_type": "markdown",
   "metadata": {},
   "source": [
    "### Alternative form"
   ]
  },
  {
   "cell_type": "code",
   "execution_count": 67,
   "metadata": {},
   "outputs": [
    {
     "name": "stdout",
     "output_type": "stream",
     "text": [
      "[[ 1  2  3]\n",
      " [11 12 13]\n",
      " [21 22 23]]\n",
      "[[1 3]\n",
      " [2 5]\n",
      " [3 7]]\n",
      "[[ 0.01733746 -0.04272446]\n",
      " [-0.73467492 -2.31455108]\n",
      " [ 0.81733746  2.55727554]]\n"
     ]
    }
   ],
   "source": [
    "A = np.matrix(\n",
    "    [[1, 2, 3], \n",
    "     [11, 12, 13],\n",
    "     [21, 22, 23]]\n",
    ")\n",
    "x = np.matrix(\n",
    "    [[1, 3],\n",
    "     [2, 5],\n",
    "     [3, 7]]\n",
    ")\n",
    "\n",
    "print(A)\n",
    "print(x)\n",
    "\n",
    "b = np.linalg.solve(A, x)\n",
    "\n",
    "print(b)"
   ]
  },
  {
   "cell_type": "code",
   "execution_count": null,
   "metadata": {},
   "outputs": [],
   "source": []
  }
 ],
 "metadata": {
  "kernelspec": {
   "display_name": "Python 3",
   "language": "python",
   "name": "python3"
  },
  "language_info": {
   "codemirror_mode": {
    "name": "ipython",
    "version": 3
   },
   "file_extension": ".py",
   "mimetype": "text/x-python",
   "name": "python",
   "nbconvert_exporter": "python",
   "pygments_lexer": "ipython3",
   "version": "3.6.5"
  }
 },
 "nbformat": 4,
 "nbformat_minor": 2
}
