{
 "cells": [
  {
   "cell_type": "markdown",
   "metadata": {},
   "source": [
    "# System functions"
   ]
  },
  {
   "cell_type": "markdown",
   "metadata": {},
   "source": [
    "## Environment variables"
   ]
  },
  {
   "cell_type": "code",
   "execution_count": 3,
   "metadata": {},
   "outputs": [
    {
     "name": "stdout",
     "output_type": "stream",
     "text": [
      "C:\\Users\\jonas\\Anaconda3;C:\\Users\\jonas\\Anaconda3\\Library\\mingw-w64\\bin;C:\\Users\\jonas\\Anaconda3\\Library\\usr\\bin;C:\\Users\\jonas\\Anaconda3\\Library\\bin;C:\\Users\\jonas\\Anaconda3\\Scripts;C:\\Users\\jonas\\Anaconda3\\bin;C:\\Users\\jonas\\Anaconda3\\condabin;C:\\Program Files (x86)\\Common Files\\Intel\\Shared Libraries\\redist\\intel64_win\\mpirt;C:\\Program Files (x86)\\Common Files\\Intel\\Shared Libraries\\redist\\intel64_win\\compiler;C:\\Program Files (x86)\\Common Files\\Intel\\Shared Libraries\\redist\\ia32_win\\mpirt;C:\\Program Files (x86)\\Common Files\\Intel\\Shared Libraries\\redist\\ia32_win\\compiler;C:\\Program Files (x86)\\Embarcadero\\Studio\\20.0\\bin;C:\\Users\\Public\\Documents\\Embarcadero\\Studio\\20.0\\Bpl;C:\\Program Files (x86)\\Embarcadero\\Studio\\20.0\\bin64;C:\\Users\\Public\\Documents\\Embarcadero\\Studio\\20.0\\Bpl\\Win64;C:\\Program Files\\ImageMagick-7.0.8-Q16;C:\\Program Files (x86)\\Common Files\\Oracle\\Java\\javapath;C:\\Perl64\\site\\bin;C:\\Perl64\\bin;C:\\WINDOWS\\system32;C:\\WINDOWS;C:\\WINDOWS\\System32\\Wbem;C:\\WINDOWS\\System32\\WindowsPowerShell\\v1.0;C:\\Program Files\\Microsoft VS Code\\bin;C:\\WINDOWS\\System32\\OpenSSH;C:\\Program Files\\Git\\cmd;C:\\Program Files (x86)\\Plantronics\\Spokes3G;C:\\Program Files\\PuTTY;C:\\Program Files\\NVIDIA Corporation\\NVIDIA NvDLISR;C:\\Program Files (x86)\\NVIDIA Corporation\\PhysX\\Common;C:\\Users\\jonas\\AppData\\Local\\Microsoft\\WindowsApps;C:\\Users\\jonas\\AppData\\Local\\GitHubDesktop\\bin;C:\\Program Files\\CMake\\bin;C:\\Users\\jonas\\AppData\\Local\\Programs\\MiKTeX 2.9\\miktex\\bin\\x64;C:\\Users\\jonas\\AppData\\Local\\Pandoc;C:\\Users\\jonas\\AppData\\Local\\Microsoft\\WindowsApps;.\n",
      "ALLUSERSPROFILE = C:\\ProgramData\n",
      "APPDATA = C:\\Users\\jonas\\AppData\\Roaming\n",
      "COMMONPROGRAMFILES = C:\\Program Files\\Common Files\n",
      "COMMONPROGRAMFILES(X86) = C:\\Program Files (x86)\\Common Files\n",
      "COMMONPROGRAMW6432 = C:\\Program Files\\Common Files\n",
      "COMPUTERNAME = DESKTOP-M9V6P2E\n",
      "COMSPEC = C:\\WINDOWS\\system32\\cmd.exe\n",
      "CONDA_DEFAULT_ENV = base\n",
      "CONDA_EXE = C:\\Users\\jonas\\Anaconda3\\Scripts\\conda.exe\n",
      "CONDA_PREFIX = C:\\Users\\jonas\\Anaconda3\n",
      "CONDA_PROMPT_MODIFIER = (base) \n",
      "CONDA_PYTHON_EXE = C:\\Users\\jonas\\Anaconda3\\python.exe\n",
      "CONDA_SHLVL = 1\n",
      "DRIVERDATA = C:\\Windows\\System32\\Drivers\\DriverData\n",
      "FPS_BROWSER_APP_PROFILE_STRING = Internet Explorer\n",
      "FPS_BROWSER_USER_PROFILE_STRING = Default\n",
      "HOMEDRIVE = C:\n",
      "HOMEPATH = \\Users\\jonas\n",
      "IFORT_COMPILER19 = C:\\Program Files (x86)\\IntelSWTools\\compilers_and_libraries_2019.4.245\\windows\\\n",
      "INTEL_DEV_REDIST = C:\\Program Files (x86)\\Common Files\\Intel\\Shared Libraries\\\n",
      "INTEL_LICENSE_FILE = C:\\Program Files (x86)\\Common Files\\Intel\\Licenses\n",
      "LOCALAPPDATA = C:\\Users\\jonas\\AppData\\Local\n",
      "LOGONSERVER = \\\\DESKTOP-M9V6P2E\n",
      "NUMBER_OF_PROCESSORS = 8\n",
      "ONEDRIVE = C:\\Users\\jonas\\OneDrive - Lund University\n",
      "ONEDRIVECOMMERCIAL = C:\\Users\\jonas\\OneDrive - Lund University\n",
      "ONEDRIVECONSUMER = C:\\Users\\jonas\\OneDrive\n",
      "OS = Windows_NT\n",
      "PATH = C:\\Users\\jonas\\Anaconda3;C:\\Users\\jonas\\Anaconda3\\Library\\mingw-w64\\bin;C:\\Users\\jonas\\Anaconda3\\Library\\usr\\bin;C:\\Users\\jonas\\Anaconda3\\Library\\bin;C:\\Users\\jonas\\Anaconda3\\Scripts;C:\\Users\\jonas\\Anaconda3\\bin;C:\\Users\\jonas\\Anaconda3\\condabin;C:\\Program Files (x86)\\Common Files\\Intel\\Shared Libraries\\redist\\intel64_win\\mpirt;C:\\Program Files (x86)\\Common Files\\Intel\\Shared Libraries\\redist\\intel64_win\\compiler;C:\\Program Files (x86)\\Common Files\\Intel\\Shared Libraries\\redist\\ia32_win\\mpirt;C:\\Program Files (x86)\\Common Files\\Intel\\Shared Libraries\\redist\\ia32_win\\compiler;C:\\Program Files (x86)\\Embarcadero\\Studio\\20.0\\bin;C:\\Users\\Public\\Documents\\Embarcadero\\Studio\\20.0\\Bpl;C:\\Program Files (x86)\\Embarcadero\\Studio\\20.0\\bin64;C:\\Users\\Public\\Documents\\Embarcadero\\Studio\\20.0\\Bpl\\Win64;C:\\Program Files\\ImageMagick-7.0.8-Q16;C:\\Program Files (x86)\\Common Files\\Oracle\\Java\\javapath;C:\\Perl64\\site\\bin;C:\\Perl64\\bin;C:\\WINDOWS\\system32;C:\\WINDOWS;C:\\WINDOWS\\System32\\Wbem;C:\\WINDOWS\\System32\\WindowsPowerShell\\v1.0;C:\\Program Files\\Microsoft VS Code\\bin;C:\\WINDOWS\\System32\\OpenSSH;C:\\Program Files\\Git\\cmd;C:\\Program Files (x86)\\Plantronics\\Spokes3G;C:\\Program Files\\PuTTY;C:\\Program Files\\NVIDIA Corporation\\NVIDIA NvDLISR;C:\\Program Files (x86)\\NVIDIA Corporation\\PhysX\\Common;C:\\Users\\jonas\\AppData\\Local\\Microsoft\\WindowsApps;C:\\Users\\jonas\\AppData\\Local\\GitHubDesktop\\bin;C:\\Program Files\\CMake\\bin;C:\\Users\\jonas\\AppData\\Local\\Programs\\MiKTeX 2.9\\miktex\\bin\\x64;C:\\Users\\jonas\\AppData\\Local\\Pandoc;C:\\Users\\jonas\\AppData\\Local\\Microsoft\\WindowsApps;.\n",
      "PATHEXT = .COM;.EXE;.BAT;.CMD;.VBS;.VBE;.JS;.JSE;.WSF;.WSH;.MSC\n",
      "PROCESSOR_ARCHITECTURE = AMD64\n",
      "PROCESSOR_IDENTIFIER = Intel64 Family 6 Model 142 Stepping 10, GenuineIntel\n",
      "PROCESSOR_LEVEL = 6\n",
      "PROCESSOR_REVISION = 8e0a\n",
      "PROGRAMDATA = C:\\ProgramData\n",
      "PROGRAMFILES = C:\\Program Files\n",
      "PROGRAMFILES(X86) = C:\\Program Files (x86)\n",
      "PROGRAMW6432 = C:\\Program Files\n",
      "PROMPT = (base) $P$G\n",
      "PSMODULEPATH = C:\\Program Files\\WindowsPowerShell\\Modules;C:\\WINDOWS\\system32\\WindowsPowerShell\\v1.0\\Modules\n",
      "PUBLIC = C:\\Users\\Public\n",
      "PYTHONPATH = C:\\Users\\jonas\\Desktop\\calfem-python-master\n",
      "SESSIONNAME = Console\n",
      "SYSTEMDRIVE = C:\n",
      "SYSTEMROOT = C:\\WINDOWS\n",
      "TEMP = C:\\Users\\jonas\\AppData\\Local\\Temp\n",
      "TMP = C:\\Users\\jonas\\AppData\\Local\\Temp\n",
      "USERDOMAIN = DESKTOP-M9V6P2E\n",
      "USERDOMAIN_ROAMINGPROFILE = DESKTOP-M9V6P2E\n",
      "USERNAME = jonas\n",
      "USERPROFILE = C:\\Users\\jonas\n",
      "VS2017INSTALLDIR = C:\\Program Files (x86)\\Microsoft Visual Studio\\2017\\Community\n",
      "WINDIR = C:\\WINDOWS\n",
      "JPY_INTERRUPT_EVENT = 2284\n",
      "IPY_INTERRUPT_EVENT = 2284\n",
      "JPY_PARENT_PID = 2440\n",
      "TERM = xterm-color\n",
      "CLICOLOR = 1\n",
      "PAGER = cat\n",
      "GIT_PAGER = cat\n",
      "MPLBACKEND = module://ipykernel.pylab.backend_inline\n",
      "Nytt värde\n"
     ]
    }
   ],
   "source": [
    "import os\n",
    "\n",
    "print(os.environ[\"PATH\"])\n",
    "\n",
    "for variable in os.environ:\n",
    "    print(\"%s = %s\" % (variable, os.environ[variable]))\n",
    "\n",
    "os.environ[\"TEST\"] = \"Nytt värde\"\n",
    "print(os.environ[\"TEST\"])"
   ]
  },
  {
   "cell_type": "markdown",
   "metadata": {},
   "source": [
    "## Accessing the system path"
   ]
  },
  {
   "cell_type": "code",
   "execution_count": 4,
   "metadata": {},
   "outputs": [
    {
     "name": "stdout",
     "output_type": "stream",
     "text": [
      "C:\\Users\\jonas\\Anaconda3\n",
      "C:\\Users\\jonas\\Anaconda3\\Library\\mingw-w64\\bin\n",
      "C:\\Users\\jonas\\Anaconda3\\Library\\usr\\bin\n",
      "C:\\Users\\jonas\\Anaconda3\\Library\\bin\n",
      "C:\\Users\\jonas\\Anaconda3\\Scripts\n",
      "C:\\Users\\jonas\\Anaconda3\\bin\n",
      "C:\\Users\\jonas\\Anaconda3\\condabin\n",
      "C:\\Program Files (x86)\\Common Files\\Intel\\Shared Libraries\\redist\\intel64_win\\mpirt\n",
      "C:\\Program Files (x86)\\Common Files\\Intel\\Shared Libraries\\redist\\intel64_win\\compiler\n",
      "C:\\Program Files (x86)\\Common Files\\Intel\\Shared Libraries\\redist\\ia32_win\\mpirt\n",
      "C:\\Program Files (x86)\\Common Files\\Intel\\Shared Libraries\\redist\\ia32_win\\compiler\n",
      "C:\\Program Files (x86)\\Embarcadero\\Studio\\20.0\\bin\n",
      "C:\\Users\\Public\\Documents\\Embarcadero\\Studio\\20.0\\Bpl\n",
      "C:\\Program Files (x86)\\Embarcadero\\Studio\\20.0\\bin64\n",
      "C:\\Users\\Public\\Documents\\Embarcadero\\Studio\\20.0\\Bpl\\Win64\n",
      "C:\\Program Files\\ImageMagick-7.0.8-Q16\n",
      "C:\\Program Files (x86)\\Common Files\\Oracle\\Java\\javapath\n",
      "C:\\Perl64\\site\\bin\n",
      "C:\\Perl64\\bin\n",
      "C:\\WINDOWS\\system32\n",
      "C:\\WINDOWS\n",
      "C:\\WINDOWS\\System32\\Wbem\n",
      "C:\\WINDOWS\\System32\\WindowsPowerShell\\v1.0\n",
      "C:\\Program Files\\Microsoft VS Code\\bin\n",
      "C:\\WINDOWS\\System32\\OpenSSH\n",
      "C:\\Program Files\\Git\\cmd\n",
      "C:\\Program Files (x86)\\Plantronics\\Spokes3G\n",
      "C:\\Program Files\\PuTTY\n",
      "C:\\Program Files\\NVIDIA Corporation\\NVIDIA NvDLISR\n",
      "C:\\Program Files (x86)\\NVIDIA Corporation\\PhysX\\Common\n",
      "C:\\Users\\jonas\\AppData\\Local\\Microsoft\\WindowsApps\n",
      "C:\\Users\\jonas\\AppData\\Local\\GitHubDesktop\\bin\n",
      "C:\\Program Files\\CMake\\bin\n",
      "C:\\Users\\jonas\\AppData\\Local\\Programs\\MiKTeX 2.9\\miktex\\bin\\x64\n",
      "C:\\Users\\jonas\\AppData\\Local\\Pandoc\n",
      "C:\\Users\\jonas\\AppData\\Local\\Microsoft\\WindowsApps\n",
      ".\n"
     ]
    }
   ],
   "source": [
    "import os\n",
    "\n",
    "exe_path_list = os.get_exec_path()\n",
    "\n",
    "for path in exe_path_list:\n",
    "    print(path)"
   ]
  },
  {
   "cell_type": "markdown",
   "metadata": {},
   "source": [
    "## Changing and querying the working directory"
   ]
  },
  {
   "cell_type": "code",
   "execution_count": 5,
   "metadata": {},
   "outputs": [
    {
     "name": "stdout",
     "output_type": "stream",
     "text": [
      "C:\\Users\\jonas\\Development\\guide_to_python\\chapters\\kapitel4\\notebook\n",
      "C:\\Users\\jonas\\Development\\guide_to_python\\chapters\\kapitel4\n"
     ]
    }
   ],
   "source": [
    "import os\n",
    "\n",
    "cwd = os.getcwd()\n",
    "print(cwd)\n",
    "\n",
    "os.chdir(\"..\")\n",
    "print(os.getcwd())\n",
    "os.chdir(cwd)"
   ]
  },
  {
   "cell_type": "markdown",
   "metadata": {},
   "source": [
    "## Listing files in a directory"
   ]
  },
  {
   "cell_type": "code",
   "execution_count": 6,
   "metadata": {},
   "outputs": [
    {
     "name": "stdout",
     "output_type": "stream",
     "text": [
      ".ipynb_checkpoints\n",
      "Builtin functions.ipynb\n",
      "Katalog: .ipynb_checkpoints\n",
      "Fil    : Builtin functions.ipynb\n"
     ]
    }
   ],
   "source": [
    "import os\n",
    "\n",
    "for item in os.listdir():\n",
    "    print(item)\n",
    "\n",
    "for item in os.listdir():\n",
    "    if os.path.isdir(item):\n",
    "        print(\"Katalog:\", item)\n",
    "    if os.path.isfile(item):\n",
    "        print(\"Fil    :\", item)"
   ]
  },
  {
   "cell_type": "markdown",
   "metadata": {},
   "source": [
    "## Directory manipulation"
   ]
  },
  {
   "cell_type": "code",
   "execution_count": 7,
   "metadata": {},
   "outputs": [
    {
     "name": "stdout",
     "output_type": "stream",
     "text": [
      "['testdir', 'testfile']\n",
      "['testdir', 'testfile2']\n",
      "[]\n"
     ]
    }
   ],
   "source": [
    "import os\n",
    "\n",
    "cwd = os.getcwd()\n",
    "\n",
    "if not os.path.exists(\"os5\"):\n",
    "    os.mkdir(\"os5\")\n",
    "\n",
    "os.chdir(\"os5\")\n",
    "\n",
    "os.mkdir(\"testdir\")\n",
    "\n",
    "with open(\"testfile\", \"w\") as f:\n",
    "    f.write(\"testfile\")\n",
    "\n",
    "print(os.listdir())\n",
    "\n",
    "os.rename(\"testfile\", \"testfile2\")\n",
    "\n",
    "print(os.listdir())\n",
    "\n",
    "os.rmdir(\"testdir\")\n",
    "os.remove(\"testfile2\")\n",
    "\n",
    "print(os.listdir())\n",
    "\n",
    "os.chdir(cwd)"
   ]
  },
  {
   "cell_type": "markdown",
   "metadata": {},
   "source": [
    "## Listing and querying file information"
   ]
  },
  {
   "cell_type": "code",
   "execution_count": 8,
   "metadata": {},
   "outputs": [
    {
     "name": "stdout",
     "output_type": "stream",
     "text": [
      "------------------------\n",
      "name .ipynb_checkpoints\n",
      "path .\\.ipynb_checkpoints\n",
      "is_dir True\n",
      "is_file False\n",
      "------------------------\n",
      "name Builtin functions.ipynb\n",
      "path .\\Builtin functions.ipynb\n",
      "is_dir False\n",
      "is_file True\n",
      "------------------------\n",
      "name os5\n",
      "path .\\os5\n",
      "is_dir True\n",
      "is_file False\n"
     ]
    }
   ],
   "source": [
    "import os\n",
    "\n",
    "with os.scandir() as it:\n",
    "    for entry in it:\n",
    "        print(\"------------------------\")\n",
    "        print(\"name\", entry.name)\n",
    "        print(\"path\", entry.path)\n",
    "        print(\"is_dir\", entry.is_dir())\n",
    "        print(\"is_file\", entry.is_file())"
   ]
  },
  {
   "cell_type": "markdown",
   "metadata": {},
   "source": [
    "## Walking directories with os.walk()"
   ]
  },
  {
   "cell_type": "code",
   "execution_count": 10,
   "metadata": {},
   "outputs": [
    {
     "name": "stdout",
     "output_type": "stream",
     "text": [
      "--->\n",
      ".\n",
      "['.ipynb_checkpoints', 'os5']\n",
      "['Builtin functions.ipynb']\n",
      "<---\n",
      "--->\n",
      ".\\.ipynb_checkpoints\n",
      "[]\n",
      "['Builtin functions-checkpoint.ipynb']\n",
      "<---\n",
      "--->\n",
      ".\\os5\n",
      "[]\n",
      "[]\n",
      "<---\n"
     ]
    }
   ],
   "source": [
    "import os\n",
    "\n",
    "for root, dirs, files in os.walk(\".\"):\n",
    "    print(\"--->\")\n",
    "    print(root)\n",
    "    print(dirs)\n",
    "    print(files)\n",
    "    print(\"<---\")"
   ]
  },
  {
   "cell_type": "markdown",
   "metadata": {},
   "source": [
    "## Querying file information"
   ]
  },
  {
   "cell_type": "code",
   "execution_count": 12,
   "metadata": {},
   "outputs": [
    {
     "name": "stdout",
     "output_type": "stream",
     "text": [
      "os.stat_result(st_mode=16895, st_ino=25051272927253619, st_dev=2191977996, st_nlink=1, st_uid=0, st_gid=0, st_size=0, st_atime=1568901298, st_mtime=1568901298, st_ctime=1568901298)\n"
     ]
    }
   ],
   "source": [
    "import os\n",
    "\n",
    "statinfo = os.stat(\"os5\")\n",
    "\n",
    "print(statinfo)"
   ]
  },
  {
   "cell_type": "markdown",
   "metadata": {},
   "source": [
    "## Path manipulation"
   ]
  },
  {
   "cell_type": "code",
   "execution_count": 13,
   "metadata": {},
   "outputs": [
    {
     "name": "stdout",
     "output_type": "stream",
     "text": [
      "C:\\Users\\jonas\\Development\\guide_to_python\\chapters\\kapitel4\\notebook\n",
      "test.txt\n",
      "/home/user\n",
      "test.txt is not valid\n",
      "C:\\Users\\jonas\n"
     ]
    },
    {
     "ename": "FileNotFoundError",
     "evalue": "[WinError 2] Det går inte att hitta filen: 'ospath1.py'",
     "output_type": "error",
     "traceback": [
      "\u001b[1;31m---------------------------------------------------------------------------\u001b[0m",
      "\u001b[1;31mFileNotFoundError\u001b[0m                         Traceback (most recent call last)",
      "\u001b[1;32m<ipython-input-13-4520327eda24>\u001b[0m in \u001b[0;36m<module>\u001b[1;34m\u001b[0m\n\u001b[0;32m     12\u001b[0m \u001b[0mprint\u001b[0m\u001b[1;33m(\u001b[0m\u001b[0mos\u001b[0m\u001b[1;33m.\u001b[0m\u001b[0mpath\u001b[0m\u001b[1;33m.\u001b[0m\u001b[0mexpanduser\u001b[0m\u001b[1;33m(\u001b[0m\u001b[1;34m'~'\u001b[0m\u001b[1;33m)\u001b[0m\u001b[1;33m)\u001b[0m\u001b[1;33m\u001b[0m\u001b[1;33m\u001b[0m\u001b[0m\n\u001b[0;32m     13\u001b[0m \u001b[1;33m\u001b[0m\u001b[0m\n\u001b[1;32m---> 14\u001b[1;33m \u001b[0mprint\u001b[0m\u001b[1;33m(\u001b[0m\u001b[0mos\u001b[0m\u001b[1;33m.\u001b[0m\u001b[0mpath\u001b[0m\u001b[1;33m.\u001b[0m\u001b[0mgetatime\u001b[0m\u001b[1;33m(\u001b[0m\u001b[1;34m'ospath1.py'\u001b[0m\u001b[1;33m)\u001b[0m\u001b[1;33m)\u001b[0m\u001b[1;33m\u001b[0m\u001b[1;33m\u001b[0m\u001b[0m\n\u001b[0m\u001b[0;32m     15\u001b[0m \u001b[0mprint\u001b[0m\u001b[1;33m(\u001b[0m\u001b[0mos\u001b[0m\u001b[1;33m.\u001b[0m\u001b[0mpath\u001b[0m\u001b[1;33m.\u001b[0m\u001b[0mgetmtime\u001b[0m\u001b[1;33m(\u001b[0m\u001b[1;34m'ospath1.py'\u001b[0m\u001b[1;33m)\u001b[0m\u001b[1;33m)\u001b[0m\u001b[1;33m\u001b[0m\u001b[1;33m\u001b[0m\u001b[0m\n\u001b[0;32m     16\u001b[0m \u001b[0mprint\u001b[0m\u001b[1;33m(\u001b[0m\u001b[0mos\u001b[0m\u001b[1;33m.\u001b[0m\u001b[0mpath\u001b[0m\u001b[1;33m.\u001b[0m\u001b[0mgetctime\u001b[0m\u001b[1;33m(\u001b[0m\u001b[1;34m'ospath1.py'\u001b[0m\u001b[1;33m)\u001b[0m\u001b[1;33m)\u001b[0m\u001b[1;33m\u001b[0m\u001b[1;33m\u001b[0m\u001b[0m\n",
      "\u001b[1;32m~\\Anaconda3\\lib\\genericpath.py\u001b[0m in \u001b[0;36mgetatime\u001b[1;34m(filename)\u001b[0m\n\u001b[0;32m     58\u001b[0m \u001b[1;32mdef\u001b[0m \u001b[0mgetatime\u001b[0m\u001b[1;33m(\u001b[0m\u001b[0mfilename\u001b[0m\u001b[1;33m)\u001b[0m\u001b[1;33m:\u001b[0m\u001b[1;33m\u001b[0m\u001b[1;33m\u001b[0m\u001b[0m\n\u001b[0;32m     59\u001b[0m     \u001b[1;34m\"\"\"Return the last access time of a file, reported by os.stat().\"\"\"\u001b[0m\u001b[1;33m\u001b[0m\u001b[1;33m\u001b[0m\u001b[0m\n\u001b[1;32m---> 60\u001b[1;33m     \u001b[1;32mreturn\u001b[0m \u001b[0mos\u001b[0m\u001b[1;33m.\u001b[0m\u001b[0mstat\u001b[0m\u001b[1;33m(\u001b[0m\u001b[0mfilename\u001b[0m\u001b[1;33m)\u001b[0m\u001b[1;33m.\u001b[0m\u001b[0mst_atime\u001b[0m\u001b[1;33m\u001b[0m\u001b[1;33m\u001b[0m\u001b[0m\n\u001b[0m\u001b[0;32m     61\u001b[0m \u001b[1;33m\u001b[0m\u001b[0m\n\u001b[0;32m     62\u001b[0m \u001b[1;33m\u001b[0m\u001b[0m\n",
      "\u001b[1;31mFileNotFoundError\u001b[0m: [WinError 2] Det går inte att hitta filen: 'ospath1.py'"
     ]
    }
   ],
   "source": [
    "import os\n",
    "\n",
    "print(os.path.abspath('.'))\n",
    "print(os.path.basename('/home/user/test.txt'))\n",
    "print(os.path.dirname('/home/user/test.txt'))\n",
    "\n",
    "if os.path.exists('/home/user/test.txt'):\n",
    "    print('test.txt is valid')\n",
    "else:\n",
    "    print('test.txt is not valid')\n",
    "\n",
    "print(os.path.expanduser('~'))\n",
    "\n",
    "print(os.path.getatime('ospath1.py'))\n",
    "print(os.path.getmtime('ospath1.py'))\n",
    "print(os.path.getctime('ospath1.py'))\n",
    "\n",
    "print(os.path.getsize('ospath1.py'))\n",
    "\n",
    "if os.path.isabs('ospath1.py'):\n",
    "    print('Absolute path')\n",
    "else:\n",
    "    print('No absolute path')\n",
    "\n",
    "if os.path.isabs(\"C:/Users/jonas/Development/python_book/examples/rtl/ospath1.py\"):\n",
    "    print('Absolute path')\n",
    "else:\n",
    "    print('No absolute path')\n",
    "\n",
    "if os.path.isfile('ospath1.py'):\n",
    "    print('ospath1.py is a file')\n",
    "else:\n",
    "    print('ospath1.py is not a file')\n",
    "\n",
    "if os.path.isdir('ospath1.py'):\n",
    "    print('ospath1.py is a directory')\n",
    "else:\n",
    "    print('ospath1.py is not a directory')\n",
    "\n",
    "dir_name = 'c:\\\\Users\\\\jonas'\n",
    "file_name = 'test.txt'\n",
    "\n",
    "file_path = os.path.join(dir_name, file_name)\n",
    "\n",
    "print(file_path)\n",
    "print(os.path.split(file_path))\n",
    "print(os.path.splitdrive(file_path))\n",
    "print(os.path.splitext(file_path))"
   ]
  },
  {
   "cell_type": "markdown",
   "metadata": {},
   "source": [
    "## Path manipulation using pathlib"
   ]
  },
  {
   "cell_type": "code",
   "execution_count": 14,
   "metadata": {},
   "outputs": [
    {
     "name": "stdout",
     "output_type": "stream",
     "text": [
      "test\n",
      "False\n",
      "test\n",
      "('test',)\n",
      "\n",
      "C:\\Users\\jonas\\Development\\guide_to_python\\chapters\\kapitel4\\notebook\n",
      "True\n",
      "True\n",
      "False\n",
      "C:\\Users\\jonas\n"
     ]
    }
   ],
   "source": [
    "import pathlib as pl\n",
    "\n",
    "p = pl.Path('.')\n",
    "p = p / \"test\"\n",
    "print(p)\n",
    "\n",
    "print(p.exists())\n",
    "\n",
    "q = p.resolve()\n",
    "print(q)\n",
    "\n",
    "\n",
    "print(q.parts)\n",
    "print(q.drive)\n",
    "\n",
    "r = pl.Path.cwd()\n",
    "print(r)\n",
    "\n",
    "print(r.exists())\n",
    "print(r.is_dir())\n",
    "print(r.is_file())\n",
    "\n",
    "\n",
    "s = pl.Path.home()\n",
    "print(s)"
   ]
  },
  {
   "cell_type": "markdown",
   "metadata": {},
   "source": [
    "## Iterating with pathlib"
   ]
  },
  {
   "cell_type": "code",
   "execution_count": 15,
   "metadata": {},
   "outputs": [
    {
     "name": "stdout",
     "output_type": "stream",
     "text": [
      ".ipynb_checkpoints - katalog\n",
      "Builtin functions.ipynb - fil\n",
      "os5 - katalog\n"
     ]
    }
   ],
   "source": [
    "import pathlib as pl\n",
    "\n",
    "p = pl.Path(\".\")\n",
    "\n",
    "for x in p.iterdir():\n",
    "    if x.is_dir():\n",
    "        print(x,'- katalog')\n",
    "    else:\n",
    "        print(x,'- fil')"
   ]
  },
  {
   "cell_type": "markdown",
   "metadata": {},
   "source": [
    "## Current path manipulation using pathlib"
   ]
  },
  {
   "cell_type": "code",
   "execution_count": 16,
   "metadata": {},
   "outputs": [
    {
     "name": "stdout",
     "output_type": "stream",
     "text": [
      "C:\\Users\\jonas\\Development\\guide_to_python\\chapters\\kapitel4\n"
     ]
    }
   ],
   "source": [
    "import os\n",
    "import pathlib as pl\n",
    "\n",
    "p = pl.Path('..')\n",
    "\n",
    "os.chdir(p)\n",
    "\n",
    "q = pl.Path.cwd()\n",
    "print(q)"
   ]
  },
  {
   "cell_type": "code",
   "execution_count": 17,
   "metadata": {},
   "outputs": [
    {
     "name": "stdout",
     "output_type": "stream",
     "text": [
      "C:\\Users\\jonas\\Development\\guide_to_python\\chapters\n",
      "C:\\Users\\jonas\\Development\\guide_to_python\\chapters\\kapitel4\n"
     ]
    }
   ],
   "source": [
    "import os\n",
    "import pathlib as pl\n",
    "\n",
    "new_path = pl.Path('..')\n",
    "old_path = pl.Path.cwd()\n",
    "\n",
    "os.chdir(new_path)\n",
    "\n",
    "print(pl.Path.cwd())\n",
    "\n",
    "os.chdir(old_path)\n",
    "\n",
    "print(pl.Path.cwd())"
   ]
  },
  {
   "cell_type": "markdown",
   "metadata": {},
   "source": [
    "## Temporary files"
   ]
  },
  {
   "cell_type": "code",
   "execution_count": 18,
   "metadata": {},
   "outputs": [
    {
     "name": "stdout",
     "output_type": "stream",
     "text": [
      "Temporär fil C:\\Users\\jonas\\AppData\\Local\\Temp\\tmp9cj3y2hj skapad.\n",
      "Är det en faktiskt fil: True\n",
      "this is written to the temp file\n",
      "False\n"
     ]
    }
   ],
   "source": [
    "import os, tempfile\n",
    "\n",
    "temp_fd, temp_path = tempfile.mkstemp()\n",
    "\n",
    "print('Temporär fil', temp_path, 'skapad.')\n",
    "print('Är det en faktiskt fil:', os.path.isfile(temp_path))\n",
    "\n",
    "try:\n",
    "    with open(temp_fd, 'w+t') as temp_file:\n",
    "        temp_file = open(temp_fd, 'w+t')\n",
    "        temp_file.write('this is written to the temp file')\n",
    "        temp_file.seek(0)\n",
    "        print(temp_file.read())\n",
    "finally:\n",
    "    os.remove(temp_path)\n",
    "\n",
    "print(os.path.isfile(temp_path))"
   ]
  },
  {
   "cell_type": "code",
   "execution_count": 19,
   "metadata": {},
   "outputs": [
    {
     "name": "stdout",
     "output_type": "stream",
     "text": [
      "Temporär fil C:\\Users\\jonas\\AppData\\Local\\Temp\\tmpmc_qaybl skapad.\n",
      "False\n"
     ]
    },
    {
     "ename": "OSError",
     "evalue": "[Errno 9] Bad file descriptor",
     "output_type": "error",
     "traceback": [
      "\u001b[1;31m---------------------------------------------------------------------------\u001b[0m",
      "\u001b[1;31mOSError\u001b[0m                                   Traceback (most recent call last)",
      "\u001b[1;32m<ipython-input-19-f534fc2fc88c>\u001b[0m in \u001b[0;36m<module>\u001b[1;34m\u001b[0m\n\u001b[0;32m      6\u001b[0m     \u001b[0mtemp_file\u001b[0m\u001b[1;33m.\u001b[0m\u001b[0mwrite\u001b[0m\u001b[1;33m(\u001b[0m\u001b[1;34m'this is written to the temp file'\u001b[0m\u001b[1;33m)\u001b[0m\u001b[1;33m\u001b[0m\u001b[1;33m\u001b[0m\u001b[0m\n\u001b[1;32m----> 7\u001b[1;33m     \u001b[0mtemp_file\u001b[0m\u001b[1;33m.\u001b[0m\u001b[0mseek\u001b[0m\u001b[1;33m(\u001b[0m\u001b[1;36m0\u001b[0m\u001b[1;33m)\u001b[0m\u001b[1;33m\u001b[0m\u001b[1;33m\u001b[0m\u001b[0m\n\u001b[0m\u001b[0;32m      8\u001b[0m     \u001b[0mprint\u001b[0m\u001b[1;33m(\u001b[0m\u001b[0mtemp_file\u001b[0m\u001b[1;33m.\u001b[0m\u001b[0mread\u001b[0m\u001b[1;33m(\u001b[0m\u001b[1;33m)\u001b[0m\u001b[1;33m)\u001b[0m\u001b[1;33m\u001b[0m\u001b[1;33m\u001b[0m\u001b[0m\n",
      "\u001b[1;32m~\\Anaconda3\\lib\\tempfile.py\u001b[0m in \u001b[0;36mfunc_wrapper\u001b[1;34m(*args, **kwargs)\u001b[0m\n\u001b[0;32m    480\u001b[0m             \u001b[1;32mdef\u001b[0m \u001b[0mfunc_wrapper\u001b[0m\u001b[1;33m(\u001b[0m\u001b[1;33m*\u001b[0m\u001b[0margs\u001b[0m\u001b[1;33m,\u001b[0m \u001b[1;33m**\u001b[0m\u001b[0mkwargs\u001b[0m\u001b[1;33m)\u001b[0m\u001b[1;33m:\u001b[0m\u001b[1;33m\u001b[0m\u001b[1;33m\u001b[0m\u001b[0m\n\u001b[1;32m--> 481\u001b[1;33m                 \u001b[1;32mreturn\u001b[0m \u001b[0mfunc\u001b[0m\u001b[1;33m(\u001b[0m\u001b[1;33m*\u001b[0m\u001b[0margs\u001b[0m\u001b[1;33m,\u001b[0m \u001b[1;33m**\u001b[0m\u001b[0mkwargs\u001b[0m\u001b[1;33m)\u001b[0m\u001b[1;33m\u001b[0m\u001b[1;33m\u001b[0m\u001b[0m\n\u001b[0m\u001b[0;32m    482\u001b[0m             \u001b[1;31m# Avoid closing the file as long as the wrapper is alive,\u001b[0m\u001b[1;33m\u001b[0m\u001b[1;33m\u001b[0m\u001b[1;33m\u001b[0m\u001b[0m\n",
      "\u001b[1;31mOSError\u001b[0m: [Errno 9] Bad file descriptor",
      "\nDuring handling of the above exception, another exception occurred:\n",
      "\u001b[1;31mOSError\u001b[0m                                   Traceback (most recent call last)",
      "\u001b[1;31mOSError\u001b[0m: [Errno 9] Bad file descriptor",
      "\nDuring handling of the above exception, another exception occurred:\n",
      "\u001b[1;31mOSError\u001b[0m                                   Traceback (most recent call last)",
      "\u001b[1;32m<ipython-input-19-f534fc2fc88c>\u001b[0m in \u001b[0;36m<module>\u001b[1;34m\u001b[0m\n\u001b[0;32m      6\u001b[0m     \u001b[0mtemp_file\u001b[0m\u001b[1;33m.\u001b[0m\u001b[0mwrite\u001b[0m\u001b[1;33m(\u001b[0m\u001b[1;34m'this is written to the temp file'\u001b[0m\u001b[1;33m)\u001b[0m\u001b[1;33m\u001b[0m\u001b[1;33m\u001b[0m\u001b[0m\n\u001b[0;32m      7\u001b[0m     \u001b[0mtemp_file\u001b[0m\u001b[1;33m.\u001b[0m\u001b[0mseek\u001b[0m\u001b[1;33m(\u001b[0m\u001b[1;36m0\u001b[0m\u001b[1;33m)\u001b[0m\u001b[1;33m\u001b[0m\u001b[1;33m\u001b[0m\u001b[0m\n\u001b[1;32m----> 8\u001b[1;33m     \u001b[0mprint\u001b[0m\u001b[1;33m(\u001b[0m\u001b[0mtemp_file\u001b[0m\u001b[1;33m.\u001b[0m\u001b[0mread\u001b[0m\u001b[1;33m(\u001b[0m\u001b[1;33m)\u001b[0m\u001b[1;33m)\u001b[0m\u001b[1;33m\u001b[0m\u001b[1;33m\u001b[0m\u001b[0m\n\u001b[0m\u001b[0;32m      9\u001b[0m \u001b[1;33m\u001b[0m\u001b[0m\n\u001b[0;32m     10\u001b[0m \u001b[0mprint\u001b[0m\u001b[1;33m(\u001b[0m\u001b[0mos\u001b[0m\u001b[1;33m.\u001b[0m\u001b[0mpath\u001b[0m\u001b[1;33m.\u001b[0m\u001b[0misfile\u001b[0m\u001b[1;33m(\u001b[0m\u001b[0mtemp_file\u001b[0m\u001b[1;33m.\u001b[0m\u001b[0mname\u001b[0m\u001b[1;33m)\u001b[0m\u001b[1;33m)\u001b[0m\u001b[1;33m\u001b[0m\u001b[1;33m\u001b[0m\u001b[0m\n",
      "\u001b[1;32m~\\Anaconda3\\lib\\tempfile.py\u001b[0m in \u001b[0;36m__exit__\u001b[1;34m(self, exc, value, tb)\u001b[0m\n\u001b[0;32m    497\u001b[0m     \u001b[1;31m# deleted when used in a with statement\u001b[0m\u001b[1;33m\u001b[0m\u001b[1;33m\u001b[0m\u001b[1;33m\u001b[0m\u001b[0m\n\u001b[0;32m    498\u001b[0m     \u001b[1;32mdef\u001b[0m \u001b[0m__exit__\u001b[0m\u001b[1;33m(\u001b[0m\u001b[0mself\u001b[0m\u001b[1;33m,\u001b[0m \u001b[0mexc\u001b[0m\u001b[1;33m,\u001b[0m \u001b[0mvalue\u001b[0m\u001b[1;33m,\u001b[0m \u001b[0mtb\u001b[0m\u001b[1;33m)\u001b[0m\u001b[1;33m:\u001b[0m\u001b[1;33m\u001b[0m\u001b[1;33m\u001b[0m\u001b[0m\n\u001b[1;32m--> 499\u001b[1;33m         \u001b[0mresult\u001b[0m \u001b[1;33m=\u001b[0m \u001b[0mself\u001b[0m\u001b[1;33m.\u001b[0m\u001b[0mfile\u001b[0m\u001b[1;33m.\u001b[0m\u001b[0m__exit__\u001b[0m\u001b[1;33m(\u001b[0m\u001b[0mexc\u001b[0m\u001b[1;33m,\u001b[0m \u001b[0mvalue\u001b[0m\u001b[1;33m,\u001b[0m \u001b[0mtb\u001b[0m\u001b[1;33m)\u001b[0m\u001b[1;33m\u001b[0m\u001b[1;33m\u001b[0m\u001b[0m\n\u001b[0m\u001b[0;32m    500\u001b[0m         \u001b[0mself\u001b[0m\u001b[1;33m.\u001b[0m\u001b[0mclose\u001b[0m\u001b[1;33m(\u001b[0m\u001b[1;33m)\u001b[0m\u001b[1;33m\u001b[0m\u001b[1;33m\u001b[0m\u001b[0m\n\u001b[0;32m    501\u001b[0m         \u001b[1;32mreturn\u001b[0m \u001b[0mresult\u001b[0m\u001b[1;33m\u001b[0m\u001b[1;33m\u001b[0m\u001b[0m\n",
      "\u001b[1;31mOSError\u001b[0m: [Errno 9] Bad file descriptor"
     ]
    }
   ],
   "source": [
    "import os, tempfile\n",
    "\n",
    "with tempfile.TemporaryFile('w+t') as temp_file:\n",
    "    print('Temporär fil', temp_file.name, 'skapad.')\n",
    "    print(os.path.isfile(temp_file.name))\n",
    "    temp_file.write('this is written to the temp file')\n",
    "    temp_file.seek(0)\n",
    "    print(temp_file.read())\n",
    "\n",
    "print(os.path.isfile(temp_file.name))"
   ]
  },
  {
   "cell_type": "markdown",
   "metadata": {},
   "source": [
    "# Starting other programs from Python"
   ]
  },
  {
   "cell_type": "code",
   "execution_count": null,
   "metadata": {},
   "outputs": [],
   "source": []
  },
  {
   "cell_type": "code",
   "execution_count": null,
   "metadata": {},
   "outputs": [],
   "source": []
  },
  {
   "cell_type": "markdown",
   "metadata": {},
   "source": [
    "# Structured logging of events"
   ]
  },
  {
   "cell_type": "markdown",
   "metadata": {},
   "source": [
    "# Storing variables and data structures"
   ]
  },
  {
   "cell_type": "markdown",
   "metadata": {},
   "source": [
    "# Data archiving and compression"
   ]
  },
  {
   "cell_type": "markdown",
   "metadata": {},
   "source": [
    "# Special file formats"
   ]
  },
  {
   "cell_type": "markdown",
   "metadata": {},
   "source": [
    "# Internet protocols"
   ]
  },
  {
   "cell_type": "code",
   "execution_count": null,
   "metadata": {},
   "outputs": [],
   "source": []
  }
 ],
 "metadata": {
  "kernelspec": {
   "display_name": "Python 3",
   "language": "python",
   "name": "python3"
  },
  "language_info": {
   "codemirror_mode": {
    "name": "ipython",
    "version": 3
   },
   "file_extension": ".py",
   "mimetype": "text/x-python",
   "name": "python",
   "nbconvert_exporter": "python",
   "pygments_lexer": "ipython3",
   "version": "3.7.3"
  },
  "nbTranslate": {
   "displayLangs": [
    "*"
   ],
   "hotkey": "alt-t",
   "langInMainMenu": true,
   "sourceLang": "en",
   "targetLang": "fr",
   "useGoogleTranslate": true
  }
 },
 "nbformat": 4,
 "nbformat_minor": 2
}
