{
  "nbformat": 4,
  "nbformat_minor": 0,
  "metadata": {
    "colab": {
      "name": "Introduction to Python.ipynb",
      "version": "0.3.2",
      "provenance": []
    },
    "language_info": {
      "codemirror_mode": {
        "name": "ipython",
        "version": 3
      },
      "file_extension": ".py",
      "mimetype": "text/x-python",
      "name": "python",
      "nbconvert_exporter": "python",
      "pygments_lexer": "ipython3",
      "version": "3.6.5"
    },
    "kernelspec": {
      "display_name": "Python 3",
      "language": "python",
      "name": "python3"
    }
  },
  "cells": [
    {
      "metadata": {
        "id": "Jl5r47mermbo",
        "colab_type": "text"
      },
      "cell_type": "markdown",
      "source": [
        "# Programstruktur"
      ]
    },
    {
      "metadata": {
        "id": "-3MWVUPRrmbt",
        "colab_type": "text"
      },
      "cell_type": "markdown",
      "source": [
        "* Python-program är textfiler som innehåller rader av programsatser.\n",
        "* Texfilerna översätts till datorinstruktioner med hjälp av en Python-tolk.\n",
        "* Tomma rader ignoreras.\n",
        "* Textfilerna med programsatser har ändelsen .py.\n",
        "* Textfilerna med programsatser kallas även källkodsfiler."
      ]
    },
    {
      "metadata": {
        "id": "gmpLn2Pcrmbx",
        "colab_type": "code",
        "colab": {},
        "outputId": "369c5a2a-4cfd-4a98-dd43-8deaae854a13"
      },
      "cell_type": "code",
      "source": [
        "#!/usr/bin/env python3\n",
        "# -*- coding: utf-8 -*-\n",
        "\n",
        "# Detta är en kommentar\n",
        "\n",
        "for i in range(10):\n",
        "\tprint(i)"
      ],
      "execution_count": 0,
      "outputs": [
        {
          "output_type": "stream",
          "text": [
            "0\n",
            "1\n",
            "2\n",
            "3\n",
            "4\n",
            "5\n",
            "6\n",
            "7\n",
            "8\n",
            "9\n"
          ],
          "name": "stdout"
        }
      ]
    },
    {
      "metadata": {
        "id": "A20KXJtPrmb-",
        "colab_type": "text"
      },
      "cell_type": "markdown",
      "source": [
        "# Inbyggda funktioner"
      ]
    },
    {
      "metadata": {
        "id": "x2uwLwvJrmcB",
        "colab_type": "text"
      },
      "cell_type": "markdown",
      "source": [
        "* Mycket av funktionaliteten i ett språk tillhandalhålls som funktioner.\n",
        "* Python innehåller en mängd funktionsbibliotek för utskrift, numeriska funktioenr, stränghantering och filhantering.\n",
        "* En funktion anropas genom att ge dess namn följt av en lista med parametrar inom paranteser ().\n"
      ]
    },
    {
      "metadata": {
        "id": "Iq7qCIP7rmcE",
        "colab_type": "code",
        "colab": {},
        "outputId": "3ff4a8ae-df1d-4165-a164-c230d8badf44"
      },
      "cell_type": "code",
      "source": [
        "print(\"This is the print-function\", 42)"
      ],
      "execution_count": 0,
      "outputs": [
        {
          "output_type": "stream",
          "text": [
            "This is the print-function 42\n"
          ],
          "name": "stdout"
        }
      ]
    },
    {
      "metadata": {
        "id": "G12vNJfOrmcO",
        "colab_type": "text"
      },
      "cell_type": "markdown",
      "source": [
        "Inte alla funktioner har parametrar. I detta fall anges en tom parantes."
      ]
    },
    {
      "metadata": {
        "id": "Hfzyel4MrmcQ",
        "colab_type": "code",
        "colab": {},
        "outputId": "57391d6f-0f13-4ddb-da41-771e5a191a34"
      },
      "cell_type": "code",
      "source": [
        "print()"
      ],
      "execution_count": 0,
      "outputs": [
        {
          "output_type": "stream",
          "text": [
            "\n"
          ],
          "name": "stdout"
        }
      ]
    },
    {
      "metadata": {
        "id": "FT-z1B9Xrmce",
        "colab_type": "text"
      },
      "cell_type": "markdown",
      "source": [
        "Alla funktioner i Python kan ha returvärden. Returvärden tilldelas genom att använda ett likhetstecken (=) till vänster om funktionsanropet."
      ]
    },
    {
      "metadata": {
        "id": "DcLDqMfzrmcg",
        "colab_type": "code",
        "colab": {}
      },
      "cell_type": "code",
      "source": [
        "y = abs(-4)"
      ],
      "execution_count": 0,
      "outputs": []
    },
    {
      "metadata": {
        "id": "xmHkqwVKrmco",
        "colab_type": "text"
      },
      "cell_type": "markdown",
      "source": [
        "Funktioner kan också ha fler returvärden. Dessa tilldelas genom flera variabelreferenser separerade med kommatecken till vänster om likhetstecknet."
      ]
    },
    {
      "metadata": {
        "id": "fuM4pAcMrmcr",
        "colab_type": "code",
        "colab": {},
        "outputId": "2a21c8c4-a2e7-4366-b269-27509275df00"
      },
      "cell_type": "code",
      "source": [
        "q, r = divmod(100,47)\n",
        "print(q, r)"
      ],
      "execution_count": 0,
      "outputs": [
        {
          "output_type": "stream",
          "text": [
            "2 6\n"
          ],
          "name": "stdout"
        }
      ]
    },
    {
      "metadata": {
        "id": "eQdTWxsgrmc0",
        "colab_type": "text"
      },
      "cell_type": "markdown",
      "source": [
        "# Lagra och referera till data"
      ]
    },
    {
      "metadata": {
        "id": "COvUmQrPrmc6",
        "colab_type": "text"
      },
      "cell_type": "markdown",
      "source": [
        "En fundamental egenskap i programmering är möjligheten att arbeta med lagrade data på olika sätt. I Python används variabler för att referera till data. I Python är det inte variabeln själv som lagrar data utan variabler är referenser till data i datorns minne. Det kan jämföras med en garderobsbiljett (variabelreferens) som gör att att garderobiären kan hitta dina kläder i garderoben (datorns minne)\n",
        "\n",
        "Några viktiga egenskaper för Python:s variabelreferenser:\n",
        "\n",
        "* I Python behöver man inte specificera datatyper vid tilldelning av variabler.\n",
        "* Datatypen bestäms av datatypen i tilldelningen.\n",
        "* En variabelreferens kan referera till olika datatyper under programkörningen."
      ]
    },
    {
      "metadata": {
        "id": "-kAz5nPurmc7",
        "colab_type": "code",
        "colab": {}
      },
      "cell_type": "code",
      "source": [
        "# Heltalsvariabler\n",
        "\n",
        "a = 1\n",
        "b = 15\n",
        "\n",
        "# Flyttalsvariabler\n",
        "\n",
        "c = 14.5\n",
        "d = 42.32\n",
        "\n",
        "# Strängar (text)\n",
        "\n",
        "e = \"Hejsan\"\n",
        "\n",
        "# Listor\n",
        "\n",
        "f = [1, 2, 4, \"A\"]\n",
        "\n",
        "# Tilldelning av nytt värde och typ\n",
        "\n",
        "a = \"Hej på dig!\""
      ],
      "execution_count": 0,
      "outputs": []
    },
    {
      "metadata": {
        "id": "3sRUirPprmdJ",
        "colab_type": "text"
      },
      "cell_type": "markdown",
      "source": [
        "## Namngivning av variabler"
      ]
    },
    {
      "metadata": {
        "id": "DoJoS6D5rmdL",
        "colab_type": "text"
      },
      "cell_type": "markdown",
      "source": [
        "Följande regler gäller vid namngivning av variabler i Python:\n",
        "\n",
        "* Bara bokstäver från det engelska alfabetet\n",
        "* Siffror\n",
        "* Inga specialtecken förutom understrykningstecken (_)\n",
        "* Får inte börja med en siffra.\n",
        "\n",
        "Tillåtna variabelnamn\n",
        "\n",
        "* first_name\n",
        "* last_name\n",
        "* number\n",
        "* i2\n",
        "\n",
        "Inte tillåtna variabelnamn\n",
        "\n",
        "* 1var\n",
        "* år"
      ]
    },
    {
      "metadata": {
        "id": "i49AisqsrmdN",
        "colab_type": "text"
      },
      "cell_type": "markdown",
      "source": [
        "## Mer om variabler"
      ]
    },
    {
      "metadata": {
        "id": "oWlVNLgFrmdP",
        "colab_type": "text"
      },
      "cell_type": "markdown",
      "source": [
        "Variables in Python are always **references** to underlying data\n",
        "\n",
        "When a variables is assigned a value the following happens:\n",
        "\n",
        "1. Memory is allocated for the value to be stored.\n",
        "2. A named variable reference is created - the variable. \n",
        "3. The variable reference points to the memory for the value.\n",
        "\n",
        "Look at the following code:"
      ]
    },
    {
      "metadata": {
        "id": "diVyccCtrmdR",
        "colab_type": "code",
        "colab": {}
      },
      "cell_type": "code",
      "source": [
        "a = 42\n",
        "b = 84"
      ],
      "execution_count": 0,
      "outputs": []
    },
    {
      "metadata": {
        "id": "khFmhG7Drmdc",
        "colab_type": "text"
      },
      "cell_type": "markdown",
      "source": [
        "In this example the variables **a** and **b** are assigned the values 42 and 84. In memory this will look like the following figure:\n",
        "\n",
        "![variable references 1](https://github.com/jonaslindemann/guide_to_python/blob/master/chapters/kapitel3/notebooks/images/variable1.png?raw=1)\n",
        "\n",
        "Two variable references pointing to 2 different memory locations.\n",
        "\n",
        "What happens in a variable assignment as in the following example?"
      ]
    },
    {
      "metadata": {
        "id": "fTNUynNUrmdf",
        "colab_type": "code",
        "colab": {},
        "outputId": "ebc65826-e1e6-471c-d258-0ea47cab2906"
      },
      "cell_type": "code",
      "source": [
        "a = b\n",
        "print(a)\n",
        "print(b)"
      ],
      "execution_count": 0,
      "outputs": [
        {
          "output_type": "stream",
          "text": [
            "84\n",
            "84\n"
          ],
          "name": "stdout"
        }
      ]
    },
    {
      "metadata": {
        "id": "WI_F88jSrmdr",
        "colab_type": "text"
      },
      "cell_type": "markdown",
      "source": [
        "We get what we expected. **a** has the same value as **b**. Behind the scenes the folloing happens:\n",
        "\n",
        "![variable references 1](https://github.com/jonaslindemann/guide_to_python/blob/master/chapters/kapitel3/notebooks/images/variable2.png?raw=1)\n",
        "\n",
        "An assignment of a variable reference assigns the reference. **a** now points to the same data 84.\n",
        "\n",
        "The memory storing 42 will be removed by Python automatically. If we now assign **a** a different value:"
      ]
    },
    {
      "metadata": {
        "id": "_bAAYLoMrmdt",
        "colab_type": "code",
        "colab": {}
      },
      "cell_type": "code",
      "source": [
        "a = 21"
      ],
      "execution_count": 0,
      "outputs": []
    },
    {
      "metadata": {
        "id": "l9s1__JNrmdy",
        "colab_type": "text"
      },
      "cell_type": "markdown",
      "source": [
        " we get the following situation:\n",
        "\n",
        "![variable references 1](https://github.com/jonaslindemann/guide_to_python/blob/master/chapters/kapitel3/notebooks/images/variable3.png?raw=1)"
      ]
    },
    {
      "metadata": {
        "id": "QXjMomtbrmdz",
        "colab_type": "text"
      },
      "cell_type": "markdown",
      "source": [
        "It is possible to check this using the **id()** function in Python. This function returns the unique identifier of the variable. We do the previous operations printing the id:s of the variables references."
      ]
    },
    {
      "metadata": {
        "id": "uIAERpxFrmd0",
        "colab_type": "code",
        "colab": {},
        "outputId": "791b87f2-e4f9-4703-d9bd-09445f401d7b"
      },
      "cell_type": "code",
      "source": [
        "a = 42\n",
        "b = 84\n",
        "\n",
        "print(a, id(a))\n",
        "print(b, id(b))\n",
        "\n",
        "a = b\n",
        "\n",
        "print('a = b')\n",
        "print(a, id(a))\n",
        "print(b, id(b))\n",
        "\n",
        "a = 21\n",
        "\n",
        "print('a = 21')\n",
        "print(a, id(a))\n",
        "print(b, id(b))"
      ],
      "execution_count": 0,
      "outputs": [
        {
          "output_type": "stream",
          "text": [
            "42 1358655840\n",
            "84 1358657184\n",
            "a = b\n",
            "84 1358657184\n",
            "84 1358657184\n",
            "a = 21\n",
            "21 1358655168\n",
            "84 1358657184\n"
          ],
          "name": "stdout"
        }
      ]
    },
    {
      "metadata": {
        "id": "jEoD3t96rmd8",
        "colab_type": "text"
      },
      "cell_type": "markdown",
      "source": [
        "We see the first assignments generates unique ids. After the **a = b** assignments the ids are the same. After **a = 21** **a** gets a new id and **b** keeps its id."
      ]
    },
    {
      "metadata": {
        "id": "i_Qr1iubrmd-",
        "colab_type": "text"
      },
      "cell_type": "markdown",
      "source": [
        "# Data types in Python"
      ]
    },
    {
      "metadata": {
        "id": "K9OwgOhjrmeD",
        "colab_type": "text"
      },
      "cell_type": "markdown",
      "source": [
        "## Integers and floating point numbers"
      ]
    },
    {
      "metadata": {
        "id": "mTxrx_pIrmeI",
        "colab_type": "code",
        "colab": {},
        "outputId": "7ca0e406-d44e-461d-968c-7cbf4f729c80"
      },
      "cell_type": "code",
      "source": [
        "a = 42 # Integer variable\n",
        "a"
      ],
      "execution_count": 0,
      "outputs": [
        {
          "output_type": "execute_result",
          "data": {
            "text/plain": [
              "42"
            ]
          },
          "metadata": {
            "tags": []
          },
          "execution_count": 11
        }
      ]
    },
    {
      "metadata": {
        "id": "pcXmdr0ArmeT",
        "colab_type": "code",
        "colab": {},
        "outputId": "d93c68bb-96a2-4678-a402-63ad006d8f2f"
      },
      "cell_type": "code",
      "source": [
        "b = 42.0 # Floating point variable\n",
        "b"
      ],
      "execution_count": 0,
      "outputs": [
        {
          "output_type": "execute_result",
          "data": {
            "text/plain": [
              "42.0"
            ]
          },
          "metadata": {
            "tags": []
          },
          "execution_count": 12
        }
      ]
    },
    {
      "metadata": {
        "id": "vG9vusMBrmec",
        "colab_type": "text"
      },
      "cell_type": "markdown",
      "source": [
        "## Operators and expressions"
      ]
    },
    {
      "metadata": {
        "id": "ORU7QPtArmef",
        "colab_type": "code",
        "colab": {},
        "outputId": "c246bff5-7764-4d68-ee6f-873ac5c023ec"
      },
      "cell_type": "code",
      "source": [
        "2+2"
      ],
      "execution_count": 0,
      "outputs": [
        {
          "output_type": "execute_result",
          "data": {
            "text/plain": [
              "4"
            ]
          },
          "metadata": {
            "tags": []
          },
          "execution_count": 13
        }
      ]
    },
    {
      "metadata": {
        "id": "Pc5QbvKPrmer",
        "colab_type": "code",
        "colab": {},
        "outputId": "c62677cb-793f-4735-93e5-44a06694dc8d"
      },
      "cell_type": "code",
      "source": [
        "(50-5*6)/4"
      ],
      "execution_count": 0,
      "outputs": [
        {
          "output_type": "execute_result",
          "data": {
            "text/plain": [
              "5.0"
            ]
          },
          "metadata": {
            "tags": []
          },
          "execution_count": 14
        }
      ]
    },
    {
      "metadata": {
        "id": "HMQiIBKkrmez",
        "colab_type": "code",
        "colab": {},
        "outputId": "68d39782-98f7-4598-953b-81d9b44e9870"
      },
      "cell_type": "code",
      "source": [
        "7/3"
      ],
      "execution_count": 0,
      "outputs": [
        {
          "output_type": "execute_result",
          "data": {
            "text/plain": [
              "2.3333333333333335"
            ]
          },
          "metadata": {
            "tags": []
          },
          "execution_count": 15
        }
      ]
    },
    {
      "metadata": {
        "id": "IIwJB4azrme9",
        "colab_type": "code",
        "colab": {},
        "outputId": "653bd48e-64b5-4f0b-c4dd-2cadf2adb637"
      },
      "cell_type": "code",
      "source": [
        "7/-3"
      ],
      "execution_count": 0,
      "outputs": [
        {
          "output_type": "execute_result",
          "data": {
            "text/plain": [
              "-2.3333333333333335"
            ]
          },
          "metadata": {
            "tags": []
          },
          "execution_count": 16
        }
      ]
    },
    {
      "metadata": {
        "id": "d7LNPu4ormfC",
        "colab_type": "code",
        "colab": {},
        "outputId": "ca3c535b-9b40-4263-c64e-240c0f853249"
      },
      "cell_type": "code",
      "source": [
        "3*3.75/1.5"
      ],
      "execution_count": 0,
      "outputs": [
        {
          "output_type": "execute_result",
          "data": {
            "text/plain": [
              "7.5"
            ]
          },
          "metadata": {
            "tags": []
          },
          "execution_count": 17
        }
      ]
    },
    {
      "metadata": {
        "id": "XDnwO0w4rmfI",
        "colab_type": "text"
      },
      "cell_type": "markdown",
      "source": [
        "## Flags or boolean variables"
      ]
    },
    {
      "metadata": {
        "id": "jayc2oi4rmfI",
        "colab_type": "text"
      },
      "cell_type": "markdown",
      "source": [
        "* Indicates an on/off state\n",
        "* True or False is used to create a boolean variable reference"
      ]
    },
    {
      "metadata": {
        "id": "GTVu6GFsrmfR",
        "colab_type": "code",
        "colab": {},
        "outputId": "13439371-e3cd-4536-a74e-cf51f3581d82"
      },
      "cell_type": "code",
      "source": [
        "c = True  # c is now a boolean variable\n",
        "c"
      ],
      "execution_count": 0,
      "outputs": [
        {
          "output_type": "execute_result",
          "data": {
            "text/plain": [
              "True"
            ]
          },
          "metadata": {
            "tags": []
          },
          "execution_count": 18
        }
      ]
    },
    {
      "metadata": {
        "id": "LzhVGhmPrmfV",
        "colab_type": "code",
        "colab": {},
        "outputId": "e49fed2a-8f33-4fa6-cdf6-91cd115aae6b"
      },
      "cell_type": "code",
      "source": [
        "d = False\n",
        "d"
      ],
      "execution_count": 0,
      "outputs": [
        {
          "output_type": "execute_result",
          "data": {
            "text/plain": [
              "False"
            ]
          },
          "metadata": {
            "tags": []
          },
          "execution_count": 19
        }
      ]
    },
    {
      "metadata": {
        "id": "I7DIYOegrmfb",
        "colab_type": "text"
      },
      "cell_type": "markdown",
      "source": [
        "## Lists"
      ]
    },
    {
      "metadata": {
        "id": "Af2m3VFZrmfc",
        "colab_type": "text"
      },
      "cell_type": "markdown",
      "source": [
        "List are datatypes that can contain a list of values of different data types. Lists are defined by a beginning [ and ended by a ]. An empty list can be created by assigning an empty []."
      ]
    },
    {
      "metadata": {
        "id": "BdyXvpsGrmfe",
        "colab_type": "code",
        "colab": {}
      },
      "cell_type": "code",
      "source": [
        "values = [] # Empty list"
      ],
      "execution_count": 0,
      "outputs": []
    },
    {
      "metadata": {
        "id": "228u5Ycurmfi",
        "colab_type": "text"
      },
      "cell_type": "markdown",
      "source": [
        "Initial values of the list can be assigned by listing values between the [ and ] brackets:"
      ]
    },
    {
      "metadata": {
        "id": "sILJJ1y5rmfi",
        "colab_type": "code",
        "colab": {}
      },
      "cell_type": "code",
      "source": [
        "values = [1, 3, 6, 4, 'hej', 1.0]"
      ],
      "execution_count": 0,
      "outputs": []
    },
    {
      "metadata": {
        "id": "WRR0apw9rmfo",
        "colab_type": "text"
      },
      "cell_type": "markdown",
      "source": [
        "Values in the list can be accessed by specifying an index in brackets:"
      ]
    },
    {
      "metadata": {
        "id": "1z4aMeIBrmfp",
        "colab_type": "code",
        "colab": {},
        "outputId": "81ecde04-6310-4708-cd6e-a2f3bf2353d5"
      },
      "cell_type": "code",
      "source": [
        "print(values[2])"
      ],
      "execution_count": 0,
      "outputs": [
        {
          "output_type": "stream",
          "text": [
            "6\n"
          ],
          "name": "stdout"
        }
      ]
    },
    {
      "metadata": {
        "id": "iqPPBZztrmfv",
        "colab_type": "text"
      },
      "cell_type": "markdown",
      "source": [
        "List values can be modified by assigning values to a specific index:"
      ]
    },
    {
      "metadata": {
        "id": "5hKrDmCsrmfv",
        "colab_type": "code",
        "colab": {},
        "outputId": "ee1d1ae0-091b-4fa9-86bb-fcd5950d4040"
      },
      "cell_type": "code",
      "source": [
        "values[4] = 'hopp'\n",
        "print(values)"
      ],
      "execution_count": 0,
      "outputs": [
        {
          "output_type": "stream",
          "text": [
            "[1, 3, 6, 4, 'hopp', 1.0]\n"
          ],
          "name": "stdout"
        }
      ]
    },
    {
      "metadata": {
        "id": "4Bu1C0aErmfz",
        "colab_type": "text"
      },
      "cell_type": "markdown",
      "source": [
        "All indices in lists are zero-based. The first element is 0. Negative indices wraps around and accesses elements from the end of the list:"
      ]
    },
    {
      "metadata": {
        "id": "uUU-OHGRrmf1",
        "colab_type": "code",
        "colab": {},
        "outputId": "51730dbe-27cc-4dba-c548-3de8e4f6e3c5"
      },
      "cell_type": "code",
      "source": [
        "print(values[-1]) # Last element"
      ],
      "execution_count": 0,
      "outputs": [
        {
          "output_type": "stream",
          "text": [
            "1.0\n"
          ],
          "name": "stdout"
        }
      ]
    },
    {
      "metadata": {
        "id": "CGOICfJurmf6",
        "colab_type": "code",
        "colab": {},
        "outputId": "acafc055-e448-421f-9440-cbce6d6aaaf0"
      },
      "cell_type": "code",
      "source": [
        "print(values[-3]) # Third last element"
      ],
      "execution_count": 0,
      "outputs": [
        {
          "output_type": "stream",
          "text": [
            "4\n"
          ],
          "name": "stdout"
        }
      ]
    },
    {
      "metadata": {
        "id": "b0az1calrmf_",
        "colab_type": "text"
      },
      "cell_type": "markdown",
      "source": [
        "### Lists and variable references"
      ]
    },
    {
      "metadata": {
        "id": "71RT14lsrmgA",
        "colab_type": "text"
      },
      "cell_type": "markdown",
      "source": [
        "* Lists values are references to data\n",
        "* Data not stored in list\n",
        "* Points to memory locations\n",
        "\n",
        "![variable references 1](https://github.com/jonaslindemann/guide_to_python/blob/master/chapters/kapitel3/notebooks/images/variable4.png?raw=1)\n",
        "\n",
        "This is illustrated by an example:"
      ]
    },
    {
      "metadata": {
        "id": "Cnhl4txFrmgA",
        "colab_type": "code",
        "colab": {},
        "outputId": "6ac1aca3-81af-45fd-f2a9-21c9158bf0bf"
      },
      "cell_type": "code",
      "source": [
        "values = [1, 3, 6, 4, 'hej', 1.0, 42]\n",
        "\n",
        "b = values[4]\n",
        "\n",
        "print(b, id(b))\n",
        "print(values[4], id(values[4]))"
      ],
      "execution_count": 0,
      "outputs": [
        {
          "output_type": "stream",
          "text": [
            "hej 1997295535416\n",
            "hej 1997295535416\n"
          ],
          "name": "stdout"
        }
      ]
    },
    {
      "metadata": {
        "id": "eQGzOefQrmgK",
        "colab_type": "text"
      },
      "cell_type": "markdown",
      "source": [
        "In this example **b** is assigned the variable reference stored at index 4 in the **values** list. After this assignment **b** and values[4] point to the same data at the same memory location as in the following figure:\n",
        "\n",
        "![variable references 1](https://github.com/jonaslindemann/guide_to_python/blob/master/chapters/kapitel3/notebooks/images/variable5.png?raw=1)"
      ]
    },
    {
      "metadata": {
        "id": "G50qkBI5rmgL",
        "colab_type": "text"
      },
      "cell_type": "markdown",
      "source": [
        "I most cases variable assignment works intuitively, but it is good to know the underlying implementation."
      ]
    },
    {
      "metadata": {
        "id": "OoalEahermgM",
        "colab_type": "text"
      },
      "cell_type": "markdown",
      "source": [
        "### Indexing in lists"
      ]
    },
    {
      "metadata": {
        "id": "58-qhdYlrmgM",
        "colab_type": "text"
      },
      "cell_type": "markdown",
      "source": [
        "It is possible to extract sublists from existing lists using special index notation:"
      ]
    },
    {
      "metadata": {
        "id": "d5EWjjTnrmgU",
        "colab_type": "code",
        "colab": {},
        "outputId": "5d4a7323-9f5f-40bd-eb89-62eb468ba14a"
      },
      "cell_type": "code",
      "source": [
        "# Delområde från från 1 >= idx < 3\n",
        "print(values[1:3])\n",
        "\n",
        "# Delområde från från 1 >= idx < len(values)-2\n",
        "print(values[1:-1])\n",
        "\n",
        "# Delområde från idx >= 3\n",
        "print(values[3:])\n",
        "\n",
        "# Alla element i listan\n",
        "print(values[:])\n",
        "\n",
        "# Delområde från från 0 >= idx < len(values)-2\n",
        "print(values[:-2])\n",
        "\n",
        "# Delområde från len(values)-3 >= idx < len(values)-1\n",
        "print(values[-3:])"
      ],
      "execution_count": 0,
      "outputs": [
        {
          "output_type": "stream",
          "text": [
            "[3, 6]\n",
            "[3, 6, 4, 'hej', 1.0]\n",
            "[4, 'hej', 1.0, 42]\n",
            "[1, 3, 6, 4, 'hej', 1.0, 42]\n",
            "[1, 3, 6, 4, 'hej']\n",
            "['hej', 1.0, 42]\n"
          ],
          "name": "stdout"
        }
      ]
    },
    {
      "metadata": {
        "id": "yEC-Jaq5rmga",
        "colab_type": "text"
      },
      "cell_type": "markdown",
      "source": [
        "### List size"
      ]
    },
    {
      "metadata": {
        "id": "AvmGjw81rmge",
        "colab_type": "text"
      },
      "cell_type": "markdown",
      "source": [
        "The number of values stored in a list can be queried with the generic **len()** function in Python. This function will return the number of elements in the list."
      ]
    },
    {
      "metadata": {
        "id": "zE4nzcDqrmge",
        "colab_type": "code",
        "colab": {},
        "outputId": "c084cc28-bc94-40df-fde3-20892b39c5d2"
      },
      "cell_type": "code",
      "source": [
        "print(len(values))"
      ],
      "execution_count": 0,
      "outputs": [
        {
          "output_type": "stream",
          "text": [
            "7\n"
          ],
          "name": "stdout"
        }
      ]
    },
    {
      "metadata": {
        "id": "oiVJdc3Lrmgj",
        "colab_type": "text"
      },
      "cell_type": "markdown",
      "source": [
        "### Adding values to a list"
      ]
    },
    {
      "metadata": {
        "id": "rQbweAm3rmgk",
        "colab_type": "text"
      },
      "cell_type": "markdown",
      "source": [
        "Values can be added by the special list method **.append()**."
      ]
    },
    {
      "metadata": {
        "id": "E0F0sld1rmgk",
        "colab_type": "code",
        "colab": {},
        "outputId": "eb76b73b-45f0-4460-f25c-b1a368c70119"
      },
      "cell_type": "code",
      "source": [
        "values.append(42)\n",
        "print(values)"
      ],
      "execution_count": 0,
      "outputs": [
        {
          "output_type": "stream",
          "text": [
            "[1, 3, 6, 4, 'hej', 1.0, 42, 42]\n"
          ],
          "name": "stdout"
        }
      ]
    },
    {
      "metadata": {
        "id": "xWRQqefUrmgm",
        "colab_type": "text"
      },
      "cell_type": "markdown",
      "source": [
        "Values can be inserted at specific posititions using the **.insert()** method:"
      ]
    },
    {
      "metadata": {
        "id": "wFxqysTMrmgn",
        "colab_type": "code",
        "colab": {},
        "outputId": "4715de2d-9a31-42e1-8cf8-2a3c99fa9614"
      },
      "cell_type": "code",
      "source": [
        "values.insert(1, \"squeeze\")\n",
        "print(values)"
      ],
      "execution_count": 0,
      "outputs": [
        {
          "output_type": "stream",
          "text": [
            "[1, 'squeeze', 3, 6, 4, 'hej', 1.0, 42, 42]\n"
          ],
          "name": "stdout"
        }
      ]
    },
    {
      "metadata": {
        "id": "WJFCxDQarmgp",
        "colab_type": "text"
      },
      "cell_type": "markdown",
      "source": [
        "### Removing values in a list"
      ]
    },
    {
      "metadata": {
        "id": "nHTPwP9armgq",
        "colab_type": "text"
      },
      "cell_type": "markdown",
      "source": [
        "Removing values in a list is done with the **.remove()** method."
      ]
    },
    {
      "metadata": {
        "id": "a3JLn7Ltrmgq",
        "colab_type": "code",
        "colab": {},
        "outputId": "a64ac2f8-d2f1-4446-8e0a-4f0c1144d7fd"
      },
      "cell_type": "code",
      "source": [
        "print(\"Före remove()\")\n",
        "print(values)\n",
        "\n",
        "values.remove(\"squeeze\") # första värdet med \"squeeze\"\n",
        "\n",
        "print(\"Efter remove()\")\n",
        "print(values)"
      ],
      "execution_count": 0,
      "outputs": [
        {
          "output_type": "stream",
          "text": [
            "Före remove()\n",
            "[1, 'squeeze', 3, 6, 4, 'hej', 1.0, 42, 42]\n",
            "Efter remove()\n",
            "[1, 3, 6, 4, 'hej', 1.0, 42, 42]\n"
          ],
          "name": "stdout"
        }
      ]
    },
    {
      "metadata": {
        "id": "v2E9a_01rmgt",
        "colab_type": "text"
      },
      "cell_type": "markdown",
      "source": [
        "It is also possible to use the generic **del** function in Python."
      ]
    },
    {
      "metadata": {
        "id": "oCqNiQ1grmgu",
        "colab_type": "code",
        "colab": {},
        "outputId": "9af3a785-ecc8-4b16-b447-cf8840c5e20e"
      },
      "cell_type": "code",
      "source": [
        "print(\"Före del[0]\")\n",
        "print(values)\n",
        "\n",
        "del values[0]\n",
        "\n",
        "print(\"Efter del[0]\")\n",
        "print(values)"
      ],
      "execution_count": 0,
      "outputs": [
        {
          "output_type": "stream",
          "text": [
            "Före del[0]\n",
            "[1, 3, 6, 4, 'hej', 1.0, 42, 42]\n",
            "Efter del[0]\n",
            "[3, 6, 4, 'hej', 1.0, 42, 42]\n"
          ],
          "name": "stdout"
        }
      ]
    },
    {
      "metadata": {
        "id": "HSt8lycGrmgy",
        "colab_type": "text"
      },
      "cell_type": "markdown",
      "source": [
        "It is also possible to remove a range of values in a list:"
      ]
    },
    {
      "metadata": {
        "id": "OW-hB1Kcrmgy",
        "colab_type": "code",
        "colab": {},
        "outputId": "c73690f5-7fd9-4bfc-d80c-9c69fd772b34"
      },
      "cell_type": "code",
      "source": [
        "print(\"Före del[3:]\")\n",
        "print(values)\n",
        "\n",
        "del values[3:]\n",
        "\n",
        "print(\"Efter del[3:]\")\n",
        "print(values)"
      ],
      "execution_count": 0,
      "outputs": [
        {
          "output_type": "stream",
          "text": [
            "Före del[3:]\n",
            "[3, 6, 4, 'hej', 1.0, 42, 42]\n",
            "Efter del[3:]\n",
            "[3, 6, 4]\n"
          ],
          "name": "stdout"
        }
      ]
    },
    {
      "metadata": {
        "id": "ZmnvRn6nrmg1",
        "colab_type": "text"
      },
      "cell_type": "markdown",
      "source": [
        "It is also possible to use the list as a stack datatype, a datatype which data is added and removed from the end. The list data type has a method **.pop()** for achieving this:"
      ]
    },
    {
      "metadata": {
        "id": "SWE1DEfmrmg2",
        "colab_type": "code",
        "colab": {},
        "outputId": "8811a9ae-865b-4ef9-8ad6-67c05fea6337"
      },
      "cell_type": "code",
      "source": [
        "print(\"Lista före pop()\")\n",
        "print(values)\n",
        "\n",
        "v = values.pop()\n",
        "\n",
        "print(\"Värde returnerat från pop()\")\n",
        "print(v)\n",
        "print(\"Lista efter pop()\")\n",
        "print(values)"
      ],
      "execution_count": 0,
      "outputs": [
        {
          "output_type": "stream",
          "text": [
            "Lista före pop()\n",
            "[3, 6, 4]\n",
            "Värde returnerat från pop()\n",
            "4\n",
            "Lista efter pop()\n",
            "[3, 6]\n"
          ],
          "name": "stdout"
        }
      ]
    },
    {
      "metadata": {
        "id": "7EEFsVnlrmg5",
        "colab_type": "text"
      },
      "cell_type": "markdown",
      "source": [
        "### Clearing a list"
      ]
    },
    {
      "metadata": {
        "id": "iKQ_19Xjrmg5",
        "colab_type": "text"
      },
      "cell_type": "markdown",
      "source": [
        "A list can be clear by using the **.clear()** method or assigning an empty list to a variable reference."
      ]
    },
    {
      "metadata": {
        "id": "dUtcUVv7rmg5",
        "colab_type": "code",
        "colab": {}
      },
      "cell_type": "code",
      "source": [
        "a = [4, 6, 3, 7, 9]\n",
        "a = []"
      ],
      "execution_count": 0,
      "outputs": []
    },
    {
      "metadata": {
        "id": "rvtgOzVsrmhA",
        "colab_type": "text"
      },
      "cell_type": "markdown",
      "source": [
        "It is important to understand that in the above case other variable references can still be pointing to the list. An example of this is shown in the following example:"
      ]
    },
    {
      "metadata": {
        "id": "zB7q2VjwrmhA",
        "colab_type": "code",
        "colab": {},
        "outputId": "09188d19-b8f6-4e84-9e82-b88024f992a8"
      },
      "cell_type": "code",
      "source": [
        "a = [4, 6, 3, 7, 9]\n",
        "b = a\n",
        "a = []\n",
        "print(b)"
      ],
      "execution_count": 0,
      "outputs": [
        {
          "output_type": "stream",
          "text": [
            "[4, 6, 3, 7, 9]\n"
          ],
          "name": "stdout"
        }
      ]
    },
    {
      "metadata": {
        "id": "i7Xq5MtRrmhH",
        "colab_type": "text"
      },
      "cell_type": "markdown",
      "source": [
        "Really cleaning a list is best done using the **.clear()** method:"
      ]
    },
    {
      "metadata": {
        "id": "zrp2S8x7rmhI",
        "colab_type": "code",
        "colab": {},
        "outputId": "cd64a245-aafc-485b-cce6-44d3a2d38d79"
      },
      "cell_type": "code",
      "source": [
        "a = [4, 6, 3, 7, 9]\n",
        "b = a\n",
        "\n",
        "a.clear()\n",
        "\n",
        "print(b)"
      ],
      "execution_count": 0,
      "outputs": [
        {
          "output_type": "stream",
          "text": [
            "[]\n"
          ],
          "name": "stdout"
        }
      ]
    },
    {
      "metadata": {
        "id": "d9LYutHwrmhK",
        "colab_type": "text"
      },
      "cell_type": "markdown",
      "source": [
        "### Nested lists"
      ]
    },
    {
      "metadata": {
        "id": "rWuZg45GrmhK",
        "colab_type": "text"
      },
      "cell_type": "markdown",
      "source": [
        "A list is a very flexible datatype in Python, which can contain any Python datatype even other lists. In the following example a list of 5 elements is created in which element 2 contains a list with 2 elements:"
      ]
    },
    {
      "metadata": {
        "id": "7hH7Y-LwrmhK",
        "colab_type": "code",
        "colab": {},
        "outputId": "11e9f28e-6b0a-4f75-ca67-95601a0d2953"
      },
      "cell_type": "code",
      "source": [
        "a = [1, 2, [3, 4], 5, 6]\n",
        "\n",
        "print(a[2])"
      ],
      "execution_count": 0,
      "outputs": [
        {
          "output_type": "stream",
          "text": [
            "[3, 4]\n"
          ],
          "name": "stdout"
        }
      ]
    },
    {
      "metadata": {
        "id": "rrnVzzVIrmhQ",
        "colab_type": "text"
      },
      "cell_type": "markdown",
      "source": [
        "Accessing a specific element in a contained list can be done by specifying 2 indices:"
      ]
    },
    {
      "metadata": {
        "id": "8_32QRsdrmhT",
        "colab_type": "code",
        "colab": {},
        "outputId": "937add69-bcbd-4a3e-f995-7fd172fa2555"
      },
      "cell_type": "code",
      "source": [
        "a = [1, 2, [3, 4], 5, 6]\n",
        "\n",
        "print(a[2][0])\n",
        "print(a[2][1])"
      ],
      "execution_count": 0,
      "outputs": [
        {
          "output_type": "stream",
          "text": [
            "3\n",
            "4\n"
          ],
          "name": "stdout"
        }
      ]
    },
    {
      "metadata": {
        "id": "fWus1eB6rmhX",
        "colab_type": "text"
      },
      "cell_type": "markdown",
      "source": [
        "In this way we can quickly create two-dimensional data structures:"
      ]
    },
    {
      "metadata": {
        "id": "IBW5vNH8rmhX",
        "colab_type": "code",
        "colab": {},
        "outputId": "77f88c8a-b0c9-4d8b-cc53-52abbb446b3a"
      },
      "cell_type": "code",
      "source": [
        "spread_sheet = []\n",
        "spread_sheet.append([0]*10)\n",
        "spread_sheet.append([0]*10)\n",
        "spread_sheet.append([0]*10)\n",
        "spread_sheet.append([0]*10)\n",
        "print(spread_sheet)\n",
        "print(len(spread_sheet))"
      ],
      "execution_count": 0,
      "outputs": [
        {
          "output_type": "stream",
          "text": [
            "[[0, 0, 0, 0, 0, 0, 0, 0, 0, 0], [0, 0, 0, 0, 0, 0, 0, 0, 0, 0], [0, 0, 0, 0, 0, 0, 0, 0, 0, 0], [0, 0, 0, 0, 0, 0, 0, 0, 0, 0]]\n",
            "4\n"
          ],
          "name": "stdout"
        }
      ]
    },
    {
      "metadata": {
        "id": "T_lq9Nkzrmhb",
        "colab_type": "text"
      },
      "cell_type": "markdown",
      "source": [
        "Variable referencing is especially important when working with lists. As shown in the following example:"
      ]
    },
    {
      "metadata": {
        "id": "WUrzMpmFrmhd",
        "colab_type": "code",
        "colab": {},
        "outputId": "51b43904-973b-4411-de9c-6e231462d3d3"
      },
      "cell_type": "code",
      "source": [
        "b = [3, 4]\n",
        "a = [1, 2, b, 5, 6] # List b is added to a\n",
        "b[0] = -1           # Value assigned to b\n",
        "\n",
        "print(b)\n",
        "print(a)"
      ],
      "execution_count": 0,
      "outputs": [
        {
          "output_type": "stream",
          "text": [
            "[-1, 4]\n",
            "[1, 2, [-1, 4], 5, 6]\n"
          ],
          "name": "stdout"
        }
      ]
    },
    {
      "metadata": {
        "id": "2ddZ9PfQrmhh",
        "colab_type": "text"
      },
      "cell_type": "markdown",
      "source": [
        "In the example the nested list is also changed when assigning **b**. The following picture illustrates this:\n",
        "\n",
        "![variable references 1](https://github.com/jonaslindemann/guide_to_python/blob/master/chapters/kapitel3/notebooks/images/variable6.png?raw=1)"
      ]
    },
    {
      "metadata": {
        "id": "81u75NXMrmhn",
        "colab_type": "text"
      },
      "cell_type": "markdown",
      "source": [
        "To avoid this the **.copy()** method of the list can be used to make a copy of the list."
      ]
    },
    {
      "metadata": {
        "id": "GJpUGgG7rmho",
        "colab_type": "code",
        "colab": {},
        "outputId": "05bcc1b6-792b-4863-a6e0-6f9e40ad949d"
      },
      "cell_type": "code",
      "source": [
        "b = [3, 4]\n",
        "a = [1, 2, b.copy(), 5, 6]\n",
        "b[0] = -1\n",
        "\n",
        "print(b)\n",
        "print(a)"
      ],
      "execution_count": 0,
      "outputs": [
        {
          "output_type": "stream",
          "text": [
            "[-1, 4]\n",
            "[1, 2, [3, 4], 5, 6]\n"
          ],
          "name": "stdout"
        }
      ]
    },
    {
      "metadata": {
        "id": "Sxb5-gDOrmhr",
        "colab_type": "text"
      },
      "cell_type": "markdown",
      "source": [
        "This corresponds to the following memory structure:\n",
        "\n",
        "![variable references 1](https://github.com/jonaslindemann/guide_to_python/blob/master/chapters/kapitel3/notebooks/images/variable7.png?raw=1)"
      ]
    },
    {
      "metadata": {
        "id": "POVoq1KFrmhu",
        "colab_type": "text"
      },
      "cell_type": "markdown",
      "source": [
        "## Strängar"
      ]
    },
    {
      "metadata": {
        "id": "36Vtn9cRrmhu",
        "colab_type": "text"
      },
      "cell_type": "markdown",
      "source": [
        "* Strings stores sequences of characters. Text data from files. \n",
        "* Many ways of creating strings\n",
        "* Strings are immutable - Can't be changed."
      ]
    },
    {
      "metadata": {
        "id": "S1zjVNBtrmhu",
        "colab_type": "code",
        "colab": {},
        "outputId": "54d9328b-01ab-421f-fa0d-18522709c7e0"
      },
      "cell_type": "code",
      "source": [
        "full_name = \"Guido van Rossum\"\n",
        "print(full_name)"
      ],
      "execution_count": 0,
      "outputs": [
        {
          "output_type": "stream",
          "text": [
            "Guido van Rossum\n"
          ],
          "name": "stdout"
        }
      ]
    },
    {
      "metadata": {
        "id": "8hm6MVnjrmhx",
        "colab_type": "code",
        "colab": {},
        "outputId": "2405b374-e156-4153-c9a3-9ce29f1bb2c7"
      },
      "cell_type": "code",
      "source": [
        "full_name = 'Guido van Rossum' # Simple citation marks\n",
        "print(full_name)"
      ],
      "execution_count": 0,
      "outputs": [
        {
          "output_type": "stream",
          "text": [
            "Guido van Rossum\n"
          ],
          "name": "stdout"
        }
      ]
    },
    {
      "metadata": {
        "id": "SDeB606Urmhz",
        "colab_type": "text"
      },
      "cell_type": "markdown",
      "source": [
        "If you need to use either citation or quotation in the string, use the other as the delimiter."
      ]
    },
    {
      "metadata": {
        "id": "Xlfkemhkrmh0",
        "colab_type": "code",
        "colab": {},
        "outputId": "cfe4ff0a-e119-4b01-f928-7a57dc156203"
      },
      "cell_type": "code",
      "source": [
        "title = \"don't give up\"\n",
        "print(title)"
      ],
      "execution_count": 0,
      "outputs": [
        {
          "output_type": "stream",
          "text": [
            "don't give up\n"
          ],
          "name": "stdout"
        }
      ]
    },
    {
      "metadata": {
        "id": "6jDCnhGBrmh2",
        "colab_type": "code",
        "colab": {},
        "outputId": "0d1ee4c5-58aa-41ba-9779-ca6faacee207"
      },
      "cell_type": "code",
      "source": [
        "sentence = 'He used the \"Aguamenti\" spell.'\n",
        "print(sentence)"
      ],
      "execution_count": 0,
      "outputs": [
        {
          "output_type": "stream",
          "text": [
            "He used the \"Aguamenti\" spell.\n"
          ],
          "name": "stdout"
        }
      ]
    },
    {
      "metadata": {
        "id": "o24ElnXtrmiF",
        "colab_type": "text"
      },
      "cell_type": "markdown",
      "source": [
        "Control characters can be used to control output. Some of these are shown in the following table:\n",
        "\n",
        "![variable references 1](https://github.com/jonaslindemann/guide_to_python/blob/master/chapters/kapitel3/notebooks/images/strings1.png?raw=1)"
      ]
    },
    {
      "metadata": {
        "id": "CGaKTIG2rmiF",
        "colab_type": "code",
        "colab": {},
        "outputId": "4b8082cb-27dc-41ae-9509-7e9aa2953208"
      },
      "cell_type": "code",
      "source": [
        "full_name = \"Guido van Rossum\\nPython Creator\" # Newline control character\n",
        "print(full_name)"
      ],
      "execution_count": 0,
      "outputs": [
        {
          "output_type": "stream",
          "text": [
            "Guido van Rossum\n",
            "Python Creator\n"
          ],
          "name": "stdout"
        }
      ]
    },
    {
      "metadata": {
        "id": "k1nD2q4jrmiI",
        "colab_type": "text"
      },
      "cell_type": "markdown",
      "source": [
        "Sometime you don't want extra processing by Python. This can be done by using raw-strings, which are prefixed by **r**."
      ]
    },
    {
      "metadata": {
        "id": "7g32xVWKrmiJ",
        "colab_type": "code",
        "colab": {},
        "outputId": "1303bd71-3d78-4790-e79e-42105fdc1548"
      },
      "cell_type": "code",
      "source": [
        "raw_string = r\"Row1\\nRow2\"\n",
        "std_string = \"Row1\\nRow2\"\n",
        "print(raw_string)\n",
        "print(std_string)"
      ],
      "execution_count": 0,
      "outputs": [
        {
          "output_type": "stream",
          "text": [
            "Row1\\nRow2\n",
            "Row1\n",
            "Row2\n"
          ],
          "name": "stdout"
        }
      ]
    },
    {
      "metadata": {
        "id": "EzBh16_KrmiL",
        "colab_type": "text"
      },
      "cell_type": "markdown",
      "source": [
        "Another option for strings with a more specific format is to use triple quoted strings. They contain all control characters when assigning the string as in the following example:"
      ]
    },
    {
      "metadata": {
        "id": "rMLrHHE6rmiM",
        "colab_type": "code",
        "colab": {},
        "outputId": "2147f492-76f3-4e27-dfd0-7cbae58d269f"
      },
      "cell_type": "code",
      "source": [
        "full_name = \"\"\"Guido van Rossum\n",
        "Python Creator\n",
        "Python är fantastiskt\"\"\"\n",
        "print(full_name)"
      ],
      "execution_count": 0,
      "outputs": [
        {
          "output_type": "stream",
          "text": [
            "Guido van Rossum\n",
            "Python Creator\n",
            "Python är fantastiskt\n"
          ],
          "name": "stdout"
        }
      ]
    },
    {
      "metadata": {
        "id": "En5RA4ojrmiO",
        "colab_type": "text"
      },
      "cell_type": "markdown",
      "source": [
        "Here string layout as described in the code is preserved."
      ]
    },
    {
      "metadata": {
        "id": "Dt2I4jn_rmiP",
        "colab_type": "text"
      },
      "cell_type": "markdown",
      "source": [
        "### Length of strings"
      ]
    },
    {
      "metadata": {
        "id": "mm28gH6frmiQ",
        "colab_type": "text"
      },
      "cell_type": "markdown",
      "source": [
        "The lengths of a string is measured using the same generic function **len()** as for lists:"
      ]
    },
    {
      "metadata": {
        "id": "TwPXolf6rmiQ",
        "colab_type": "code",
        "colab": {},
        "outputId": "700b7f31-aab1-449c-a5a5-7640e776a016"
      },
      "cell_type": "code",
      "source": [
        "s1 = \"Detta är en sträng\"\n",
        "s2 = \"Detta är en längre sträng\"\n",
        "\n",
        "print(s1, len(s1))\n",
        "print(s2, len(s2))"
      ],
      "execution_count": 0,
      "outputs": [
        {
          "output_type": "stream",
          "text": [
            "Detta är en sträng 18\n",
            "Detta är en längre sträng 25\n"
          ],
          "name": "stdout"
        }
      ]
    },
    {
      "metadata": {
        "id": "O6UPAdEIrmiW",
        "colab_type": "text"
      },
      "cell_type": "markdown",
      "source": [
        "### Adding strings together"
      ]
    },
    {
      "metadata": {
        "id": "ztgjMHFPrmiW",
        "colab_type": "text"
      },
      "cell_type": "markdown",
      "source": [
        "The + operator can be used to combine strings."
      ]
    },
    {
      "metadata": {
        "id": "jrNwOnaOrmiX",
        "colab_type": "code",
        "colab": {},
        "outputId": "f2cb1e9a-db86-43cb-9a4c-5348e84684eb"
      },
      "cell_type": "code",
      "source": [
        "s1 = \"Det är kul med \"\n",
        "s2 = \"Python\"\n",
        "\n",
        "s3 = s1 + s2\n",
        "\n",
        "print(s3)"
      ],
      "execution_count": 0,
      "outputs": [
        {
          "output_type": "stream",
          "text": [
            "Det är kul med Python\n"
          ],
          "name": "stdout"
        }
      ]
    },
    {
      "metadata": {
        "id": "yqeOxVkzrmiZ",
        "colab_type": "text"
      },
      "cell_type": "markdown",
      "source": [
        "### Repeating strings"
      ]
    },
    {
      "metadata": {
        "id": "4LhCBwEkrmia",
        "colab_type": "text"
      },
      "cell_type": "markdown",
      "source": [
        "The * operator can be used to repeat string segments to a longer string:"
      ]
    },
    {
      "metadata": {
        "id": "RcvWs44krmia",
        "colab_type": "code",
        "colab": {},
        "outputId": "8f07333f-9499-44d0-c0df-3f91a94b8dcf"
      },
      "cell_type": "code",
      "source": [
        "s1 = \"Detta är en sträng vi vill stryka under\"\n",
        "s2 = \"-\" * len(s1)\n",
        "\n",
        "print(s1)\n",
        "print(s2)"
      ],
      "execution_count": 0,
      "outputs": [
        {
          "output_type": "stream",
          "text": [
            "Detta är en sträng vi vill stryka under\n",
            "---------------------------------------\n"
          ],
          "name": "stdout"
        }
      ]
    },
    {
      "metadata": {
        "id": "g4wxdKaFrmid",
        "colab_type": "text"
      },
      "cell_type": "markdown",
      "source": [
        "### Splitting strings"
      ]
    },
    {
      "metadata": {
        "id": "4HhHNhBFrmie",
        "colab_type": "text"
      },
      "cell_type": "markdown",
      "source": [
        "The string datatype has a method **.split()** that can be used to split strings into lists of smaller parts."
      ]
    },
    {
      "metadata": {
        "id": "soZ1copIrmie",
        "colab_type": "code",
        "colab": {},
        "outputId": "06299e67-60df-4eb6-a0b5-54556ca26914"
      },
      "cell_type": "code",
      "source": [
        "s = \"Detta är en mening med en mängd ord!\"\n",
        "\n",
        "ord_lista = s.split()\n",
        "\n",
        "print(ord_lista)"
      ],
      "execution_count": 0,
      "outputs": [
        {
          "output_type": "stream",
          "text": [
            "['Detta', 'är', 'en', 'mening', 'med', 'en', 'mängd', 'ord!']\n"
          ],
          "name": "stdout"
        }
      ]
    },
    {
      "metadata": {
        "id": "9a1fqACHrmig",
        "colab_type": "text"
      },
      "cell_type": "markdown",
      "source": [
        "The **.split()** method takes an argument that determines which character to split the string by:"
      ]
    },
    {
      "metadata": {
        "id": "Pk2ja4z8rmig",
        "colab_type": "code",
        "colab": {},
        "outputId": "b8052dc7-6be7-45c1-ef22-d300ba2a7e51"
      },
      "cell_type": "code",
      "source": [
        "s = \"123, 456, 123, 35456, 12, 34\"\n",
        "\n",
        "delar = s.split(\",\")\n",
        "\n",
        "print(delar)"
      ],
      "execution_count": 0,
      "outputs": [
        {
          "output_type": "stream",
          "text": [
            "['123', ' 456', ' 123', ' 35456', ' 12', ' 34']\n"
          ],
          "name": "stdout"
        }
      ]
    },
    {
      "metadata": {
        "id": "u0L2fegcrmii",
        "colab_type": "text"
      },
      "cell_type": "markdown",
      "source": [
        "### Create strings from lists"
      ]
    },
    {
      "metadata": {
        "id": "NMwVMIBOrmii",
        "colab_type": "text"
      },
      "cell_type": "markdown",
      "source": [
        "If you have lists of strings it also possible to append these to strings using the **.join()** method."
      ]
    },
    {
      "metadata": {
        "id": "jTvWULWormik",
        "colab_type": "code",
        "colab": {},
        "outputId": "3c1c6d83-1f75-46b9-b66c-83bec606003b"
      },
      "cell_type": "code",
      "source": [
        "list_of_strings = [\"Detta\", \"är\", \"en\", \"lista\", \"med\", \"ord\"]\n",
        "list_of_things = [\"tree\", \"house\", \"pencil\", \"eraser\"]\n",
        "\n",
        "s1 = \" \".join(list_of_strings) # Append with spaces\n",
        "s2 = \",\".join(list_of_things)  # Append with comma\n",
        "s3 = \"\".join(list_of_things)   # Append withou spacing.\n",
        "\n",
        "print(s1)\n",
        "print(s2)\n",
        "print(s3)"
      ],
      "execution_count": 0,
      "outputs": [
        {
          "output_type": "stream",
          "text": [
            "Detta är en lista med ord\n",
            "tree,house,pencil,eraser\n",
            "treehousepencileraser\n"
          ],
          "name": "stdout"
        }
      ]
    },
    {
      "metadata": {
        "id": "EDJHv9tqrmir",
        "colab_type": "text"
      },
      "cell_type": "markdown",
      "source": [
        "### String searching"
      ]
    },
    {
      "metadata": {
        "id": "OoNzUSVlrmir",
        "colab_type": "text"
      },
      "cell_type": "markdown",
      "source": [
        "One common operation is query if a substring exists in a string. This is done using the **in** operator."
      ]
    },
    {
      "metadata": {
        "id": "cNGEbId6rmis",
        "colab_type": "code",
        "colab": {},
        "outputId": "01fdbb35-4c3f-466f-eb83-3f7c830fd5b9"
      },
      "cell_type": "code",
      "source": [
        "s = \"Far far away, behind the word mountains, far from the countries \" \\\n",
        "\"Vokalia and Consonantia, there live the blind texts. Separated they \" \\\n",
        "\"live in Bookmarksgrove right at the coast of the Semantics, a large \" \\\n",
        "\"language ocean.\"\n",
        "print(\"Vokalia\" in s)"
      ],
      "execution_count": 0,
      "outputs": [
        {
          "output_type": "stream",
          "text": [
            "True\n"
          ],
          "name": "stdout"
        }
      ]
    },
    {
      "metadata": {
        "id": "pFZNGxTcrmiu",
        "colab_type": "text"
      },
      "cell_type": "markdown",
      "source": [
        "It is also possible to use the method **.find()** to search for substrings:"
      ]
    },
    {
      "metadata": {
        "id": "z9NfAJJzrmiu",
        "colab_type": "code",
        "colab": {},
        "outputId": "bf26568c-84e4-4684-f013-a7cf228d2978"
      },
      "cell_type": "code",
      "source": [
        "s = \"Far far away, behind the word mountains, far from the countries \" \\\n",
        "\"Vokalia and Consonantia, there live the blind texts. Separated they \" \\\n",
        "\"live in Bookmarksgrove right at the coast of the Semantics, a large \" \\\n",
        "\"language ocean.\"\n",
        "pos = s.find(\"far\")\n",
        "print(pos)\n",
        "\n",
        "pos = s.find(\"far\", pos+1)\n",
        "print(pos)\n",
        "\n",
        "pos = s.find(\"python\")\n",
        "print(pos)"
      ],
      "execution_count": 0,
      "outputs": [
        {
          "output_type": "stream",
          "text": [
            "4\n",
            "41\n",
            "-1\n"
          ],
          "name": "stdout"
        }
      ]
    },
    {
      "metadata": {
        "id": "G_zO1LEcrmi-",
        "colab_type": "text"
      },
      "cell_type": "markdown",
      "source": [
        "### Clearing empty space in strings"
      ]
    },
    {
      "metadata": {
        "id": "ydv9-sztrmi_",
        "colab_type": "text"
      },
      "cell_type": "markdown",
      "source": [
        "When you read data from files you often get extra spaces that needs to be removed. This can be done using the **.strip()** method in the string datatype:"
      ]
    },
    {
      "metadata": {
        "id": "rp7mMzoirmjA",
        "colab_type": "code",
        "colab": {},
        "outputId": "136a427d-379b-4d6b-e34a-6530affa13a5"
      },
      "cell_type": "code",
      "source": [
        "s1 = \" Detta är en sträng med extra utrymme. \"\n",
        "s2 = s1.strip()\n",
        "\n",
        "print(\">\" + s1 + \"<\")\n",
        "print(\">\" + s2 + \"<\")"
      ],
      "execution_count": 0,
      "outputs": [
        {
          "output_type": "stream",
          "text": [
            "> Detta är en sträng med extra utrymme. <\n",
            ">Detta är en sträng med extra utrymme.<\n"
          ],
          "name": "stdout"
        }
      ]
    },
    {
      "metadata": {
        "id": "hsVoE1HjrmjC",
        "colab_type": "text"
      },
      "cell_type": "markdown",
      "source": [
        "Specia versions for cleaning left and right spaces:"
      ]
    },
    {
      "metadata": {
        "id": "wgGk22XdrmjD",
        "colab_type": "code",
        "colab": {},
        "outputId": "d72a94ab-91dd-4698-836b-359d592c9ff6"
      },
      "cell_type": "code",
      "source": [
        "s1 = \" Detta är en sträng med extra utrymme. \"\n",
        "s2 = s1.rstrip()\n",
        "\n",
        "print(\">\" + s1 + \"<\")\n",
        "print(\">\" + s2 + \"<\")"
      ],
      "execution_count": 0,
      "outputs": [
        {
          "output_type": "stream",
          "text": [
            "> Detta är en sträng med extra utrymme. <\n",
            "> Detta är en sträng med extra utrymme.<\n"
          ],
          "name": "stdout"
        }
      ]
    },
    {
      "metadata": {
        "id": "PNk1gYTnrmjH",
        "colab_type": "code",
        "colab": {},
        "outputId": "b37f83ea-1d8a-4c0a-cd89-b742b0668a75"
      },
      "cell_type": "code",
      "source": [
        "s1 = \" Detta är en sträng med extra utrymme. \"\n",
        "s2 = s1.lstrip()\n",
        "\n",
        "print(\">\" + s1 + \"<\")\n",
        "print(\">\" + s2 + \"<\")"
      ],
      "execution_count": 0,
      "outputs": [
        {
          "output_type": "stream",
          "text": [
            "> Detta är en sträng med extra utrymme. <\n",
            ">Detta är en sträng med extra utrymme. <\n"
          ],
          "name": "stdout"
        }
      ]
    },
    {
      "metadata": {
        "id": "5kHYbSXjrmjI",
        "colab_type": "text"
      },
      "cell_type": "markdown",
      "source": [
        "## Querying actual datatype"
      ]
    },
    {
      "metadata": {
        "id": "IBeqH5JurmjJ",
        "colab_type": "text"
      },
      "cell_type": "markdown",
      "source": [
        "Sometimes you need to find out the actual datatype of a variable reference. This can be done with the **type()** function. This prints the actual data type:"
      ]
    },
    {
      "metadata": {
        "id": "JFeXrFYdrmjK",
        "colab_type": "code",
        "colab": {},
        "outputId": "907ad213-e66a-4c68-9f71-063c83868d0b"
      },
      "cell_type": "code",
      "source": [
        "a = 42\n",
        "b = 42.0\n",
        "c = True\n",
        "d = 'Hejsan'\n",
        "print(type(a))\n",
        "print(type(b))\n",
        "print(type(c))\n",
        "print(type(d))"
      ],
      "execution_count": 0,
      "outputs": [
        {
          "output_type": "stream",
          "text": [
            "<class 'int'>\n",
            "<class 'float'>\n",
            "<class 'bool'>\n",
            "<class 'str'>\n"
          ],
          "name": "stdout"
        }
      ]
    },
    {
      "metadata": {
        "id": "X0HYJBT-rmjL",
        "colab_type": "text"
      },
      "cell_type": "markdown",
      "source": [
        "# Dictionaries"
      ]
    },
    {
      "metadata": {
        "id": "t4MkxuEPrmjM",
        "colab_type": "text"
      },
      "cell_type": "markdown",
      "source": [
        "Dictionaries in Python is a special form of container in which data is store in key-value pairs. Looking up a key in a dictionary is usually a quick operation.\n",
        "\n",
        "Dictionaries use curly brackets instead of [] to define its contents.\n",
        "\n",
        "An empty dictionary is created with the following code:"
      ]
    },
    {
      "metadata": {
        "id": "FMtbcm3VrmjM",
        "colab_type": "code",
        "colab": {}
      },
      "cell_type": "code",
      "source": [
        "values = {}"
      ],
      "execution_count": 0,
      "outputs": []
    },
    {
      "metadata": {
        "id": "ctzwCdhbrmjP",
        "colab_type": "text"
      },
      "cell_type": "markdown",
      "source": [
        "Initial values can be assigned by listing key-value pairs separated with commas. Key-value pairs are defined using key:value notation. "
      ]
    },
    {
      "metadata": {
        "id": "khPMN0T5rmjP",
        "colab_type": "code",
        "colab": {},
        "outputId": "42b17955-ee17-4fc5-a699-2b785cd9f631"
      },
      "cell_type": "code",
      "source": [
        "values = {\n",
        "    \"Petra\":\"9046112\", \"David\":\"1234145\",\n",
        "    \"Olle\":\"534532\"\n",
        "}\n",
        "print(values)"
      ],
      "execution_count": 0,
      "outputs": [
        {
          "output_type": "stream",
          "text": [
            "{'Petra': '9046112', 'David': '1234145', 'Olle': '534532'}\n"
          ],
          "name": "stdout"
        }
      ]
    },
    {
      "metadata": {
        "id": "MU3yb7PMrmjV",
        "colab_type": "text"
      },
      "cell_type": "markdown",
      "source": [
        "To access values in a dictionary we use [] with the key instead of an index:"
      ]
    },
    {
      "metadata": {
        "id": "oIkjN7CyrmjW",
        "colab_type": "code",
        "colab": {},
        "outputId": "03cbc90e-b1b8-472f-851b-afef8d044fe1"
      },
      "cell_type": "code",
      "source": [
        "print(values[\"David\"])\n",
        "print(values[\"Petra\"])"
      ],
      "execution_count": 0,
      "outputs": [
        {
          "output_type": "stream",
          "text": [
            "1234145\n",
            "9046112\n"
          ],
          "name": "stdout"
        }
      ]
    },
    {
      "metadata": {
        "id": "tiEnLdkTrmjY",
        "colab_type": "text"
      },
      "cell_type": "markdown",
      "source": [
        "Modifyingh a dictionary can be done in the same way as assigning a value to a list, that is assigning a value to a specific key:"
      ]
    },
    {
      "metadata": {
        "id": "tZkvOw-VrmjY",
        "colab_type": "code",
        "colab": {},
        "outputId": "db14ddd2-0fc8-421a-9764-11eece8f1f27"
      },
      "cell_type": "code",
      "source": [
        "values[\"Peter\"] = 734847\n",
        "print(values)"
      ],
      "execution_count": 0,
      "outputs": [
        {
          "output_type": "stream",
          "text": [
            "{'Petra': '9046112', 'David': '1234145', 'Olle': '534532', 'Peter': 734847}\n"
          ],
          "name": "stdout"
        }
      ]
    },
    {
      "metadata": {
        "id": "urxsuxy4rmjc",
        "colab_type": "text"
      },
      "cell_type": "markdown",
      "source": [
        "## Finding things in a dictionary"
      ]
    },
    {
      "metadata": {
        "id": "7HDsUIh6rmjd",
        "colab_type": "text"
      },
      "cell_type": "markdown",
      "source": [
        "Searching a dictionary for a specific item can be done using the **in** operator. The result will return **True** or **False** if the key is in the dictionary."
      ]
    },
    {
      "metadata": {
        "id": "shUxrBivrmje",
        "colab_type": "code",
        "colab": {},
        "outputId": "c52030af-35db-4386-97d8-c88164830361"
      },
      "cell_type": "code",
      "source": [
        "idx = {\n",
        "    'Olle': '534532',\n",
        "    'David': '1234145',\n",
        "    'Petra': '9046112'\n",
        "}\n",
        "print('Petra' in idx)\n",
        "print('Bosse' in idx)"
      ],
      "execution_count": 0,
      "outputs": [
        {
          "output_type": "stream",
          "text": [
            "True\n",
            "False\n"
          ],
          "name": "stdout"
        }
      ]
    },
    {
      "metadata": {
        "id": "Qo__uGskrmjg",
        "colab_type": "text"
      },
      "cell_type": "markdown",
      "source": [
        "## Size of dictionary"
      ]
    },
    {
      "metadata": {
        "id": "6gc329Wermjg",
        "colab_type": "text"
      },
      "cell_type": "markdown",
      "source": [
        "The number of items in a dictionary is determined by using the **len()** function in the same way as for a list."
      ]
    },
    {
      "metadata": {
        "id": "Z4wYsB_krmjg",
        "colab_type": "code",
        "colab": {},
        "outputId": "fb082785-1b43-4eec-f5c8-e8f0f413d3ad"
      },
      "cell_type": "code",
      "source": [
        "print(len(values))"
      ],
      "execution_count": 0,
      "outputs": [
        {
          "output_type": "stream",
          "text": [
            "4\n"
          ],
          "name": "stdout"
        }
      ]
    },
    {
      "metadata": {
        "id": "AJA4izfyrmji",
        "colab_type": "text"
      },
      "cell_type": "markdown",
      "source": [
        "## Adding values to a dictionary"
      ]
    },
    {
      "metadata": {
        "id": "hE9QQOqgrmji",
        "colab_type": "text"
      },
      "cell_type": "markdown",
      "source": [
        "Adding values to a dictionary is done by asssigning values to new keys:"
      ]
    },
    {
      "metadata": {
        "id": "xzINGU_yrmjj",
        "colab_type": "code",
        "colab": {},
        "outputId": "07892211-64eb-4aae-cbd5-ef70b84a8242"
      },
      "cell_type": "code",
      "source": [
        "values[\"Guido\"] = 187493\n",
        "print(values)"
      ],
      "execution_count": 0,
      "outputs": [
        {
          "output_type": "stream",
          "text": [
            "{'Petra': '9046112', 'David': '1234145', 'Olle': '534532', 'Peter': 734847, 'Guido': 187493}\n"
          ],
          "name": "stdout"
        }
      ]
    },
    {
      "metadata": {
        "id": "3xqMq20grmjm",
        "colab_type": "text"
      },
      "cell_type": "markdown",
      "source": [
        "## Nested dictionaries"
      ]
    },
    {
      "metadata": {
        "id": "pUvcGnC-rmjn",
        "colab_type": "text"
      },
      "cell_type": "markdown",
      "source": [
        "In the same way as with lists a dictionary can be nested:"
      ]
    },
    {
      "metadata": {
        "id": "nhZebrGzrmjn",
        "colab_type": "code",
        "colab": {},
        "outputId": "a5a7ae5a-c539-4cc6-ab5c-dab98b826b52"
      },
      "cell_type": "code",
      "source": [
        "config = {\n",
        "    \"general\":\n",
        "        {\n",
        "            \"username\":\"olle\",\n",
        "            \"temp_path\":\"C:\\\\TEMP\"\n",
        "        },\n",
        "    \"constants\":\n",
        "        {\n",
        "            \"pi\":3.14159,\n",
        "            \"g\":9.82\n",
        "        },\n",
        "    \"items\":\n",
        "        {\n",
        "            \"values\": [1, 2, 3, 4, 5]\n",
        "        }\n",
        "}\n",
        "\n",
        "print(config[\"general\"][\"username\"])\n",
        "print(config[\"constants\"][\"pi\"])\n",
        "print(config[\"items\"][\"values\"][1])"
      ],
      "execution_count": 0,
      "outputs": [
        {
          "output_type": "stream",
          "text": [
            "olle\n",
            "3.14159\n",
            "2\n"
          ],
          "name": "stdout"
        }
      ]
    },
    {
      "metadata": {
        "id": "QXtPpHSDrmjp",
        "colab_type": "text"
      },
      "cell_type": "markdown",
      "source": [
        "# Loops and conditionals constructs"
      ]
    },
    {
      "metadata": {
        "id": "PGjQvy_frmjp",
        "colab_type": "text"
      },
      "cell_type": "markdown",
      "source": [
        "## Codeblocks in Python"
      ]
    },
    {
      "metadata": {
        "id": "1kfaXEQOrmjp",
        "colab_type": "text"
      },
      "cell_type": "markdown",
      "source": [
        "In Python statements are grouped in codeblocks by the structure of the source file. A group of statements in considered grouped if it is proceeded by a : and the following statements are indented."
      ]
    },
    {
      "metadata": {
        "id": "jJtmYgc1rmjr",
        "colab_type": "code",
        "colab": {},
        "outputId": "0bd584a4-9226-4e03-8fe9-59c593f1b0f4"
      },
      "cell_type": "code",
      "source": [
        "for i in range(5): # Markerar start av kodblock\n",
        "    print(i)       # Indraget kodblock.\n",
        "                   # Tillhör for-satsen\n",
        "\n",
        "print(\"Denna sats tillhör inte kodblocket\")"
      ],
      "execution_count": 0,
      "outputs": [
        {
          "output_type": "stream",
          "text": [
            "0\n",
            "1\n",
            "2\n",
            "3\n",
            "4\n",
            "Denna sats tillhör inte kodblocket\n"
          ],
          "name": "stdout"
        }
      ]
    },
    {
      "metadata": {
        "id": "qxAR-GeZrmjt",
        "colab_type": "text"
      },
      "cell_type": "markdown",
      "source": [
        "## Loops"
      ]
    },
    {
      "metadata": {
        "id": "YK-ox5LRrmju",
        "colab_type": "text"
      },
      "cell_type": "markdown",
      "source": [
        "### Repeating a code block a specific number of times - for"
      ]
    },
    {
      "metadata": {
        "id": "jxVbv0s5rmju",
        "colab_type": "code",
        "colab": {},
        "outputId": "9cdec79a-c190-4b87-fefa-b33c97431e58"
      },
      "cell_type": "code",
      "source": [
        "for i in range(10):  # Sequence 0 - 9\n",
        "    print(i)"
      ],
      "execution_count": 0,
      "outputs": [
        {
          "output_type": "stream",
          "text": [
            "0\n",
            "1\n",
            "2\n",
            "3\n",
            "4\n",
            "5\n",
            "6\n",
            "7\n",
            "8\n",
            "9\n"
          ],
          "name": "stdout"
        }
      ]
    },
    {
      "metadata": {
        "id": "-XU-A9oHrmjw",
        "colab_type": "code",
        "colab": {},
        "outputId": "c62dfa87-093a-472d-c23e-d8f47b8b1e34"
      },
      "cell_type": "code",
      "source": [
        "for i in range(5, 11): # Sequence 5 - 10\n",
        "    print(i)"
      ],
      "execution_count": 0,
      "outputs": [
        {
          "output_type": "stream",
          "text": [
            "5\n",
            "6\n",
            "7\n",
            "8\n",
            "9\n",
            "10\n"
          ],
          "name": "stdout"
        }
      ]
    },
    {
      "metadata": {
        "id": "DaV37oJMrmjz",
        "colab_type": "code",
        "colab": {},
        "outputId": "c9f170c7-3dc5-436c-ed12-1ac37ed83b4c"
      },
      "cell_type": "code",
      "source": [
        "for i in range(5,21,3): # Sequence with step 3\n",
        "    print(i)"
      ],
      "execution_count": 0,
      "outputs": [
        {
          "output_type": "stream",
          "text": [
            "5\n",
            "8\n",
            "11\n",
            "14\n",
            "17\n",
            "20\n"
          ],
          "name": "stdout"
        }
      ]
    },
    {
      "metadata": {
        "id": "V1ucTOJprmj0",
        "colab_type": "text"
      },
      "cell_type": "markdown",
      "source": [
        "### Iterating over a list"
      ]
    },
    {
      "metadata": {
        "id": "cUUPWPMYrmj0",
        "colab_type": "code",
        "colab": {},
        "outputId": "c5821324-2506-4800-ac4f-46c6e31f09d6"
      },
      "cell_type": "code",
      "source": [
        "values = [1, 3, 6, 4, 'hej', 1.0, 42]\n",
        "\n",
        "for value in values:\n",
        "    print(value)"
      ],
      "execution_count": 0,
      "outputs": [
        {
          "output_type": "stream",
          "text": [
            "1\n",
            "3\n",
            "6\n",
            "4\n",
            "hej\n",
            "1.0\n",
            "42\n"
          ],
          "name": "stdout"
        }
      ]
    },
    {
      "metadata": {
        "id": "Bi0Vj6wDrmj6",
        "colab_type": "text"
      },
      "cell_type": "markdown",
      "source": [
        "### Iterating over a list with a loop variable"
      ]
    },
    {
      "metadata": {
        "id": "M_h_qqGsrmj7",
        "colab_type": "code",
        "colab": {},
        "outputId": "d4222126-8b1e-456b-a080-e29ed20d38a0"
      },
      "cell_type": "code",
      "source": [
        "a = [\"a\", \"b\", \"c\", \"d\", \"e\"]\n",
        "b = [5, 4, 3, 2, 1]\n",
        "for i in range(len(a)):\n",
        "    print(a[i], \",\", b[i])"
      ],
      "execution_count": 0,
      "outputs": [
        {
          "output_type": "stream",
          "text": [
            "a , 5\n",
            "b , 4\n",
            "c , 3\n",
            "d , 2\n",
            "e , 1\n"
          ],
          "name": "stdout"
        }
      ]
    },
    {
      "metadata": {
        "id": "tZdLXiVErmkA",
        "colab_type": "text"
      },
      "cell_type": "markdown",
      "source": [
        "### Iterating over multiple lists "
      ]
    },
    {
      "metadata": {
        "id": "r-dTxouGrmkA",
        "colab_type": "code",
        "colab": {},
        "outputId": "582000f5-9dec-48c3-cff9-1fe231d6e87b"
      },
      "cell_type": "code",
      "source": [
        "x_pos = [50, 130, 200, 250]\n",
        "y_pos = [50, 70, 220, 300]\n",
        "\n",
        "for x, y in zip(x_pos, y_pos):\n",
        "    print(x, y)"
      ],
      "execution_count": 0,
      "outputs": [
        {
          "output_type": "stream",
          "text": [
            "50 50\n",
            "130 70\n",
            "200 220\n",
            "250 300\n"
          ],
          "name": "stdout"
        }
      ]
    },
    {
      "metadata": {
        "id": "7VQU4YwfrmkD",
        "colab_type": "text"
      },
      "cell_type": "markdown",
      "source": [
        "### Iterating over nested lists "
      ]
    },
    {
      "metadata": {
        "id": "S45VKUJTrmkD",
        "colab_type": "code",
        "colab": {},
        "outputId": "c3279f3c-560d-4437-caa6-b043d7c64192"
      },
      "cell_type": "code",
      "source": [
        "points = [[50,50], [130,70], [200,220], [250,300]]\n",
        "\n",
        "for p in points:\n",
        "    print(p)"
      ],
      "execution_count": 0,
      "outputs": [
        {
          "output_type": "stream",
          "text": [
            "[50, 50]\n",
            "[130, 70]\n",
            "[200, 220]\n",
            "[250, 300]\n"
          ],
          "name": "stdout"
        }
      ]
    },
    {
      "metadata": {
        "id": "mHLDlBrGrmkF",
        "colab_type": "text"
      },
      "cell_type": "markdown",
      "source": [
        "### Iterating using while statement"
      ]
    },
    {
      "metadata": {
        "id": "kJxaygfMrmkF",
        "colab_type": "code",
        "colab": {},
        "outputId": "e4a7bb42-caa3-4fb1-903b-2696a0cb3d20"
      },
      "cell_type": "code",
      "source": [
        "from math import *\n",
        "\n",
        "sum = 0.0\n",
        "err = 1e-2\n",
        "k = 1\n",
        "\n",
        "while abs(pi-4*sum)>err:\n",
        "    sum += pow(-1, k+1) / (2*k-1)\n",
        "    k = k + 1\n",
        "    print(\"Iteration\", k, \"pi = \", 4*sum, \"err = \", abs(-pi-4*sum))"
      ],
      "execution_count": 0,
      "outputs": [
        {
          "output_type": "stream",
          "text": [
            "Iteration 2 pi =  4.0 err =  7.141592653589793\n",
            "Iteration 3 pi =  2.666666666666667 err =  5.80825932025646\n",
            "Iteration 4 pi =  3.466666666666667 err =  6.60825932025646\n",
            "Iteration 5 pi =  2.8952380952380956 err =  6.036830748827889\n",
            "Iteration 6 pi =  3.3396825396825403 err =  6.481275193272333\n",
            "Iteration 7 pi =  2.9760461760461765 err =  6.11763882963597\n",
            "Iteration 8 pi =  3.2837384837384844 err =  6.4253311373282775\n",
            "Iteration 9 pi =  3.017071817071818 err =  6.158664470661611\n",
            "Iteration 10 pi =  3.2523659347188767 err =  6.39395858830867\n",
            "Iteration 11 pi =  3.0418396189294032 err =  6.183432272519196\n",
            "Iteration 12 pi =  3.232315809405594 err =  6.373908462995387\n",
            "Iteration 13 pi =  3.058402765927333 err =  6.199995419517126\n",
            "Iteration 14 pi =  3.2184027659273333 err =  6.359995419517126\n",
            "Iteration 15 pi =  3.0702546177791854 err =  6.2118472713689785\n",
            "Iteration 16 pi =  3.208185652261944 err =  6.349778305851737\n",
            "Iteration 17 pi =  3.079153394197428 err =  6.220746047787221\n",
            "Iteration 18 pi =  3.200365515409549 err =  6.3419581689993425\n",
            "Iteration 19 pi =  3.0860798011238346 err =  6.227672454713628\n",
            "Iteration 20 pi =  3.1941879092319425 err =  6.335780562821736\n",
            "Iteration 21 pi =  3.09162380666784 err =  6.233216460257633\n",
            "Iteration 22 pi =  3.189184782277596 err =  6.33077743586739\n",
            "Iteration 23 pi =  3.0961615264636424 err =  6.237754180053436\n",
            "Iteration 24 pi =  3.1850504153525314 err =  6.3266430689423245\n",
            "Iteration 25 pi =  3.099944032373808 err =  6.241536685963601\n",
            "Iteration 26 pi =  3.1815766854350325 err =  6.323169339024826\n",
            "Iteration 27 pi =  3.1031453128860127 err =  6.244737966475806\n",
            "Iteration 28 pi =  3.1786170109992202 err =  6.320209664589013\n",
            "Iteration 29 pi =  3.1058897382719475 err =  6.247482391861741\n",
            "Iteration 30 pi =  3.1760651768684385 err =  6.317657830458232\n",
            "Iteration 31 pi =  3.108268566698947 err =  6.24986122028874\n",
            "Iteration 32 pi =  3.1738423371907505 err =  6.315434990780544\n",
            "Iteration 33 pi =  3.110350273698687 err =  6.25194292728848\n",
            "Iteration 34 pi =  3.1718887352371485 err =  6.313481388826942\n",
            "Iteration 35 pi =  3.112187242699835 err =  6.253779896289628\n",
            "Iteration 36 pi =  3.1701582571925884 err =  6.311750910782381\n",
            "Iteration 37 pi =  3.1138202290235744 err =  6.255412882613367\n",
            "Iteration 38 pi =  3.1686147495715193 err =  6.3102074031613125\n",
            "Iteration 39 pi =  3.115281416238186 err =  6.25687406982798\n",
            "Iteration 40 pi =  3.167229468186238 err =  6.308822121776031\n",
            "Iteration 41 pi =  3.116596556793833 err =  6.258189210383627\n",
            "Iteration 42 pi =  3.1659792728432157 err =  6.307571926433009\n",
            "Iteration 43 pi =  3.117786501758878 err =  6.259379155348672\n",
            "Iteration 44 pi =  3.1648453252882898 err =  6.306437978878083\n",
            "Iteration 45 pi =  3.118868313794037 err =  6.26046096738383\n",
            "Iteration 46 pi =  3.163812134018756 err =  6.305404787608549\n",
            "Iteration 47 pi =  3.1198560900627124 err =  6.2614487436525055\n",
            "Iteration 48 pi =  3.1628668427508844 err =  6.3044594963406775\n",
            "Iteration 49 pi =  3.1207615795929895 err =  6.262354233182783\n",
            "Iteration 50 pi =  3.161998692995051 err =  6.303591346584844\n",
            "Iteration 51 pi =  3.121594652591011 err =  6.263187306180804\n",
            "Iteration 52 pi =  3.1611986129870506 err =  6.302791266576843\n",
            "Iteration 53 pi =  3.12236366153074 err =  6.263956315120533\n",
            "Iteration 54 pi =  3.160458899625978 err =  6.302051553215771\n",
            "Iteration 55 pi =  3.1230757220558845 err =  6.264668375645678\n",
            "Iteration 56 pi =  3.1597729697623063 err =  6.301365623352099\n",
            "Iteration 57 pi =  3.12373693372627 err =  6.265329587316064\n",
            "Iteration 58 pi =  3.159135163814766 err =  6.3007278174045585\n",
            "Iteration 59 pi =  3.124352555119114 err =  6.2659452087089065\n",
            "Iteration 60 pi =  3.158540589307148 err =  6.3001332428969405\n",
            "Iteration 61 pi =  3.1249271439289967 err =  6.266519797518789\n",
            "Iteration 62 pi =  3.157984995168666 err =  6.29957764875846\n",
            "Iteration 63 pi =  3.125464669965414 err =  6.267057323555207\n",
            "Iteration 64 pi =  3.157464669965414 err =  6.299057323555207\n",
            "Iteration 65 pi =  3.125968606973288 err =  6.267561260563081\n",
            "Iteration 66 pi =  3.1569763589112725 err =  6.298569012501066\n",
            "Iteration 67 pi =  3.1264420077662343 err =  6.268034661356028\n",
            "Iteration 68 pi =  3.156517195736159 err =  6.298109849325952\n",
            "Iteration 69 pi =  3.126887566106529 err =  6.268480219696322\n",
            "Iteration 70 pi =  3.1560846463985 err =  6.297677299988293\n",
            "Iteration 71 pi =  3.127307667981234 err =  6.268900321571027\n",
            "Iteration 72 pi =  3.155676462307475 err =  6.297269115897269\n",
            "Iteration 73 pi =  3.127704434335447 err =  6.26929708792524\n",
            "Iteration 74 pi =  3.155290641231999 err =  6.296883294821792\n",
            "Iteration 75 pi =  3.1280797568782575 err =  6.269672410468051\n",
            "Iteration 76 pi =  3.15492539446215 err =  6.296518048051944\n",
            "Iteration 77 pi =  3.1284353282369843 err =  6.270027981826777\n",
            "Iteration 78 pi =  3.1545791190866574 err =  6.29617177267645\n",
            "Iteration 79 pi =  3.128772667473754 err =  6.270365321063547\n",
            "Iteration 80 pi =  3.1542503744801236 err =  6.295843028069917\n",
            "Iteration 81 pi =  3.129093141775721 err =  6.270685795365514\n",
            "Iteration 82 pi =  3.1539378622726155 err =  6.295530515862408\n",
            "Iteration 83 pi =  3.129397984972002 err =  6.270990638561795\n",
            "Iteration 84 pi =  3.1536404092144266 err =  6.29523306280422\n",
            "Iteration 85 pi =  3.129688313406043 err =  6.271280966995836\n",
            "Iteration 86 pi =  3.1533569524592977 err =  6.294949606049091\n",
            "Iteration 87 pi =  3.129965139593801 err =  6.271557793183594\n",
            "Iteration 88 pi =  3.153086526877038 err =  6.294679180466831\n",
            "Iteration 89 pi =  3.1302293840198954 err =  6.271822037609688\n",
            "Iteration 90 pi =  3.1528282540763923 err =  6.2944209076661854\n",
            "Iteration 91 pi =  3.1304818853613083 err =  6.2720745389511015\n",
            "Iteration 92 pi =  3.1525813328751204 err =  6.294173986464914\n",
            "Iteration 93 pi =  3.1307234093778527 err =  6.272316062967645\n",
            "Iteration 94 pi =  3.1523450309994745 err =  6.293937684589268\n",
            "Iteration 95 pi =  3.1309546566679236 err =  6.272547310257717\n",
            "Iteration 96 pi =  3.152118677831945 err =  6.293711331421738\n",
            "Iteration 97 pi =  3.131176269454982 err =  6.272768923044775\n",
            "Iteration 98 pi =  3.151901658056018 err =  6.293494311645811\n",
            "Iteration 99 pi =  3.1313888375431977 err =  6.272981491132991\n",
            "Iteration 100 pi =  3.1516934060711166 err =  6.293286059660909\n",
            "Iteration 101 pi =  3.1315929035585537 err =  6.273185557148347\n"
          ],
          "name": "stdout"
        }
      ]
    },
    {
      "metadata": {
        "id": "TrXaana3rmkJ",
        "colab_type": "text"
      },
      "cell_type": "markdown",
      "source": [
        "## Conditional statements"
      ]
    },
    {
      "metadata": {
        "id": "ah8D8NCirmkJ",
        "colab_type": "code",
        "colab": {},
        "outputId": "5589dc11-84d2-4a4d-a592-268e0490f980"
      },
      "cell_type": "code",
      "source": [
        "i = 0\n",
        "if i == 0:\n",
        "    print(\"i = 0\")"
      ],
      "execution_count": 0,
      "outputs": [
        {
          "output_type": "stream",
          "text": [
            "i = 0\n"
          ],
          "name": "stdout"
        }
      ]
    },
    {
      "metadata": {
        "id": "36Hp7-H4rmkL",
        "colab_type": "code",
        "colab": {},
        "outputId": "6e6cb64c-8c84-46a1-9cbe-b57b053b0066"
      },
      "cell_type": "code",
      "source": [
        "if i == 0:\n",
        "    print(\"i = 0\")\n",
        "else:\n",
        "    print(\"i är inte 0\")"
      ],
      "execution_count": 0,
      "outputs": [
        {
          "output_type": "stream",
          "text": [
            "i = 0\n"
          ],
          "name": "stdout"
        }
      ]
    },
    {
      "metadata": {
        "id": "UNT9WCs6rmkQ",
        "colab_type": "code",
        "colab": {},
        "outputId": "4b00c6f8-003f-466a-e211-a2d2836f63fb"
      },
      "cell_type": "code",
      "source": [
        "if i == 0:\n",
        "    print(\"i == 0\")\n",
        "elif i < 1:\n",
        "    print(\"i < 1\")\n",
        "elif i > 1:\n",
        "    print(\"i > 1\")\n",
        "else:\n",
        "    print(\"Mittemellan\")"
      ],
      "execution_count": 0,
      "outputs": [
        {
          "output_type": "stream",
          "text": [
            "i == 0\n"
          ],
          "name": "stdout"
        }
      ]
    },
    {
      "metadata": {
        "id": "aYU7QWThrmkT",
        "colab_type": "text"
      },
      "cell_type": "markdown",
      "source": [
        "### Nested if-statements"
      ]
    },
    {
      "metadata": {
        "id": "TWHWZuTWrmkT",
        "colab_type": "code",
        "colab": {},
        "outputId": "1b9a94fe-4287-4afc-bcb4-5618fe6499f8"
      },
      "cell_type": "code",
      "source": [
        "if i == 0:\n",
        "    print(\"i == 0\")\n",
        "else:\n",
        "    if i > 0:\n",
        "        print(\"i > 0\")\n",
        "    elif i < 0:\n",
        "        print(\"i < 0\")"
      ],
      "execution_count": 0,
      "outputs": [
        {
          "output_type": "stream",
          "text": [
            "i == 0\n"
          ],
          "name": "stdout"
        }
      ]
    },
    {
      "metadata": {
        "id": "UaMItt6mrmkU",
        "colab_type": "text"
      },
      "cell_type": "markdown",
      "source": [
        "## Controlling loop iteration\n",
        "\n",
        "Loop execution can be controlled by \n",
        "\n",
        "* break - terminates loop iteration\n",
        "* continue - continues to next iteration"
      ]
    },
    {
      "metadata": {
        "id": "CcxhLvuWrmkV",
        "colab_type": "code",
        "colab": {},
        "outputId": "c239e6fb-ed68-4d6c-b523-3dcf8db834bd"
      },
      "cell_type": "code",
      "source": [
        "for i in range(20):\n",
        "    if i == 10:\n",
        "        print(\"Avbryter loopen\")\n",
        "        break\n",
        "    if i == 5:\n",
        "        print(\"Gå till nästa iteration\")\n",
        "        continue\n",
        "    print(i)\n",
        "\n",
        "print(\"...efter loopen\")"
      ],
      "execution_count": 0,
      "outputs": [
        {
          "output_type": "stream",
          "text": [
            "0\n",
            "1\n",
            "2\n",
            "3\n",
            "4\n",
            "Gå till nästa iteration\n",
            "6\n",
            "7\n",
            "8\n",
            "9\n",
            "Avbryter loopen\n",
            "...efter loopen\n"
          ],
          "name": "stdout"
        }
      ]
    },
    {
      "metadata": {
        "id": "mbQtp1s5rmkX",
        "colab_type": "text"
      },
      "cell_type": "markdown",
      "source": [
        "# Functions and subroutines"
      ]
    },
    {
      "metadata": {
        "id": "SaLByqeGrmkX",
        "colab_type": "text"
      },
      "cell_type": "markdown",
      "source": [
        "* Functions defined with keyword **def** followed by the function name and parameters enclosed in parentesis () followed by a :\n",
        "* Function code defined in following codeblock"
      ]
    },
    {
      "metadata": {
        "id": "4g4gCCEVrmkX",
        "colab_type": "code",
        "colab": {}
      },
      "cell_type": "code",
      "source": [
        "def print_doc():\n",
        "    print(\"Detta är en utskrift från en funktion\")"
      ],
      "execution_count": 0,
      "outputs": []
    },
    {
      "metadata": {
        "id": "ebClcZ6ormka",
        "colab_type": "text"
      },
      "cell_type": "markdown",
      "source": [
        "Calling function:"
      ]
    },
    {
      "metadata": {
        "id": "LkWsNpbwrmkb",
        "colab_type": "code",
        "colab": {},
        "outputId": "8dfe5d91-bd80-40c4-ee1e-3c84b3572d48"
      },
      "cell_type": "code",
      "source": [
        "print_doc()"
      ],
      "execution_count": 0,
      "outputs": [
        {
          "output_type": "stream",
          "text": [
            "Detta är en utskrift från en funktion\n"
          ],
          "name": "stdout"
        }
      ]
    },
    {
      "metadata": {
        "id": "18rMgMVxrmkd",
        "colab_type": "text"
      },
      "cell_type": "markdown",
      "source": [
        "Function with a parameter:"
      ]
    },
    {
      "metadata": {
        "id": "Ck_N1yKdrmkd",
        "colab_type": "code",
        "colab": {}
      },
      "cell_type": "code",
      "source": [
        "def print_value(a):\n",
        "    print(\"Värdet är \"+str(a))"
      ],
      "execution_count": 0,
      "outputs": []
    },
    {
      "metadata": {
        "id": "EToxQclxrmkf",
        "colab_type": "text"
      },
      "cell_type": "markdown",
      "source": [
        "Calling function with parameter:"
      ]
    },
    {
      "metadata": {
        "id": "tSabWj9Jrmkg",
        "colab_type": "code",
        "colab": {},
        "outputId": "6355268a-7ed9-4dd9-fcf2-83c39648d1f4"
      },
      "cell_type": "code",
      "source": [
        "b = 42\n",
        "print_value(b)"
      ],
      "execution_count": 0,
      "outputs": [
        {
          "output_type": "stream",
          "text": [
            "Värdet är 42\n"
          ],
          "name": "stdout"
        }
      ]
    },
    {
      "metadata": {
        "id": "JOLFFQt1rmki",
        "colab_type": "text"
      },
      "cell_type": "markdown",
      "source": [
        "Modifying parameters:"
      ]
    },
    {
      "metadata": {
        "id": "NrH5aKtZrmkj",
        "colab_type": "code",
        "colab": {}
      },
      "cell_type": "code",
      "source": [
        "def print_value(a):\n",
        "    print(\"Värdet är \"+str(a))\n",
        "    a = 84"
      ],
      "execution_count": 0,
      "outputs": []
    },
    {
      "metadata": {
        "id": "cCN1hI18rmkk",
        "colab_type": "text"
      },
      "cell_type": "markdown",
      "source": [
        "Calling the function"
      ]
    },
    {
      "metadata": {
        "id": "M4hcDt0Rrmkl",
        "colab_type": "code",
        "colab": {},
        "outputId": "d0e3710f-aefe-4580-edbe-7d3e9d2e6b0f"
      },
      "cell_type": "code",
      "source": [
        "b = 42\n",
        "print_value(b)"
      ],
      "execution_count": 0,
      "outputs": [
        {
          "output_type": "stream",
          "text": [
            "Värdet är 42\n"
          ],
          "name": "stdout"
        }
      ]
    },
    {
      "metadata": {
        "id": "KZMbBqZcrmkn",
        "colab_type": "text"
      },
      "cell_type": "markdown",
      "source": [
        "## Return values"
      ]
    },
    {
      "metadata": {
        "id": "tKNnA1k0rmkn",
        "colab_type": "code",
        "colab": {},
        "outputId": "1f4329a6-4e70-45a8-b16f-8025ff321753"
      },
      "cell_type": "code",
      "source": [
        "from math import *\n",
        "\n",
        "def f(x):\n",
        "    return sin(x)\n",
        "\n",
        "x = pi/2\n",
        "y = f(x)\n",
        "\n",
        "print(y)"
      ],
      "execution_count": 0,
      "outputs": [
        {
          "output_type": "stream",
          "text": [
            "1.0\n"
          ],
          "name": "stdout"
        }
      ]
    },
    {
      "metadata": {
        "id": "qtMpmBrxrmkp",
        "colab_type": "text"
      },
      "cell_type": "markdown",
      "source": [
        "Function can be used in complicated examples"
      ]
    },
    {
      "metadata": {
        "id": "WqoTNNXWrmkq",
        "colab_type": "text"
      },
      "cell_type": "markdown",
      "source": [
        "# Structuring of code in modules"
      ]
    },
    {
      "metadata": {
        "id": "VA2tUtoarmkq",
        "colab_type": "text"
      },
      "cell_type": "markdown",
      "source": [
        "## Importing modules"
      ]
    },
    {
      "metadata": {
        "id": "e6MP3WUFrmkq",
        "colab_type": "text"
      },
      "cell_type": "markdown",
      "source": [
        "Modules are libraries of code in Python. They can be built-in or addons. To use a module it has to be imported. In the following example we import the Python math-module using the **import** statement."
      ]
    },
    {
      "metadata": {
        "id": "3KveY_43rmkq",
        "colab_type": "code",
        "colab": {},
        "outputId": "cbf3d7db-ed62-461d-f81d-692f6cf7a98e"
      },
      "cell_type": "code",
      "source": [
        "import math\n",
        "\n",
        "print(math.sin(math.pi/2))"
      ],
      "execution_count": 0,
      "outputs": [
        {
          "output_type": "stream",
          "text": [
            "1.0\n"
          ],
          "name": "stdout"
        }
      ]
    },
    {
      "metadata": {
        "id": "JJekp5j5rmkt",
        "colab_type": "text"
      },
      "cell_type": "markdown",
      "source": [
        "Using this form of import requires all functions in the module to be prefixed with the module name. In this case **math**. It is also possible to import all functions of a module without the prefix using the **from** import statement. "
      ]
    },
    {
      "metadata": {
        "id": "AubIwk0mrmku",
        "colab_type": "code",
        "colab": {},
        "outputId": "b4ae2ddc-79fe-4e16-8c7a-e1424c81ff62"
      },
      "cell_type": "code",
      "source": [
        "from math import *\n",
        "\n",
        "print(sin(pi/2))"
      ],
      "execution_count": 0,
      "outputs": [
        {
          "output_type": "stream",
          "text": [
            "1.0\n"
          ],
          "name": "stdout"
        }
      ]
    },
    {
      "metadata": {
        "id": "KU0RZ4q3rmkw",
        "colab_type": "text"
      },
      "cell_type": "markdown",
      "source": [
        "The * in the **from** statement tells Python to import all functions from the module. There can be a problem with this approach as the import of functions using **from** can clash with already imported functions. It is possible also to import excplicit functions by listing them after the import keyword in a **from** statement."
      ]
    },
    {
      "metadata": {
        "id": "-0HcXC50rmkx",
        "colab_type": "code",
        "colab": {},
        "outputId": "c230e9e6-5184-4d12-e3b4-ac3052947c8c"
      },
      "cell_type": "code",
      "source": [
        "from math import sin, sqrt\n",
        "\n",
        "print(sqrt(2))"
      ],
      "execution_count": 0,
      "outputs": [
        {
          "output_type": "stream",
          "text": [
            "1.4142135623730951\n"
          ],
          "name": "stdout"
        }
      ]
    },
    {
      "metadata": {
        "id": "Gn2U0e3Rrmk1",
        "colab_type": "text"
      },
      "cell_type": "markdown",
      "source": [
        "All Python source files can be modules in Python. "
      ]
    },
    {
      "metadata": {
        "id": "5g0hdvhMrmk1",
        "colab_type": "text"
      },
      "cell_type": "markdown",
      "source": [
        "Below is an example of a module **prime.py** with a function **is_prime()** for querying if an integer is a prime number:\n",
        "\n",
        "    # -*- coding: utf-8 -*-\n",
        "\n",
        "    from math import sqrt\n",
        "\n",
        "    def is_prime(n):\n",
        "\n",
        "        prime = True\n",
        "\n",
        "        k = 2\n",
        "        while k<=sqrt(n) and prime:\n",
        "            if (n % k == 0):\n",
        "                prime = False\n",
        "                break\n",
        "            k+=1      \n",
        "\n",
        "        return prime\n",
        "        \n",
        "We import this module using the following commands:"
      ]
    },
    {
      "metadata": {
        "id": "ugMxigeirmk2",
        "colab_type": "code",
        "colab": {},
        "outputId": "a34edbf8-73cc-4d1d-fdc3-ffd15bfc25d3"
      },
      "cell_type": "code",
      "source": [
        "import prime"
      ],
      "execution_count": 0,
      "outputs": [
        {
          "output_type": "stream",
          "text": [
            "prime\n"
          ],
          "name": "stdout"
        }
      ]
    },
    {
      "metadata": {
        "id": "Oc8XeGwormk4",
        "colab_type": "text"
      },
      "cell_type": "markdown",
      "source": [
        "We can now use the function in the module:"
      ]
    },
    {
      "metadata": {
        "id": "opF4jb1Nrmk5",
        "colab_type": "code",
        "colab": {},
        "outputId": "f400b551-4c2a-46de-a19f-a65c8da34fc7"
      },
      "cell_type": "code",
      "source": [
        "print(prime.is_prime(3))"
      ],
      "execution_count": 0,
      "outputs": [
        {
          "output_type": "stream",
          "text": [
            "True\n"
          ],
          "name": "stdout"
        }
      ]
    },
    {
      "metadata": {
        "id": "fO905reVrmk5",
        "colab_type": "code",
        "colab": {},
        "outputId": "e87d4ac8-67da-48f2-d22c-ed2784325435"
      },
      "cell_type": "code",
      "source": [
        "print(prime.is_prime(8))"
      ],
      "execution_count": 0,
      "outputs": [
        {
          "output_type": "stream",
          "text": [
            "False\n"
          ],
          "name": "stdout"
        }
      ]
    },
    {
      "metadata": {
        "id": "ZsRCrGFqrmk7",
        "colab_type": "text"
      },
      "cell_type": "markdown",
      "source": [
        "## Main programs / scripts in python"
      ]
    },
    {
      "metadata": {
        "id": "9zxL1nmwrmk7",
        "colab_type": "text"
      },
      "cell_type": "markdown",
      "source": [
        "Python will execute all code in a module or source file. Most other languages often define a **main** function which is executed by the operating system. In Python any source file executed by the interpreter is considered to be a **main** module. In many cases Python-modules can both be executed as script or imported as a module. If a module is imported you often only want the builtin functions and not any executable statements used when running as a script.\n",
        "\n",
        "When a python source file is imported a special variable, **__name__** is set to the module name. If the same source file is executed as script **__name__** will contain the string **\"__main__\"**. \n",
        "\n",
        "We modify copy our prime.py module and create prime_extra.py containing an extra print statement printing the **__name__** variable.\n",
        "\n",
        "    # -*- coding: utf-8 -*-\n",
        "\n",
        "    from math import sqrt\n",
        "    \n",
        "    print(__name__)\n",
        "\n",
        "    def is_prime(n):\n",
        "\n",
        "        prime = True\n",
        "\n",
        "        k = 2\n",
        "        while k<=sqrt(n) and prime:\n",
        "            if (n % k == 0):\n",
        "                prime = False\n",
        "                break\n",
        "            k+=1      \n",
        "\n",
        "        return prime\n",
        "        \n",
        "Importing the module will print the module name:"
      ]
    },
    {
      "metadata": {
        "id": "FFo58mOarmk9",
        "colab_type": "code",
        "colab": {},
        "outputId": "277c606d-d4e6-4fab-8547-ca3efd3a4a23"
      },
      "cell_type": "code",
      "source": [
        "import prime_extra"
      ],
      "execution_count": 0,
      "outputs": [
        {
          "output_type": "stream",
          "text": [
            "prime_extra\n"
          ],
          "name": "stdout"
        }
      ]
    },
    {
      "metadata": {
        "id": "tnP0zJLKrmk-",
        "colab_type": "text"
      },
      "cell_type": "markdown",
      "source": [
        "If we execute the same file from an interpreter we get a different output:"
      ]
    },
    {
      "metadata": {
        "id": "CT488Kozrmk-",
        "colab_type": "code",
        "colab": {},
        "outputId": "693bb653-af32-4978-f3a9-5b4b1bc1c716"
      },
      "cell_type": "code",
      "source": [
        "run prime_extra"
      ],
      "execution_count": 0,
      "outputs": [
        {
          "output_type": "stream",
          "text": [
            "__main__\n"
          ],
          "name": "stdout"
        }
      ]
    },
    {
      "metadata": {
        "id": "BRX-MF27rmlA",
        "colab_type": "text"
      },
      "cell_type": "markdown",
      "source": [
        "In this way we can create python source files that can be both imported and used as scripts. This is also a safety measure to ensure a python source file is not mistakenly executing code when importing as module. \n",
        "\n",
        "Many Python projects often have a main python script for starting the main application. A typical main program (prime_main.py) is shown below:\n",
        "\n",
        "    # -*- coding: utf-8 -*-\n",
        "    \n",
        "    import prime\n",
        "    \n",
        "    if __name__ == \"__main__\":\n",
        "        \n",
        "        print(prime.is_prime(6))\n",
        "        print(prime.is_prime(5))\n",
        "        \n",
        "The code in the if-statement is only executed when run as a script."
      ]
    },
    {
      "metadata": {
        "id": "q8iIkAQvrmlA",
        "colab_type": "code",
        "colab": {},
        "outputId": "23579ed6-b8b6-47b2-accc-06f278633106"
      },
      "cell_type": "code",
      "source": [
        "run prime_main"
      ],
      "execution_count": 0,
      "outputs": [
        {
          "output_type": "stream",
          "text": [
            "False\n",
            "True\n"
          ],
          "name": "stdout"
        }
      ]
    },
    {
      "metadata": {
        "id": "MkgQmd2xrmlB",
        "colab_type": "code",
        "colab": {}
      },
      "cell_type": "code",
      "source": [
        "import prime_main"
      ],
      "execution_count": 0,
      "outputs": []
    },
    {
      "metadata": {
        "id": "Sk4deUrlrmlD",
        "colab_type": "text"
      },
      "cell_type": "markdown",
      "source": [
        " # Formatting output"
      ]
    },
    {
      "metadata": {
        "id": "zl_g_LW5rmlD",
        "colab_type": "text"
      },
      "cell_type": "markdown",
      "source": [
        "When writing output it is often required to format the output in some way. Python includes many ways of achieving this. In Python 3 this is done using the **.format()** method of a string object. In the follwing example, values are placed in a string using {}-placeholders. "
      ]
    },
    {
      "metadata": {
        "id": "Cc36FPkKrmlD",
        "colab_type": "code",
        "colab": {},
        "outputId": "66c6441d-0bd7-4ba5-e057-f14380c56b04"
      },
      "cell_type": "code",
      "source": [
        "a = 2.0\n",
        "b = 45.0\n",
        "c = 1500\n",
        "d = \"My string\"\n",
        "\n",
        "form_string = \"{}, {}, {}, {}\".format(a, b, c, d)\n",
        "\n",
        "print(form_string)"
      ],
      "execution_count": 0,
      "outputs": [
        {
          "output_type": "stream",
          "text": [
            "2.0, 45.0, 1500, My string\n"
          ],
          "name": "stdout"
        }
      ]
    },
    {
      "metadata": {
        "id": "aN90vIudrmlF",
        "colab_type": "text"
      },
      "cell_type": "markdown",
      "source": [
        "It is also possible to define the order of the values by placing numbers in the format string:"
      ]
    },
    {
      "metadata": {
        "id": "L3CCs1JFrmlG",
        "colab_type": "code",
        "colab": {},
        "outputId": "d24a9e82-0c08-46db-8037-61cb3b91550b"
      },
      "cell_type": "code",
      "source": [
        "form_string = \"{3}, {2}, {1}, {0}\".format(a, b, c, d)\n",
        "print(form_string)"
      ],
      "execution_count": 0,
      "outputs": [
        {
          "output_type": "stream",
          "text": [
            "My string, 1500, 45.0, 2.0\n"
          ],
          "name": "stdout"
        }
      ]
    },
    {
      "metadata": {
        "id": "Ca0AptwJrmlI",
        "colab_type": "text"
      },
      "cell_type": "markdown",
      "source": [
        "## String formatting"
      ]
    },
    {
      "metadata": {
        "id": "VisYAmLrrmlJ",
        "colab_type": "text"
      },
      "cell_type": "markdown",
      "source": [
        "For string variables a width can be given for output. The given string will be placed in the given width. By default the string is left justfied in the field. In the following examples the string \"Python 3\" is placed in a 15 character wide field using different formatting options"
      ]
    },
    {
      "metadata": {
        "id": "aKgvkn5DrmlK",
        "colab_type": "code",
        "colab": {},
        "outputId": "78b7ac9d-172c-4bcd-8c7c-e76c4d48aa93"
      },
      "cell_type": "code",
      "source": [
        "form_string = \">{:15}<\".format(\"Python 3\")\n",
        "print(form_string)"
      ],
      "execution_count": 0,
      "outputs": [
        {
          "output_type": "stream",
          "text": [
            ">Python 3       <\n"
          ],
          "name": "stdout"
        }
      ]
    },
    {
      "metadata": {
        "id": "Bel7TNYTrmlL",
        "colab_type": "text"
      },
      "cell_type": "markdown",
      "source": [
        "Right justification is added by using > in the placement-bracket."
      ]
    },
    {
      "metadata": {
        "id": "hOhWt8GxrmlL",
        "colab_type": "code",
        "colab": {},
        "outputId": "d03a158d-01a1-4793-f5f7-fefe7ff65c67"
      },
      "cell_type": "code",
      "source": [
        "form_string = \">{:>15}<\".format(\"Python 3\")\n",
        "print(form_string)"
      ],
      "execution_count": 0,
      "outputs": [
        {
          "output_type": "stream",
          "text": [
            ">       Python 3<\n"
          ],
          "name": "stdout"
        }
      ]
    },
    {
      "metadata": {
        "id": "mmgbgwTXrmlO",
        "colab_type": "text"
      },
      "cell_type": "markdown",
      "source": [
        "Centering of the text is done using the ^ operator."
      ]
    },
    {
      "metadata": {
        "id": "cmvKXekMrmlO",
        "colab_type": "code",
        "colab": {},
        "outputId": "304b3c83-b971-45a3-fc52-9cf57be6827a"
      },
      "cell_type": "code",
      "source": [
        "form_string = \">{:^15}<\".format(\"Python 3\")\n",
        "print(form_string)"
      ],
      "execution_count": 0,
      "outputs": [
        {
          "output_type": "stream",
          "text": [
            ">   Python 3    <\n"
          ],
          "name": "stdout"
        }
      ]
    },
    {
      "metadata": {
        "id": "qmDtDGuTrmlP",
        "colab_type": "text"
      },
      "cell_type": "markdown",
      "source": [
        "Padding can be added by adding a padding character before the placement operator:"
      ]
    },
    {
      "metadata": {
        "id": "Y6Qb1GuwrmlQ",
        "colab_type": "code",
        "colab": {},
        "outputId": "79986941-fa75-4422-9da4-c09b6930ac6f"
      },
      "cell_type": "code",
      "source": [
        "form_string = \">{:_^15}<\".format(\"Python 3\")\n",
        "print(form_string)"
      ],
      "execution_count": 0,
      "outputs": [
        {
          "output_type": "stream",
          "text": [
            ">___Python 3____<\n"
          ],
          "name": "stdout"
        }
      ]
    },
    {
      "metadata": {
        "id": "kOsdXBWtrmlR",
        "colab_type": "text"
      },
      "cell_type": "markdown",
      "source": [
        "## Formatting of integers"
      ]
    },
    {
      "metadata": {
        "id": "1pwZ9FPhrmlS",
        "colab_type": "text"
      },
      "cell_type": "markdown",
      "source": [
        "In the same way as for strings output of integers can also be formatted. The placement bracket for integers is **{:d}**. In the following example 42 is printed using this method:"
      ]
    },
    {
      "metadata": {
        "id": "TnxO8WjFrmlS",
        "colab_type": "code",
        "colab": {},
        "outputId": "90db09c2-fb9d-4c58-aee1-fd281bb910c1"
      },
      "cell_type": "code",
      "source": [
        "form_string = \">{:d}<\".format(42)\n",
        "print(form_string)"
      ],
      "execution_count": 0,
      "outputs": [
        {
          "output_type": "stream",
          "text": [
            ">42<\n"
          ],
          "name": "stdout"
        }
      ]
    },
    {
      "metadata": {
        "id": "nXZTsittrmlU",
        "colab_type": "text"
      },
      "cell_type": "markdown",
      "source": [
        "In the same way as for strings the placement and field widths can be controlled:"
      ]
    },
    {
      "metadata": {
        "id": "qw7HRUIGrmlU",
        "colab_type": "code",
        "colab": {},
        "outputId": "5b1e2a7d-adec-436e-ce1a-56cc739090cb"
      },
      "cell_type": "code",
      "source": [
        "print(\">{:10d}<\".format(42))\n",
        "print(\">{:>10d}<\".format(42))\n",
        "print(\">{:<10d}<\".format(42))\n",
        "print(\">{:^10d}<\".format(42))\n",
        "print(\">{:_<10d}<\".format(42))"
      ],
      "execution_count": 0,
      "outputs": [
        {
          "output_type": "stream",
          "text": [
            ">        42<\n",
            ">        42<\n",
            ">42        <\n",
            ">    42    <\n",
            ">42________<\n"
          ],
          "name": "stdout"
        }
      ]
    },
    {
      "metadata": {
        "id": "7_Si7LTxrmll",
        "colab_type": "text"
      },
      "cell_type": "markdown",
      "source": [
        "## Formatting of floating point numbers"
      ]
    },
    {
      "metadata": {
        "id": "oimO9vxJrmll",
        "colab_type": "text"
      },
      "cell_type": "markdown",
      "source": [
        "Fixed width floating point numbers are formatted using the **{:f}** marker. Field width and the number of decimal places can be controlled as well. In the following example the field width is 10 and the number of decimal places varied from 2 to 6."
      ]
    },
    {
      "metadata": {
        "id": "U2_UZntZrmll",
        "colab_type": "code",
        "colab": {},
        "outputId": "3967137b-6dfb-4b19-bb95-b8103dc14a28"
      },
      "cell_type": "code",
      "source": [
        "print(\">{:10.2f}<\".format(3.141592653589793))\n",
        "print(\">{:10.4f}<\".format(3.141592653589793))\n",
        "print(\">{:10.6f}<\".format(3.141592653589793))"
      ],
      "execution_count": 0,
      "outputs": [
        {
          "output_type": "stream",
          "text": [
            ">      3.14<\n",
            ">    3.1416<\n",
            ">  3.141593<\n"
          ],
          "name": "stdout"
        }
      ]
    },
    {
      "metadata": {
        "id": "762ubqocrmlm",
        "colab_type": "text"
      },
      "cell_type": "markdown",
      "source": [
        "It is also possible to use scientific notation using the **{:e}** marker."
      ]
    },
    {
      "metadata": {
        "id": "IDVT5x5Frmln",
        "colab_type": "code",
        "colab": {},
        "outputId": "d39958af-6007-454e-9f51-c174460a26a5"
      },
      "cell_type": "code",
      "source": [
        "print(\">{:15.2e}<\".format(3.141592653589793))\n",
        "print(\">{:15.4e}<\".format(3.141592653589793))\n",
        "print(\">{:15.6e}<\".format(3.141592653589793))"
      ],
      "execution_count": 0,
      "outputs": [
        {
          "output_type": "stream",
          "text": [
            ">       3.14e+00<\n",
            ">     3.1416e+00<\n",
            ">   3.141593e+00<\n"
          ],
          "name": "stdout"
        }
      ]
    },
    {
      "metadata": {
        "id": "uq7z_nWBrmlo",
        "colab_type": "text"
      },
      "cell_type": "markdown",
      "source": [
        "## Named markers"
      ]
    },
    {
      "metadata": {
        "id": "FN9umca0rmlo",
        "colab_type": "text"
      },
      "cell_type": "markdown",
      "source": [
        "To support more complicated formatting it is possible to use named markers with the **.format()** method. Parameters must be named in the call to the **.format()** method:"
      ]
    },
    {
      "metadata": {
        "id": "nLDhzqeSrmlp",
        "colab_type": "code",
        "colab": {},
        "outputId": "8c9d6379-da62-46f9-edc1-ec8a57d5f27f"
      },
      "cell_type": "code",
      "source": [
        "print(\"({x}, {y})\".format(x = 0.0, y = 2.0))"
      ],
      "execution_count": 0,
      "outputs": [
        {
          "output_type": "stream",
          "text": [
            "(0.0, 2.0)\n"
          ],
          "name": "stdout"
        }
      ]
    },
    {
      "metadata": {
        "id": "m5uc2ebArmlq",
        "colab_type": "text"
      },
      "cell_type": "markdown",
      "source": [
        "It is also possible to use a dictionary as input to the **.format()** method:"
      ]
    },
    {
      "metadata": {
        "id": "23XemrXPrmlq",
        "colab_type": "code",
        "colab": {},
        "outputId": "2d8188fd-63ff-47e9-db82-df15d3b43819"
      },
      "cell_type": "code",
      "source": [
        "params = {\"value1\": 42, \"value2\": 3.14, \"value3\": \"Python\"}\n",
        "print(\"{value1}, {value2}, {value3}\".format(**params))"
      ],
      "execution_count": 0,
      "outputs": [
        {
          "output_type": "stream",
          "text": [
            "42, 3.14, Python\n"
          ],
          "name": "stdout"
        }
      ]
    },
    {
      "metadata": {
        "id": "tSBxEmuMrmls",
        "colab_type": "text"
      },
      "cell_type": "markdown",
      "source": [
        "Everything in Python in stored in dictionaries, event the variables defined in a script. In the following example variables are defined in th script and the dictionary of global variables can be returned using the ** **globals() ** function."
      ]
    },
    {
      "metadata": {
        "id": "E7Ozao4Ormlt",
        "colab_type": "code",
        "colab": {},
        "outputId": "a4dbbaa0-6770-46b5-a220-262741067f22"
      },
      "cell_type": "code",
      "source": [
        "value1 = 34\n",
        "value2 = 84\n",
        "value3 = \"Easy as pie!\"\n",
        "print(\"{value1}, {value2}, {value3}\".format(**globals()))"
      ],
      "execution_count": 0,
      "outputs": [
        {
          "output_type": "stream",
          "text": [
            "34, 84, Easy as pie!\n"
          ],
          "name": "stdout"
        }
      ]
    },
    {
      "metadata": {
        "id": "fq7QJVR3rmlu",
        "colab_type": "text"
      },
      "cell_type": "markdown",
      "source": [
        "# Reading and writing files"
      ]
    },
    {
      "metadata": {
        "id": "RzbheewRrmlv",
        "colab_type": "text"
      },
      "cell_type": "markdown",
      "source": [
        "One of the more important things in many applications is the ability to read and write files. To read and write files in Python a special file object has to be created. This file object creates a link between Python and a file in the filesystem. Using this object data can be read and written. \n",
        "\n",
        "A file object is created using the **open()** statement."
      ]
    },
    {
      "metadata": {
        "id": "qKYfDI79rmlv",
        "colab_type": "text"
      },
      "cell_type": "markdown",
      "source": [
        "## Writing to a file"
      ]
    },
    {
      "metadata": {
        "id": "rUjW7WwVrmlw",
        "colab_type": "text"
      },
      "cell_type": "markdown",
      "source": [
        "Text files are files storing rows of text. A text file can be opened for writing using the **open()**-statement:"
      ]
    },
    {
      "metadata": {
        "id": "D_zvm8lurmlx",
        "colab_type": "code",
        "colab": {}
      },
      "cell_type": "code",
      "source": [
        "text_file = open(\"myfile.txt\", \"w\")"
      ],
      "execution_count": 0,
      "outputs": []
    },
    {
      "metadata": {
        "id": "-ufvtSabrmly",
        "colab_type": "text"
      },
      "cell_type": "markdown",
      "source": [
        "**text_file** is now our link to the **myfile.txt** file, which we will write. \n",
        "\n",
        "Writing to the file is done using the **.write()** method. This method is similar to the **print()**-statement except that it doesn't write a newline after a call. Newline must be added. In the following code we call **.write()** 3 times writing 2 rows of text to the text file:"
      ]
    },
    {
      "metadata": {
        "id": "3Mwbm2svrmly",
        "colab_type": "code",
        "colab": {},
        "outputId": "c319495d-1077-45e5-97c1-c59e44d77fdc"
      },
      "cell_type": "code",
      "source": [
        "text_file.write(\"Filens innehåll. \")\n",
        "text_file.write(\"Detta skrivs ut på samma rad.\\n\")\n",
        "text_file.write(\"Denna text kommer på en ny rad\")"
      ],
      "execution_count": 0,
      "outputs": [
        {
          "output_type": "execute_result",
          "data": {
            "text/plain": [
              "30"
            ]
          },
          "metadata": {
            "tags": []
          },
          "execution_count": 115
        }
      ]
    },
    {
      "metadata": {
        "id": "2jvPhDy5rml0",
        "colab_type": "text"
      },
      "cell_type": "markdown",
      "source": [
        "When we have completed writing to our file, the file must be close using the **.close()** method. This tells the operating system that we are done writing to the file."
      ]
    },
    {
      "metadata": {
        "id": "7gtWJ2jRrml0",
        "colab_type": "code",
        "colab": {}
      },
      "cell_type": "code",
      "source": [
        "text_file.close()"
      ],
      "execution_count": 0,
      "outputs": []
    },
    {
      "metadata": {
        "id": "MfoZXMTMrml2",
        "colab_type": "text"
      },
      "cell_type": "markdown",
      "source": [
        "The contents of the file is now:"
      ]
    },
    {
      "metadata": {
        "id": "Dn_V6WJdrml2",
        "colab_type": "code",
        "colab": {},
        "outputId": "9f7be5f1-099f-497a-95a8-9caa320010f6"
      },
      "cell_type": "code",
      "source": [
        "!type myfile.txt"
      ],
      "execution_count": 0,
      "outputs": [
        {
          "output_type": "stream",
          "text": [
            "Filens innehåll. Detta skrivs ut på samma rad.\n",
            "Denna text kommer på en ny rad\n"
          ],
          "name": "stdout"
        }
      ]
    },
    {
      "metadata": {
        "id": "PTYnxdfrrml3",
        "colab_type": "text"
      },
      "cell_type": "markdown",
      "source": [
        "## Reading from a file"
      ]
    },
    {
      "metadata": {
        "id": "81FMnIktrml3",
        "colab_type": "text"
      },
      "cell_type": "markdown",
      "source": [
        "Reading from a file is done by creating a file object with the attribute \"w\"."
      ]
    },
    {
      "metadata": {
        "id": "-ch5fWW7rml3",
        "colab_type": "code",
        "colab": {}
      },
      "cell_type": "code",
      "source": [
        "text_file = open(\"myfile.txt\", \"r\")"
      ],
      "execution_count": 0,
      "outputs": []
    },
    {
      "metadata": {
        "id": "AXbf5eKXrml6",
        "colab_type": "text"
      },
      "cell_type": "markdown",
      "source": [
        "The entire file can be read using the **.read()** method. This will read the entire file and store it in a string:"
      ]
    },
    {
      "metadata": {
        "id": "KEuu8waCrml6",
        "colab_type": "code",
        "colab": {},
        "outputId": "126fe5df-ac18-4304-eabe-4efbd898bf8a"
      },
      "cell_type": "code",
      "source": [
        "content = text_file.read()\n",
        "text_file.close()\n",
        "\n",
        "print(content)"
      ],
      "execution_count": 0,
      "outputs": [
        {
          "output_type": "stream",
          "text": [
            "Filens innehåll. Detta skrivs ut på samma rad.\n",
            "Denna text kommer på en ny rad\n"
          ],
          "name": "stdout"
        }
      ]
    },
    {
      "metadata": {
        "id": "Rwcua3Nbrml7",
        "colab_type": "text"
      },
      "cell_type": "markdown",
      "source": [
        "Using **.read()** for large files can be very inefficient as the whole file must be stored in a single string. It is then better to use the method **.readline()**, which reads a single line from the file."
      ]
    },
    {
      "metadata": {
        "id": "Iit_IEvbrml7",
        "colab_type": "code",
        "colab": {},
        "outputId": "715c1bb6-703e-4366-fb72-71b7fb349f7d"
      },
      "cell_type": "code",
      "source": [
        "text_file = open(\"myfile.txt\", \"r\")\n",
        "\n",
        "line = text_file.readline()\n",
        "while line!='':\n",
        "    print(\">\"+line)\n",
        "    line = text_file.readline()\n",
        "    \n",
        "text_file.close()"
      ],
      "execution_count": 0,
      "outputs": [
        {
          "output_type": "stream",
          "text": [
            ">Filens innehåll. Detta skrivs ut på samma rad.\n",
            "\n",
            ">Denna text kommer på en ny rad\n"
          ],
          "name": "stdout"
        }
      ]
    },
    {
      "metadata": {
        "id": "aSFSkAT6rml9",
        "colab_type": "text"
      },
      "cell_type": "markdown",
      "source": [
        "The row between the print-statements is due to the fact that **.readline()** also reads the newline character from the file. We can use the **.rstrip()** method from the string object to remove this:"
      ]
    },
    {
      "metadata": {
        "id": "ybHaxOWYrml9",
        "colab_type": "code",
        "colab": {},
        "outputId": "c2b15af4-6df5-44e8-f1d0-2681a8b0b30f"
      },
      "cell_type": "code",
      "source": [
        "text_file = open(\"myfile.txt\", \"r\")\n",
        "\n",
        "line = text_file.readline().rstrip()\n",
        "\n",
        "while line!='':\n",
        "    print(\">\"+line)\n",
        "    line = text_file.readline().rstrip()\n",
        "\n",
        "text_file.close()"
      ],
      "execution_count": 0,
      "outputs": [
        {
          "output_type": "stream",
          "text": [
            ">Filens innehåll. Detta skrivs ut på samma rad.\n",
            ">Denna text kommer på en ny rad\n"
          ],
          "name": "stdout"
        }
      ]
    },
    {
      "metadata": {
        "id": "0TDzNthxrmmA",
        "colab_type": "text"
      },
      "cell_type": "markdown",
      "source": [
        "It is also possible to iterate over the file object using a for loop."
      ]
    },
    {
      "metadata": {
        "id": "5wxta1ZPrmmA",
        "colab_type": "code",
        "colab": {},
        "outputId": "3bdc2ba3-f96a-4a42-f64c-c5ccc3f57f64"
      },
      "cell_type": "code",
      "source": [
        "text_file = open(\"myfile.txt\", \"r\")\n",
        "\n",
        "for line in text_file:\n",
        "    print(\">\"+line.rstrip())\n",
        "\n",
        "text_file.close()"
      ],
      "execution_count": 0,
      "outputs": [
        {
          "output_type": "stream",
          "text": [
            ">Filens innehåll. Detta skrivs ut på samma rad.\n",
            ">Denna text kommer på en ny rad\n"
          ],
          "name": "stdout"
        }
      ]
    },
    {
      "metadata": {
        "id": "x72QcNA7rmmB",
        "colab_type": "text"
      },
      "cell_type": "markdown",
      "source": [
        "It is also possible to avoid using loops to read the entire file into a list using the **.readlines()** method:"
      ]
    },
    {
      "metadata": {
        "id": "1fFm4zOcrmmB",
        "colab_type": "code",
        "colab": {},
        "outputId": "34fd4f15-7b71-4e97-a7a4-78b8dcb4f39e"
      },
      "cell_type": "code",
      "source": [
        "text_file = open(\"myfile.txt\", \"r\")\n",
        "lines = text_file.readlines()\n",
        "text_file.close()\n",
        "\n",
        "print(lines)"
      ],
      "execution_count": 0,
      "outputs": [
        {
          "output_type": "stream",
          "text": [
            "['Filens innehåll. Detta skrivs ut på samma rad.\\n', 'Denna text kommer på en ny rad']\n"
          ],
          "name": "stdout"
        }
      ]
    },
    {
      "metadata": {
        "id": "_2ayLOWarmmE",
        "colab_type": "text"
      },
      "cell_type": "markdown",
      "source": [
        "## Opening files using the with-statement"
      ]
    },
    {
      "metadata": {
        "id": "BE9iHHorrmmE",
        "colab_type": "text"
      },
      "cell_type": "markdown",
      "source": [
        "Closing files after use is very important. To ensure that **.close()** will always be called, a special language construct, **with** can be used. The codeblock of a **with**-statement is guaranteed to call close on an opened file object. \n",
        "\n",
        "In the following code a file is opened using the **with**-statement:"
      ]
    },
    {
      "metadata": {
        "id": "BXLY7oCirmmE",
        "colab_type": "code",
        "colab": {},
        "outputId": "4267d95a-f121-4ae1-92e7-59b30eda340d"
      },
      "cell_type": "code",
      "source": [
        "with open(\"myfile.txt\", \"r\") as text_file:\n",
        "    lines = text_file.readlines()\n",
        "\n",
        "print(lines)"
      ],
      "execution_count": 0,
      "outputs": [
        {
          "output_type": "stream",
          "text": [
            "['Filens innehåll. Detta skrivs ut på samma rad.\\n', 'Denna text kommer på en ny rad']\n"
          ],
          "name": "stdout"
        }
      ]
    },
    {
      "metadata": {
        "id": "riNMCKkOrmmG",
        "colab_type": "text"
      },
      "cell_type": "markdown",
      "source": [
        "## Error handling"
      ]
    },
    {
      "metadata": {
        "id": "zPyY2K1vrmmH",
        "colab_type": "text"
      },
      "cell_type": "markdown",
      "source": [
        "Error handling is often handled by calling functions to query states of objects and then taking action on what the function returns. Handling errors in this way can over time add complexity to the code. In the following example the existance of a file is checked before opening it. However there can be several reasons a file can't be opened, which are not handled by the example:"
      ]
    },
    {
      "metadata": {
        "id": "ZopQbIMFrmmH",
        "colab_type": "code",
        "colab": {},
        "outputId": "00e3a9ed-ec6a-4266-fc66-66484252bc25"
      },
      "cell_type": "code",
      "source": [
        "import os\n",
        "\n",
        "filename = \"myfil.txt\"\n",
        "\n",
        "if os.path.exists(filename):\n",
        "    with open(filename, \"r\") as text_file:\n",
        "        lines = text_file.readlines()\n",
        "else:\n",
        "    print(\"Filen \"+filename+\" hittades inte!\")"
      ],
      "execution_count": 0,
      "outputs": [
        {
          "output_type": "stream",
          "text": [
            "Filen myfil.txt hittades inte!\n"
          ],
          "name": "stdout"
        }
      ]
    },
    {
      "metadata": {
        "id": "XzTrhUn7rmmI",
        "colab_type": "text"
      },
      "cell_type": "markdown",
      "source": [
        "## Error handling with exceptions"
      ]
    },
    {
      "metadata": {
        "id": "MZDFc4ukrmmI",
        "colab_type": "text"
      },
      "cell_type": "markdown",
      "source": [
        "The common way of handling errors in Python is using execptions. Most functions in Python will throw exceptions when something goes wrong. You have probarbly already seen these errors when something didn't work in your script. If run the following example we will get an exception:"
      ]
    },
    {
      "metadata": {
        "id": "M2BxYDGGrmmI",
        "colab_type": "code",
        "colab": {},
        "outputId": "ede741d4-3686-41df-ba8f-c86d14f323b1"
      },
      "cell_type": "code",
      "source": [
        "with open(\"myfil.txt\", \"r\") as text_file:\n",
        "    lines = text_file.readlines()"
      ],
      "execution_count": 0,
      "outputs": [
        {
          "output_type": "error",
          "ename": "FileNotFoundError",
          "evalue": "[Errno 2] No such file or directory: 'myfil.txt'",
          "traceback": [
            "\u001b[1;31m---------------------------------------------------------------------------\u001b[0m",
            "\u001b[1;31mFileNotFoundError\u001b[0m                         Traceback (most recent call last)",
            "\u001b[1;32m<ipython-input-126-5ef9f9b286ad>\u001b[0m in \u001b[0;36m<module>\u001b[1;34m()\u001b[0m\n\u001b[1;32m----> 1\u001b[1;33m \u001b[1;32mwith\u001b[0m \u001b[0mopen\u001b[0m\u001b[1;33m(\u001b[0m\u001b[1;34m\"myfil.txt\"\u001b[0m\u001b[1;33m,\u001b[0m \u001b[1;34m\"r\"\u001b[0m\u001b[1;33m)\u001b[0m \u001b[1;32mas\u001b[0m \u001b[0mtext_file\u001b[0m\u001b[1;33m:\u001b[0m\u001b[1;33m\u001b[0m\u001b[0m\n\u001b[0m\u001b[0;32m      2\u001b[0m     \u001b[0mlines\u001b[0m \u001b[1;33m=\u001b[0m \u001b[0mtext_file\u001b[0m\u001b[1;33m.\u001b[0m\u001b[0mreadlines\u001b[0m\u001b[1;33m(\u001b[0m\u001b[1;33m)\u001b[0m\u001b[1;33m\u001b[0m\u001b[0m\n",
            "\u001b[1;31mFileNotFoundError\u001b[0m: [Errno 2] No such file or directory: 'myfil.txt'"
          ]
        }
      ]
    },
    {
      "metadata": {
        "id": "Cpn-EjFQrmmK",
        "colab_type": "text"
      },
      "cell_type": "markdown",
      "source": [
        "FileNotFoundError is an exception. We can improve our code to handle all exceptions using a **try..except**-statement:"
      ]
    },
    {
      "metadata": {
        "id": "H1U0XwdirmmK",
        "colab_type": "code",
        "colab": {}
      },
      "cell_type": "code",
      "source": [
        "try:\n",
        "    with open(\"myfil.txt\", \"r\") as text_file:\n",
        "        lines = text_file.readlines()\n",
        "except:\n",
        "    print(\"Filen kunde inte öppnas\")"
      ],
      "execution_count": 0,
      "outputs": []
    },
    {
      "metadata": {
        "id": "kurLt5-KrmmL",
        "colab_type": "text"
      },
      "cell_type": "markdown",
      "source": [
        "The problem with this code is that we will never know exactly what exception was triggered as it will catch all of them."
      ]
    },
    {
      "metadata": {
        "id": "fay28tKJrmmL",
        "colab_type": "text"
      },
      "cell_type": "markdown",
      "source": [
        "## Handling specific exceptions"
      ]
    },
    {
      "metadata": {
        "id": "NOzaavuZrmmL",
        "colab_type": "text"
      },
      "cell_type": "markdown",
      "source": [
        "It is possible to specify exactly what exception to respond to in our **try..except**-statement:"
      ]
    },
    {
      "metadata": {
        "id": "nT5IYQSSrmmM",
        "colab_type": "code",
        "colab": {}
      },
      "cell_type": "code",
      "source": [
        "try:\n",
        "    with open(\"myfil.txt\", \"r\") as text_file:\n",
        "        lines = text_file.readlines()\n",
        "except FileNotFoundError:\n",
        "    print(\"Filen hittades inte.\")"
      ],
      "execution_count": 0,
      "outputs": []
    },
    {
      "metadata": {
        "id": "kd83jHw1rmmN",
        "colab_type": "text"
      },
      "cell_type": "markdown",
      "source": [
        "The code can be extended to handle the exception PermissionDenied which will be called when you don't have the permission to read a file."
      ]
    },
    {
      "metadata": {
        "id": "W1YwlL8zrmmO",
        "colab_type": "code",
        "colab": {}
      },
      "cell_type": "code",
      "source": [
        "try:\n",
        "    with open(\"myfil.txt\", \"r\") as text_file:\n",
        "        lines = text_file.readlines()\n",
        "except FileNotFoundError:\n",
        "    print(\"Filen hittades inte.\")\n",
        "except PermissionError:\n",
        "    print(\"Vi har inte rätt att läsa filen.\")"
      ],
      "execution_count": 0,
      "outputs": []
    },
    {
      "metadata": {
        "id": "nOO8J2DRrmmP",
        "colab_type": "text"
      },
      "cell_type": "markdown",
      "source": [
        "In this way we can in detail control our error handling depending on the exception being thrown."
      ]
    },
    {
      "metadata": {
        "id": "8UDi1rKcrmmP",
        "colab_type": "text"
      },
      "cell_type": "markdown",
      "source": [
        "## Error information from exceptions"
      ]
    },
    {
      "metadata": {
        "id": "EBVQRcehrmmQ",
        "colab_type": "text"
      },
      "cell_type": "markdown",
      "source": [
        "Many exception will provide additional information on the exception being thrown. To receive this information we must add an exception object to the **try..except**-statement:"
      ]
    },
    {
      "metadata": {
        "id": "frmXcA-ormmQ",
        "colab_type": "code",
        "colab": {}
      },
      "cell_type": "code",
      "source": [
        "try:\n",
        "    with open(\"myfil.txt\", \"r\") as text_file:\n",
        "        lines = text_file.readlines()\n",
        "except FileNotFoundError as e:\n",
        "    print(\"Filen\", e.filename, \"kunde inte öppnas.\")\n",
        "except PermissionError as e:\n",
        "    print(\"Felsträngen är '\"+e.strerror+\"'\")"
      ],
      "execution_count": 0,
      "outputs": []
    },
    {
      "metadata": {
        "id": "3a0Yrz-KrmmR",
        "colab_type": "text"
      },
      "cell_type": "markdown",
      "source": [
        "## Making sure to handle stuff after an exception"
      ]
    },
    {
      "metadata": {
        "id": "SHnCdWZ3rmmR",
        "colab_type": "text"
      },
      "cell_type": "markdown",
      "source": [
        "Python also provides a special construct **try..finally**. This statement will make sure the code in the **finally** part allways will be called even if an exception has been thrown. The following example illustrates this:"
      ]
    },
    {
      "metadata": {
        "id": "yBhh0hClrmmS",
        "colab_type": "code",
        "colab": {}
      },
      "cell_type": "code",
      "source": [
        "try:\n",
        "    input_file = open(\"numbers.txt\", \"r\")\n",
        "    output_file = open(\"sums.txt\", \"w\")\n",
        "    lines = input_file.readlines()\n",
        "    for line in lines:\n",
        "        items = line.strip().split()\n",
        "        numbers = []\n",
        "        for item in items:\n",
        "            numbers.append(int(item))\n",
        "        \n",
        "        output_file.write(\"%d\\n\" % sum(numbers))\n",
        "except ValueError:\n",
        "    print(\"Felaktiga indata på rad\", line)\n",
        "finally:\n",
        "    print(\"Stäng öppna filer.\")\n",
        "    input_file.close()\n",
        "    output_file.close()"
      ],
      "execution_count": 0,
      "outputs": []
    },
    {
      "metadata": {
        "id": "5tLZnryRrmmS",
        "colab_type": "code",
        "colab": {}
      },
      "cell_type": "code",
      "source": [
        ""
      ],
      "execution_count": 0,
      "outputs": []
    }
  ]
}