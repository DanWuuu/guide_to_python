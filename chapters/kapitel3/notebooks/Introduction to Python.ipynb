{
 "cells": [
  {
   "cell_type": "markdown",
   "metadata": {},
   "source": [
    "# Program structure"
   ]
  },
  {
   "cell_type": "markdown",
   "metadata": {},
   "source": [
    "* Python programs are text files containing rows of program-statements\n",
    "* The text files are translated to computer instructions by a Python-interpreter\n",
    "* Empty rows are ignored \n",
    "* The program text files have the extension .py\n",
    "* Also called source files (källkodsfiler)"
   ]
  },
  {
   "cell_type": "code",
   "execution_count": 1,
   "metadata": {},
   "outputs": [
    {
     "name": "stdout",
     "output_type": "stream",
     "text": [
      "0\n",
      "1\n",
      "2\n",
      "3\n",
      "4\n",
      "5\n",
      "6\n",
      "7\n",
      "8\n",
      "9\n"
     ]
    }
   ],
   "source": [
    "#!/usr/bin/env python3\n",
    "# -*- coding: utf-8 -*-\n",
    "\n",
    "# Detta är en kommentar\n",
    "\n",
    "for i in range(10):\n",
    "\tprint(i)"
   ]
  },
  {
   "cell_type": "markdown",
   "metadata": {},
   "source": [
    "# Built-in functions"
   ]
  },
  {
   "cell_type": "markdown",
   "metadata": {},
   "source": [
    "* A lot of functionality of a language and libraries are provided as functions.\n",
    "* Python contains a lot of libraries and builtin functions for printing, string and file operations.\n",
    "* A call to a function consists of the name of the function and a list of parameters contained within parentesis ()."
   ]
  },
  {
   "cell_type": "code",
   "execution_count": 2,
   "metadata": {},
   "outputs": [
    {
     "name": "stdout",
     "output_type": "stream",
     "text": [
      "This is the print-function 42\n"
     ]
    }
   ],
   "source": [
    "print(\"This is the print-function\", 42)"
   ]
  },
  {
   "cell_type": "markdown",
   "metadata": {},
   "source": [
    "All functions do not have input parameters. If no parameters are required the parentesis can be left empty:"
   ]
  },
  {
   "cell_type": "code",
   "execution_count": 3,
   "metadata": {},
   "outputs": [
    {
     "name": "stdout",
     "output_type": "stream",
     "text": [
      "\n"
     ]
    }
   ],
   "source": [
    "print()"
   ]
  },
  {
   "cell_type": "markdown",
   "metadata": {},
   "source": [
    "Functions in Pythjon can have return values. Return values are assigned using an equal sign to the left of the function call:"
   ]
  },
  {
   "cell_type": "code",
   "execution_count": 4,
   "metadata": {},
   "outputs": [],
   "source": [
    "y = abs(-4)"
   ]
  },
  {
   "cell_type": "markdown",
   "metadata": {},
   "source": [
    "Functions can also return multiple values. Return values are listed to left of the equal sign separated by commas."
   ]
  },
  {
   "cell_type": "code",
   "execution_count": 5,
   "metadata": {},
   "outputs": [
    {
     "name": "stdout",
     "output_type": "stream",
     "text": [
      "2 6\n"
     ]
    }
   ],
   "source": [
    "q, r = divmod(100,47)\n",
    "print(q, r)"
   ]
  },
  {
   "cell_type": "markdown",
   "metadata": {},
   "source": [
    "# Storing and referencing data -- variables"
   ]
  },
  {
   "cell_type": "markdown",
   "metadata": {},
   "source": [
    "One fundamental property in programming is the ability to manage stored data in different ways. To reference data variables are used. In Python variables are references to data stored in the memory of the computer. A variable can be compared to a wardrobe ticket, where the ticket refers to the clothes in the wardrobe.\n",
    "\n",
    "* In Python you are not required to specifiy data types. \n",
    "* The datatype of variable is set when it is assigned.\n",
    "* The datatype of a variable can be changed during execution. "
   ]
  },
  {
   "cell_type": "code",
   "execution_count": 6,
   "metadata": {},
   "outputs": [],
   "source": [
    "# Heltalsvariabler\n",
    "\n",
    "a = 1\n",
    "b = 15\n",
    "\n",
    "# Flyttalsvariabler\n",
    "\n",
    "c = 14.5\n",
    "d = 42.32\n",
    "\n",
    "# Strängar (text)\n",
    "\n",
    "e = \"Hejsan\"\n",
    "\n",
    "# Listor\n",
    "\n",
    "f = [1, 2, 4, \"A\"]\n",
    "\n",
    "# Tilldelning av nytt värde och typ\n",
    "\n",
    "a = \"Hej på dig!\""
   ]
  },
  {
   "cell_type": "markdown",
   "metadata": {},
   "source": [
    "## Naming of variables"
   ]
  },
  {
   "cell_type": "markdown",
   "metadata": {},
   "source": [
    "* Only letters from the english alphabet\n",
    "* Numbers\n",
    "* No special characters except _\n",
    "* Can't start with a number\n",
    "\n",
    "Allowed variablenames:\n",
    "\n",
    "* first_name\n",
    "* last_name\n",
    "* number\n",
    "* i2\n",
    "\n",
    "Non-valid names:\n",
    "\n",
    "* 1var\n",
    "* år"
   ]
  },
  {
   "cell_type": "markdown",
   "metadata": {},
   "source": [
    "## More about variables"
   ]
  },
  {
   "cell_type": "markdown",
   "metadata": {},
   "source": [
    "Variables in Python are always **references** to underlying data\n",
    "\n",
    "When a variables is assigned a value the following happens:\n",
    "\n",
    "1. Memory is allocated for the value to be stored.\n",
    "2. A named variable reference is created - the variable. \n",
    "3. The variable reference points to the memory for the value.\n",
    "\n",
    "Look at the following code:"
   ]
  },
  {
   "cell_type": "code",
   "execution_count": 7,
   "metadata": {},
   "outputs": [],
   "source": [
    "a = 42\n",
    "b = 84"
   ]
  },
  {
   "cell_type": "markdown",
   "metadata": {},
   "source": [
    "In this example the variables **a** and **b** are assigned the values 42 and 84. In memory this will look like the following figure:\n",
    "\n",
    "![variable references 1](images/variable1.png)\n",
    "\n",
    "Two variable references pointing to 2 different memory locations.\n",
    "\n",
    "What happens in a variable assignment as in the following example?"
   ]
  },
  {
   "cell_type": "code",
   "execution_count": 8,
   "metadata": {},
   "outputs": [
    {
     "name": "stdout",
     "output_type": "stream",
     "text": [
      "84\n",
      "84\n"
     ]
    }
   ],
   "source": [
    "a = b\n",
    "print(a)\n",
    "print(b)"
   ]
  },
  {
   "cell_type": "markdown",
   "metadata": {},
   "source": [
    "We get what we expected. **a** has the same value as **b**. Behind the scenes the folloing happens:\n",
    "\n",
    "![variable references 1](images/variable2.png)\n",
    "\n",
    "An assignment of a variable reference assigns the reference. **a** now points to the same data 84.\n",
    "\n",
    "The memory storing 42 will be removed by Python automatically. If we now assign **a** a different value:"
   ]
  },
  {
   "cell_type": "code",
   "execution_count": 9,
   "metadata": {},
   "outputs": [],
   "source": [
    "a = 21"
   ]
  },
  {
   "cell_type": "markdown",
   "metadata": {},
   "source": [
    " we get the following situation:\n",
    "\n",
    "![variable references 1](images/variable3.png)"
   ]
  },
  {
   "cell_type": "markdown",
   "metadata": {},
   "source": [
    "It is possible to check this using the **id()** function in Python. This function returns the unique identifier of the variable. We do the previous operations printing the id:s of the variables references."
   ]
  },
  {
   "cell_type": "code",
   "execution_count": 10,
   "metadata": {},
   "outputs": [
    {
     "name": "stdout",
     "output_type": "stream",
     "text": [
      "42 1358655840\n",
      "84 1358657184\n",
      "a = b\n",
      "84 1358657184\n",
      "84 1358657184\n",
      "a = 21\n",
      "21 1358655168\n",
      "84 1358657184\n"
     ]
    }
   ],
   "source": [
    "a = 42\n",
    "b = 84\n",
    "\n",
    "print(a, id(a))\n",
    "print(b, id(b))\n",
    "\n",
    "a = b\n",
    "\n",
    "print('a = b')\n",
    "print(a, id(a))\n",
    "print(b, id(b))\n",
    "\n",
    "a = 21\n",
    "\n",
    "print('a = 21')\n",
    "print(a, id(a))\n",
    "print(b, id(b))"
   ]
  },
  {
   "cell_type": "markdown",
   "metadata": {},
   "source": [
    "We see the first assignments generates unique ids. After the **a = b** assignments the ids are the same. After **a = 21** **a** gets a new id and **b** keeps its id."
   ]
  },
  {
   "cell_type": "markdown",
   "metadata": {},
   "source": [
    "# Data types in Python"
   ]
  },
  {
   "cell_type": "markdown",
   "metadata": {},
   "source": [
    "## Integers and floating point numbers"
   ]
  },
  {
   "cell_type": "code",
   "execution_count": 11,
   "metadata": {},
   "outputs": [
    {
     "data": {
      "text/plain": [
       "42"
      ]
     },
     "execution_count": 11,
     "metadata": {},
     "output_type": "execute_result"
    }
   ],
   "source": [
    "a = 42 # Integer variable\n",
    "a"
   ]
  },
  {
   "cell_type": "code",
   "execution_count": 12,
   "metadata": {},
   "outputs": [
    {
     "data": {
      "text/plain": [
       "42.0"
      ]
     },
     "execution_count": 12,
     "metadata": {},
     "output_type": "execute_result"
    }
   ],
   "source": [
    "b = 42.0 # Floating point variable\n",
    "b"
   ]
  },
  {
   "cell_type": "markdown",
   "metadata": {},
   "source": [
    "## Operators and expressions"
   ]
  },
  {
   "cell_type": "code",
   "execution_count": 13,
   "metadata": {},
   "outputs": [
    {
     "data": {
      "text/plain": [
       "4"
      ]
     },
     "execution_count": 13,
     "metadata": {},
     "output_type": "execute_result"
    }
   ],
   "source": [
    "2+2"
   ]
  },
  {
   "cell_type": "code",
   "execution_count": 14,
   "metadata": {},
   "outputs": [
    {
     "data": {
      "text/plain": [
       "5.0"
      ]
     },
     "execution_count": 14,
     "metadata": {},
     "output_type": "execute_result"
    }
   ],
   "source": [
    "(50-5*6)/4"
   ]
  },
  {
   "cell_type": "code",
   "execution_count": 15,
   "metadata": {},
   "outputs": [
    {
     "data": {
      "text/plain": [
       "2.3333333333333335"
      ]
     },
     "execution_count": 15,
     "metadata": {},
     "output_type": "execute_result"
    }
   ],
   "source": [
    "7/3"
   ]
  },
  {
   "cell_type": "code",
   "execution_count": 16,
   "metadata": {},
   "outputs": [
    {
     "data": {
      "text/plain": [
       "-2.3333333333333335"
      ]
     },
     "execution_count": 16,
     "metadata": {},
     "output_type": "execute_result"
    }
   ],
   "source": [
    "7/-3"
   ]
  },
  {
   "cell_type": "code",
   "execution_count": 17,
   "metadata": {},
   "outputs": [
    {
     "data": {
      "text/plain": [
       "7.5"
      ]
     },
     "execution_count": 17,
     "metadata": {},
     "output_type": "execute_result"
    }
   ],
   "source": [
    "3*3.75/1.5"
   ]
  },
  {
   "cell_type": "markdown",
   "metadata": {},
   "source": [
    "## Flags or boolean variables"
   ]
  },
  {
   "cell_type": "markdown",
   "metadata": {},
   "source": [
    "* Indicates an on/off state\n",
    "* True or False is used to create a boolean variable reference"
   ]
  },
  {
   "cell_type": "code",
   "execution_count": 18,
   "metadata": {},
   "outputs": [
    {
     "data": {
      "text/plain": [
       "True"
      ]
     },
     "execution_count": 18,
     "metadata": {},
     "output_type": "execute_result"
    }
   ],
   "source": [
    "c = True  # c is now a boolean variable\n",
    "c"
   ]
  },
  {
   "cell_type": "code",
   "execution_count": 19,
   "metadata": {},
   "outputs": [
    {
     "data": {
      "text/plain": [
       "False"
      ]
     },
     "execution_count": 19,
     "metadata": {},
     "output_type": "execute_result"
    }
   ],
   "source": [
    "d = False\n",
    "d"
   ]
  },
  {
   "cell_type": "markdown",
   "metadata": {},
   "source": [
    "## Lists"
   ]
  },
  {
   "cell_type": "markdown",
   "metadata": {},
   "source": [
    "List are datatypes that can contain a list of values of different data types. Lists are defined by a beginning [ and ended by a ]. An empty list can be created by assigning an empty []."
   ]
  },
  {
   "cell_type": "code",
   "execution_count": 20,
   "metadata": {},
   "outputs": [],
   "source": [
    "values = [] # Empty list"
   ]
  },
  {
   "cell_type": "markdown",
   "metadata": {},
   "source": [
    "Initial values of the list can be assigned by listing values between the [ and ] brackets:"
   ]
  },
  {
   "cell_type": "code",
   "execution_count": 21,
   "metadata": {},
   "outputs": [],
   "source": [
    "values = [1, 3, 6, 4, 'hej', 1.0]"
   ]
  },
  {
   "cell_type": "markdown",
   "metadata": {},
   "source": [
    "Values in the list can be accessed by specifying an index in brackets:"
   ]
  },
  {
   "cell_type": "code",
   "execution_count": 22,
   "metadata": {},
   "outputs": [
    {
     "name": "stdout",
     "output_type": "stream",
     "text": [
      "6\n"
     ]
    }
   ],
   "source": [
    "print(values[2])"
   ]
  },
  {
   "cell_type": "markdown",
   "metadata": {},
   "source": [
    "List values can be modified by assigning values to a specific index:"
   ]
  },
  {
   "cell_type": "code",
   "execution_count": 23,
   "metadata": {},
   "outputs": [
    {
     "name": "stdout",
     "output_type": "stream",
     "text": [
      "[1, 3, 6, 4, 'hopp', 1.0]\n"
     ]
    }
   ],
   "source": [
    "values[4] = 'hopp'\n",
    "print(values)"
   ]
  },
  {
   "cell_type": "markdown",
   "metadata": {},
   "source": [
    "All indices in lists are zero-based. The first element is 0. Negative indices wraps around and accesses elements from the end of the list:"
   ]
  },
  {
   "cell_type": "code",
   "execution_count": 24,
   "metadata": {},
   "outputs": [
    {
     "name": "stdout",
     "output_type": "stream",
     "text": [
      "1.0\n"
     ]
    }
   ],
   "source": [
    "print(values[-1]) # Last element"
   ]
  },
  {
   "cell_type": "code",
   "execution_count": 25,
   "metadata": {},
   "outputs": [
    {
     "name": "stdout",
     "output_type": "stream",
     "text": [
      "4\n"
     ]
    }
   ],
   "source": [
    "print(values[-3]) # Third last element"
   ]
  },
  {
   "cell_type": "markdown",
   "metadata": {},
   "source": [
    "### Lists and variable references"
   ]
  },
  {
   "cell_type": "markdown",
   "metadata": {},
   "source": [
    "* Lists values are references to data\n",
    "* Data not stored in list\n",
    "* Points to memory locations\n",
    "\n",
    "![variable references 1](images/variable4.png)\n",
    "\n",
    "This is illustrated by an example:"
   ]
  },
  {
   "cell_type": "code",
   "execution_count": 26,
   "metadata": {},
   "outputs": [
    {
     "name": "stdout",
     "output_type": "stream",
     "text": [
      "hej 1997295535416\n",
      "hej 1997295535416\n"
     ]
    }
   ],
   "source": [
    "values = [1, 3, 6, 4, 'hej', 1.0, 42]\n",
    "\n",
    "b = values[4]\n",
    "\n",
    "print(b, id(b))\n",
    "print(values[4], id(values[4]))"
   ]
  },
  {
   "cell_type": "markdown",
   "metadata": {},
   "source": [
    "In this example **b** is assigned the variable reference stored at index 4 in the **values** list. After this assignment **b** and values[4] point to the same data at the same memory location as in the following figure:\n",
    "\n",
    "![variable references 1](images/variable5.png)"
   ]
  },
  {
   "cell_type": "markdown",
   "metadata": {},
   "source": [
    "I most cases variable assignment works intuitively, but it is good to know the underlying implementation."
   ]
  },
  {
   "cell_type": "markdown",
   "metadata": {},
   "source": [
    "### Indexing in lists"
   ]
  },
  {
   "cell_type": "markdown",
   "metadata": {},
   "source": [
    "It is possible to extract sublists from existing lists using special index notation:"
   ]
  },
  {
   "cell_type": "code",
   "execution_count": 27,
   "metadata": {},
   "outputs": [
    {
     "name": "stdout",
     "output_type": "stream",
     "text": [
      "[3, 6]\n",
      "[3, 6, 4, 'hej', 1.0]\n",
      "[4, 'hej', 1.0, 42]\n",
      "[1, 3, 6, 4, 'hej', 1.0, 42]\n",
      "[1, 3, 6, 4, 'hej']\n",
      "['hej', 1.0, 42]\n"
     ]
    }
   ],
   "source": [
    "# Delområde från från 1 >= idx < 3\n",
    "print(values[1:3])\n",
    "\n",
    "# Delområde från från 1 >= idx < len(values)-2\n",
    "print(values[1:-1])\n",
    "\n",
    "# Delområde från idx >= 3\n",
    "print(values[3:])\n",
    "\n",
    "# Alla element i listan\n",
    "print(values[:])\n",
    "\n",
    "# Delområde från från 0 >= idx < len(values)-2\n",
    "print(values[:-2])\n",
    "\n",
    "# Delområde från len(values)-3 >= idx < len(values)-1\n",
    "print(values[-3:])"
   ]
  },
  {
   "cell_type": "markdown",
   "metadata": {},
   "source": [
    "### List size"
   ]
  },
  {
   "cell_type": "markdown",
   "metadata": {},
   "source": [
    "The number of values stored in a list can be queried with the generic **len()** function in Python. This function will return the number of elements in the list."
   ]
  },
  {
   "cell_type": "code",
   "execution_count": 28,
   "metadata": {},
   "outputs": [
    {
     "name": "stdout",
     "output_type": "stream",
     "text": [
      "7\n"
     ]
    }
   ],
   "source": [
    "print(len(values))"
   ]
  },
  {
   "cell_type": "markdown",
   "metadata": {},
   "source": [
    "### Adding values to a list"
   ]
  },
  {
   "cell_type": "markdown",
   "metadata": {},
   "source": [
    "Values can be added by the special list method **.append()**."
   ]
  },
  {
   "cell_type": "code",
   "execution_count": 29,
   "metadata": {},
   "outputs": [
    {
     "name": "stdout",
     "output_type": "stream",
     "text": [
      "[1, 3, 6, 4, 'hej', 1.0, 42, 42]\n"
     ]
    }
   ],
   "source": [
    "values.append(42)\n",
    "print(values)"
   ]
  },
  {
   "cell_type": "markdown",
   "metadata": {},
   "source": [
    "Values can be inserted at specific posititions using the **.insert()** method:"
   ]
  },
  {
   "cell_type": "code",
   "execution_count": 30,
   "metadata": {},
   "outputs": [
    {
     "name": "stdout",
     "output_type": "stream",
     "text": [
      "[1, 'squeeze', 3, 6, 4, 'hej', 1.0, 42, 42]\n"
     ]
    }
   ],
   "source": [
    "values.insert(1, \"squeeze\")\n",
    "print(values)"
   ]
  },
  {
   "cell_type": "markdown",
   "metadata": {},
   "source": [
    "### Removing values in a list"
   ]
  },
  {
   "cell_type": "markdown",
   "metadata": {},
   "source": [
    "Removing values in a list is done with the **.remove()** method."
   ]
  },
  {
   "cell_type": "code",
   "execution_count": 31,
   "metadata": {},
   "outputs": [
    {
     "name": "stdout",
     "output_type": "stream",
     "text": [
      "Före remove()\n",
      "[1, 'squeeze', 3, 6, 4, 'hej', 1.0, 42, 42]\n",
      "Efter remove()\n",
      "[1, 3, 6, 4, 'hej', 1.0, 42, 42]\n"
     ]
    }
   ],
   "source": [
    "print(\"Före remove()\")\n",
    "print(values)\n",
    "\n",
    "values.remove(\"squeeze\") # första värdet med \"squeeze\"\n",
    "\n",
    "print(\"Efter remove()\")\n",
    "print(values)"
   ]
  },
  {
   "cell_type": "markdown",
   "metadata": {},
   "source": [
    "It is also possible to use the generic **del** function in Python."
   ]
  },
  {
   "cell_type": "code",
   "execution_count": 32,
   "metadata": {},
   "outputs": [
    {
     "name": "stdout",
     "output_type": "stream",
     "text": [
      "Före del[0]\n",
      "[1, 3, 6, 4, 'hej', 1.0, 42, 42]\n",
      "Efter del[0]\n",
      "[3, 6, 4, 'hej', 1.0, 42, 42]\n"
     ]
    }
   ],
   "source": [
    "print(\"Före del[0]\")\n",
    "print(values)\n",
    "\n",
    "del values[0]\n",
    "\n",
    "print(\"Efter del[0]\")\n",
    "print(values)"
   ]
  },
  {
   "cell_type": "markdown",
   "metadata": {},
   "source": [
    "It is also possible to remove a range of values in a list:"
   ]
  },
  {
   "cell_type": "code",
   "execution_count": 33,
   "metadata": {},
   "outputs": [
    {
     "name": "stdout",
     "output_type": "stream",
     "text": [
      "Före del[3:]\n",
      "[3, 6, 4, 'hej', 1.0, 42, 42]\n",
      "Efter del[3:]\n",
      "[3, 6, 4]\n"
     ]
    }
   ],
   "source": [
    "print(\"Före del[3:]\")\n",
    "print(values)\n",
    "\n",
    "del values[3:]\n",
    "\n",
    "print(\"Efter del[3:]\")\n",
    "print(values)"
   ]
  },
  {
   "cell_type": "markdown",
   "metadata": {},
   "source": [
    "It is also possible to use the list as a stack datatype, a datatype which data is added and removed from the end. The list data type has a method **.pop()** for achieving this:"
   ]
  },
  {
   "cell_type": "code",
   "execution_count": 34,
   "metadata": {},
   "outputs": [
    {
     "name": "stdout",
     "output_type": "stream",
     "text": [
      "Lista före pop()\n",
      "[3, 6, 4]\n",
      "Värde returnerat från pop()\n",
      "4\n",
      "Lista efter pop()\n",
      "[3, 6]\n"
     ]
    }
   ],
   "source": [
    "print(\"Lista före pop()\")\n",
    "print(values)\n",
    "\n",
    "v = values.pop()\n",
    "\n",
    "print(\"Värde returnerat från pop()\")\n",
    "print(v)\n",
    "print(\"Lista efter pop()\")\n",
    "print(values)"
   ]
  },
  {
   "cell_type": "markdown",
   "metadata": {},
   "source": [
    "### Clearing a list"
   ]
  },
  {
   "cell_type": "markdown",
   "metadata": {},
   "source": [
    "A list can be clear by using the **.clear()** method or assigning an empty list to a variable reference."
   ]
  },
  {
   "cell_type": "code",
   "execution_count": 35,
   "metadata": {},
   "outputs": [],
   "source": [
    "a = [4, 6, 3, 7, 9]\n",
    "a = []"
   ]
  },
  {
   "cell_type": "markdown",
   "metadata": {},
   "source": [
    "It is important to understand that in the above case other variable references can still be pointing to the list. An example of this is shown in the following example:"
   ]
  },
  {
   "cell_type": "code",
   "execution_count": 36,
   "metadata": {},
   "outputs": [
    {
     "name": "stdout",
     "output_type": "stream",
     "text": [
      "[4, 6, 3, 7, 9]\n"
     ]
    }
   ],
   "source": [
    "a = [4, 6, 3, 7, 9]\n",
    "b = a\n",
    "a = []\n",
    "print(b)"
   ]
  },
  {
   "cell_type": "markdown",
   "metadata": {},
   "source": [
    "Really cleaning a list is best done using the **.clear()** method:"
   ]
  },
  {
   "cell_type": "code",
   "execution_count": 37,
   "metadata": {},
   "outputs": [
    {
     "name": "stdout",
     "output_type": "stream",
     "text": [
      "[]\n"
     ]
    }
   ],
   "source": [
    "a = [4, 6, 3, 7, 9]\n",
    "b = a\n",
    "\n",
    "a.clear()\n",
    "\n",
    "print(b)"
   ]
  },
  {
   "cell_type": "markdown",
   "metadata": {},
   "source": [
    "### Nested lists"
   ]
  },
  {
   "cell_type": "markdown",
   "metadata": {},
   "source": [
    "A list is a very flexible datatype in Python, which can contain any Python datatype even other lists. In the following example a list of 5 elements is created in which element 2 contains a list with 2 elements:"
   ]
  },
  {
   "cell_type": "code",
   "execution_count": 38,
   "metadata": {},
   "outputs": [
    {
     "name": "stdout",
     "output_type": "stream",
     "text": [
      "[3, 4]\n"
     ]
    }
   ],
   "source": [
    "a = [1, 2, [3, 4], 5, 6]\n",
    "\n",
    "print(a[2])"
   ]
  },
  {
   "cell_type": "markdown",
   "metadata": {},
   "source": [
    "Accessing a specific element in a contained list can be done by specifying 2 indices:"
   ]
  },
  {
   "cell_type": "code",
   "execution_count": 39,
   "metadata": {},
   "outputs": [
    {
     "name": "stdout",
     "output_type": "stream",
     "text": [
      "3\n",
      "4\n"
     ]
    }
   ],
   "source": [
    "a = [1, 2, [3, 4], 5, 6]\n",
    "\n",
    "print(a[2][0])\n",
    "print(a[2][1])"
   ]
  },
  {
   "cell_type": "markdown",
   "metadata": {},
   "source": [
    "In this way we can quickly create two-dimensional data structures:"
   ]
  },
  {
   "cell_type": "code",
   "execution_count": 40,
   "metadata": {},
   "outputs": [
    {
     "name": "stdout",
     "output_type": "stream",
     "text": [
      "[[0, 0, 0, 0, 0, 0, 0, 0, 0, 0], [0, 0, 0, 0, 0, 0, 0, 0, 0, 0], [0, 0, 0, 0, 0, 0, 0, 0, 0, 0], [0, 0, 0, 0, 0, 0, 0, 0, 0, 0]]\n",
      "4\n"
     ]
    }
   ],
   "source": [
    "spread_sheet = []\n",
    "spread_sheet.append([0]*10)\n",
    "spread_sheet.append([0]*10)\n",
    "spread_sheet.append([0]*10)\n",
    "spread_sheet.append([0]*10)\n",
    "print(spread_sheet)\n",
    "print(len(spread_sheet))"
   ]
  },
  {
   "cell_type": "markdown",
   "metadata": {},
   "source": [
    "Variable referencing is especially important when working with lists. As shown in the following example:"
   ]
  },
  {
   "cell_type": "code",
   "execution_count": 41,
   "metadata": {},
   "outputs": [
    {
     "name": "stdout",
     "output_type": "stream",
     "text": [
      "[-1, 4]\n",
      "[1, 2, [-1, 4], 5, 6]\n"
     ]
    }
   ],
   "source": [
    "b = [3, 4]\n",
    "a = [1, 2, b, 5, 6] # List b is added to a\n",
    "b[0] = -1           # Value assigned to b\n",
    "\n",
    "print(b)\n",
    "print(a)"
   ]
  },
  {
   "cell_type": "markdown",
   "metadata": {},
   "source": [
    "In the example the nested list is also changed when assigning **b**. The following picture illustrates this:\n",
    "\n",
    "![variable references 1](images/variable6.png)"
   ]
  },
  {
   "cell_type": "markdown",
   "metadata": {},
   "source": [
    "To avoid this the **.copy()** method of the list can be used to make a copy of the list."
   ]
  },
  {
   "cell_type": "code",
   "execution_count": 42,
   "metadata": {},
   "outputs": [
    {
     "name": "stdout",
     "output_type": "stream",
     "text": [
      "[-1, 4]\n",
      "[1, 2, [3, 4], 5, 6]\n"
     ]
    }
   ],
   "source": [
    "b = [3, 4]\n",
    "a = [1, 2, b.copy(), 5, 6]\n",
    "b[0] = -1\n",
    "\n",
    "print(b)\n",
    "print(a)"
   ]
  },
  {
   "cell_type": "markdown",
   "metadata": {},
   "source": [
    "This corresponds to the following memory structure:\n",
    "\n",
    "![variable references 1](images/variable7.png)"
   ]
  },
  {
   "cell_type": "markdown",
   "metadata": {},
   "source": [
    "## Strängar"
   ]
  },
  {
   "cell_type": "markdown",
   "metadata": {},
   "source": [
    "* Strings stores sequences of characters. Text data from files. \n",
    "* Many ways of creating strings\n",
    "* Strings are immutable - Can't be changed."
   ]
  },
  {
   "cell_type": "code",
   "execution_count": 43,
   "metadata": {},
   "outputs": [
    {
     "name": "stdout",
     "output_type": "stream",
     "text": [
      "Guido van Rossum\n"
     ]
    }
   ],
   "source": [
    "full_name = \"Guido van Rossum\"\n",
    "print(full_name)"
   ]
  },
  {
   "cell_type": "code",
   "execution_count": 44,
   "metadata": {},
   "outputs": [
    {
     "name": "stdout",
     "output_type": "stream",
     "text": [
      "Guido van Rossum\n"
     ]
    }
   ],
   "source": [
    "full_name = 'Guido van Rossum' # Simple citation marks\n",
    "print(full_name)"
   ]
  },
  {
   "cell_type": "markdown",
   "metadata": {},
   "source": [
    "If you need to use either citation or quotation in the string, use the other as the delimiter."
   ]
  },
  {
   "cell_type": "code",
   "execution_count": 45,
   "metadata": {},
   "outputs": [
    {
     "name": "stdout",
     "output_type": "stream",
     "text": [
      "don't give up\n"
     ]
    }
   ],
   "source": [
    "title = \"don't give up\"\n",
    "print(title)"
   ]
  },
  {
   "cell_type": "code",
   "execution_count": 46,
   "metadata": {},
   "outputs": [
    {
     "name": "stdout",
     "output_type": "stream",
     "text": [
      "He used the \"Aguamenti\" spell.\n"
     ]
    }
   ],
   "source": [
    "sentence = 'He used the \"Aguamenti\" spell.'\n",
    "print(sentence)"
   ]
  },
  {
   "cell_type": "markdown",
   "metadata": {},
   "source": [
    "Control characters can be used to control output. Some of these are shown in the following table:\n",
    "\n",
    "![variable references 1](images/strings1.png)"
   ]
  },
  {
   "cell_type": "code",
   "execution_count": 47,
   "metadata": {},
   "outputs": [
    {
     "name": "stdout",
     "output_type": "stream",
     "text": [
      "Guido van Rossum\n",
      "Python Creator\n"
     ]
    }
   ],
   "source": [
    "full_name = \"Guido van Rossum\\nPython Creator\" # Newline control character\n",
    "print(full_name)"
   ]
  },
  {
   "cell_type": "markdown",
   "metadata": {},
   "source": [
    "Sometime you don't want extra processing by Python. This can be done by using raw-strings, which are prefixed by **r**."
   ]
  },
  {
   "cell_type": "code",
   "execution_count": 48,
   "metadata": {},
   "outputs": [
    {
     "name": "stdout",
     "output_type": "stream",
     "text": [
      "Row1\\nRow2\n",
      "Row1\n",
      "Row2\n"
     ]
    }
   ],
   "source": [
    "raw_string = r\"Row1\\nRow2\"\n",
    "std_string = \"Row1\\nRow2\"\n",
    "print(raw_string)\n",
    "print(std_string)"
   ]
  },
  {
   "cell_type": "markdown",
   "metadata": {},
   "source": [
    "Another option for strings with a more specific format is to use triple quoted strings. They contain all control characters when assigning the string as in the following example:"
   ]
  },
  {
   "cell_type": "code",
   "execution_count": 49,
   "metadata": {},
   "outputs": [
    {
     "name": "stdout",
     "output_type": "stream",
     "text": [
      "Guido van Rossum\n",
      "Python Creator\n",
      "Python är fantastiskt\n"
     ]
    }
   ],
   "source": [
    "full_name = \"\"\"Guido van Rossum\n",
    "Python Creator\n",
    "Python är fantastiskt\"\"\"\n",
    "print(full_name)"
   ]
  },
  {
   "cell_type": "markdown",
   "metadata": {},
   "source": [
    "Here string layout as described in the code is preserved."
   ]
  },
  {
   "cell_type": "markdown",
   "metadata": {},
   "source": [
    "### Length of strings"
   ]
  },
  {
   "cell_type": "markdown",
   "metadata": {},
   "source": [
    "The lengths of a string is measured using the same generic function **len()** as for lists:"
   ]
  },
  {
   "cell_type": "code",
   "execution_count": 50,
   "metadata": {},
   "outputs": [
    {
     "name": "stdout",
     "output_type": "stream",
     "text": [
      "Detta är en sträng 18\n",
      "Detta är en längre sträng 25\n"
     ]
    }
   ],
   "source": [
    "s1 = \"Detta är en sträng\"\n",
    "s2 = \"Detta är en längre sträng\"\n",
    "\n",
    "print(s1, len(s1))\n",
    "print(s2, len(s2))"
   ]
  },
  {
   "cell_type": "markdown",
   "metadata": {},
   "source": [
    "### Adding strings together"
   ]
  },
  {
   "cell_type": "markdown",
   "metadata": {},
   "source": [
    "The + operator can be used to combine strings."
   ]
  },
  {
   "cell_type": "code",
   "execution_count": 51,
   "metadata": {},
   "outputs": [
    {
     "name": "stdout",
     "output_type": "stream",
     "text": [
      "Det är kul med Python\n"
     ]
    }
   ],
   "source": [
    "s1 = \"Det är kul med \"\n",
    "s2 = \"Python\"\n",
    "\n",
    "s3 = s1 + s2\n",
    "\n",
    "print(s3)"
   ]
  },
  {
   "cell_type": "markdown",
   "metadata": {},
   "source": [
    "### Repeating strings"
   ]
  },
  {
   "cell_type": "markdown",
   "metadata": {},
   "source": [
    "The * operator can be used to repeat string segments to a longer string:"
   ]
  },
  {
   "cell_type": "code",
   "execution_count": 52,
   "metadata": {},
   "outputs": [
    {
     "name": "stdout",
     "output_type": "stream",
     "text": [
      "Detta är en sträng vi vill stryka under\n",
      "---------------------------------------\n"
     ]
    }
   ],
   "source": [
    "s1 = \"Detta är en sträng vi vill stryka under\"\n",
    "s2 = \"-\" * len(s1)\n",
    "\n",
    "print(s1)\n",
    "print(s2)"
   ]
  },
  {
   "cell_type": "markdown",
   "metadata": {},
   "source": [
    "### Splitting strings"
   ]
  },
  {
   "cell_type": "markdown",
   "metadata": {},
   "source": [
    "The string datatype has a method **.split()** that can be used to split strings into lists of smaller parts."
   ]
  },
  {
   "cell_type": "code",
   "execution_count": 53,
   "metadata": {},
   "outputs": [
    {
     "name": "stdout",
     "output_type": "stream",
     "text": [
      "['Detta', 'är', 'en', 'mening', 'med', 'en', 'mängd', 'ord!']\n"
     ]
    }
   ],
   "source": [
    "s = \"Detta är en mening med en mängd ord!\"\n",
    "\n",
    "ord_lista = s.split()\n",
    "\n",
    "print(ord_lista)"
   ]
  },
  {
   "cell_type": "markdown",
   "metadata": {},
   "source": [
    "The **.split()** method takes an argument that determines which character to split the string by:"
   ]
  },
  {
   "cell_type": "code",
   "execution_count": 54,
   "metadata": {},
   "outputs": [
    {
     "name": "stdout",
     "output_type": "stream",
     "text": [
      "['123', ' 456', ' 123', ' 35456', ' 12', ' 34']\n"
     ]
    }
   ],
   "source": [
    "s = \"123, 456, 123, 35456, 12, 34\"\n",
    "\n",
    "delar = s.split(\",\")\n",
    "\n",
    "print(delar)"
   ]
  },
  {
   "cell_type": "markdown",
   "metadata": {},
   "source": [
    "### Create strings from lists"
   ]
  },
  {
   "cell_type": "markdown",
   "metadata": {},
   "source": [
    "If you have lists of strings it also possible to append these to strings using the **.join()** method."
   ]
  },
  {
   "cell_type": "code",
   "execution_count": 55,
   "metadata": {},
   "outputs": [
    {
     "name": "stdout",
     "output_type": "stream",
     "text": [
      "Detta är en lista med ord\n",
      "tree,house,pencil,eraser\n",
      "treehousepencileraser\n"
     ]
    }
   ],
   "source": [
    "list_of_strings = [\"Detta\", \"är\", \"en\", \"lista\", \"med\", \"ord\"]\n",
    "list_of_things = [\"tree\", \"house\", \"pencil\", \"eraser\"]\n",
    "\n",
    "s1 = \" \".join(list_of_strings) # Append with spaces\n",
    "s2 = \",\".join(list_of_things)  # Append with comma\n",
    "s3 = \"\".join(list_of_things)   # Append withou spacing.\n",
    "\n",
    "print(s1)\n",
    "print(s2)\n",
    "print(s3)"
   ]
  },
  {
   "cell_type": "markdown",
   "metadata": {},
   "source": [
    "### String searching"
   ]
  },
  {
   "cell_type": "markdown",
   "metadata": {},
   "source": [
    "One common operation is query if a substring exists in a string. This is done using the **in** operator."
   ]
  },
  {
   "cell_type": "code",
   "execution_count": 56,
   "metadata": {},
   "outputs": [
    {
     "name": "stdout",
     "output_type": "stream",
     "text": [
      "True\n"
     ]
    }
   ],
   "source": [
    "s = \"Far far away, behind the word mountains, far from the countries \" \\\n",
    "\"Vokalia and Consonantia, there live the blind texts. Separated they \" \\\n",
    "\"live in Bookmarksgrove right at the coast of the Semantics, a large \" \\\n",
    "\"language ocean.\"\n",
    "print(\"Vokalia\" in s)"
   ]
  },
  {
   "cell_type": "markdown",
   "metadata": {},
   "source": [
    "It is also possible to use the method **.find()** to search for substrings:"
   ]
  },
  {
   "cell_type": "code",
   "execution_count": 57,
   "metadata": {},
   "outputs": [
    {
     "name": "stdout",
     "output_type": "stream",
     "text": [
      "4\n",
      "41\n",
      "-1\n"
     ]
    }
   ],
   "source": [
    "s = \"Far far away, behind the word mountains, far from the countries \" \\\n",
    "\"Vokalia and Consonantia, there live the blind texts. Separated they \" \\\n",
    "\"live in Bookmarksgrove right at the coast of the Semantics, a large \" \\\n",
    "\"language ocean.\"\n",
    "pos = s.find(\"far\")\n",
    "print(pos)\n",
    "\n",
    "pos = s.find(\"far\", pos+1)\n",
    "print(pos)\n",
    "\n",
    "pos = s.find(\"python\")\n",
    "print(pos)"
   ]
  },
  {
   "cell_type": "markdown",
   "metadata": {},
   "source": [
    "### Clearing empty space in strings"
   ]
  },
  {
   "cell_type": "markdown",
   "metadata": {},
   "source": [
    "When you read data from files you often get extra spaces that needs to be removed. This can be done using the **.strip()** method in the string datatype:"
   ]
  },
  {
   "cell_type": "code",
   "execution_count": 58,
   "metadata": {},
   "outputs": [
    {
     "name": "stdout",
     "output_type": "stream",
     "text": [
      "> Detta är en sträng med extra utrymme. <\n",
      ">Detta är en sträng med extra utrymme.<\n"
     ]
    }
   ],
   "source": [
    "s1 = \" Detta är en sträng med extra utrymme. \"\n",
    "s2 = s1.strip()\n",
    "\n",
    "print(\">\" + s1 + \"<\")\n",
    "print(\">\" + s2 + \"<\")"
   ]
  },
  {
   "cell_type": "markdown",
   "metadata": {},
   "source": [
    "Specia versions for cleaning left and right spaces:"
   ]
  },
  {
   "cell_type": "code",
   "execution_count": 59,
   "metadata": {},
   "outputs": [
    {
     "name": "stdout",
     "output_type": "stream",
     "text": [
      "> Detta är en sträng med extra utrymme. <\n",
      "> Detta är en sträng med extra utrymme.<\n"
     ]
    }
   ],
   "source": [
    "s1 = \" Detta är en sträng med extra utrymme. \"\n",
    "s2 = s1.rstrip()\n",
    "\n",
    "print(\">\" + s1 + \"<\")\n",
    "print(\">\" + s2 + \"<\")"
   ]
  },
  {
   "cell_type": "code",
   "execution_count": 60,
   "metadata": {},
   "outputs": [
    {
     "name": "stdout",
     "output_type": "stream",
     "text": [
      "> Detta är en sträng med extra utrymme. <\n",
      ">Detta är en sträng med extra utrymme. <\n"
     ]
    }
   ],
   "source": [
    "s1 = \" Detta är en sträng med extra utrymme. \"\n",
    "s2 = s1.lstrip()\n",
    "\n",
    "print(\">\" + s1 + \"<\")\n",
    "print(\">\" + s2 + \"<\")"
   ]
  },
  {
   "cell_type": "markdown",
   "metadata": {},
   "source": [
    "## Querying actual datatype"
   ]
  },
  {
   "cell_type": "markdown",
   "metadata": {},
   "source": [
    "Sometimes you need to find out the actual datatype of a variable reference. This can be done with the **type()** function. This prints the actual data type:"
   ]
  },
  {
   "cell_type": "code",
   "execution_count": 61,
   "metadata": {},
   "outputs": [
    {
     "name": "stdout",
     "output_type": "stream",
     "text": [
      "<class 'int'>\n",
      "<class 'float'>\n",
      "<class 'bool'>\n",
      "<class 'str'>\n"
     ]
    }
   ],
   "source": [
    "a = 42\n",
    "b = 42.0\n",
    "c = True\n",
    "d = 'Hejsan'\n",
    "print(type(a))\n",
    "print(type(b))\n",
    "print(type(c))\n",
    "print(type(d))"
   ]
  },
  {
   "cell_type": "markdown",
   "metadata": {},
   "source": [
    "# Dictionaries"
   ]
  },
  {
   "cell_type": "markdown",
   "metadata": {},
   "source": [
    "Dictionaries in Python is a special form of container in which data is store in key-value pairs. Looking up a key in a dictionary is usually a quick operation.\n",
    "\n",
    "Dictionaries use curly brackets instead of [] to define its contents.\n",
    "\n",
    "An empty dictionary is created with the following code:"
   ]
  },
  {
   "cell_type": "code",
   "execution_count": 62,
   "metadata": {},
   "outputs": [],
   "source": [
    "values = {}"
   ]
  },
  {
   "cell_type": "markdown",
   "metadata": {},
   "source": [
    "Initial values can be assigned by listing key-value pairs separated with commas. Key-value pairs are defined using key:value notation. "
   ]
  },
  {
   "cell_type": "code",
   "execution_count": 63,
   "metadata": {},
   "outputs": [
    {
     "name": "stdout",
     "output_type": "stream",
     "text": [
      "{'Petra': '9046112', 'David': '1234145', 'Olle': '534532'}\n"
     ]
    }
   ],
   "source": [
    "values = {\n",
    "    \"Petra\":\"9046112\", \"David\":\"1234145\",\n",
    "    \"Olle\":\"534532\"\n",
    "}\n",
    "print(values)"
   ]
  },
  {
   "cell_type": "markdown",
   "metadata": {},
   "source": [
    "To access values in a dictionary we use [] with the key instead of an index:"
   ]
  },
  {
   "cell_type": "code",
   "execution_count": 64,
   "metadata": {},
   "outputs": [
    {
     "name": "stdout",
     "output_type": "stream",
     "text": [
      "1234145\n",
      "9046112\n"
     ]
    }
   ],
   "source": [
    "print(values[\"David\"])\n",
    "print(values[\"Petra\"])"
   ]
  },
  {
   "cell_type": "markdown",
   "metadata": {},
   "source": [
    "Modifyingh a dictionary can be done in the same way as assigning a value to a list, that is assigning a value to a specific key:"
   ]
  },
  {
   "cell_type": "code",
   "execution_count": 65,
   "metadata": {},
   "outputs": [
    {
     "name": "stdout",
     "output_type": "stream",
     "text": [
      "{'Petra': '9046112', 'David': '1234145', 'Olle': '534532', 'Peter': 734847}\n"
     ]
    }
   ],
   "source": [
    "values[\"Peter\"] = 734847\n",
    "print(values)"
   ]
  },
  {
   "cell_type": "markdown",
   "metadata": {},
   "source": [
    "## Finding things in a dictionary"
   ]
  },
  {
   "cell_type": "markdown",
   "metadata": {},
   "source": [
    "Searching a dictionary for a specific item can be done using the **in** operator. The result will return **True** or **False** if the key is in the dictionary."
   ]
  },
  {
   "cell_type": "code",
   "execution_count": 66,
   "metadata": {},
   "outputs": [
    {
     "name": "stdout",
     "output_type": "stream",
     "text": [
      "True\n",
      "False\n"
     ]
    }
   ],
   "source": [
    "idx = {\n",
    "    'Olle': '534532',\n",
    "    'David': '1234145',\n",
    "    'Petra': '9046112'\n",
    "}\n",
    "print('Petra' in idx)\n",
    "print('Bosse' in idx)"
   ]
  },
  {
   "cell_type": "markdown",
   "metadata": {},
   "source": [
    "## Size of dictionary"
   ]
  },
  {
   "cell_type": "markdown",
   "metadata": {},
   "source": [
    "The number of items in a dictionary is determined by using the **len()** function in the same way as for a list."
   ]
  },
  {
   "cell_type": "code",
   "execution_count": 67,
   "metadata": {},
   "outputs": [
    {
     "name": "stdout",
     "output_type": "stream",
     "text": [
      "4\n"
     ]
    }
   ],
   "source": [
    "print(len(values))"
   ]
  },
  {
   "cell_type": "markdown",
   "metadata": {},
   "source": [
    "## Adding values to a dictionary"
   ]
  },
  {
   "cell_type": "markdown",
   "metadata": {},
   "source": [
    "Adding values to a dictionary is done by asssigning values to new keys:"
   ]
  },
  {
   "cell_type": "code",
   "execution_count": 68,
   "metadata": {},
   "outputs": [
    {
     "name": "stdout",
     "output_type": "stream",
     "text": [
      "{'Petra': '9046112', 'David': '1234145', 'Olle': '534532', 'Peter': 734847, 'Guido': 187493}\n"
     ]
    }
   ],
   "source": [
    "values[\"Guido\"] = 187493\n",
    "print(values)"
   ]
  },
  {
   "cell_type": "markdown",
   "metadata": {},
   "source": [
    "## Nested dictionaries"
   ]
  },
  {
   "cell_type": "markdown",
   "metadata": {},
   "source": [
    "In the same way as with lists a dictionary can be nested:"
   ]
  },
  {
   "cell_type": "code",
   "execution_count": 69,
   "metadata": {},
   "outputs": [
    {
     "name": "stdout",
     "output_type": "stream",
     "text": [
      "olle\n",
      "3.14159\n",
      "2\n"
     ]
    }
   ],
   "source": [
    "config = {\n",
    "    \"general\":\n",
    "        {\n",
    "            \"username\":\"olle\",\n",
    "            \"temp_path\":\"C:\\\\TEMP\"\n",
    "        },\n",
    "    \"constants\":\n",
    "        {\n",
    "            \"pi\":3.14159,\n",
    "            \"g\":9.82\n",
    "        },\n",
    "    \"items\":\n",
    "        {\n",
    "            \"values\": [1, 2, 3, 4, 5]\n",
    "        }\n",
    "}\n",
    "\n",
    "print(config[\"general\"][\"username\"])\n",
    "print(config[\"constants\"][\"pi\"])\n",
    "print(config[\"items\"][\"values\"][1])"
   ]
  },
  {
   "cell_type": "markdown",
   "metadata": {},
   "source": [
    "# Loops and conditionals constructs"
   ]
  },
  {
   "cell_type": "markdown",
   "metadata": {},
   "source": [
    "## Codeblocks in Python"
   ]
  },
  {
   "cell_type": "markdown",
   "metadata": {},
   "source": [
    "In Python statements are grouped in codeblocks by the structure of the source file. A group of statements in considered grouped if it is proceeded by a : and the following statements are indented."
   ]
  },
  {
   "cell_type": "code",
   "execution_count": 70,
   "metadata": {},
   "outputs": [
    {
     "name": "stdout",
     "output_type": "stream",
     "text": [
      "0\n",
      "1\n",
      "2\n",
      "3\n",
      "4\n",
      "Denna sats tillhör inte kodblocket\n"
     ]
    }
   ],
   "source": [
    "for i in range(5): # Markerar start av kodblock\n",
    "    print(i)       # Indraget kodblock.\n",
    "                   # Tillhör for-satsen\n",
    "\n",
    "print(\"Denna sats tillhör inte kodblocket\")"
   ]
  },
  {
   "cell_type": "markdown",
   "metadata": {},
   "source": [
    "## Loops"
   ]
  },
  {
   "cell_type": "markdown",
   "metadata": {},
   "source": [
    "### Repeating a code block a specific number of times - for"
   ]
  },
  {
   "cell_type": "code",
   "execution_count": 71,
   "metadata": {},
   "outputs": [
    {
     "name": "stdout",
     "output_type": "stream",
     "text": [
      "0\n",
      "1\n",
      "2\n",
      "3\n",
      "4\n",
      "5\n",
      "6\n",
      "7\n",
      "8\n",
      "9\n"
     ]
    }
   ],
   "source": [
    "for i in range(10):  # Sequence 0 - 9\n",
    "    print(i)"
   ]
  },
  {
   "cell_type": "code",
   "execution_count": 72,
   "metadata": {},
   "outputs": [
    {
     "name": "stdout",
     "output_type": "stream",
     "text": [
      "5\n",
      "6\n",
      "7\n",
      "8\n",
      "9\n",
      "10\n"
     ]
    }
   ],
   "source": [
    "for i in range(5, 11): # Sequence 5 - 10\n",
    "    print(i)"
   ]
  },
  {
   "cell_type": "code",
   "execution_count": 73,
   "metadata": {},
   "outputs": [
    {
     "name": "stdout",
     "output_type": "stream",
     "text": [
      "5\n",
      "8\n",
      "11\n",
      "14\n",
      "17\n",
      "20\n"
     ]
    }
   ],
   "source": [
    "for i in range(5,21,3): # Sequence with step 3\n",
    "    print(i)"
   ]
  },
  {
   "cell_type": "markdown",
   "metadata": {},
   "source": [
    "### Iterating over a list"
   ]
  },
  {
   "cell_type": "code",
   "execution_count": 74,
   "metadata": {},
   "outputs": [
    {
     "name": "stdout",
     "output_type": "stream",
     "text": [
      "1\n",
      "3\n",
      "6\n",
      "4\n",
      "hej\n",
      "1.0\n",
      "42\n"
     ]
    }
   ],
   "source": [
    "values = [1, 3, 6, 4, 'hej', 1.0, 42]\n",
    "\n",
    "for value in values:\n",
    "    print(value)"
   ]
  },
  {
   "cell_type": "markdown",
   "metadata": {},
   "source": [
    "### Iterating over a list with a loop variable"
   ]
  },
  {
   "cell_type": "code",
   "execution_count": 75,
   "metadata": {},
   "outputs": [
    {
     "name": "stdout",
     "output_type": "stream",
     "text": [
      "a , 5\n",
      "b , 4\n",
      "c , 3\n",
      "d , 2\n",
      "e , 1\n"
     ]
    }
   ],
   "source": [
    "a = [\"a\", \"b\", \"c\", \"d\", \"e\"]\n",
    "b = [5, 4, 3, 2, 1]\n",
    "for i in range(len(a)):\n",
    "    print(a[i], \",\", b[i])"
   ]
  },
  {
   "cell_type": "markdown",
   "metadata": {},
   "source": [
    "### Iterating over multiple lists "
   ]
  },
  {
   "cell_type": "code",
   "execution_count": 76,
   "metadata": {},
   "outputs": [
    {
     "name": "stdout",
     "output_type": "stream",
     "text": [
      "50 50\n",
      "130 70\n",
      "200 220\n",
      "250 300\n"
     ]
    }
   ],
   "source": [
    "x_pos = [50, 130, 200, 250]\n",
    "y_pos = [50, 70, 220, 300]\n",
    "\n",
    "for x, y in zip(x_pos, y_pos):\n",
    "    print(x, y)"
   ]
  },
  {
   "cell_type": "markdown",
   "metadata": {},
   "source": [
    "### Iterating over nested lists "
   ]
  },
  {
   "cell_type": "code",
   "execution_count": 77,
   "metadata": {},
   "outputs": [
    {
     "name": "stdout",
     "output_type": "stream",
     "text": [
      "[50, 50]\n",
      "[130, 70]\n",
      "[200, 220]\n",
      "[250, 300]\n"
     ]
    }
   ],
   "source": [
    "points = [[50,50], [130,70], [200,220], [250,300]]\n",
    "\n",
    "for p in points:\n",
    "    print(p)"
   ]
  },
  {
   "cell_type": "markdown",
   "metadata": {},
   "source": [
    "### Iterating using while statement"
   ]
  },
  {
   "cell_type": "code",
   "execution_count": 78,
   "metadata": {},
   "outputs": [
    {
     "name": "stdout",
     "output_type": "stream",
     "text": [
      "Iteration 2 pi =  4.0 err =  7.141592653589793\n",
      "Iteration 3 pi =  2.666666666666667 err =  5.80825932025646\n",
      "Iteration 4 pi =  3.466666666666667 err =  6.60825932025646\n",
      "Iteration 5 pi =  2.8952380952380956 err =  6.036830748827889\n",
      "Iteration 6 pi =  3.3396825396825403 err =  6.481275193272333\n",
      "Iteration 7 pi =  2.9760461760461765 err =  6.11763882963597\n",
      "Iteration 8 pi =  3.2837384837384844 err =  6.4253311373282775\n",
      "Iteration 9 pi =  3.017071817071818 err =  6.158664470661611\n",
      "Iteration 10 pi =  3.2523659347188767 err =  6.39395858830867\n",
      "Iteration 11 pi =  3.0418396189294032 err =  6.183432272519196\n",
      "Iteration 12 pi =  3.232315809405594 err =  6.373908462995387\n",
      "Iteration 13 pi =  3.058402765927333 err =  6.199995419517126\n",
      "Iteration 14 pi =  3.2184027659273333 err =  6.359995419517126\n",
      "Iteration 15 pi =  3.0702546177791854 err =  6.2118472713689785\n",
      "Iteration 16 pi =  3.208185652261944 err =  6.349778305851737\n",
      "Iteration 17 pi =  3.079153394197428 err =  6.220746047787221\n",
      "Iteration 18 pi =  3.200365515409549 err =  6.3419581689993425\n",
      "Iteration 19 pi =  3.0860798011238346 err =  6.227672454713628\n",
      "Iteration 20 pi =  3.1941879092319425 err =  6.335780562821736\n",
      "Iteration 21 pi =  3.09162380666784 err =  6.233216460257633\n",
      "Iteration 22 pi =  3.189184782277596 err =  6.33077743586739\n",
      "Iteration 23 pi =  3.0961615264636424 err =  6.237754180053436\n",
      "Iteration 24 pi =  3.1850504153525314 err =  6.3266430689423245\n",
      "Iteration 25 pi =  3.099944032373808 err =  6.241536685963601\n",
      "Iteration 26 pi =  3.1815766854350325 err =  6.323169339024826\n",
      "Iteration 27 pi =  3.1031453128860127 err =  6.244737966475806\n",
      "Iteration 28 pi =  3.1786170109992202 err =  6.320209664589013\n",
      "Iteration 29 pi =  3.1058897382719475 err =  6.247482391861741\n",
      "Iteration 30 pi =  3.1760651768684385 err =  6.317657830458232\n",
      "Iteration 31 pi =  3.108268566698947 err =  6.24986122028874\n",
      "Iteration 32 pi =  3.1738423371907505 err =  6.315434990780544\n",
      "Iteration 33 pi =  3.110350273698687 err =  6.25194292728848\n",
      "Iteration 34 pi =  3.1718887352371485 err =  6.313481388826942\n",
      "Iteration 35 pi =  3.112187242699835 err =  6.253779896289628\n",
      "Iteration 36 pi =  3.1701582571925884 err =  6.311750910782381\n",
      "Iteration 37 pi =  3.1138202290235744 err =  6.255412882613367\n",
      "Iteration 38 pi =  3.1686147495715193 err =  6.3102074031613125\n",
      "Iteration 39 pi =  3.115281416238186 err =  6.25687406982798\n",
      "Iteration 40 pi =  3.167229468186238 err =  6.308822121776031\n",
      "Iteration 41 pi =  3.116596556793833 err =  6.258189210383627\n",
      "Iteration 42 pi =  3.1659792728432157 err =  6.307571926433009\n",
      "Iteration 43 pi =  3.117786501758878 err =  6.259379155348672\n",
      "Iteration 44 pi =  3.1648453252882898 err =  6.306437978878083\n",
      "Iteration 45 pi =  3.118868313794037 err =  6.26046096738383\n",
      "Iteration 46 pi =  3.163812134018756 err =  6.305404787608549\n",
      "Iteration 47 pi =  3.1198560900627124 err =  6.2614487436525055\n",
      "Iteration 48 pi =  3.1628668427508844 err =  6.3044594963406775\n",
      "Iteration 49 pi =  3.1207615795929895 err =  6.262354233182783\n",
      "Iteration 50 pi =  3.161998692995051 err =  6.303591346584844\n",
      "Iteration 51 pi =  3.121594652591011 err =  6.263187306180804\n",
      "Iteration 52 pi =  3.1611986129870506 err =  6.302791266576843\n",
      "Iteration 53 pi =  3.12236366153074 err =  6.263956315120533\n",
      "Iteration 54 pi =  3.160458899625978 err =  6.302051553215771\n",
      "Iteration 55 pi =  3.1230757220558845 err =  6.264668375645678\n",
      "Iteration 56 pi =  3.1597729697623063 err =  6.301365623352099\n",
      "Iteration 57 pi =  3.12373693372627 err =  6.265329587316064\n",
      "Iteration 58 pi =  3.159135163814766 err =  6.3007278174045585\n",
      "Iteration 59 pi =  3.124352555119114 err =  6.2659452087089065\n",
      "Iteration 60 pi =  3.158540589307148 err =  6.3001332428969405\n",
      "Iteration 61 pi =  3.1249271439289967 err =  6.266519797518789\n",
      "Iteration 62 pi =  3.157984995168666 err =  6.29957764875846\n",
      "Iteration 63 pi =  3.125464669965414 err =  6.267057323555207\n",
      "Iteration 64 pi =  3.157464669965414 err =  6.299057323555207\n",
      "Iteration 65 pi =  3.125968606973288 err =  6.267561260563081\n",
      "Iteration 66 pi =  3.1569763589112725 err =  6.298569012501066\n",
      "Iteration 67 pi =  3.1264420077662343 err =  6.268034661356028\n",
      "Iteration 68 pi =  3.156517195736159 err =  6.298109849325952\n",
      "Iteration 69 pi =  3.126887566106529 err =  6.268480219696322\n",
      "Iteration 70 pi =  3.1560846463985 err =  6.297677299988293\n",
      "Iteration 71 pi =  3.127307667981234 err =  6.268900321571027\n",
      "Iteration 72 pi =  3.155676462307475 err =  6.297269115897269\n",
      "Iteration 73 pi =  3.127704434335447 err =  6.26929708792524\n",
      "Iteration 74 pi =  3.155290641231999 err =  6.296883294821792\n",
      "Iteration 75 pi =  3.1280797568782575 err =  6.269672410468051\n",
      "Iteration 76 pi =  3.15492539446215 err =  6.296518048051944\n",
      "Iteration 77 pi =  3.1284353282369843 err =  6.270027981826777\n",
      "Iteration 78 pi =  3.1545791190866574 err =  6.29617177267645\n",
      "Iteration 79 pi =  3.128772667473754 err =  6.270365321063547\n",
      "Iteration 80 pi =  3.1542503744801236 err =  6.295843028069917\n",
      "Iteration 81 pi =  3.129093141775721 err =  6.270685795365514\n",
      "Iteration 82 pi =  3.1539378622726155 err =  6.295530515862408\n",
      "Iteration 83 pi =  3.129397984972002 err =  6.270990638561795\n",
      "Iteration 84 pi =  3.1536404092144266 err =  6.29523306280422\n",
      "Iteration 85 pi =  3.129688313406043 err =  6.271280966995836\n",
      "Iteration 86 pi =  3.1533569524592977 err =  6.294949606049091\n",
      "Iteration 87 pi =  3.129965139593801 err =  6.271557793183594\n",
      "Iteration 88 pi =  3.153086526877038 err =  6.294679180466831\n",
      "Iteration 89 pi =  3.1302293840198954 err =  6.271822037609688\n",
      "Iteration 90 pi =  3.1528282540763923 err =  6.2944209076661854\n",
      "Iteration 91 pi =  3.1304818853613083 err =  6.2720745389511015\n",
      "Iteration 92 pi =  3.1525813328751204 err =  6.294173986464914\n",
      "Iteration 93 pi =  3.1307234093778527 err =  6.272316062967645\n",
      "Iteration 94 pi =  3.1523450309994745 err =  6.293937684589268\n",
      "Iteration 95 pi =  3.1309546566679236 err =  6.272547310257717\n",
      "Iteration 96 pi =  3.152118677831945 err =  6.293711331421738\n",
      "Iteration 97 pi =  3.131176269454982 err =  6.272768923044775\n",
      "Iteration 98 pi =  3.151901658056018 err =  6.293494311645811\n",
      "Iteration 99 pi =  3.1313888375431977 err =  6.272981491132991\n",
      "Iteration 100 pi =  3.1516934060711166 err =  6.293286059660909\n",
      "Iteration 101 pi =  3.1315929035585537 err =  6.273185557148347\n"
     ]
    }
   ],
   "source": [
    "from math import *\n",
    "\n",
    "sum = 0.0\n",
    "err = 1e-2\n",
    "k = 1\n",
    "\n",
    "while abs(pi-4*sum)>err:\n",
    "    sum += pow(-1, k+1) / (2*k-1)\n",
    "    k = k + 1\n",
    "    print(\"Iteration\", k, \"pi = \", 4*sum, \"err = \", abs(-pi-4*sum))"
   ]
  },
  {
   "cell_type": "markdown",
   "metadata": {},
   "source": [
    "## Conditional statements"
   ]
  },
  {
   "cell_type": "code",
   "execution_count": 79,
   "metadata": {},
   "outputs": [
    {
     "name": "stdout",
     "output_type": "stream",
     "text": [
      "i = 0\n"
     ]
    }
   ],
   "source": [
    "i = 0\n",
    "if i == 0:\n",
    "    print(\"i = 0\")"
   ]
  },
  {
   "cell_type": "code",
   "execution_count": 80,
   "metadata": {},
   "outputs": [
    {
     "name": "stdout",
     "output_type": "stream",
     "text": [
      "i = 0\n"
     ]
    }
   ],
   "source": [
    "if i == 0:\n",
    "    print(\"i = 0\")\n",
    "else:\n",
    "    print(\"i är inte 0\")"
   ]
  },
  {
   "cell_type": "code",
   "execution_count": 81,
   "metadata": {},
   "outputs": [
    {
     "name": "stdout",
     "output_type": "stream",
     "text": [
      "i == 0\n"
     ]
    }
   ],
   "source": [
    "if i == 0:\n",
    "    print(\"i == 0\")\n",
    "elif i < 1:\n",
    "    print(\"i < 1\")\n",
    "elif i > 1:\n",
    "    print(\"i > 1\")\n",
    "else:\n",
    "    print(\"Mittemellan\")"
   ]
  },
  {
   "cell_type": "markdown",
   "metadata": {},
   "source": [
    "### Nested if-statements"
   ]
  },
  {
   "cell_type": "code",
   "execution_count": 82,
   "metadata": {},
   "outputs": [
    {
     "name": "stdout",
     "output_type": "stream",
     "text": [
      "i == 0\n"
     ]
    }
   ],
   "source": [
    "if i == 0:\n",
    "    print(\"i == 0\")\n",
    "else:\n",
    "    if i > 0:\n",
    "        print(\"i > 0\")\n",
    "    elif i < 0:\n",
    "        print(\"i < 0\")"
   ]
  },
  {
   "cell_type": "markdown",
   "metadata": {},
   "source": [
    "## Controlling loop iteration\n",
    "\n",
    "Loop execution can be controlled by \n",
    "\n",
    "* break - terminates loop iteration\n",
    "* continue - continues to next iteration"
   ]
  },
  {
   "cell_type": "code",
   "execution_count": 83,
   "metadata": {},
   "outputs": [
    {
     "name": "stdout",
     "output_type": "stream",
     "text": [
      "0\n",
      "1\n",
      "2\n",
      "3\n",
      "4\n",
      "Gå till nästa iteration\n",
      "6\n",
      "7\n",
      "8\n",
      "9\n",
      "Avbryter loopen\n",
      "...efter loopen\n"
     ]
    }
   ],
   "source": [
    "for i in range(20):\n",
    "    if i == 10:\n",
    "        print(\"Avbryter loopen\")\n",
    "        break\n",
    "    if i == 5:\n",
    "        print(\"Gå till nästa iteration\")\n",
    "        continue\n",
    "    print(i)\n",
    "\n",
    "print(\"...efter loopen\")"
   ]
  },
  {
   "cell_type": "markdown",
   "metadata": {},
   "source": [
    "# Functions and subroutines"
   ]
  },
  {
   "cell_type": "markdown",
   "metadata": {},
   "source": [
    "* Functions defined with keyword **def** followed by the function name and parameters enclosed in parentesis () followed by a :\n",
    "* Function code defined in following codeblock"
   ]
  },
  {
   "cell_type": "code",
   "execution_count": 84,
   "metadata": {},
   "outputs": [],
   "source": [
    "def print_doc():\n",
    "    print(\"Detta är en utskrift från en funktion\")"
   ]
  },
  {
   "cell_type": "markdown",
   "metadata": {},
   "source": [
    "Calling function:"
   ]
  },
  {
   "cell_type": "code",
   "execution_count": 85,
   "metadata": {},
   "outputs": [
    {
     "name": "stdout",
     "output_type": "stream",
     "text": [
      "Detta är en utskrift från en funktion\n"
     ]
    }
   ],
   "source": [
    "print_doc()"
   ]
  },
  {
   "cell_type": "markdown",
   "metadata": {},
   "source": [
    "Function with a parameter:"
   ]
  },
  {
   "cell_type": "code",
   "execution_count": 86,
   "metadata": {},
   "outputs": [],
   "source": [
    "def print_value(a):\n",
    "    print(\"Värdet är \"+str(a))"
   ]
  },
  {
   "cell_type": "markdown",
   "metadata": {},
   "source": [
    "Calling function with parameter:"
   ]
  },
  {
   "cell_type": "code",
   "execution_count": 87,
   "metadata": {},
   "outputs": [
    {
     "name": "stdout",
     "output_type": "stream",
     "text": [
      "Värdet är 42\n"
     ]
    }
   ],
   "source": [
    "b = 42\n",
    "print_value(b)"
   ]
  },
  {
   "cell_type": "markdown",
   "metadata": {},
   "source": [
    "Modifying parameters:"
   ]
  },
  {
   "cell_type": "code",
   "execution_count": 88,
   "metadata": {},
   "outputs": [],
   "source": [
    "def print_value(a):\n",
    "    print(\"Värdet är \"+str(a))\n",
    "    a = 84"
   ]
  },
  {
   "cell_type": "markdown",
   "metadata": {},
   "source": [
    "Calling the function"
   ]
  },
  {
   "cell_type": "code",
   "execution_count": 89,
   "metadata": {},
   "outputs": [
    {
     "name": "stdout",
     "output_type": "stream",
     "text": [
      "Värdet är 42\n"
     ]
    }
   ],
   "source": [
    "b = 42\n",
    "print_value(b)"
   ]
  },
  {
   "cell_type": "markdown",
   "metadata": {},
   "source": [
    "## Return values"
   ]
  },
  {
   "cell_type": "code",
   "execution_count": 90,
   "metadata": {},
   "outputs": [
    {
     "name": "stdout",
     "output_type": "stream",
     "text": [
      "1.0\n"
     ]
    }
   ],
   "source": [
    "from math import *\n",
    "\n",
    "def f(x):\n",
    "    return sin(x)\n",
    "\n",
    "x = pi/2\n",
    "y = f(x)\n",
    "\n",
    "print(y)"
   ]
  },
  {
   "cell_type": "markdown",
   "metadata": {},
   "source": [
    "Function can be used in complicated examples"
   ]
  },
  {
   "cell_type": "markdown",
   "metadata": {},
   "source": [
    "# Structuring of code in modules"
   ]
  },
  {
   "cell_type": "markdown",
   "metadata": {},
   "source": [
    "## Importing modules"
   ]
  },
  {
   "cell_type": "markdown",
   "metadata": {},
   "source": [
    "Modules are libraries of code in Python. They can be built-in or addons. To use a module it has to be imported. In the following example we import the Python math-module using the **import** statement."
   ]
  },
  {
   "cell_type": "code",
   "execution_count": 91,
   "metadata": {},
   "outputs": [
    {
     "name": "stdout",
     "output_type": "stream",
     "text": [
      "1.0\n"
     ]
    }
   ],
   "source": [
    "import math\n",
    "\n",
    "print(math.sin(math.pi/2))"
   ]
  },
  {
   "cell_type": "markdown",
   "metadata": {},
   "source": [
    "Using this form of import requires all functions in the module to be prefixed with the module name. In this case **math**. It is also possible to import all functions of a module without the prefix using the **from** import statement. "
   ]
  },
  {
   "cell_type": "code",
   "execution_count": 92,
   "metadata": {},
   "outputs": [
    {
     "name": "stdout",
     "output_type": "stream",
     "text": [
      "1.0\n"
     ]
    }
   ],
   "source": [
    "from math import *\n",
    "\n",
    "print(sin(pi/2))"
   ]
  },
  {
   "cell_type": "markdown",
   "metadata": {},
   "source": [
    "The * in the **from** statement tells Python to import all functions from the module. There can be a problem with this approach as the import of functions using **from** can clash with already imported functions. It is possible also to import excplicit functions by listing them after the import keyword in a **from** statement."
   ]
  },
  {
   "cell_type": "code",
   "execution_count": 93,
   "metadata": {},
   "outputs": [
    {
     "name": "stdout",
     "output_type": "stream",
     "text": [
      "1.4142135623730951\n"
     ]
    }
   ],
   "source": [
    "from math import sin, sqrt\n",
    "\n",
    "print(sqrt(2))"
   ]
  },
  {
   "cell_type": "markdown",
   "metadata": {},
   "source": [
    "All Python source files can be modules in Python. "
   ]
  },
  {
   "cell_type": "markdown",
   "metadata": {},
   "source": [
    "Below is an example of a module **prime.py** with a function **is_prime()** for querying if an integer is a prime number:\n",
    "\n",
    "    # -*- coding: utf-8 -*-\n",
    "\n",
    "    from math import sqrt\n",
    "\n",
    "    def is_prime(n):\n",
    "\n",
    "        prime = True\n",
    "\n",
    "        k = 2\n",
    "        while k<=sqrt(n) and prime:\n",
    "            if (n % k == 0):\n",
    "                prime = False\n",
    "                break\n",
    "            k+=1      \n",
    "\n",
    "        return prime\n",
    "        \n",
    "We import this module using the following commands:"
   ]
  },
  {
   "cell_type": "code",
   "execution_count": 94,
   "metadata": {},
   "outputs": [
    {
     "name": "stdout",
     "output_type": "stream",
     "text": [
      "prime\n"
     ]
    }
   ],
   "source": [
    "import prime"
   ]
  },
  {
   "cell_type": "markdown",
   "metadata": {},
   "source": [
    "We can now use the function in the module:"
   ]
  },
  {
   "cell_type": "code",
   "execution_count": 95,
   "metadata": {},
   "outputs": [
    {
     "name": "stdout",
     "output_type": "stream",
     "text": [
      "True\n"
     ]
    }
   ],
   "source": [
    "print(prime.is_prime(3))"
   ]
  },
  {
   "cell_type": "code",
   "execution_count": 96,
   "metadata": {},
   "outputs": [
    {
     "name": "stdout",
     "output_type": "stream",
     "text": [
      "False\n"
     ]
    }
   ],
   "source": [
    "print(prime.is_prime(8))"
   ]
  },
  {
   "cell_type": "markdown",
   "metadata": {},
   "source": [
    "## Main programs / scripts in python"
   ]
  },
  {
   "cell_type": "markdown",
   "metadata": {},
   "source": [
    "Python will execute all code in a module or source file. Most other languages often define a **main** function which is executed by the operating system. In Python any source file executed by the interpreter is considered to be a **main** module. In many cases Python-modules can both be executed as script or imported as a module. If a module is imported you often only want the builtin functions and not any executable statements used when running as a script.\n",
    "\n",
    "When a python source file is imported a special variable, **__name__** is set to the module name. If the same source file is executed as script **__name__** will contain the string **\"__main__\"**. \n",
    "\n",
    "We modify copy our prime.py module and create prime_extra.py containing an extra print statement printing the **__name__** variable.\n",
    "\n",
    "    # -*- coding: utf-8 -*-\n",
    "\n",
    "    from math import sqrt\n",
    "    \n",
    "    print(__name__)\n",
    "\n",
    "    def is_prime(n):\n",
    "\n",
    "        prime = True\n",
    "\n",
    "        k = 2\n",
    "        while k<=sqrt(n) and prime:\n",
    "            if (n % k == 0):\n",
    "                prime = False\n",
    "                break\n",
    "            k+=1      \n",
    "\n",
    "        return prime\n",
    "        \n",
    "Importing the module will print the module name:"
   ]
  },
  {
   "cell_type": "code",
   "execution_count": 97,
   "metadata": {},
   "outputs": [
    {
     "name": "stdout",
     "output_type": "stream",
     "text": [
      "prime_extra\n"
     ]
    }
   ],
   "source": [
    "import prime_extra"
   ]
  },
  {
   "cell_type": "markdown",
   "metadata": {},
   "source": [
    "If we execute the same file from an interpreter we get a different output:"
   ]
  },
  {
   "cell_type": "code",
   "execution_count": 98,
   "metadata": {},
   "outputs": [
    {
     "name": "stdout",
     "output_type": "stream",
     "text": [
      "__main__\n"
     ]
    }
   ],
   "source": [
    "run prime_extra"
   ]
  },
  {
   "cell_type": "markdown",
   "metadata": {},
   "source": [
    "In this way we can create python source files that can be both imported and used as scripts. This is also a safety measure to ensure a python source file is not mistakenly executing code when importing as module. \n",
    "\n",
    "Many Python projects often have a main python script for starting the main application. A typical main program (prime_main.py) is shown below:\n",
    "\n",
    "    # -*- coding: utf-8 -*-\n",
    "    \n",
    "    import prime\n",
    "    \n",
    "    if __name__ == \"__main__\":\n",
    "        \n",
    "        print(prime.is_prime(6))\n",
    "        print(prime.is_prime(5))\n",
    "        \n",
    "The code in the if-statement is only executed when run as a script."
   ]
  },
  {
   "cell_type": "code",
   "execution_count": 99,
   "metadata": {},
   "outputs": [
    {
     "name": "stdout",
     "output_type": "stream",
     "text": [
      "False\n",
      "True\n"
     ]
    }
   ],
   "source": [
    "run prime_main"
   ]
  },
  {
   "cell_type": "code",
   "execution_count": 100,
   "metadata": {},
   "outputs": [],
   "source": [
    "import prime_main"
   ]
  },
  {
   "cell_type": "markdown",
   "metadata": {},
   "source": [
    " # Formatting output"
   ]
  },
  {
   "cell_type": "markdown",
   "metadata": {},
   "source": [
    "When writing output it is often required to format the output in some way. Python includes many ways of achieving this. In Python 3 this is done using the **.format()** method of a string object. In the follwing example, values are placed in a string using {}-placeholders. "
   ]
  },
  {
   "cell_type": "code",
   "execution_count": 101,
   "metadata": {},
   "outputs": [
    {
     "name": "stdout",
     "output_type": "stream",
     "text": [
      "2.0, 45.0, 1500, My string\n"
     ]
    }
   ],
   "source": [
    "a = 2.0\n",
    "b = 45.0\n",
    "c = 1500\n",
    "d = \"My string\"\n",
    "\n",
    "form_string = \"{}, {}, {}, {}\".format(a, b, c, d)\n",
    "\n",
    "print(form_string)"
   ]
  },
  {
   "cell_type": "markdown",
   "metadata": {},
   "source": [
    "It is also possible to define the order of the values by placing numbers in the format string:"
   ]
  },
  {
   "cell_type": "code",
   "execution_count": 102,
   "metadata": {},
   "outputs": [
    {
     "name": "stdout",
     "output_type": "stream",
     "text": [
      "My string, 1500, 45.0, 2.0\n"
     ]
    }
   ],
   "source": [
    "form_string = \"{3}, {2}, {1}, {0}\".format(a, b, c, d)\n",
    "print(form_string)"
   ]
  },
  {
   "cell_type": "markdown",
   "metadata": {},
   "source": [
    "## String formatting"
   ]
  },
  {
   "cell_type": "markdown",
   "metadata": {},
   "source": [
    "For string variables a width can be given for output. The given string will be placed in the given width. By default the string is left justfied in the field. In the following examples the string \"Python 3\" is placed in a 15 character wide field using different formatting options"
   ]
  },
  {
   "cell_type": "code",
   "execution_count": 103,
   "metadata": {},
   "outputs": [
    {
     "name": "stdout",
     "output_type": "stream",
     "text": [
      ">Python 3       <\n"
     ]
    }
   ],
   "source": [
    "form_string = \">{:15}<\".format(\"Python 3\")\n",
    "print(form_string)"
   ]
  },
  {
   "cell_type": "markdown",
   "metadata": {},
   "source": [
    "Right justification is added by using > in the placement-bracket."
   ]
  },
  {
   "cell_type": "code",
   "execution_count": 104,
   "metadata": {},
   "outputs": [
    {
     "name": "stdout",
     "output_type": "stream",
     "text": [
      ">       Python 3<\n"
     ]
    }
   ],
   "source": [
    "form_string = \">{:>15}<\".format(\"Python 3\")\n",
    "print(form_string)"
   ]
  },
  {
   "cell_type": "markdown",
   "metadata": {},
   "source": [
    "Centering of the text is done using the ^ operator."
   ]
  },
  {
   "cell_type": "code",
   "execution_count": 105,
   "metadata": {},
   "outputs": [
    {
     "name": "stdout",
     "output_type": "stream",
     "text": [
      ">   Python 3    <\n"
     ]
    }
   ],
   "source": [
    "form_string = \">{:^15}<\".format(\"Python 3\")\n",
    "print(form_string)"
   ]
  },
  {
   "cell_type": "markdown",
   "metadata": {},
   "source": [
    "Padding can be added by adding a padding character before the placement operator:"
   ]
  },
  {
   "cell_type": "code",
   "execution_count": 106,
   "metadata": {},
   "outputs": [
    {
     "name": "stdout",
     "output_type": "stream",
     "text": [
      ">___Python 3____<\n"
     ]
    }
   ],
   "source": [
    "form_string = \">{:_^15}<\".format(\"Python 3\")\n",
    "print(form_string)"
   ]
  },
  {
   "cell_type": "markdown",
   "metadata": {},
   "source": [
    "## Formatting of integers"
   ]
  },
  {
   "cell_type": "markdown",
   "metadata": {},
   "source": [
    "In the same way as for strings output of integers can also be formatted. The placement bracket for integers is **{:d}**. In the following example 42 is printed using this method:"
   ]
  },
  {
   "cell_type": "code",
   "execution_count": 107,
   "metadata": {},
   "outputs": [
    {
     "name": "stdout",
     "output_type": "stream",
     "text": [
      ">42<\n"
     ]
    }
   ],
   "source": [
    "form_string = \">{:d}<\".format(42)\n",
    "print(form_string)"
   ]
  },
  {
   "cell_type": "markdown",
   "metadata": {},
   "source": [
    "In the same way as for strings the placement and field widths can be controlled:"
   ]
  },
  {
   "cell_type": "code",
   "execution_count": 108,
   "metadata": {},
   "outputs": [
    {
     "name": "stdout",
     "output_type": "stream",
     "text": [
      ">        42<\n",
      ">        42<\n",
      ">42        <\n",
      ">    42    <\n",
      ">42________<\n"
     ]
    }
   ],
   "source": [
    "print(\">{:10d}<\".format(42))\n",
    "print(\">{:>10d}<\".format(42))\n",
    "print(\">{:<10d}<\".format(42))\n",
    "print(\">{:^10d}<\".format(42))\n",
    "print(\">{:_<10d}<\".format(42))"
   ]
  },
  {
   "cell_type": "markdown",
   "metadata": {},
   "source": [
    "## Formatting of floating point numbers"
   ]
  },
  {
   "cell_type": "markdown",
   "metadata": {},
   "source": [
    "Fixed width floating point numbers are formatted using the **{:f}** marker. Field width and the number of decimal places can be controlled as well. In the following example the field width is 10 and the number of decimal places varied from 2 to 6."
   ]
  },
  {
   "cell_type": "code",
   "execution_count": 109,
   "metadata": {},
   "outputs": [
    {
     "name": "stdout",
     "output_type": "stream",
     "text": [
      ">      3.14<\n",
      ">    3.1416<\n",
      ">  3.141593<\n"
     ]
    }
   ],
   "source": [
    "print(\">{:10.2f}<\".format(3.141592653589793))\n",
    "print(\">{:10.4f}<\".format(3.141592653589793))\n",
    "print(\">{:10.6f}<\".format(3.141592653589793))"
   ]
  },
  {
   "cell_type": "markdown",
   "metadata": {},
   "source": [
    "It is also possible to use scientific notation using the **{:e}** marker."
   ]
  },
  {
   "cell_type": "code",
   "execution_count": 110,
   "metadata": {},
   "outputs": [
    {
     "name": "stdout",
     "output_type": "stream",
     "text": [
      ">       3.14e+00<\n",
      ">     3.1416e+00<\n",
      ">   3.141593e+00<\n"
     ]
    }
   ],
   "source": [
    "print(\">{:15.2e}<\".format(3.141592653589793))\n",
    "print(\">{:15.4e}<\".format(3.141592653589793))\n",
    "print(\">{:15.6e}<\".format(3.141592653589793))"
   ]
  },
  {
   "cell_type": "markdown",
   "metadata": {},
   "source": [
    "## Named markers"
   ]
  },
  {
   "cell_type": "markdown",
   "metadata": {},
   "source": [
    "To support more complicated formatting it is possible to use named markers with the **.format()** method. Parameters must be named in the call to the **.format()** method:"
   ]
  },
  {
   "cell_type": "code",
   "execution_count": 111,
   "metadata": {},
   "outputs": [
    {
     "name": "stdout",
     "output_type": "stream",
     "text": [
      "(0.0, 2.0)\n"
     ]
    }
   ],
   "source": [
    "print(\"({x}, {y})\".format(x = 0.0, y = 2.0))"
   ]
  },
  {
   "cell_type": "markdown",
   "metadata": {},
   "source": [
    "It is also possible to use a dictionary as input to the **.format()** method:"
   ]
  },
  {
   "cell_type": "code",
   "execution_count": 112,
   "metadata": {},
   "outputs": [
    {
     "name": "stdout",
     "output_type": "stream",
     "text": [
      "42, 3.14, Python\n"
     ]
    }
   ],
   "source": [
    "params = {\"value1\": 42, \"value2\": 3.14, \"value3\": \"Python\"}\n",
    "print(\"{value1}, {value2}, {value3}\".format(**params))"
   ]
  },
  {
   "cell_type": "markdown",
   "metadata": {},
   "source": [
    "Everything in Python in stored in dictionaries, event the variables defined in a script. In the following example variables are defined in th script and the dictionary of global variables can be returned using the ** **globals() ** function."
   ]
  },
  {
   "cell_type": "code",
   "execution_count": 113,
   "metadata": {},
   "outputs": [
    {
     "name": "stdout",
     "output_type": "stream",
     "text": [
      "34, 84, Easy as pie!\n"
     ]
    }
   ],
   "source": [
    "value1 = 34\n",
    "value2 = 84\n",
    "value3 = \"Easy as pie!\"\n",
    "print(\"{value1}, {value2}, {value3}\".format(**globals()))"
   ]
  },
  {
   "cell_type": "markdown",
   "metadata": {},
   "source": [
    "# Reading and writing files"
   ]
  },
  {
   "cell_type": "markdown",
   "metadata": {},
   "source": [
    "One of the more important things in many applications is the ability to read and write files. To read and write files in Python a special file object has to be created. This file object creates a link between Python and a file in the filesystem. Using this object data can be read and written. \n",
    "\n",
    "A file object is created using the **open()** statement."
   ]
  },
  {
   "cell_type": "markdown",
   "metadata": {},
   "source": [
    "## Writing to a file"
   ]
  },
  {
   "cell_type": "markdown",
   "metadata": {},
   "source": [
    "Text files are files storing rows of text. A text file can be opened for writing using the **open()**-statement:"
   ]
  },
  {
   "cell_type": "code",
   "execution_count": 114,
   "metadata": {},
   "outputs": [],
   "source": [
    "text_file = open(\"myfile.txt\", \"w\")"
   ]
  },
  {
   "cell_type": "markdown",
   "metadata": {},
   "source": [
    "**text_file** is now our link to the **myfile.txt** file, which we will write. \n",
    "\n",
    "Writing to the file is done using the **.write()** method. This method is similar to the **print()**-statement except that it doesn't write a newline after a call. Newline must be added. In the following code we call **.write()** 3 times writing 2 rows of text to the text file:"
   ]
  },
  {
   "cell_type": "code",
   "execution_count": 115,
   "metadata": {},
   "outputs": [
    {
     "data": {
      "text/plain": [
       "30"
      ]
     },
     "execution_count": 115,
     "metadata": {},
     "output_type": "execute_result"
    }
   ],
   "source": [
    "text_file.write(\"Filens innehåll. \")\n",
    "text_file.write(\"Detta skrivs ut på samma rad.\\n\")\n",
    "text_file.write(\"Denna text kommer på en ny rad\")"
   ]
  },
  {
   "cell_type": "markdown",
   "metadata": {},
   "source": [
    "When we have completed writing to our file, the file must be close using the **.close()** method. This tells the operating system that we are done writing to the file."
   ]
  },
  {
   "cell_type": "code",
   "execution_count": 116,
   "metadata": {},
   "outputs": [],
   "source": [
    "text_file.close()"
   ]
  },
  {
   "cell_type": "markdown",
   "metadata": {},
   "source": [
    "The contents of the file is now:"
   ]
  },
  {
   "cell_type": "code",
   "execution_count": 117,
   "metadata": {},
   "outputs": [
    {
     "name": "stdout",
     "output_type": "stream",
     "text": [
      "Filens innehåll. Detta skrivs ut på samma rad.\n",
      "Denna text kommer på en ny rad\n"
     ]
    }
   ],
   "source": [
    "!type myfile.txt"
   ]
  },
  {
   "cell_type": "markdown",
   "metadata": {},
   "source": [
    "## Reading from a file"
   ]
  },
  {
   "cell_type": "markdown",
   "metadata": {},
   "source": [
    "Reading from a file is done by creating a file object with the attribute \"w\"."
   ]
  },
  {
   "cell_type": "code",
   "execution_count": 118,
   "metadata": {},
   "outputs": [],
   "source": [
    "text_file = open(\"myfile.txt\", \"r\")"
   ]
  },
  {
   "cell_type": "markdown",
   "metadata": {},
   "source": [
    "The entire file can be read using the **.read()** method. This will read the entire file and store it in a string:"
   ]
  },
  {
   "cell_type": "code",
   "execution_count": 119,
   "metadata": {},
   "outputs": [
    {
     "name": "stdout",
     "output_type": "stream",
     "text": [
      "Filens innehåll. Detta skrivs ut på samma rad.\n",
      "Denna text kommer på en ny rad\n"
     ]
    }
   ],
   "source": [
    "content = text_file.read()\n",
    "text_file.close()\n",
    "\n",
    "print(content)"
   ]
  },
  {
   "cell_type": "markdown",
   "metadata": {},
   "source": [
    "Using **.read()** for large files can be very inefficient as the whole file must be stored in a single string. It is then better to use the method **.readline()**, which reads a single line from the file."
   ]
  },
  {
   "cell_type": "code",
   "execution_count": 120,
   "metadata": {},
   "outputs": [
    {
     "name": "stdout",
     "output_type": "stream",
     "text": [
      ">Filens innehåll. Detta skrivs ut på samma rad.\n",
      "\n",
      ">Denna text kommer på en ny rad\n"
     ]
    }
   ],
   "source": [
    "text_file = open(\"myfile.txt\", \"r\")\n",
    "\n",
    "line = text_file.readline()\n",
    "while line!='':\n",
    "    print(\">\"+line)\n",
    "    line = text_file.readline()\n",
    "    \n",
    "text_file.close()"
   ]
  },
  {
   "cell_type": "markdown",
   "metadata": {},
   "source": [
    "The row between the print-statements is due to the fact that **.readline()** also reads the newline character from the file. We can use the **.rstrip()** method from the string object to remove this:"
   ]
  },
  {
   "cell_type": "code",
   "execution_count": 121,
   "metadata": {},
   "outputs": [
    {
     "name": "stdout",
     "output_type": "stream",
     "text": [
      ">Filens innehåll. Detta skrivs ut på samma rad.\n",
      ">Denna text kommer på en ny rad\n"
     ]
    }
   ],
   "source": [
    "text_file = open(\"myfile.txt\", \"r\")\n",
    "\n",
    "line = text_file.readline().rstrip()\n",
    "\n",
    "while line!='':\n",
    "    print(\">\"+line)\n",
    "    line = text_file.readline().rstrip()\n",
    "\n",
    "text_file.close()"
   ]
  },
  {
   "cell_type": "markdown",
   "metadata": {},
   "source": [
    "It is also possible to iterate over the file object using a for loop."
   ]
  },
  {
   "cell_type": "code",
   "execution_count": 122,
   "metadata": {},
   "outputs": [
    {
     "name": "stdout",
     "output_type": "stream",
     "text": [
      ">Filens innehåll. Detta skrivs ut på samma rad.\n",
      ">Denna text kommer på en ny rad\n"
     ]
    }
   ],
   "source": [
    "text_file = open(\"myfile.txt\", \"r\")\n",
    "\n",
    "for line in text_file:\n",
    "    print(\">\"+line.rstrip())\n",
    "\n",
    "text_file.close()"
   ]
  },
  {
   "cell_type": "markdown",
   "metadata": {},
   "source": [
    "It is also possible to avoid using loops to read the entire file into a list using the **.readlines()** method:"
   ]
  },
  {
   "cell_type": "code",
   "execution_count": 123,
   "metadata": {},
   "outputs": [
    {
     "name": "stdout",
     "output_type": "stream",
     "text": [
      "['Filens innehåll. Detta skrivs ut på samma rad.\\n', 'Denna text kommer på en ny rad']\n"
     ]
    }
   ],
   "source": [
    "text_file = open(\"myfile.txt\", \"r\")\n",
    "lines = text_file.readlines()\n",
    "text_file.close()\n",
    "\n",
    "print(lines)"
   ]
  },
  {
   "cell_type": "markdown",
   "metadata": {},
   "source": [
    "## Opening files using the with-statement"
   ]
  },
  {
   "cell_type": "markdown",
   "metadata": {},
   "source": [
    "Closing files after use is very important. To ensure that **.close()** will always be called, a special language construct, **with** can be used. The codeblock of a **with**-statement is guaranteed to call close on an opened file object. \n",
    "\n",
    "In the following code a file is opened using the **with**-statement:"
   ]
  },
  {
   "cell_type": "code",
   "execution_count": 124,
   "metadata": {},
   "outputs": [
    {
     "name": "stdout",
     "output_type": "stream",
     "text": [
      "['Filens innehåll. Detta skrivs ut på samma rad.\\n', 'Denna text kommer på en ny rad']\n"
     ]
    }
   ],
   "source": [
    "with open(\"myfile.txt\", \"r\") as text_file:\n",
    "    lines = text_file.readlines()\n",
    "\n",
    "print(lines)"
   ]
  },
  {
   "cell_type": "markdown",
   "metadata": {},
   "source": [
    "## Error handling"
   ]
  },
  {
   "cell_type": "markdown",
   "metadata": {},
   "source": [
    "Error handling is often handled by calling functions to query states of objects and then taking action on what the function returns. Handling errors in this way can over time add complexity to the code. In the following example the existance of a file is checked before opening it. However there can be several reasons a file can't be opened, which are not handled by the example:"
   ]
  },
  {
   "cell_type": "code",
   "execution_count": 125,
   "metadata": {},
   "outputs": [
    {
     "name": "stdout",
     "output_type": "stream",
     "text": [
      "Filen myfil.txt hittades inte!\n"
     ]
    }
   ],
   "source": [
    "import os\n",
    "\n",
    "filename = \"myfil.txt\"\n",
    "\n",
    "if os.path.exists(filename):\n",
    "    with open(filename, \"r\") as text_file:\n",
    "        lines = text_file.readlines()\n",
    "else:\n",
    "    print(\"Filen \"+filename+\" hittades inte!\")"
   ]
  },
  {
   "cell_type": "markdown",
   "metadata": {},
   "source": [
    "## Error handling with exceptions"
   ]
  },
  {
   "cell_type": "markdown",
   "metadata": {},
   "source": [
    "The common way of handling errors in Python is using execptions. Most functions in Python will throw exceptions when something goes wrong. You have probarbly already seen these errors when something didn't work in your script. If run the following example we will get an exception:"
   ]
  },
  {
   "cell_type": "code",
   "execution_count": 126,
   "metadata": {},
   "outputs": [
    {
     "ename": "FileNotFoundError",
     "evalue": "[Errno 2] No such file or directory: 'myfil.txt'",
     "output_type": "error",
     "traceback": [
      "\u001b[1;31m---------------------------------------------------------------------------\u001b[0m",
      "\u001b[1;31mFileNotFoundError\u001b[0m                         Traceback (most recent call last)",
      "\u001b[1;32m<ipython-input-126-5ef9f9b286ad>\u001b[0m in \u001b[0;36m<module>\u001b[1;34m()\u001b[0m\n\u001b[1;32m----> 1\u001b[1;33m \u001b[1;32mwith\u001b[0m \u001b[0mopen\u001b[0m\u001b[1;33m(\u001b[0m\u001b[1;34m\"myfil.txt\"\u001b[0m\u001b[1;33m,\u001b[0m \u001b[1;34m\"r\"\u001b[0m\u001b[1;33m)\u001b[0m \u001b[1;32mas\u001b[0m \u001b[0mtext_file\u001b[0m\u001b[1;33m:\u001b[0m\u001b[1;33m\u001b[0m\u001b[0m\n\u001b[0m\u001b[0;32m      2\u001b[0m     \u001b[0mlines\u001b[0m \u001b[1;33m=\u001b[0m \u001b[0mtext_file\u001b[0m\u001b[1;33m.\u001b[0m\u001b[0mreadlines\u001b[0m\u001b[1;33m(\u001b[0m\u001b[1;33m)\u001b[0m\u001b[1;33m\u001b[0m\u001b[0m\n",
      "\u001b[1;31mFileNotFoundError\u001b[0m: [Errno 2] No such file or directory: 'myfil.txt'"
     ]
    }
   ],
   "source": [
    "with open(\"myfil.txt\", \"r\") as text_file:\n",
    "    lines = text_file.readlines()"
   ]
  },
  {
   "cell_type": "markdown",
   "metadata": {},
   "source": [
    "FileNotFoundError is an exception. We can improve our code to handle all exceptions using a **try..except**-statement:"
   ]
  },
  {
   "cell_type": "code",
   "execution_count": null,
   "metadata": {},
   "outputs": [],
   "source": [
    "try:\n",
    "    with open(\"myfil.txt\", \"r\") as text_file:\n",
    "        lines = text_file.readlines()\n",
    "except:\n",
    "    print(\"Filen kunde inte öppnas\")"
   ]
  },
  {
   "cell_type": "markdown",
   "metadata": {},
   "source": [
    "The problem with this code is that we will never know exactly what exception was triggered as it will catch all of them."
   ]
  },
  {
   "cell_type": "markdown",
   "metadata": {},
   "source": [
    "## Handling specific exceptions"
   ]
  },
  {
   "cell_type": "markdown",
   "metadata": {},
   "source": [
    "It is possible to specify exactly what exception to respond to in our **try..except**-statement:"
   ]
  },
  {
   "cell_type": "code",
   "execution_count": null,
   "metadata": {},
   "outputs": [],
   "source": [
    "try:\n",
    "    with open(\"myfil.txt\", \"r\") as text_file:\n",
    "        lines = text_file.readlines()\n",
    "except FileNotFoundError:\n",
    "    print(\"Filen hittades inte.\")"
   ]
  },
  {
   "cell_type": "markdown",
   "metadata": {},
   "source": [
    "The code can be extended to handle the exception PermissionDenied which will be called when you don't have the permission to read a file."
   ]
  },
  {
   "cell_type": "code",
   "execution_count": null,
   "metadata": {},
   "outputs": [],
   "source": [
    "try:\n",
    "    with open(\"myfil.txt\", \"r\") as text_file:\n",
    "        lines = text_file.readlines()\n",
    "except FileNotFoundError:\n",
    "    print(\"Filen hittades inte.\")\n",
    "except PermissionError:\n",
    "    print(\"Vi har inte rätt att läsa filen.\")"
   ]
  },
  {
   "cell_type": "markdown",
   "metadata": {},
   "source": [
    "In this way we can in detail control our error handling depending on the exception being thrown."
   ]
  },
  {
   "cell_type": "markdown",
   "metadata": {},
   "source": [
    "## Error information from exceptions"
   ]
  },
  {
   "cell_type": "markdown",
   "metadata": {},
   "source": [
    "Many exception will provide additional information on the exception being thrown. To receive this information we must add an exception object to the **try..except**-statement:"
   ]
  },
  {
   "cell_type": "code",
   "execution_count": null,
   "metadata": {},
   "outputs": [],
   "source": [
    "try:\n",
    "    with open(\"myfil.txt\", \"r\") as text_file:\n",
    "        lines = text_file.readlines()\n",
    "except FileNotFoundError as e:\n",
    "    print(\"Filen\", e.filename, \"kunde inte öppnas.\")\n",
    "except PermissionError as e:\n",
    "    print(\"Felsträngen är '\"+e.strerror+\"'\")"
   ]
  },
  {
   "cell_type": "markdown",
   "metadata": {},
   "source": [
    "## Making sure to handle stuff after an exception"
   ]
  },
  {
   "cell_type": "markdown",
   "metadata": {},
   "source": [
    "Python also provides a special construct **try..finally**. This statement will make sure the code in the **finally** part allways will be called even if an exception has been thrown. The following example illustrates this:"
   ]
  },
  {
   "cell_type": "code",
   "execution_count": null,
   "metadata": {},
   "outputs": [],
   "source": [
    "try:\n",
    "    input_file = open(\"numbers.txt\", \"r\")\n",
    "    output_file = open(\"sums.txt\", \"w\")\n",
    "    lines = input_file.readlines()\n",
    "    for line in lines:\n",
    "        items = line.strip().split()\n",
    "        numbers = []\n",
    "        for item in items:\n",
    "            numbers.append(int(item))\n",
    "        \n",
    "        output_file.write(\"%d\\n\" % sum(numbers))\n",
    "except ValueError:\n",
    "    print(\"Felaktiga indata på rad\", line)\n",
    "finally:\n",
    "    print(\"Stäng öppna filer.\")\n",
    "    input_file.close()\n",
    "    output_file.close()"
   ]
  },
  {
   "cell_type": "code",
   "execution_count": null,
   "metadata": {},
   "outputs": [],
   "source": []
  }
 ],
 "metadata": {
  "kernelspec": {
   "display_name": "Python 3",
   "language": "python",
   "name": "python3"
  },
  "language_info": {
   "codemirror_mode": {
    "name": "ipython",
    "version": 3
   },
   "file_extension": ".py",
   "mimetype": "text/x-python",
   "name": "python",
   "nbconvert_exporter": "python",
   "pygments_lexer": "ipython3",
   "version": "3.6.5"
  }
 },
 "nbformat": 4,
 "nbformat_minor": 2
}
